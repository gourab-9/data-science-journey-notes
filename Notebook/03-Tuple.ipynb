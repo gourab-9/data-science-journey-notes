{
 "cells": [
  {
   "cell_type": "markdown",
   "id": "136bc591-155e-4257-8272-08298539351a",
   "metadata": {},
   "source": [
    "# Python Tuple Basics and Applications\n",
    "\n",
    "## Introduction\n",
    "In Python, a **tuple** is an ordered and immutable collection of items. Tuples are similar to lists but are designed for data that should not be modified after creation. Their immutability makes them a reliable choice for storing fixed collections of data.\n",
    "\n",
    "## Why Tuples?\n",
    "- **Immutability**: Tuples are immutable, ensuring data integrity and preventing accidental changes.\n",
    "- **Efficiency**: Tuples are faster and require less memory compared to lists.\n",
    "- **Use in Hashing**: Tuples can be used as keys in dictionaries or elements of sets, unlike lists.\n",
    "- **Structured Data**: Tuples are ideal for representing structured data such as coordinates, database records, or configurations.\n",
    "\n",
    "This notebook showcases my practice and understanding of Python tuples, including:\n",
    "1. Basics of tuple creation, indexing, and slicing.\n",
    "2. Common operations and methods for tuples.\n",
    "3. Use cases for tuples in Python programs.\n",
    "\n",
    "Explore this notebook with me as we delve into the unique properties and practical applications of Python tuples!\n"
   ]
  },
  {
   "cell_type": "markdown",
   "id": "6649a50c-b41a-440b-bf9b-2a7ddc9e22c2",
   "metadata": {},
   "source": [
    "Characterstics\n",
    "\n",
    "- Ordered\n",
    "- Unchangeble\n",
    "- Allows duplicate"
   ]
  },
  {
   "cell_type": "markdown",
   "id": "40750391-00ae-4e8b-8506-0b5857086627",
   "metadata": {},
   "source": [
    "### Creating Tuples"
   ]
  },
  {
   "cell_type": "code",
   "execution_count": 1,
   "id": "32a8874d-3fec-45ff-9a81-16959fb3b7fe",
   "metadata": {},
   "outputs": [
    {
     "name": "stdout",
     "output_type": "stream",
     "text": [
      "()\n"
     ]
    }
   ],
   "source": [
    "# empty\n",
    "\n",
    "t1 = ()\n",
    "print(t1)"
   ]
  },
  {
   "cell_type": "code",
   "execution_count": 2,
   "id": "abcc1d0b-ccd3-46ac-b584-d4df3432f7c2",
   "metadata": {},
   "outputs": [
    {
     "name": "stdout",
     "output_type": "stream",
     "text": [
      "2\n",
      "<class 'int'>\n"
     ]
    }
   ],
   "source": [
    "t2 = (2)\n",
    "print(t2)\n",
    "print(type(t2))"
   ]
  },
  {
   "cell_type": "code",
   "execution_count": 3,
   "id": "f3e51fb9-15c0-4902-8fda-85fb8df6466b",
   "metadata": {},
   "outputs": [
    {
     "name": "stdout",
     "output_type": "stream",
     "text": [
      "hello\n",
      "<class 'str'>\n"
     ]
    }
   ],
   "source": [
    "t3 = ('hello')\n",
    "print(t3)\n",
    "print(type(t3))"
   ]
  },
  {
   "cell_type": "code",
   "execution_count": 4,
   "id": "38cdf850-3915-4840-9041-8b768b44921c",
   "metadata": {},
   "outputs": [
    {
     "name": "stdout",
     "output_type": "stream",
     "text": [
      "(2,)\n",
      "<class 'tuple'>\n"
     ]
    }
   ],
   "source": [
    "# create a tuple with a single item\n",
    "\n",
    "t4 = (2,)\n",
    "print(t4)\n",
    "print(type(t4))"
   ]
  },
  {
   "cell_type": "code",
   "execution_count": 5,
   "id": "16d0ec10-1821-4a14-9188-ec57fd5fdfc7",
   "metadata": {},
   "outputs": [
    {
     "name": "stdout",
     "output_type": "stream",
     "text": [
      "('hello',)\n",
      "<class 'tuple'>\n"
     ]
    }
   ],
   "source": [
    "# create a tuple with a single item\n",
    "\n",
    "t5 = ('hello',)\n",
    "print(t5)\n",
    "print(type(t5))                                          "
   ]
  },
  {
   "cell_type": "code",
   "execution_count": 6,
   "id": "b07d4d8d-432e-4541-8a06-8695cef96a08",
   "metadata": {},
   "outputs": [
    {
     "name": "stdout",
     "output_type": "stream",
     "text": [
      "(1, 2, 3, 4)\n"
     ]
    }
   ],
   "source": [
    "t6 = (1,2,3,4)\n",
    "print(t6)"
   ]
  },
  {
   "cell_type": "code",
   "execution_count": 7,
   "id": "e2c6c0e8-e023-4ac0-8f8c-530034f869c9",
   "metadata": {},
   "outputs": [
    {
     "name": "stdout",
     "output_type": "stream",
     "text": [
      "(1, 2.3, True, [1, 2, 3])\n",
      "<class 'tuple'>\n"
     ]
    }
   ],
   "source": [
    "# hetro\n",
    "\n",
    "t6 = (1,2.3,True,[1,2,3])\n",
    "print(t6)\n",
    "print(type(t6))"
   ]
  },
  {
   "cell_type": "code",
   "execution_count": 8,
   "id": "ca86429e-7121-4439-9db8-93cc65f329ac",
   "metadata": {},
   "outputs": [
    {
     "name": "stdout",
     "output_type": "stream",
     "text": [
      "(1, 2, 3, 4, (5, 6))\n"
     ]
    }
   ],
   "source": [
    "# tuple\n",
    "\n",
    "t7 = (1,2,3,4,(5,6))\n",
    "print(t7)"
   ]
  },
  {
   "cell_type": "code",
   "execution_count": 9,
   "id": "bf920fff-cf8f-480e-a47c-d376a19d5b46",
   "metadata": {},
   "outputs": [
    {
     "name": "stdout",
     "output_type": "stream",
     "text": [
      "('H', 'e', 'l', 'l', 'o')\n"
     ]
    }
   ],
   "source": [
    "# using type conversion\n",
    "\n",
    "t8 = tuple('Hello')\n",
    "print(t8)"
   ]
  },
  {
   "cell_type": "markdown",
   "id": "13a8b084-e240-4119-a434-0a756817d091",
   "metadata": {},
   "source": [
    "### Accessing Items\n",
    "\n",
    "- Indexing\n",
    "- Slicing"
   ]
  },
  {
   "cell_type": "code",
   "execution_count": 11,
   "id": "24fe5efd-b72d-4296-bdcf-7dbdafcb606f",
   "metadata": {},
   "outputs": [
    {
     "name": "stdout",
     "output_type": "stream",
     "text": [
      "(5, 6)\n"
     ]
    }
   ],
   "source": [
    "print(t7[4])"
   ]
  },
  {
   "cell_type": "code",
   "execution_count": 12,
   "id": "4001ca1c-dd9d-4926-ba36-f780ef57efda",
   "metadata": {},
   "outputs": [
    {
     "ename": "TypeError",
     "evalue": "'tuple' object does not support item assignment",
     "output_type": "error",
     "traceback": [
      "\u001b[1;31m---------------------------------------------------------------------------\u001b[0m",
      "\u001b[1;31mTypeError\u001b[0m                                 Traceback (most recent call last)",
      "Cell \u001b[1;32mIn[12], line 1\u001b[0m\n\u001b[1;32m----> 1\u001b[0m t7[\u001b[38;5;241m0\u001b[39m] \u001b[38;5;241m=\u001b[39m \u001b[38;5;241m12\u001b[39m\n",
      "\u001b[1;31mTypeError\u001b[0m: 'tuple' object does not support item assignment"
     ]
    }
   ],
   "source": [
    "t7[0] = 12"
   ]
  },
  {
   "cell_type": "markdown",
   "id": "1c3616bb-d70e-482c-8263-1072aeed11d7",
   "metadata": {},
   "source": [
    "### Editing items"
   ]
  },
  {
   "cell_type": "code",
   "execution_count": 13,
   "id": "558dbca7-b1a9-4285-aba8-80c4fd955f8e",
   "metadata": {},
   "outputs": [
    {
     "name": "stdout",
     "output_type": "stream",
     "text": [
      "hello\n"
     ]
    },
    {
     "ename": "TypeError",
     "evalue": "'str' object does not support item assignment",
     "output_type": "error",
     "traceback": [
      "\u001b[1;31m---------------------------------------------------------------------------\u001b[0m",
      "\u001b[1;31mTypeError\u001b[0m                                 Traceback (most recent call last)",
      "Cell \u001b[1;32mIn[13], line 2\u001b[0m\n\u001b[0;32m      1\u001b[0m \u001b[38;5;28mprint\u001b[39m(t3)\n\u001b[1;32m----> 2\u001b[0m t3[\u001b[38;5;241m0\u001b[39m] \u001b[38;5;241m=\u001b[39m \u001b[38;5;241m100\u001b[39m\n",
      "\u001b[1;31mTypeError\u001b[0m: 'str' object does not support item assignment"
     ]
    }
   ],
   "source": [
    "print(t3)\n",
    "t3[0] = 100\n",
    "# immutable just like strings"
   ]
  },
  {
   "cell_type": "markdown",
   "id": "c17894e9-32eb-420f-b88e-cac06945dbab",
   "metadata": {},
   "source": [
    "### Adding items"
   ]
  },
  {
   "cell_type": "code",
   "execution_count": 14,
   "id": "33ed4b88-3c09-4903-aef5-899e0ff41fe0",
   "metadata": {},
   "outputs": [
    {
     "name": "stdout",
     "output_type": "stream",
     "text": [
      "hello\n"
     ]
    }
   ],
   "source": [
    "print(t3)"
   ]
  },
  {
   "cell_type": "markdown",
   "id": "af7d03fc-1c2d-4cd1-a940-5400f8274d51",
   "metadata": {},
   "source": [
    "### Deleting items"
   ]
  },
  {
   "cell_type": "code",
   "execution_count": 15,
   "id": "2d8ec912-5ecc-49c2-a6fb-e24a5489fd06",
   "metadata": {},
   "outputs": [
    {
     "name": "stdout",
     "output_type": "stream",
     "text": [
      "(1, 2, 3, 4, (5, 6))\n"
     ]
    },
    {
     "ename": "NameError",
     "evalue": "name 't7' is not defined",
     "output_type": "error",
     "traceback": [
      "\u001b[1;31m---------------------------------------------------------------------------\u001b[0m",
      "\u001b[1;31mNameError\u001b[0m                                 Traceback (most recent call last)",
      "Cell \u001b[1;32mIn[15], line 3\u001b[0m\n\u001b[0;32m      1\u001b[0m \u001b[38;5;28mprint\u001b[39m(t7)\n\u001b[0;32m      2\u001b[0m \u001b[38;5;28;01mdel\u001b[39;00m(t7)\n\u001b[1;32m----> 3\u001b[0m \u001b[38;5;28mprint\u001b[39m(t7)\n",
      "\u001b[1;31mNameError\u001b[0m: name 't7' is not defined"
     ]
    }
   ],
   "source": [
    "print(t7)\n",
    "del(t7)\n",
    "print(t7)"
   ]
  },
  {
   "cell_type": "code",
   "execution_count": 16,
   "id": "afaf7c4f-9309-49c9-ad2e-5ff57bb9d75a",
   "metadata": {},
   "outputs": [
    {
     "name": "stdout",
     "output_type": "stream",
     "text": [
      "('hello',)\n"
     ]
    },
    {
     "ename": "TypeError",
     "evalue": "'tuple' object doesn't support item deletion",
     "output_type": "error",
     "traceback": [
      "\u001b[1;31m---------------------------------------------------------------------------\u001b[0m",
      "\u001b[1;31mTypeError\u001b[0m                                 Traceback (most recent call last)",
      "Cell \u001b[1;32mIn[16], line 2\u001b[0m\n\u001b[0;32m      1\u001b[0m \u001b[38;5;28mprint\u001b[39m(t5)\n\u001b[1;32m----> 2\u001b[0m \u001b[38;5;28;01mdel\u001b[39;00m t5[\u001b[38;5;241m-\u001b[39m\u001b[38;5;241m1\u001b[39m]\n",
      "\u001b[1;31mTypeError\u001b[0m: 'tuple' object doesn't support item deletion"
     ]
    }
   ],
   "source": [
    "print(t5)\n",
    "del t5[-1]"
   ]
  },
  {
   "cell_type": "code",
   "execution_count": 17,
   "id": "5039e85c-8c0d-4d28-99c5-ff198de2654b",
   "metadata": {},
   "outputs": [
    {
     "name": "stdout",
     "output_type": "stream",
     "text": [
      "(1, 2, 3, 4, 5, 6, 7, 8)\n",
      "(1, 2, 3, 4, 1, 2, 3, 4, 1, 2, 3, 4)\n",
      "1\n",
      "2\n",
      "3\n",
      "4\n"
     ]
    }
   ],
   "source": [
    "# + and *\n",
    "t1 = (1,2,3,4)\n",
    "t2 = (5,6,7,8)\n",
    "\n",
    "print(t1 + t2)\n",
    "\n",
    "print(t1*3)\n",
    "# membership\n",
    "1 in t1\n",
    "# iteration\n",
    "for i in t1:\n",
    "    print(i)"
   ]
  },
  {
   "cell_type": "code",
   "execution_count": 18,
   "id": "1ed2d29c-d4e2-4f70-8556-430f451a7856",
   "metadata": {},
   "outputs": [
    {
     "name": "stdout",
     "output_type": "stream",
     "text": [
      "(7, 6, 5, 4)\n"
     ]
    }
   ],
   "source": [
    "t9 = (1,2,3,4,5,6,7)\n",
    "print(t9[-1:-5:-1])"
   ]
  },
  {
   "cell_type": "code",
   "execution_count": 19,
   "id": "62371d72-0b4f-4c61-bfbc-85c9175fb9e5",
   "metadata": {},
   "outputs": [
    {
     "name": "stdout",
     "output_type": "stream",
     "text": [
      "(1, 2, 3, 4, 5, 6, 7, 1, 2, 3, 4, 5, 6, 7, 1, 2, 3, 4, 5, 6, 7)\n"
     ]
    }
   ],
   "source": [
    "print(t9*3)"
   ]
  },
  {
   "cell_type": "code",
   "execution_count": 20,
   "id": "47edd37a-e572-414c-94ff-a02ed42fc42a",
   "metadata": {},
   "outputs": [
    {
     "data": {
      "text/plain": [
       "True"
      ]
     },
     "execution_count": 20,
     "metadata": {},
     "output_type": "execute_result"
    }
   ],
   "source": [
    "7 in t9"
   ]
  },
  {
   "cell_type": "code",
   "execution_count": 21,
   "id": "872f1fe9-93c7-407b-9f1e-84149764b012",
   "metadata": {},
   "outputs": [
    {
     "data": {
      "text/plain": [
       "True"
      ]
     },
     "execution_count": 21,
     "metadata": {},
     "output_type": "execute_result"
    }
   ],
   "source": [
    "9 not in  t9"
   ]
  },
  {
   "cell_type": "code",
   "execution_count": 22,
   "id": "dab3a5c5-9dfa-418f-8ec3-6ab6585eeb58",
   "metadata": {},
   "outputs": [
    {
     "name": "stdout",
     "output_type": "stream",
     "text": [
      "1\n",
      "2\n",
      "3\n",
      "4\n",
      "5\n",
      "6\n",
      "7\n"
     ]
    }
   ],
   "source": [
    "for i in t9:\n",
    "    print(i)"
   ]
  },
  {
   "cell_type": "code",
   "execution_count": 23,
   "id": "398aa2fd-3832-4a22-9df9-da6bb8b4d97b",
   "metadata": {},
   "outputs": [
    {
     "name": "stdout",
     "output_type": "stream",
     "text": [
      "28\n",
      "(1, 2, 3, 4, 5, 6, 7)\n"
     ]
    }
   ],
   "source": [
    "print(sum(t9))\n",
    "print(t9)"
   ]
  },
  {
   "cell_type": "markdown",
   "id": "9a5acb89-9f1e-408f-9067-660ca21d0418",
   "metadata": {},
   "source": [
    "### Tuple Functions"
   ]
  },
  {
   "cell_type": "code",
   "execution_count": 25,
   "id": "8d4cde24-a1e5-4f64-8574-4e03ee4bf037",
   "metadata": {},
   "outputs": [
    {
     "data": {
      "text/plain": [
       "[4, 3, 2, 1]"
      ]
     },
     "execution_count": 25,
     "metadata": {},
     "output_type": "execute_result"
    }
   ],
   "source": [
    "# len/sum/min/max/sorted\n",
    "t = (1,2,3,4)\n",
    "len(t)\n",
    "\n",
    "sum(t)\n",
    "\n",
    "min(t)\n",
    "\n",
    "max(t)\n",
    "\n",
    "sorted(t,reverse=True)"
   ]
  },
  {
   "cell_type": "code",
   "execution_count": 26,
   "id": "17f70c37-582a-4492-9eb3-1b0ba5d7e3ae",
   "metadata": {},
   "outputs": [
    {
     "name": "stdout",
     "output_type": "stream",
     "text": [
      "1\n",
      "7\n",
      "[7, 6, 5, 4, 3, 2, 1]\n"
     ]
    }
   ],
   "source": [
    "print(min(t9))\n",
    "print(max(t9))\n",
    "print(sorted(t9,reverse = True))"
   ]
  },
  {
   "cell_type": "code",
   "execution_count": 27,
   "id": "956fe519-ba04-4458-b8c7-6aa8bdc03995",
   "metadata": {},
   "outputs": [
    {
     "data": {
      "text/plain": [
       "1"
      ]
     },
     "execution_count": 27,
     "metadata": {},
     "output_type": "execute_result"
    }
   ],
   "source": [
    "# count\n",
    "\n",
    "t9.count(7)"
   ]
  },
  {
   "cell_type": "code",
   "execution_count": 28,
   "id": "299fec99-99b4-4ca2-8087-18b316d9a644",
   "metadata": {},
   "outputs": [
    {
     "data": {
      "text/plain": [
       "6"
      ]
     },
     "execution_count": 28,
     "metadata": {},
     "output_type": "execute_result"
    }
   ],
   "source": [
    "# index\n",
    "\n",
    "t9.index(7)"
   ]
  },
  {
   "cell_type": "markdown",
   "id": "4dd0a79f-85b6-4ff9-a664-93c0402bde9d",
   "metadata": {},
   "source": [
    "### Difference between Lists and Tuples\n",
    "\n",
    "- Syntax\n",
    "- Mutability\n",
    "- Speed\n",
    "- Memory\n",
    "- Built in functionality\n",
    "- Error prone\n",
    "- Usability\n"
   ]
  },
  {
   "cell_type": "code",
   "execution_count": 29,
   "id": "fc79adbd-919c-40fb-a829-b698572640d1",
   "metadata": {},
   "outputs": [
    {
     "name": "stdout",
     "output_type": "stream",
     "text": [
      "List time 14.77268385887146\n",
      "Tuple time 13.0220365524292\n"
     ]
    }
   ],
   "source": [
    "import time\n",
    "\n",
    "L = list(range(100000000))\n",
    "T = tuple(range(100000000))\n",
    "\n",
    "start = time.time()\n",
    "for i in L:\n",
    "    i*5\n",
    "print('List time',time.time()-start)\n",
    "\n",
    "start = time.time()\n",
    "for i in T:\n",
    "    i*5\n",
    "print('Tuple time',time.time()-start)"
   ]
  },
  {
   "cell_type": "code",
   "execution_count": 30,
   "id": "acdd2110-ad7f-47e2-83c8-25964fc8e47d",
   "metadata": {},
   "outputs": [
    {
     "name": "stdout",
     "output_type": "stream",
     "text": [
      "List size 8056\n",
      "Tuple size 8040\n"
     ]
    }
   ],
   "source": [
    "import sys\n",
    "\n",
    "L = list(range(1000))\n",
    "T = tuple(range(1000))\n",
    "\n",
    "print('List size',sys.getsizeof(L))\n",
    "print('Tuple size',sys.getsizeof(T))\n"
   ]
  },
  {
   "cell_type": "code",
   "execution_count": 31,
   "id": "016f117e-4a37-4399-b471-ea4c76c8d245",
   "metadata": {},
   "outputs": [
    {
     "name": "stdout",
     "output_type": "stream",
     "text": [
      "[1, 2, 3, 4]\n",
      "[1, 2, 3, 4]\n"
     ]
    }
   ],
   "source": [
    "a = [1,2,3]\n",
    "b = a\n",
    "\n",
    "a.append(4)\n",
    "print(a)\n",
    "print(b)"
   ]
  },
  {
   "cell_type": "code",
   "execution_count": 32,
   "id": "1b19f4eb-a843-4089-955c-716cd1f2ca31",
   "metadata": {},
   "outputs": [
    {
     "name": "stdout",
     "output_type": "stream",
     "text": [
      "(1, 2, 3, 4)\n",
      "(1, 2, 3)\n"
     ]
    }
   ],
   "source": [
    "a = (1,2,3)\n",
    "b = a\n",
    "\n",
    "a = a + (4,)\n",
    "print(a)\n",
    "print(b)"
   ]
  },
  {
   "cell_type": "markdown",
   "id": "c78e786e-e87b-4b6a-a9f6-a020fc996fbd",
   "metadata": {},
   "source": [
    "### Why use tuple?"
   ]
  },
  {
   "cell_type": "code",
   "execution_count": 34,
   "id": "af025fde-3323-4713-8591-8dcb0428d55c",
   "metadata": {},
   "outputs": [
    {
     "name": "stdout",
     "output_type": "stream",
     "text": [
      "1\n",
      "2\n",
      "3\n"
     ]
    }
   ],
   "source": [
    "# Tuple unpacking\n",
    "\n",
    "a,b,c = 1,2,3\n",
    "print(a)\n",
    "print(b)\n",
    "print(c)"
   ]
  },
  {
   "cell_type": "code",
   "execution_count": 35,
   "id": "69ac6e9b-3557-4284-be62-f8b62cb16b67",
   "metadata": {},
   "outputs": [],
   "source": [
    "a = 1\n",
    "b = 2\n",
    "a,b = b,a"
   ]
  },
  {
   "cell_type": "code",
   "execution_count": 36,
   "id": "62b9def9-1af5-45fa-a4ab-b440b7beb956",
   "metadata": {},
   "outputs": [
    {
     "name": "stdout",
     "output_type": "stream",
     "text": [
      "1 2\n",
      "[3, 4, 5, 6, 7, 8, 9]\n"
     ]
    }
   ],
   "source": [
    "a,b,*others = (1,2,3,4,5,6,7,8,9)\n",
    "print(a,b)\n",
    "print(others)"
   ]
  },
  {
   "cell_type": "code",
   "execution_count": 37,
   "id": "4384b7d7-6a17-47ad-b8c0-034616328c0a",
   "metadata": {},
   "outputs": [
    {
     "name": "stdout",
     "output_type": "stream",
     "text": [
      "((1, 5), (2, 6), (3, 7), (4, 8))\n"
     ]
    }
   ],
   "source": [
    "# zipping tuples\n",
    "\n",
    "a = (1,2,3,4)\n",
    "b = (5,6,7,8)\n",
    "print(tuple(zip(a,b)))"
   ]
  },
  {
   "cell_type": "markdown",
   "id": "8dd42166-bae6-4cd3-bfd0-667f82913a10",
   "metadata": {},
   "source": [
    "### `Q1:` Join Tuples if similar initial element\n",
    "While working with Python tuples, we can have a problem in which we need to perform concatenation of records from the similarity of initial element. This problem can have applications in data domains such as Data Science.\n",
    "\n",
    "For eg.\n",
    "```\n",
    "Input  : test_list = [(5, 6), (5, 7), (5, 8), (6, 10), (7, 13)]\n",
    "Output : [(5, 6, 7, 8), (6, 10), (7, 13)]\n",
    "```"
   ]
  },
  {
   "cell_type": "code",
   "execution_count": 38,
   "id": "7b51d7c6-79d3-4895-b4a5-5cc61840ecb9",
   "metadata": {},
   "outputs": [
    {
     "name": "stdout",
     "output_type": "stream",
     "text": [
      "[(5, 6, 7, 8), (6, 10), (7, 13)]\n"
     ]
    }
   ],
   "source": [
    "# write your code here\n",
    "test_list = [(5, 6), (5, 7), (5, 8), (6, 10), (7, 13)]\n",
    "\n",
    "unique = []\n",
    "\n",
    "for i in test_list:\n",
    "    unique.append(i[0])\n",
    "unique = set(unique)\n",
    "\n",
    "result = []\n",
    "for i in unique:\n",
    "    result.append([i])\n",
    "    for j in test_list:\n",
    "        if j[0] == i:\n",
    "            result[-1].append(j[1])\n",
    "\n",
    "print(list(map(tuple,result)))\n",
    "\n",
    "\n"
   ]
  },
  {
   "cell_type": "markdown",
   "id": "d75fcde5-967e-4ed9-a573-01cf0e6b6d6f",
   "metadata": {},
   "source": [
    "### `Q2:` Multiply Adjacent elements (both side) and take sum of right and lest side multiplication result.\n",
    "\n",
    "\n",
    "For eg.\n",
    "```\n",
    "The original tuple : (1, 5, 7, 8, 10)\n",
    "Resultant tuple after multiplication :\n",
    "\n",
    "(1*5, 1*5+5*7, 7*5 + 7*8, 8*7 + 8*10, 10*8) -> (5, 40, 91, 136, 80)\n",
    "\n",
    "output-(5, 40, 91, 136, 80)\n",
    "```"
   ]
  },
  {
   "cell_type": "code",
   "execution_count": 39,
   "id": "2740ef14-9b3a-4a47-9c90-27f45e4de272",
   "metadata": {},
   "outputs": [
    {
     "name": "stdout",
     "output_type": "stream",
     "text": [
      "(5, 40, 91, 136, 80)\n"
     ]
    }
   ],
   "source": [
    "# write your code here\n",
    "t = (1, 5, 7, 8, 10)\n",
    "\n",
    "L = []\n",
    "\n",
    "L.append(t[0]*t[1])\n",
    "\n",
    "for i in range(1,len(t)-1):\n",
    "    L.append(t[i]*t[i-1] + t[i]*t[i+1])\n",
    "\n",
    "L.append(t[-1]*t[-2])\n",
    "\n",
    "print(tuple(L))"
   ]
  },
  {
   "cell_type": "markdown",
   "id": "fc3894ce-99ed-4e3b-a329-2003c4fa56d7",
   "metadata": {},
   "source": [
    "### `Q3`: Check is tuples are same or not?\n",
    "Two tuples would be same if both tuples have same element at same index\n",
    "```\n",
    "t1 = (1,2,3,0)\n",
    "t2 = (0,1,2,3)\n",
    "\n",
    "t1 and t2 are not same\n",
    "```"
   ]
  },
  {
   "cell_type": "code",
   "execution_count": 41,
   "id": "66176d03-cb2f-41f8-a079-5ebeefa7948c",
   "metadata": {},
   "outputs": [
    {
     "name": "stdout",
     "output_type": "stream",
     "text": [
      "same\n"
     ]
    }
   ],
   "source": [
    "# write your code here\n",
    "t1 = (1,2,3,0)\n",
    "t2 = (1,2,3,0)\n",
    "\n",
    "flag = True\n",
    "for i,j in zip(t1,t2):\n",
    "    if i == j:\n",
    "        continue\n",
    "    else:\n",
    "        flag = False\n",
    "        break\n",
    "if flag:\n",
    "    print('same')\n",
    "else:\n",
    "    print('not same')"
   ]
  },
  {
   "cell_type": "markdown",
   "id": "edaf17eb-02f2-49d6-8835-e6a1127a3ff8",
   "metadata": {},
   "source": [
    "### `Q4`: Count no of tuples, list and set from a list\n",
    "```\n",
    "list1 = [{'hi', 'bye'},{'Geeks', 'forGeeks'},('a', 'b'),['hi', 'bye'],['a', 'b']]\n",
    "\n",
    "```\n",
    "`Output:`\n",
    "\n",
    "```\n",
    "List-2\n",
    "Set-2\n",
    "Tuples-1\n",
    "```"
   ]
  },
  {
   "cell_type": "code",
   "execution_count": 42,
   "id": "bac4169e-254e-4625-868a-7c21640aa157",
   "metadata": {},
   "outputs": [
    {
     "name": "stdout",
     "output_type": "stream",
     "text": [
      "Lists-2\n",
      "Sets-2\n",
      "Tuples-1\n"
     ]
    }
   ],
   "source": [
    "# write your code here\n",
    "L = [{'hi', 'bye'},{'Geeks', 'forGeeks'},('a', 'b'),['hi', 'bye'],['a', 'b']]\n",
    "output = [0,0,0]\n",
    "\n",
    "for i in L:\n",
    "    if type(i) == list:\n",
    "        output[0] = output[0] + 1\n",
    "    elif type(i) == set:\n",
    "        output[1] = output[1] + 1\n",
    "    elif type(i) == tuple:\n",
    "        output[2] = output[2] + 1\n",
    "    else:\n",
    "        pass\n",
    "\n",
    "print('Lists-{}\\nSets-{}\\nTuples-{}'.format(output[0],output[1],output[2]))\n",
    "\n"
   ]
  },
  {
   "cell_type": "markdown",
   "id": "3e527c0c-2956-4579-a4bc-ec7795b12398",
   "metadata": {},
   "source": [
    "### `Q5`: Shortlist Students for a Job role\n",
    "Ask user to input students record and store in tuples for each record. Then Ask user to input three things he wants in the candidate- Primary Skill, Higher Education, Year of Graduation.\n",
    "\n",
    "Show every students record in form of tuples if matches all required criteria.\n",
    "\n",
    "It is assumed that there will be only one primry skill.\n",
    "\n",
    "If no such candidate found, print `No such candidate`\n",
    "\n",
    "`Input:`\n",
    "```\n",
    "Enter No of records- 2\n",
    "Enter Details of student-1\n",
    "Enter Student name- Suman\n",
    "Enter Higher Education- B.Tech\n",
    "Enter Primary Skill- Python\n",
    "Enter Year of Graduation- 2022\n",
    "Enter Details of student-2\n",
    "Enter Student name- saurabh\n",
    "Enter Higher Education- B.Sc.\n",
    "Enter Primary Skill- C++\n",
    "Enter Year of Graduation- 2020\n",
    "\n",
    "Enter Job Role Requirement\n",
    "Enter Skill- Python\n",
    "Enter Higher Education- B.Tech\n",
    "Enter Year of Graduation- 2022\n",
    "```\n",
    "\n",
    "`Output`\n",
    "```\n",
    "('Suman', 'B.tech', 'Python', '2022')\n",
    "```\n"
   ]
  },
  {
   "cell_type": "code",
   "execution_count": 44,
   "id": "efe902dc-dc6b-4b9e-89c7-5615474d9069",
   "metadata": {},
   "outputs": [
    {
     "name": "stdin",
     "output_type": "stream",
     "text": [
      "enter the number of applicants 2\n"
     ]
    },
    {
     "name": "stdout",
     "output_type": "stream",
     "text": [
      "Enter details of 1 applicant:\n"
     ]
    },
    {
     "name": "stdin",
     "output_type": "stream",
     "text": [
      "enter name suman\n",
      "enter higher education b.tech\n",
      "enter primary skill python\n",
      "enter year of graduation 2022\n"
     ]
    },
    {
     "name": "stdout",
     "output_type": "stream",
     "text": [
      "Enter details of 2 applicant:\n"
     ]
    },
    {
     "name": "stdin",
     "output_type": "stream",
     "text": [
      "enter name pranav\n",
      "enter higher education b.tech\n",
      "enter primary skill data science\n",
      "enter year of graduation 2023\n",
      "enter required skill data science\n",
      "enter required higher education b.tech\n",
      "enter required year of graduation 2023\n"
     ]
    },
    {
     "name": "stdout",
     "output_type": "stream",
     "text": [
      "('pranav', 'b.tech', 'data science', '2023')\n"
     ]
    }
   ],
   "source": [
    "# write your code here\n",
    "students = []\n",
    "\n",
    "num = int(input('enter the number of applicants'))\n",
    "\n",
    "for i in range(num):\n",
    "    print('Enter details of',i+1,'applicant:')\n",
    "    name = input('enter name')\n",
    "    h_ed = input('enter higher education')\n",
    "    p_skill = input('enter primary skill')\n",
    "    yog = input('enter year of graduation')\n",
    "\n",
    "    students.append((name,h_ed,p_skill,yog))\n",
    "\n",
    "required_skill = input('enter required skill')\n",
    "required_hed = input('enter required higher education')\n",
    "required_yog = input('enter required year of graduation')\n",
    "\n",
    "flag = False\n",
    "for i in students:\n",
    "    if i[1] == required_hed and i[2] == required_skill and i[3] == required_yog:\n",
    "        print(i)\n",
    "        flag = True\n",
    "\n",
    "if flag == False:\n",
    "    print('No such candidates')"
   ]
  },
  {
   "cell_type": "code",
   "execution_count": null,
   "id": "d5e4413a-ec74-44f0-8ec5-77ea3169f4fc",
   "metadata": {},
   "outputs": [],
   "source": []
  },
  {
   "cell_type": "code",
   "execution_count": null,
   "id": "307ce9c3-3dee-4fa4-827d-33237a97e610",
   "metadata": {},
   "outputs": [],
   "source": []
  },
  {
   "cell_type": "code",
   "execution_count": null,
   "id": "3af802e6-0ff4-4a12-8410-ddd47a5c1689",
   "metadata": {},
   "outputs": [],
   "source": []
  },
  {
   "cell_type": "code",
   "execution_count": null,
   "id": "6369f651-b5ba-416c-8eef-16701aa79166",
   "metadata": {},
   "outputs": [],
   "source": []
  }
 ],
 "metadata": {
  "kernelspec": {
   "display_name": "Python 3 (ipykernel)",
   "language": "python",
   "name": "python3"
  },
  "language_info": {
   "codemirror_mode": {
    "name": "ipython",
    "version": 3
   },
   "file_extension": ".py",
   "mimetype": "text/x-python",
   "name": "python",
   "nbconvert_exporter": "python",
   "pygments_lexer": "ipython3",
   "version": "3.11.7"
  }
 },
 "nbformat": 4,
 "nbformat_minor": 5
}
