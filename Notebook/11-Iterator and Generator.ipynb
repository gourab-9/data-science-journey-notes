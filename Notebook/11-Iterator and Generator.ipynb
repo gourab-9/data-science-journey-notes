{
 "cells": [
  {
   "cell_type": "markdown",
   "id": "35d972fb-46d1-4bd5-b830-4f60d512e44a",
   "metadata": {},
   "source": [
    "## Iterators\n",
    "\n",
    "### What is an Iteration?\n",
    "\n",
    "**Iteration** refers to the process of taking each item from a collection or sequence, one after another. Whenever you use a loop (either explicitly or implicitly) to go through all the elements in a data structure, it is considered iteration.\n",
    "\n",
    "In Python, the most common way of performing iteration is using loops like `for` and `while`, which allow you to access each element of an iterable, such as lists, tuples, or strings.\n",
    "\n",
    "### Types of Iterables:\n",
    "1. **Lists** – An ordered collection of items.\n",
    "2. **Tuples** – Similar to lists but immutable.\n",
    "3. **Dictionaries** – Collection of key-value pairs.\n",
    "4. **Strings** – A sequence of characters.\n",
    "5. **Sets** – An unordered collection of unique items.\n",
    "\n",
    "### Example:"
   ]
  },
  {
   "cell_type": "code",
   "execution_count": 1,
   "id": "677ab2b2-07f2-4b05-916f-d9c6c59bf24c",
   "metadata": {},
   "outputs": [
    {
     "name": "stdout",
     "output_type": "stream",
     "text": [
      "1\n",
      "2\n",
      "3\n",
      "4\n"
     ]
    }
   ],
   "source": [
    "# Example of iteration over a list\n",
    "my_list = [1, 2, 3, 4]\n",
    "for item in my_list:\n",
    "    print(item)"
   ]
  },
  {
   "cell_type": "markdown",
   "id": "a8d9f867-c14f-4eb4-b936-76da90cf82e7",
   "metadata": {},
   "source": [
    "## Iterators in Python:\n",
    "- An iterator is an object that implements the **`__iter__()`** and **`__iter__()`** methods.\n",
    "- The **`__iter__()`** method initializes the iterator, while **`__iter__()`** returns the next item in the sequence.\n",
    "- Iterators allow us to loop through data structures one element at a time, and they keep track of the current position in the iterable.\n",
    "\n",
    "## Creating an Iterator:\n",
    "- You can convert an iterable into an iterator using the `iter()` function."
   ]
  },
  {
   "cell_type": "code",
   "execution_count": 2,
   "id": "4f1981ff-ba12-4e85-a337-cf4972fcda7f",
   "metadata": {},
   "outputs": [
    {
     "name": "stdout",
     "output_type": "stream",
     "text": [
      "1\n",
      "2\n",
      "3\n"
     ]
    }
   ],
   "source": [
    "my_iter = iter([1, 2, 3])\n",
    "print(next(my_iter))  # Output: 1\n",
    "print(next(my_iter))  # Output: 2\n",
    "print(next(my_iter))  # Output: 3"
   ]
  },
  {
   "cell_type": "markdown",
   "id": "57ee7437-3b15-41f0-9e67-4355de7f5417",
   "metadata": {},
   "source": [
    "## Example of Implicit Iteration:\n",
    "When you use a loop, Python automatically handles the iteration for you. However, you can also manually control the iteration using an iterator object.\n",
    "\n",
    "## Why Iteration is Important:\n",
    "**Efficiency**: Iterators allow you to loop through large datasets efficiently.\n",
    "**Memory Management**: Iteration is more memory efficient, as it does not require loading the entire data set into memory at once.\n",
    "**Simplified Code**: Using iteration, you can handle repetitive tasks such as processing each item in a list or performing an operation on each element in a collection."
   ]
  },
  {
   "cell_type": "code",
   "execution_count": 3,
   "id": "5e7a70c0-6f0c-43cd-8353-7bf149b0865e",
   "metadata": {},
   "outputs": [
    {
     "name": "stdout",
     "output_type": "stream",
     "text": [
      "1\n",
      "2\n",
      "3\n"
     ]
    }
   ],
   "source": [
    "# Example\n",
    "num = [1,2,3]\n",
    "\n",
    "for i in num:\n",
    "    print(i)"
   ]
  },
  {
   "cell_type": "markdown",
   "id": "3ac638dc-745d-4773-b5a3-af230689ae4f",
   "metadata": {},
   "source": [
    "## What is an Iterator?\n",
    "\n",
    "An **Iterator** is an object that allows the programmer to traverse through a sequence of data without having to store the entire data in the memory.\n"
   ]
  },
  {
   "cell_type": "code",
   "execution_count": 4,
   "id": "8cd6e7ae-64f0-4a18-8ce2-4c645b48fa39",
   "metadata": {},
   "outputs": [
    {
     "name": "stdout",
     "output_type": "stream",
     "text": [
      "1330.875\n",
      "0.75\n"
     ]
    }
   ],
   "source": [
    "# Example\n",
    "L = [x for x in range(1,10000)]\n",
    "\n",
    "#for i in L:\n",
    "    #print(i*2)\n",
    "    \n",
    "import sys\n",
    "\n",
    "print(sys.getsizeof(L)/64)\n",
    "\n",
    "x = range(1,10000000000)\n",
    "\n",
    "#for i in x:\n",
    "    #print(i*2)\n",
    "    \n",
    "print(sys.getsizeof(x)/64)\n",
    "\n"
   ]
  },
  {
   "cell_type": "markdown",
   "id": "bc9b5bd7-82a8-4b6e-b40a-a1ded8a3e8c6",
   "metadata": {},
   "source": [
    "## What is Iterable\n",
    "\n",
    "An **Iterable** is an object that can be iterated over. \n",
    "\n",
    "It generates an Iterator when passed to the `iter()` method.\n"
   ]
  },
  {
   "cell_type": "code",
   "execution_count": 6,
   "id": "d9f86fdd-4aeb-4f8f-8029-6ac8ebeb5966",
   "metadata": {},
   "outputs": [
    {
     "data": {
      "text/plain": [
       "list_iterator"
      ]
     },
     "execution_count": 6,
     "metadata": {},
     "output_type": "execute_result"
    }
   ],
   "source": [
    "# Example\n",
    "\n",
    "L = [1,2,3]\n",
    "type(L)\n",
    "\n",
    "\n",
    "# L is an iterable\n",
    "type(iter(L))\n",
    "\n",
    "# iter(L) --> iterator"
   ]
  },
  {
   "cell_type": "markdown",
   "id": "bc36cde9-9d05-4d91-b4e1-30bcaeb15fce",
   "metadata": {},
   "source": [
    "## Point to Remember\n",
    "\n",
    "- Every **Iterator** is also an **Iterable**.\n",
    "- Not all **Iterables** are **Iterators**.\n",
    "\n",
    "## Trick\n",
    "- Every **Iterable** has an **iter function**.\n",
    "- Every **Iterator** has both **iter function** as well as a **next function**.\n"
   ]
  },
  {
   "cell_type": "code",
   "execution_count": 7,
   "id": "75df9102-cc56-4084-a24e-0e8351032607",
   "metadata": {},
   "outputs": [
    {
     "data": {
      "text/plain": [
       "['__abs__',\n",
       " '__add__',\n",
       " '__and__',\n",
       " '__bool__',\n",
       " '__ceil__',\n",
       " '__class__',\n",
       " '__delattr__',\n",
       " '__dir__',\n",
       " '__divmod__',\n",
       " '__doc__',\n",
       " '__eq__',\n",
       " '__float__',\n",
       " '__floor__',\n",
       " '__floordiv__',\n",
       " '__format__',\n",
       " '__ge__',\n",
       " '__getattribute__',\n",
       " '__getnewargs__',\n",
       " '__getstate__',\n",
       " '__gt__',\n",
       " '__hash__',\n",
       " '__index__',\n",
       " '__init__',\n",
       " '__init_subclass__',\n",
       " '__int__',\n",
       " '__invert__',\n",
       " '__le__',\n",
       " '__lshift__',\n",
       " '__lt__',\n",
       " '__mod__',\n",
       " '__mul__',\n",
       " '__ne__',\n",
       " '__neg__',\n",
       " '__new__',\n",
       " '__or__',\n",
       " '__pos__',\n",
       " '__pow__',\n",
       " '__radd__',\n",
       " '__rand__',\n",
       " '__rdivmod__',\n",
       " '__reduce__',\n",
       " '__reduce_ex__',\n",
       " '__repr__',\n",
       " '__rfloordiv__',\n",
       " '__rlshift__',\n",
       " '__rmod__',\n",
       " '__rmul__',\n",
       " '__ror__',\n",
       " '__round__',\n",
       " '__rpow__',\n",
       " '__rrshift__',\n",
       " '__rshift__',\n",
       " '__rsub__',\n",
       " '__rtruediv__',\n",
       " '__rxor__',\n",
       " '__setattr__',\n",
       " '__sizeof__',\n",
       " '__str__',\n",
       " '__sub__',\n",
       " '__subclasshook__',\n",
       " '__truediv__',\n",
       " '__trunc__',\n",
       " '__xor__',\n",
       " 'as_integer_ratio',\n",
       " 'bit_count',\n",
       " 'bit_length',\n",
       " 'conjugate',\n",
       " 'denominator',\n",
       " 'from_bytes',\n",
       " 'imag',\n",
       " 'numerator',\n",
       " 'real',\n",
       " 'to_bytes']"
      ]
     },
     "execution_count": 7,
     "metadata": {},
     "output_type": "execute_result"
    }
   ],
   "source": [
    "a = 2\n",
    "a\n",
    "\n",
    "#for i in a:\n",
    "    #print(i)\n",
    "    \n",
    "dir(a)"
   ]
  },
  {
   "cell_type": "code",
   "execution_count": 8,
   "id": "833273c7-0da9-4093-bddb-425134ed4147",
   "metadata": {},
   "outputs": [
    {
     "data": {
      "text/plain": [
       "['__class__',\n",
       " '__class_getitem__',\n",
       " '__contains__',\n",
       " '__delattr__',\n",
       " '__delitem__',\n",
       " '__dir__',\n",
       " '__doc__',\n",
       " '__eq__',\n",
       " '__format__',\n",
       " '__ge__',\n",
       " '__getattribute__',\n",
       " '__getitem__',\n",
       " '__getstate__',\n",
       " '__gt__',\n",
       " '__hash__',\n",
       " '__init__',\n",
       " '__init_subclass__',\n",
       " '__ior__',\n",
       " '__iter__',\n",
       " '__le__',\n",
       " '__len__',\n",
       " '__lt__',\n",
       " '__ne__',\n",
       " '__new__',\n",
       " '__or__',\n",
       " '__reduce__',\n",
       " '__reduce_ex__',\n",
       " '__repr__',\n",
       " '__reversed__',\n",
       " '__ror__',\n",
       " '__setattr__',\n",
       " '__setitem__',\n",
       " '__sizeof__',\n",
       " '__str__',\n",
       " '__subclasshook__',\n",
       " 'clear',\n",
       " 'copy',\n",
       " 'fromkeys',\n",
       " 'get',\n",
       " 'items',\n",
       " 'keys',\n",
       " 'pop',\n",
       " 'popitem',\n",
       " 'setdefault',\n",
       " 'update',\n",
       " 'values']"
      ]
     },
     "execution_count": 8,
     "metadata": {},
     "output_type": "execute_result"
    }
   ],
   "source": [
    "T = {1:2,3:4}\n",
    "dir(T)"
   ]
  },
  {
   "cell_type": "code",
   "execution_count": 9,
   "id": "b1b059f1-43e3-49ca-832f-7332da2a0290",
   "metadata": {},
   "outputs": [],
   "source": [
    "L = [1,2,3]\n",
    "\n",
    "# L is not an iterator\n",
    "iter_L = iter(L)\n",
    "\n",
    "# iter_L is an iterator"
   ]
  },
  {
   "cell_type": "markdown",
   "id": "1bf62a26-6fa2-41c4-afb4-1f0d60b573e8",
   "metadata": {},
   "source": [
    "## Understanding how for loop works"
   ]
  },
  {
   "cell_type": "code",
   "execution_count": 10,
   "id": "633846d5-40ad-42e6-98ae-7140d25632d8",
   "metadata": {},
   "outputs": [
    {
     "name": "stdout",
     "output_type": "stream",
     "text": [
      "1\n",
      "2\n",
      "3\n"
     ]
    }
   ],
   "source": [
    "num = [1,2,3]\n",
    "\n",
    "for i in num:\n",
    "    print(i)"
   ]
  },
  {
   "cell_type": "code",
   "execution_count": 11,
   "id": "863db00f-4537-46db-8e9f-6d52e89c0735",
   "metadata": {},
   "outputs": [
    {
     "ename": "StopIteration",
     "evalue": "",
     "output_type": "error",
     "traceback": [
      "\u001b[1;31m---------------------------------------------------------------------------\u001b[0m",
      "\u001b[1;31mStopIteration\u001b[0m                             Traceback (most recent call last)",
      "Cell \u001b[1;32mIn[11], line 10\u001b[0m\n\u001b[0;32m      8\u001b[0m \u001b[38;5;28mnext\u001b[39m(iter_num)\n\u001b[0;32m      9\u001b[0m \u001b[38;5;28mnext\u001b[39m(iter_num)\n\u001b[1;32m---> 10\u001b[0m \u001b[38;5;28mnext\u001b[39m(iter_num)\n",
      "\u001b[1;31mStopIteration\u001b[0m: "
     ]
    }
   ],
   "source": [
    "num = [1,2,3]\n",
    "\n",
    "# fetch the iterator\n",
    "iter_num = iter(num)\n",
    "\n",
    "# step2 --> next\n",
    "next(iter_num)\n",
    "next(iter_num)\n",
    "next(iter_num)\n",
    "next(iter_num)"
   ]
  },
  {
   "cell_type": "markdown",
   "id": "b2a93d5d-7bf1-4de4-ba47-95eb8050906b",
   "metadata": {},
   "source": [
    "## Making our own for loop"
   ]
  },
  {
   "cell_type": "code",
   "execution_count": 12,
   "id": "e001b5ef-2d68-4e13-9147-413d83a8c3b3",
   "metadata": {},
   "outputs": [],
   "source": [
    "def mera_khudka_for_loop(iterable):\n",
    "    \n",
    "    iterator = iter(iterable)\n",
    "    \n",
    "    while True:\n",
    "        \n",
    "        try:\n",
    "            print(next(iterator))\n",
    "        except StopIteration:\n",
    "            break           "
   ]
  },
  {
   "cell_type": "code",
   "execution_count": 13,
   "id": "84386c21-2b3d-42c3-9ab5-6ccd84b17cc6",
   "metadata": {},
   "outputs": [
    {
     "name": "stdout",
     "output_type": "stream",
     "text": [
      "0\n",
      "1\n"
     ]
    }
   ],
   "source": [
    "a = [1,2,3]\n",
    "b = range(1,11)\n",
    "c = (1,2,3)\n",
    "d = {1,2,3}\n",
    "e = {0:1,1:1}\n",
    "\n",
    "mera_khudka_for_loop(e)"
   ]
  },
  {
   "cell_type": "markdown",
   "id": "173f7a29-fdb8-4b2f-89fd-dffe23510883",
   "metadata": {},
   "source": [
    "## A confusing point"
   ]
  },
  {
   "cell_type": "code",
   "execution_count": 14,
   "id": "79161616-3405-4cc9-8eb6-c2060063127b",
   "metadata": {},
   "outputs": [
    {
     "name": "stdout",
     "output_type": "stream",
     "text": [
      "2209598062992 Address of iterator 1\n",
      "2209598062992 Address of iterator 2\n"
     ]
    }
   ],
   "source": [
    "num = [1,2,3]\n",
    "iter_obj = iter(num)\n",
    "\n",
    "print(id(iter_obj),'Address of iterator 1')\n",
    "\n",
    "iter_obj2 = iter(iter_obj)\n",
    "print(id(iter_obj2),'Address of iterator 2')"
   ]
  },
  {
   "cell_type": "markdown",
   "id": "2c685ba4-9870-4900-a0fa-7b8f4cb5791e",
   "metadata": {},
   "source": [
    "## Let's create our own range() function"
   ]
  },
  {
   "cell_type": "code",
   "execution_count": 15,
   "id": "a0fd84d3-9f47-4107-a448-56bb91315c2e",
   "metadata": {},
   "outputs": [],
   "source": [
    "class mera_range:\n",
    "    \n",
    "    def __init__(self,start,end):\n",
    "        self.start = start\n",
    "        self.end = end\n",
    "        \n",
    "    def __iter__(self):\n",
    "        return mera_range_iterator(self)"
   ]
  },
  {
   "cell_type": "code",
   "execution_count": 16,
   "id": "78911b3c-c2cc-4e79-8c33-d69e019071ed",
   "metadata": {},
   "outputs": [],
   "source": [
    "class mera_range_iterator:\n",
    "    \n",
    "    def __init__(self,iterable_obj):\n",
    "        self.iterable = iterable_obj\n",
    "    \n",
    "    def __iter__(self):\n",
    "        return self\n",
    "    \n",
    "    def __next__(self):\n",
    "        \n",
    "        if self.iterable.start >= self.iterable.end:\n",
    "            raise StopIteration\n",
    "            \n",
    "        current = self.iterable.start\n",
    "        self.iterable.start+=1\n",
    "        return current"
   ]
  },
  {
   "cell_type": "code",
   "execution_count": 17,
   "id": "150e3e44-9fad-45c6-b3cf-6a7388fdc46d",
   "metadata": {},
   "outputs": [],
   "source": [
    "x = mera_range(1,11)"
   ]
  },
  {
   "cell_type": "code",
   "execution_count": 18,
   "id": "d838dc6f-86a9-408b-89b2-c5e2cc25f99e",
   "metadata": {},
   "outputs": [
    {
     "data": {
      "text/plain": [
       "__main__.mera_range"
      ]
     },
     "execution_count": 18,
     "metadata": {},
     "output_type": "execute_result"
    }
   ],
   "source": [
    "type(x)"
   ]
  },
  {
   "cell_type": "code",
   "execution_count": 19,
   "id": "8f993f44-09af-4a00-a31e-8e20cfe49920",
   "metadata": {},
   "outputs": [
    {
     "data": {
      "text/plain": [
       "<__main__.mera_range_iterator at 0x202763af290>"
      ]
     },
     "execution_count": 19,
     "metadata": {},
     "output_type": "execute_result"
    }
   ],
   "source": [
    "iter(x)"
   ]
  },
  {
   "cell_type": "markdown",
   "id": "b80f9e87-7fdb-4fd2-92b1-f007e7348e15",
   "metadata": {},
   "source": [
    "# Generators\n",
    "\n",
    "## What is a Generator?\n",
    "\n",
    "Python **generators** are a simple way of creating iterators. They allow you to iterate over a sequence of values, but unlike normal iterators, generators do not store the entire sequence in memory. Instead, they generate each value on the fly, which makes them more memory efficient.\n",
    "\n",
    "Generators are defined using functions or expressions that use the `yield` keyword instead of `return`. When `yield` is encountered, the function's state is saved, and the value is returned. The function can then resume from where it left off when `next()` is called again.\n",
    "\n",
    "Generators are often used when dealing with large datasets or infinite sequences, as they allow for lazy evaluation (generating values only when required).\n"
   ]
  },
  {
   "cell_type": "code",
   "execution_count": 20,
   "id": "fd115319-611e-48bb-9587-6c4e9e7b1733",
   "metadata": {},
   "outputs": [],
   "source": [
    "# iterable\n",
    "class mera_range:\n",
    "    \n",
    "    def __init__(self,start,end):\n",
    "        self.start = start\n",
    "        self.end = end\n",
    "        \n",
    "    def __iter__(self):\n",
    "        return mera_iterator(self)\n",
    "    \n",
    "\n",
    "# iterator\n",
    "class mera_iterator:\n",
    "    \n",
    "    def __init__(self,iterable_obj):\n",
    "        self.iterable = iterable_obj\n",
    "    \n",
    "    def __iter__(self):\n",
    "        return self\n",
    "    \n",
    "    def __next__(self):\n",
    "        \n",
    "        if self.iterable.start >= self.iterable.end:\n",
    "            raise StopIteration\n",
    "        \n",
    "        current = self.iterable.start\n",
    "        self.iterable.start+=1\n",
    "        return current"
   ]
  },
  {
   "cell_type": "markdown",
   "id": "3603ead8-8635-4652-8529-1d5ffe536aba",
   "metadata": {},
   "source": [
    "## The Why"
   ]
  },
  {
   "cell_type": "code",
   "execution_count": 21,
   "id": "3ebe0d15-3e22-4df9-858f-c9806c880785",
   "metadata": {},
   "outputs": [
    {
     "data": {
      "text/plain": [
       "48"
      ]
     },
     "execution_count": 21,
     "metadata": {},
     "output_type": "execute_result"
    }
   ],
   "source": [
    "L = [x for x in range(100000)]\n",
    "\n",
    "#for i in L:\n",
    "    #print(i**2)\n",
    "    \n",
    "import sys\n",
    "sys.getsizeof(L)\n",
    "\n",
    "x = range(10000000)\n",
    "\n",
    "#for i in x:\n",
    "    #print(i**2)\n",
    "sys.getsizeof(x)"
   ]
  },
  {
   "cell_type": "markdown",
   "id": "5f8a27e3-c201-45c4-a739-3f2a867510e0",
   "metadata": {},
   "source": [
    "## A Simple Example"
   ]
  },
  {
   "cell_type": "code",
   "execution_count": 22,
   "id": "d5b624e2-e4be-4680-94c7-5c7cfda744b0",
   "metadata": {},
   "outputs": [],
   "source": [
    "def gen_demo():\n",
    "    \n",
    "    yield \"first statement\"\n",
    "    yield \"second statement\"\n",
    "    yield \"third statement\""
   ]
  },
  {
   "cell_type": "code",
   "execution_count": 23,
   "id": "3a32fca0-9516-4b4a-b609-fc20236022a4",
   "metadata": {},
   "outputs": [
    {
     "name": "stdout",
     "output_type": "stream",
     "text": [
      "first statement\n",
      "second statement\n",
      "third statement\n"
     ]
    }
   ],
   "source": [
    "gen = gen_demo()\n",
    "\n",
    "for i in gen:\n",
    "    print(i)"
   ]
  },
  {
   "cell_type": "markdown",
   "id": "895a90e4-46aa-485f-b31d-bddf3955da5f",
   "metadata": {},
   "source": [
    "## Example 2"
   ]
  },
  {
   "cell_type": "code",
   "execution_count": 24,
   "id": "986b7fcd-b0aa-488f-ab9c-b18f72e4213e",
   "metadata": {},
   "outputs": [],
   "source": [
    "def square(num):\n",
    "    for i in range(1,num+1):\n",
    "        yield i**2"
   ]
  },
  {
   "cell_type": "code",
   "execution_count": 25,
   "id": "a48f43ed-2182-41a0-a729-e0d79dea8bbf",
   "metadata": {},
   "outputs": [
    {
     "name": "stdout",
     "output_type": "stream",
     "text": [
      "1\n",
      "4\n",
      "9\n",
      "16\n",
      "25\n",
      "36\n",
      "49\n",
      "64\n",
      "81\n",
      "100\n"
     ]
    }
   ],
   "source": [
    "gen = square(10)\n",
    "\n",
    "print(next(gen))\n",
    "print(next(gen))\n",
    "print(next(gen))\n",
    "\n",
    "for i in gen:\n",
    "    print(i)"
   ]
  },
  {
   "cell_type": "markdown",
   "id": "a56d9271-c0bc-41dc-873f-a77fca5cecbd",
   "metadata": {},
   "source": [
    "## Range Function using Generator"
   ]
  },
  {
   "cell_type": "code",
   "execution_count": 26,
   "id": "97f899da-1abb-493b-a6e5-adef2495d2e6",
   "metadata": {},
   "outputs": [],
   "source": [
    "def mera_range(start,end):\n",
    "    \n",
    "    for i in range(start,end):\n",
    "        yield i"
   ]
  },
  {
   "cell_type": "code",
   "execution_count": 27,
   "id": "25fa3c00-72ce-409e-bea1-c5497946a900",
   "metadata": {},
   "outputs": [
    {
     "name": "stdout",
     "output_type": "stream",
     "text": [
      "15\n",
      "16\n",
      "17\n",
      "18\n",
      "19\n",
      "20\n",
      "21\n",
      "22\n",
      "23\n",
      "24\n",
      "25\n"
     ]
    }
   ],
   "source": [
    "for i in mera_range(15,26):\n",
    "    print(i)"
   ]
  },
  {
   "cell_type": "markdown",
   "id": "a70a474b-7f71-481c-9daf-03821f8400b9",
   "metadata": {},
   "source": [
    "## Generator Expression"
   ]
  },
  {
   "cell_type": "code",
   "execution_count": 28,
   "id": "f93c297c-1526-4cb9-8d6c-7981e4160025",
   "metadata": {},
   "outputs": [],
   "source": [
    "# list comprehension\n",
    "L = [i**2 for i in range(1,101)]"
   ]
  },
  {
   "cell_type": "code",
   "execution_count": 30,
   "id": "5c1dffc5-aed4-4d8f-8f44-a78ec0143fe6",
   "metadata": {},
   "outputs": [
    {
     "name": "stdout",
     "output_type": "stream",
     "text": [
      "1\n",
      "4\n",
      "9\n",
      "16\n",
      "25\n",
      "36\n",
      "49\n",
      "64\n",
      "81\n",
      "100\n"
     ]
    }
   ],
   "source": [
    "gen = (i**2 for i in range(1,11))\n",
    "\n",
    "for i in gen:\n",
    "    print(i)"
   ]
  },
  {
   "cell_type": "markdown",
   "id": "bca57d10-50e0-4fd2-9903-af4a4a26f975",
   "metadata": {},
   "source": [
    "## Practical Example"
   ]
  },
  {
   "cell_type": "code",
   "execution_count": 32,
   "id": "8dc8e308-ab64-44ea-9a60-6fb483efcf8c",
   "metadata": {},
   "outputs": [],
   "source": [
    "import os\n",
    "import cv2\n",
    "\n",
    "def image_data_reader(folder_path):\n",
    "\n",
    "    for file in os.listdir(folder_path):\n",
    "        f_array = cv2.imread(os.path.join(folder_path,file))\n",
    "        yield f_array\n",
    "    "
   ]
  },
  {
   "cell_type": "code",
   "execution_count": 34,
   "id": "bf4e8c4c-0643-4486-a076-afdbee8eb55c",
   "metadata": {},
   "outputs": [
    {
     "data": {
      "text/plain": [
       "array([[[ 21,  20,   6],\n",
       "        [ 11,  10,   0],\n",
       "        [ 27,  22,   7],\n",
       "        ...,\n",
       "        [ 58, 119,  93],\n",
       "        [ 62, 121,  93],\n",
       "        [ 64, 124,  94]],\n",
       "\n",
       "       [[ 28,  21,   6],\n",
       "        [ 20,  13,   0],\n",
       "        [ 59,  51,  34],\n",
       "        ...,\n",
       "        [ 77, 138, 112],\n",
       "        [ 87, 146, 118],\n",
       "        [ 88, 148, 118]],\n",
       "\n",
       "       [[ 29,  13,   0],\n",
       "        [ 30,  12,   0],\n",
       "        [ 95,  77,  60],\n",
       "        ...,\n",
       "        [ 86, 147, 121],\n",
       "        [ 93, 154, 126],\n",
       "        [ 91, 153, 123]],\n",
       "\n",
       "       ...,\n",
       "\n",
       "       [[135, 207, 249],\n",
       "        [134, 206, 248],\n",
       "        [137, 206, 249],\n",
       "        ...,\n",
       "        [141, 155, 167],\n",
       "        [140, 154, 166],\n",
       "        [142, 157, 166]],\n",
       "\n",
       "       [[135, 206, 250],\n",
       "        [135, 206, 250],\n",
       "        [138, 206, 251],\n",
       "        ...,\n",
       "        [123, 138, 147],\n",
       "        [117, 132, 141],\n",
       "        [122, 138, 145]],\n",
       "\n",
       "       [[138, 209, 253],\n",
       "        [137, 208, 252],\n",
       "        [138, 206, 251],\n",
       "        ...,\n",
       "        [107, 122, 131],\n",
       "        [112, 128, 135],\n",
       "        [119, 135, 142]]], dtype=uint8)"
      ]
     },
     "execution_count": 34,
     "metadata": {},
     "output_type": "execute_result"
    }
   ],
   "source": [
    "gen = image_data_reader(\"D:\\pics\")\n",
    "\n",
    "next(gen)\n",
    "next(gen)\n",
    "\n",
    "next(gen)\n",
    "next(gen)"
   ]
  },
  {
   "cell_type": "markdown",
   "id": "384e2fa2-57fa-4098-a914-994d342d00f8",
   "metadata": {},
   "source": [
    "## Benefits of using a Generator\n",
    "#### 1. Ease of Implementation"
   ]
  },
  {
   "cell_type": "code",
   "execution_count": 35,
   "id": "26863b26-22e8-4e82-a667-7627df9f2b22",
   "metadata": {},
   "outputs": [],
   "source": [
    "class mera_range:\n",
    "    \n",
    "    def __init__(self,start,end):\n",
    "        self.start = start\n",
    "        self.end = end\n",
    "        \n",
    "    def __iter__(self):\n",
    "        return mera_iterator(self)"
   ]
  },
  {
   "cell_type": "code",
   "execution_count": 36,
   "id": "04c8ea6c-2837-41ed-a5de-4971ec09afd8",
   "metadata": {},
   "outputs": [],
   "source": [
    "# iterator\n",
    "class mera_iterator:\n",
    "    \n",
    "    def __init__(self,iterable_obj):\n",
    "        self.iterable = iterable_obj\n",
    "    \n",
    "    def __iter__(self):\n",
    "        return self\n",
    "    \n",
    "    def __next__(self):\n",
    "        \n",
    "        if self.iterable.start >= self.iterable.end:\n",
    "            raise StopIteration\n",
    "        \n",
    "        current = self.iterable.start\n",
    "        self.iterable.start+=1\n",
    "        return current"
   ]
  },
  {
   "cell_type": "code",
   "execution_count": 37,
   "id": "3f294eb2-3a6a-4a31-96e1-2ce1eda87a39",
   "metadata": {},
   "outputs": [],
   "source": [
    "def mera_range(start,end):\n",
    "    \n",
    "    for i in range(start,end):\n",
    "        yield i"
   ]
  },
  {
   "cell_type": "markdown",
   "id": "766eaf2d-e429-4e6e-9e5c-1ca2c63fb5f3",
   "metadata": {},
   "source": [
    "#### 2. Memory Efficient"
   ]
  },
  {
   "cell_type": "code",
   "execution_count": 38,
   "id": "112a10dc-6144-4354-9262-f58e8b5978e0",
   "metadata": {},
   "outputs": [
    {
     "name": "stdout",
     "output_type": "stream",
     "text": [
      "Size of L in memory 800984\n",
      "Size of gen in memory 200\n"
     ]
    }
   ],
   "source": [
    "L = [x for x in range(100000)]\n",
    "gen = (x for x in range(100000))\n",
    "\n",
    "import sys\n",
    "\n",
    "print('Size of L in memory',sys.getsizeof(L))\n",
    "print('Size of gen in memory',sys.getsizeof(gen))"
   ]
  },
  {
   "cell_type": "markdown",
   "id": "71bd1711-3608-4209-90c2-42d06e30aaba",
   "metadata": {},
   "source": [
    "#### 3. Representing Infinite Streams"
   ]
  },
  {
   "cell_type": "code",
   "execution_count": 39,
   "id": "9292b139-2370-4693-991d-180367e31e08",
   "metadata": {},
   "outputs": [],
   "source": [
    "def all_even():\n",
    "    n = 0\n",
    "    while True:\n",
    "        yield n\n",
    "        n += 2"
   ]
  },
  {
   "cell_type": "code",
   "execution_count": 40,
   "id": "ee78f4bb-ff1c-427f-94cd-7312a7191be3",
   "metadata": {},
   "outputs": [
    {
     "data": {
      "text/plain": [
       "2"
      ]
     },
     "execution_count": 40,
     "metadata": {},
     "output_type": "execute_result"
    }
   ],
   "source": [
    "even_num_gen = all_even()\n",
    "next(even_num_gen)\n",
    "next(even_num_gen)"
   ]
  },
  {
   "cell_type": "markdown",
   "id": "bc4351ef-2aaa-49fe-b95d-875dc8350981",
   "metadata": {},
   "source": [
    "#### 4. Chaining Generators"
   ]
  },
  {
   "cell_type": "code",
   "execution_count": 41,
   "id": "8f4ae5f4-32a6-4475-b696-aa03ee7c7f5e",
   "metadata": {},
   "outputs": [
    {
     "name": "stdout",
     "output_type": "stream",
     "text": [
      "4895\n"
     ]
    }
   ],
   "source": [
    "def fibonacci_numbers(nums):\n",
    "    x, y = 0, 1\n",
    "    for _ in range(nums):\n",
    "        x, y = y, x+y\n",
    "        yield x\n",
    "\n",
    "def square(nums):\n",
    "    for num in nums:\n",
    "        yield num**2\n",
    "\n",
    "print(sum(square(fibonacci_numbers(10))))"
   ]
  },
  {
   "cell_type": "markdown",
   "id": "f7f2a5d6-b61c-490f-9536-3c8190d6627c",
   "metadata": {},
   "source": [
    "# 1. What do you mean by __name__ == '__main__'"
   ]
  },
  {
   "cell_type": "markdown",
   "id": "60fe840a-c235-402c-9116-65f8ec97869f",
   "metadata": {},
   "source": [
    "### What is a module?\n",
    "\n",
    "Any file with an extention of .py is called a module in python.\n",
    "\n",
    "Whenever we execute a program it's module name is `__main__` and this name is stored in `__name__` variable"
   ]
  },
  {
   "cell_type": "code",
   "execution_count": 42,
   "id": "64e5318a-b8dc-4aed-9401-5e079794486f",
   "metadata": {},
   "outputs": [
    {
     "name": "stdout",
     "output_type": "stream",
     "text": [
      "hello\n",
      "__main__\n"
     ]
    }
   ],
   "source": [
    "def display():\n",
    "    print('hello')\n",
    "\n",
    "display()\n",
    "print(__name__)"
   ]
  },
  {
   "cell_type": "markdown",
   "id": "d6a8e0bc-c6ce-4a6d-babb-7e124b05689b",
   "metadata": {},
   "source": [
    "### Importing a module\n",
    "\n",
    "- But what is the need to import a module?\n",
    "- How to import a module"
   ]
  },
  {
   "cell_type": "code",
   "execution_count": 44,
   "id": "f9f572fc-54b2-4d8a-854e-55ddf390bf7c",
   "metadata": {},
   "outputs": [],
   "source": [
    "# Normal\n",
    "import math\n",
    "import random"
   ]
  },
  {
   "cell_type": "code",
   "execution_count": 45,
   "id": "25a27637-4ce0-42e4-a2c2-7795602aab8a",
   "metadata": {},
   "outputs": [],
   "source": [
    "# clubbing together\n",
    "import math,random,test"
   ]
  },
  {
   "cell_type": "code",
   "execution_count": 48,
   "id": "701e795e-3f77-4e52-b577-9f6848b75ff0",
   "metadata": {},
   "outputs": [
    {
     "name": "stdout",
     "output_type": "stream",
     "text": [
      "120\n"
     ]
    },
    {
     "ename": "NameError",
     "evalue": "name 'ceil' is not defined",
     "output_type": "error",
     "traceback": [
      "\u001b[1;31m---------------------------------------------------------------------------\u001b[0m",
      "\u001b[1;31mNameError\u001b[0m                                 Traceback (most recent call last)",
      "Cell \u001b[1;32mIn[48], line 6\u001b[0m\n\u001b[0;32m      3\u001b[0m \u001b[38;5;66;03m# from test import hello\u001b[39;00m\n\u001b[0;32m      5\u001b[0m \u001b[38;5;28mprint\u001b[39m(factorial(\u001b[38;5;241m5\u001b[39m))\n\u001b[1;32m----> 6\u001b[0m ceil(\u001b[38;5;241m4.8\u001b[39m)\n",
      "\u001b[1;31mNameError\u001b[0m: name 'ceil' is not defined"
     ]
    }
   ],
   "source": [
    "# importing specific names from module\n",
    "from math import factorial,floor\n",
    "# from test import hello\n",
    "\n",
    "print(factorial(5))\n",
    "ceil(4.8)"
   ]
  },
  {
   "cell_type": "code",
   "execution_count": 49,
   "id": "a3156e07-973e-423e-88ad-8d5d5e872981",
   "metadata": {},
   "outputs": [
    {
     "data": {
      "text/plain": [
       "120"
      ]
     },
     "execution_count": 49,
     "metadata": {},
     "output_type": "execute_result"
    }
   ],
   "source": [
    "# renaming modules\n",
    "import math as m\n",
    "import numpy as np\n",
    "import pandas as pd\n",
    "import matplotlib.pyplot as plt\n",
    "\n",
    "\n",
    "m.factorial(5)"
   ]
  },
  {
   "cell_type": "code",
   "execution_count": 50,
   "id": "61948150-c202-41ad-bdf3-564667766b86",
   "metadata": {},
   "outputs": [
    {
     "data": {
      "text/plain": [
       "120"
      ]
     },
     "execution_count": 50,
     "metadata": {},
     "output_type": "execute_result"
    }
   ],
   "source": [
    "from math import factorial as f\n",
    "\n",
    "f(5)\n"
   ]
  },
  {
   "cell_type": "markdown",
   "id": "10cb9e8b-b691-47bc-94bc-77c63516a891",
   "metadata": {},
   "source": [
    "### Order of execution of a module"
   ]
  },
  {
   "cell_type": "code",
   "execution_count": 51,
   "id": "d0feecc0-5483-4f7e-8116-6e78370064a6",
   "metadata": {},
   "outputs": [
    {
     "name": "stdout",
     "output_type": "stream",
     "text": [
      "C:\\Users\\goura\\Linkedin\n",
      "C:\\Users\\goura\\anaconda3\\python311.zip\n",
      "C:\\Users\\goura\\anaconda3\\DLLs\n",
      "C:\\Users\\goura\\anaconda3\\Lib\n",
      "C:\\Users\\goura\\anaconda3\n",
      "\n",
      "C:\\Users\\goura\\anaconda3\\Lib\\site-packages\n",
      "C:\\Users\\goura\\anaconda3\\Lib\\site-packages\\win32\n",
      "C:\\Users\\goura\\anaconda3\\Lib\\site-packages\\win32\\lib\n",
      "C:\\Users\\goura\\anaconda3\\Lib\\site-packages\\Pythonwin\n"
     ]
    }
   ],
   "source": [
    "import sys\n",
    "for p in sys.path:\n",
    "    print(p)"
   ]
  },
  {
   "cell_type": "markdown",
   "id": "c5adbfb1-4ad3-4af9-87b9-3df7384d4069",
   "metadata": {},
   "source": [
    "### if `__name__` == `__main__`\n",
    "\n",
    "### What are packages in Python\n",
    "\n",
    "A package in python is a directory containing similar sub packages and modules.\n",
    "\n",
    "- A particular directory is treated as package if it has `__init__.py` file in it.\n",
    "- The `__init__.py` file may be empty or contain some initialization code related to the package\n",
    "\n",
    "### What are 3rd party packages?\r\n",
    "\r\n",
    "- The python community creates packages and make it available for other programmers\r\n",
    "- PyPI -> Python Package Index\r\n",
    "- You can upload your own package\r\n",
    "- You can also install packages from PyPI and install using pip\r\n",
    "- pip is a package manager utility\r\n",
    "- it is automatically installed with python\r\n",
    "\r\n"
   ]
  },
  {
   "cell_type": "code",
   "execution_count": null,
   "id": "debd9892-a917-473b-a517-fd214a632031",
   "metadata": {},
   "outputs": [],
   "source": []
  }
 ],
 "metadata": {
  "kernelspec": {
   "display_name": "Python 3 (ipykernel)",
   "language": "python",
   "name": "python3"
  },
  "language_info": {
   "codemirror_mode": {
    "name": "ipython",
    "version": 3
   },
   "file_extension": ".py",
   "mimetype": "text/x-python",
   "name": "python",
   "nbconvert_exporter": "python",
   "pygments_lexer": "ipython3",
   "version": "3.11.7"
  }
 },
 "nbformat": 4,
 "nbformat_minor": 5
}
