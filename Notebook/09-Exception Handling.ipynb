{
 "cells": [
  {
   "cell_type": "markdown",
   "id": "2ab1dc9b-5929-4abd-82ea-9d415cbfc13c",
   "metadata": {},
   "source": [
    "# Exception Handling in Python\n",
    "\n",
    "Exception handling is a mechanism in Python that allows you to deal with runtime errors gracefully, ensuring that your program does not crash unexpectedly. It helps you manage errors and take corrective actions without stopping the program.\n",
    "\n",
    "### What is an Exception?\n",
    "An **exception** is an event that occurs during the execution of a program and disrupts its normal flow. For example:\n",
    "- Division by zero\n",
    "- Accessing an undefined variable\n",
    "- File not found errors\n",
    "\n",
    "### Keywords in Exception Handling\n",
    "1. **`try`**: Defines a block of code to test for exceptions.\n",
    "2. **`except`**: Defines a block of code to handle the exception.\n",
    "3. **`else`**: Executes code if no exception occurs.\n",
    "4. **`finally`**: Always executes code, regardless of whether an exception occurred or not.\n"
   ]
  },
  {
   "cell_type": "markdown",
   "id": "603c9826-86e3-4246-b0d3-fe9647726f60",
   "metadata": {},
   "source": [
    "## Types of Errors in a Program\n",
    "\n",
    "Errors in a program can occur at two stages:\n",
    "\n",
    "1. **During Compilation** → **Syntax Error**\n",
    "2. **During Execution** → **Exception**\n",
    "\n",
    "---\n",
    "\n",
    "### Syntax Error\n",
    "\n",
    "A **syntax error** occurs when something in the program is not written according to the grammar of the programming language.\n",
    "\n",
    "- **Cause**: Error is raised by the interpreter or compiler.\n",
    "- **Solution**: You can resolve it by rectifying the program code to adhere to the syntax rules.\n"
   ]
  },
  {
   "cell_type": "code",
   "execution_count": 2,
   "id": "a7ff2084-0a5c-4c09-8ce4-c0f0239a9d88",
   "metadata": {},
   "outputs": [
    {
     "ename": "SyntaxError",
     "evalue": "Missing parentheses in call to 'print'. Did you mean print(...)? (3193601848.py, line 2)",
     "output_type": "error",
     "traceback": [
      "\u001b[1;36m  Cell \u001b[1;32mIn[2], line 2\u001b[1;36m\u001b[0m\n\u001b[1;33m    print \"Hello World\"\u001b[0m\n\u001b[1;37m    ^\u001b[0m\n\u001b[1;31mSyntaxError\u001b[0m\u001b[1;31m:\u001b[0m Missing parentheses in call to 'print'. Did you mean print(...)?\n"
     ]
    }
   ],
   "source": [
    "# Examples of syntax error\n",
    "print \"Hello World\""
   ]
  },
  {
   "cell_type": "markdown",
   "id": "b1371207-61cd-4671-9b8e-c5dae554eec7",
   "metadata": {},
   "source": [
    "### Other Examples of Syntax Errors\r\n",
    "- Leaving symbols like colons or brackets.\r\n",
    "- Misspelling keywords.\r\n",
    "- Incorrect indentation.\r\n",
    "- Empty blocks in if/else, loops, classes, or functions.\r\n"
   ]
  },
  {
   "cell_type": "code",
   "execution_count": 3,
   "id": "4dc7608e-6579-4f5d-9744-37d4bc35d91a",
   "metadata": {},
   "outputs": [
    {
     "ename": "SyntaxError",
     "evalue": "expected ':' (2135626280.py, line 2)",
     "output_type": "error",
     "traceback": [
      "\u001b[1;36m  Cell \u001b[1;32mIn[3], line 2\u001b[1;36m\u001b[0m\n\u001b[1;33m    if a ==3\u001b[0m\n\u001b[1;37m            ^\u001b[0m\n\u001b[1;31mSyntaxError\u001b[0m\u001b[1;31m:\u001b[0m expected ':'\n"
     ]
    }
   ],
   "source": [
    "a = 5\n",
    "if a ==3\n",
    "    print('hello')"
   ]
  },
  {
   "cell_type": "code",
   "execution_count": 4,
   "id": "f361f09b-dbf1-4425-bde2-517bf72cff87",
   "metadata": {},
   "outputs": [
    {
     "ename": "SyntaxError",
     "evalue": "invalid syntax (779508151.py, line 2)",
     "output_type": "error",
     "traceback": [
      "\u001b[1;36m  Cell \u001b[1;32mIn[4], line 2\u001b[1;36m\u001b[0m\n\u001b[1;33m    iff a ==3:\u001b[0m\n\u001b[1;37m        ^\u001b[0m\n\u001b[1;31mSyntaxError\u001b[0m\u001b[1;31m:\u001b[0m invalid syntax\n"
     ]
    }
   ],
   "source": [
    "a = 5\n",
    "iff a ==3:\n",
    "    print('hello')"
   ]
  },
  {
   "cell_type": "code",
   "execution_count": 5,
   "id": "a4d907dc-8203-4825-829c-45a5626a5375",
   "metadata": {},
   "outputs": [
    {
     "ename": "IndentationError",
     "evalue": "expected an indented block after 'if' statement on line 2 (2724071684.py, line 3)",
     "output_type": "error",
     "traceback": [
      "\u001b[1;36m  Cell \u001b[1;32mIn[5], line 3\u001b[1;36m\u001b[0m\n\u001b[1;33m    print('hello')\u001b[0m\n\u001b[1;37m    ^\u001b[0m\n\u001b[1;31mIndentationError\u001b[0m\u001b[1;31m:\u001b[0m expected an indented block after 'if' statement on line 2\n"
     ]
    }
   ],
   "source": [
    "a = 5\n",
    "if a ==3:\n",
    "print('hello')"
   ]
  },
  {
   "cell_type": "code",
   "execution_count": 6,
   "id": "e6e1472d-fa19-4260-9299-854322bc5d4b",
   "metadata": {},
   "outputs": [
    {
     "ename": "IndexError",
     "evalue": "list index out of range",
     "output_type": "error",
     "traceback": [
      "\u001b[1;31m---------------------------------------------------------------------------\u001b[0m",
      "\u001b[1;31mIndexError\u001b[0m                                Traceback (most recent call last)",
      "Cell \u001b[1;32mIn[6], line 4\u001b[0m\n\u001b[0;32m      1\u001b[0m \u001b[38;5;66;03m# Index Error\u001b[39;00m\n\u001b[0;32m      3\u001b[0m L \u001b[38;5;241m=\u001b[39m [\u001b[38;5;241m1\u001b[39m,\u001b[38;5;241m2\u001b[39m,\u001b[38;5;241m3\u001b[39m]\n\u001b[1;32m----> 4\u001b[0m L[\u001b[38;5;241m100\u001b[39m]\n",
      "\u001b[1;31mIndexError\u001b[0m: list index out of range"
     ]
    }
   ],
   "source": [
    "# Index Error\n",
    "\n",
    "L = [1,2,3]\n",
    "L[100]"
   ]
  },
  {
   "cell_type": "code",
   "execution_count": 7,
   "id": "d63cb689-f8fe-498c-9bc9-e56ba2967283",
   "metadata": {},
   "outputs": [
    {
     "ename": "ModuleNotFoundError",
     "evalue": "No module named 'mathi'",
     "output_type": "error",
     "traceback": [
      "\u001b[1;31m---------------------------------------------------------------------------\u001b[0m",
      "\u001b[1;31mModuleNotFoundError\u001b[0m                       Traceback (most recent call last)",
      "Cell \u001b[1;32mIn[7], line 3\u001b[0m\n\u001b[0;32m      1\u001b[0m \u001b[38;5;66;03m# module not found error\u001b[39;00m\n\u001b[1;32m----> 3\u001b[0m \u001b[38;5;28;01mimport\u001b[39;00m \u001b[38;5;21;01mmathi\u001b[39;00m\n\u001b[0;32m      4\u001b[0m math\u001b[38;5;241m.\u001b[39mfloor(\u001b[38;5;241m5.3\u001b[39m)\n",
      "\u001b[1;31mModuleNotFoundError\u001b[0m: No module named 'mathi'"
     ]
    }
   ],
   "source": [
    "# module not found error\n",
    "\n",
    "import mathi\n",
    "math.floor(5.3)"
   ]
  },
  {
   "cell_type": "code",
   "execution_count": 8,
   "id": "8c3fa281-3686-4649-8845-caf62dd34a64",
   "metadata": {},
   "outputs": [
    {
     "ename": "KeyError",
     "evalue": "'age'",
     "output_type": "error",
     "traceback": [
      "\u001b[1;31m---------------------------------------------------------------------------\u001b[0m",
      "\u001b[1;31mKeyError\u001b[0m                                  Traceback (most recent call last)",
      "Cell \u001b[1;32mIn[8], line 4\u001b[0m\n\u001b[0;32m      1\u001b[0m \u001b[38;5;66;03m# Key error\u001b[39;00m\n\u001b[0;32m      3\u001b[0m d \u001b[38;5;241m=\u001b[39m {\u001b[38;5;124m'\u001b[39m\u001b[38;5;124mname\u001b[39m\u001b[38;5;124m'\u001b[39m:\u001b[38;5;124m'\u001b[39m\u001b[38;5;124mGourab\u001b[39m\u001b[38;5;124m'\u001b[39m}\n\u001b[1;32m----> 4\u001b[0m d[\u001b[38;5;124m'\u001b[39m\u001b[38;5;124mage\u001b[39m\u001b[38;5;124m'\u001b[39m]\n",
      "\u001b[1;31mKeyError\u001b[0m: 'age'"
     ]
    }
   ],
   "source": [
    "# Key error\n",
    "\n",
    "d = {'name':'Gourab'}\n",
    "d['age']"
   ]
  },
  {
   "cell_type": "code",
   "execution_count": 9,
   "id": "e925ceb0-fe8a-4c30-9810-97272a78339e",
   "metadata": {},
   "outputs": [
    {
     "ename": "ValueError",
     "evalue": "invalid literal for int() with base 10: 'a'",
     "output_type": "error",
     "traceback": [
      "\u001b[1;31m---------------------------------------------------------------------------\u001b[0m",
      "\u001b[1;31mValueError\u001b[0m                                Traceback (most recent call last)",
      "Cell \u001b[1;32mIn[9], line 2\u001b[0m\n\u001b[0;32m      1\u001b[0m \u001b[38;5;66;03m# Value error\u001b[39;00m\n\u001b[1;32m----> 2\u001b[0m \u001b[38;5;28mint\u001b[39m(\u001b[38;5;124m'\u001b[39m\u001b[38;5;124ma\u001b[39m\u001b[38;5;124m'\u001b[39m)\n",
      "\u001b[1;31mValueError\u001b[0m: invalid literal for int() with base 10: 'a'"
     ]
    }
   ],
   "source": [
    "# Value error\n",
    "int('a')"
   ]
  },
  {
   "cell_type": "code",
   "execution_count": 10,
   "id": "5ceb70b4-9f30-43f2-8e04-3cd68c11ef4c",
   "metadata": {},
   "outputs": [
    {
     "ename": "TypeError",
     "evalue": "unsupported operand type(s) for +: 'int' and 'str'",
     "output_type": "error",
     "traceback": [
      "\u001b[1;31m---------------------------------------------------------------------------\u001b[0m",
      "\u001b[1;31mTypeError\u001b[0m                                 Traceback (most recent call last)",
      "Cell \u001b[1;32mIn[10], line 3\u001b[0m\n\u001b[0;32m      1\u001b[0m \u001b[38;5;66;03m# Type Error\u001b[39;00m\n\u001b[1;32m----> 3\u001b[0m \u001b[38;5;241m1\u001b[39m \u001b[38;5;241m+\u001b[39m \u001b[38;5;124m'\u001b[39m\u001b[38;5;124ma\u001b[39m\u001b[38;5;124m'\u001b[39m\n",
      "\u001b[1;31mTypeError\u001b[0m: unsupported operand type(s) for +: 'int' and 'str'"
     ]
    }
   ],
   "source": [
    "# Type Error\n",
    "\n",
    "1 + 'a'"
   ]
  },
  {
   "cell_type": "code",
   "execution_count": 11,
   "id": "1885a417-b834-4fe9-b1d7-400cb9f6c330",
   "metadata": {},
   "outputs": [
    {
     "ename": "NameError",
     "evalue": "name 'k' is not defined",
     "output_type": "error",
     "traceback": [
      "\u001b[1;31m---------------------------------------------------------------------------\u001b[0m",
      "\u001b[1;31mNameError\u001b[0m                                 Traceback (most recent call last)",
      "Cell \u001b[1;32mIn[11], line 4\u001b[0m\n\u001b[0;32m      1\u001b[0m \u001b[38;5;66;03m# Name error\u001b[39;00m\n\u001b[1;32m----> 4\u001b[0m \u001b[38;5;28mprint\u001b[39m(k)\n",
      "\u001b[1;31mNameError\u001b[0m: name 'k' is not defined"
     ]
    }
   ],
   "source": [
    "# Name error\n",
    "\n",
    "\n",
    "print(k)"
   ]
  },
  {
   "cell_type": "code",
   "execution_count": 12,
   "id": "14e570f3-638c-4c59-aa71-df0797ab0857",
   "metadata": {},
   "outputs": [
    {
     "ename": "AttributeError",
     "evalue": "'list' object has no attribute 'upper'",
     "output_type": "error",
     "traceback": [
      "\u001b[1;31m---------------------------------------------------------------------------\u001b[0m",
      "\u001b[1;31mAttributeError\u001b[0m                            Traceback (most recent call last)",
      "Cell \u001b[1;32mIn[12], line 4\u001b[0m\n\u001b[0;32m      1\u001b[0m \u001b[38;5;66;03m# Attribute error\u001b[39;00m\n\u001b[0;32m      3\u001b[0m l \u001b[38;5;241m=\u001b[39m [\u001b[38;5;241m1\u001b[39m,\u001b[38;5;241m2\u001b[39m,\u001b[38;5;241m3\u001b[39m]\n\u001b[1;32m----> 4\u001b[0m l\u001b[38;5;241m.\u001b[39mupper()\n",
      "\u001b[1;31mAttributeError\u001b[0m: 'list' object has no attribute 'upper'"
     ]
    }
   ],
   "source": [
    "# Attribute error\n",
    "\n",
    "l = [1,2,3]\n",
    "l.upper()"
   ]
  },
  {
   "cell_type": "markdown",
   "id": "25758b30-33a0-4d4d-8935-6dc09beadbda",
   "metadata": {},
   "source": [
    "## Exceptions\n",
    "\n",
    "Exceptions occur when something goes wrong during the execution of the program (runtime).  \n",
    "They generally happen when unforeseen situations arise.\n",
    "\n",
    "- **Raised by**: Python runtime.\n",
    "- **Solution**: Handle them on the fly using exception handling.\n",
    "\n",
    "### Examples\n",
    "- Memory Overflow\n",
    "- Divide by 0 → Logical Error\n",
    "- Database Error\n"
   ]
  },
  {
   "cell_type": "markdown",
   "id": "70f4176a-73fb-4703-a6b7-37f6898169ac",
   "metadata": {},
   "source": [
    "## Stacktrace\n",
    "A report showing where the exception occurred.\n",
    "\n",
    "## How to Handle Exceptions\n",
    "Use a **try-except block**:\n",
    "```python\n",
    "try:\n",
    "    # risky code\n",
    "except:\n",
    "    # handle exception\n"
   ]
  },
  {
   "cell_type": "code",
   "execution_count": 13,
   "id": "ce4eff85-ad33-4e1a-b984-4e5a197b63d3",
   "metadata": {},
   "outputs": [],
   "source": [
    "with open('sample6.txt','w') as f:\n",
    "    f.write('Hello Python')"
   ]
  },
  {
   "cell_type": "code",
   "execution_count": 14,
   "id": "db4a8ce7-6c58-444c-ba3a-12cfad58d41a",
   "metadata": {},
   "outputs": [
    {
     "ename": "FileNotFoundError",
     "evalue": "[Errno 2] No such file or directory: 'sample7.txt'",
     "output_type": "error",
     "traceback": [
      "\u001b[1;31m---------------------------------------------------------------------------\u001b[0m",
      "\u001b[1;31mFileNotFoundError\u001b[0m                         Traceback (most recent call last)",
      "Cell \u001b[1;32mIn[14], line 1\u001b[0m\n\u001b[1;32m----> 1\u001b[0m \u001b[38;5;28;01mwith\u001b[39;00m \u001b[38;5;28mopen\u001b[39m(\u001b[38;5;124m'\u001b[39m\u001b[38;5;124msample7.txt\u001b[39m\u001b[38;5;124m'\u001b[39m,\u001b[38;5;124m'\u001b[39m\u001b[38;5;124mr\u001b[39m\u001b[38;5;124m'\u001b[39m) \u001b[38;5;28;01mas\u001b[39;00m f:\n\u001b[0;32m      2\u001b[0m     \u001b[38;5;28mprint\u001b[39m(f\u001b[38;5;241m.\u001b[39mread())\n",
      "File \u001b[1;32m~\\anaconda3\\Lib\\site-packages\\IPython\\core\\interactiveshell.py:310\u001b[0m, in \u001b[0;36m_modified_open\u001b[1;34m(file, *args, **kwargs)\u001b[0m\n\u001b[0;32m    303\u001b[0m \u001b[38;5;28;01mif\u001b[39;00m file \u001b[38;5;129;01min\u001b[39;00m {\u001b[38;5;241m0\u001b[39m, \u001b[38;5;241m1\u001b[39m, \u001b[38;5;241m2\u001b[39m}:\n\u001b[0;32m    304\u001b[0m     \u001b[38;5;28;01mraise\u001b[39;00m \u001b[38;5;167;01mValueError\u001b[39;00m(\n\u001b[0;32m    305\u001b[0m         \u001b[38;5;124mf\u001b[39m\u001b[38;5;124m\"\u001b[39m\u001b[38;5;124mIPython won\u001b[39m\u001b[38;5;124m'\u001b[39m\u001b[38;5;124mt let you open fd=\u001b[39m\u001b[38;5;132;01m{\u001b[39;00mfile\u001b[38;5;132;01m}\u001b[39;00m\u001b[38;5;124m by default \u001b[39m\u001b[38;5;124m\"\u001b[39m\n\u001b[0;32m    306\u001b[0m         \u001b[38;5;124m\"\u001b[39m\u001b[38;5;124mas it is likely to crash IPython. If you know what you are doing, \u001b[39m\u001b[38;5;124m\"\u001b[39m\n\u001b[0;32m    307\u001b[0m         \u001b[38;5;124m\"\u001b[39m\u001b[38;5;124myou can use builtins\u001b[39m\u001b[38;5;124m'\u001b[39m\u001b[38;5;124m open.\u001b[39m\u001b[38;5;124m\"\u001b[39m\n\u001b[0;32m    308\u001b[0m     )\n\u001b[1;32m--> 310\u001b[0m \u001b[38;5;28;01mreturn\u001b[39;00m io_open(file, \u001b[38;5;241m*\u001b[39margs, \u001b[38;5;241m*\u001b[39m\u001b[38;5;241m*\u001b[39mkwargs)\n",
      "\u001b[1;31mFileNotFoundError\u001b[0m: [Errno 2] No such file or directory: 'sample7.txt'"
     ]
    }
   ],
   "source": [
    "with open('sample7.txt','r') as f:\n",
    "    print(f.read())"
   ]
  },
  {
   "cell_type": "code",
   "execution_count": 15,
   "id": "f683987f-e270-49d9-a5ab-639b37d358da",
   "metadata": {},
   "outputs": [
    {
     "name": "stdout",
     "output_type": "stream",
     "text": [
      "sorry file not found\n"
     ]
    }
   ],
   "source": [
    "try:\n",
    "    with open('sample7.txt','r') as f:\n",
    "        print(f.read())\n",
    "except:\n",
    "    print('sorry file not found')"
   ]
  },
  {
   "cell_type": "code",
   "execution_count": 16,
   "id": "6f395c15-0ae2-4ebe-8c30-ae0520eac8b5",
   "metadata": {},
   "outputs": [
    {
     "name": "stdout",
     "output_type": "stream",
     "text": [
      "some error occured\n"
     ]
    }
   ],
   "source": [
    "try:\n",
    "    f  = open('sample7.txt','r')\n",
    "    print(f.read())\n",
    "    print(m)\n",
    "except:\n",
    "    print('some error occured')"
   ]
  },
  {
   "cell_type": "code",
   "execution_count": 17,
   "id": "a1b5eaa7-3eb5-447b-b8fd-8191eb314003",
   "metadata": {},
   "outputs": [
    {
     "name": "stdout",
     "output_type": "stream",
     "text": [
      "Hello world\n",
      "How are you?\n",
      "I am fine\n",
      "5\n",
      "2.5\n",
      "list index out of range\n"
     ]
    }
   ],
   "source": [
    "try:\n",
    "    m = 5\n",
    "    f = open('sample1.txt','r')\n",
    "    print(f.read())\n",
    "    print(m)\n",
    "    print(5/2)\n",
    "    L = [1,2,3]\n",
    "    L[100]\n",
    "except FileNotFoundError:\n",
    "    print('file not found')\n",
    "except NameError:\n",
    "    print('variable not defined')\n",
    "except ZeroDivisionError:\n",
    "    print(\"can't divide by zero\")\n",
    "except Exception as e:\n",
    "    print(e)"
   ]
  },
  {
   "cell_type": "code",
   "execution_count": 18,
   "id": "8660d8ad-2ba0-46cd-948a-9f77e233dc27",
   "metadata": {},
   "outputs": [
    {
     "name": "stdout",
     "output_type": "stream",
     "text": [
      "file nahi mili\n"
     ]
    }
   ],
   "source": [
    "# Else\n",
    "\n",
    "try:\n",
    "    f = open('sample7.txt','r')\n",
    "except FileNotFoundError:\n",
    "    print('file nahi mili')\n",
    "except Exception:\n",
    "    print(\"Kuchh to gadbad hai Daya\")\n",
    "else:\n",
    "    print(f.read())"
   ]
  },
  {
   "cell_type": "code",
   "execution_count": 19,
   "id": "327ca2c5-1514-40ab-a451-5555ec20ae7d",
   "metadata": {},
   "outputs": [
    {
     "name": "stdout",
     "output_type": "stream",
     "text": [
      "file nahi mili\n",
      "Ye to print hoga hi\n"
     ]
    }
   ],
   "source": [
    "# Finally\n",
    "\n",
    "# Else\n",
    "\n",
    "try:\n",
    "    f = open('sample7.txt','r')\n",
    "except FileNotFoundError:\n",
    "    print('file nahi mili')\n",
    "except Exception:\n",
    "    print(\"Kuchh to gadbad hai Daya\")\n",
    "else:\n",
    "    print(f.read())\n",
    "finally:\n",
    "    print('Ye to print hoga hi')"
   ]
  },
  {
   "cell_type": "code",
   "execution_count": 20,
   "id": "31212c36-dc45-475f-858c-4279711b1149",
   "metadata": {},
   "outputs": [
    {
     "ename": "NameError",
     "evalue": "Aise hi trial kar raha tha",
     "output_type": "error",
     "traceback": [
      "\u001b[1;31m---------------------------------------------------------------------------\u001b[0m",
      "\u001b[1;31mNameError\u001b[0m                                 Traceback (most recent call last)",
      "Cell \u001b[1;32mIn[20], line 3\u001b[0m\n\u001b[0;32m      1\u001b[0m \u001b[38;5;66;03m# Raise Exception\u001b[39;00m\n\u001b[1;32m----> 3\u001b[0m \u001b[38;5;28;01mraise\u001b[39;00m \u001b[38;5;167;01mNameError\u001b[39;00m(\u001b[38;5;124m\"\u001b[39m\u001b[38;5;124mAise hi trial kar raha tha\u001b[39m\u001b[38;5;124m\"\u001b[39m)\n",
      "\u001b[1;31mNameError\u001b[0m: Aise hi trial kar raha tha"
     ]
    }
   ],
   "source": [
    "# Raise Exception\n",
    "\n",
    "raise NameError(\"Aise hi trial kar raha tha\")"
   ]
  },
  {
   "cell_type": "code",
   "execution_count": 21,
   "id": "b68d99b0-13eb-4101-b5d8-99e22d9f57bf",
   "metadata": {},
   "outputs": [
    {
     "ename": "FileNotFoundError",
     "evalue": "Aise hi trial kar raha tha",
     "output_type": "error",
     "traceback": [
      "\u001b[1;31m---------------------------------------------------------------------------\u001b[0m",
      "\u001b[1;31mFileNotFoundError\u001b[0m                         Traceback (most recent call last)",
      "Cell \u001b[1;32mIn[21], line 3\u001b[0m\n\u001b[0;32m      1\u001b[0m \u001b[38;5;66;03m# Raise Exception\u001b[39;00m\n\u001b[1;32m----> 3\u001b[0m \u001b[38;5;28;01mraise\u001b[39;00m \u001b[38;5;167;01mFileNotFoundError\u001b[39;00m(\u001b[38;5;124m\"\u001b[39m\u001b[38;5;124mAise hi trial kar raha tha\u001b[39m\u001b[38;5;124m\"\u001b[39m)\n",
      "\u001b[1;31mFileNotFoundError\u001b[0m: Aise hi trial kar raha tha"
     ]
    }
   ],
   "source": [
    "# Raise Exception\n",
    "\n",
    "raise FileNotFoundError(\"Aise hi trial kar raha tha\")"
   ]
  },
  {
   "cell_type": "code",
   "execution_count": 22,
   "id": "fca2d628-3d1b-442f-afcc-a5b89805b923",
   "metadata": {},
   "outputs": [
    {
     "name": "stdout",
     "output_type": "stream",
     "text": [
      "5000\n"
     ]
    }
   ],
   "source": [
    "class Bank:\n",
    "    def __init__(self,balance):\n",
    "        self.balance = balance\n",
    "        \n",
    "    def withdraw(self,amount):\n",
    "        if amount < 0:\n",
    "            raise Exception('amount can not be negative')\n",
    "        if self.balance < amount:\n",
    "            raise Exception(\"Itne paise nahi hain tere paas\")\n",
    "        self.balance = self.balance - amount\n",
    "        \n",
    "        \n",
    "obj = Bank(10000)\n",
    "try:\n",
    "    obj.withdraw(5000)\n",
    "except Exception as e:\n",
    "    print(e)\n",
    "else:\n",
    "    print(obj.balance)"
   ]
  },
  {
   "cell_type": "markdown",
   "id": "5dd0aa18-ade2-41bf-9001-59a003179066",
   "metadata": {},
   "source": [
    "- EXCEPTION HEIRARCHY IN PYTHON"
   ]
  },
  {
   "cell_type": "code",
   "execution_count": 23,
   "id": "4fbb47f1-bf63-4983-bbe4-602db75783ee",
   "metadata": {},
   "outputs": [
    {
     "name": "stdout",
     "output_type": "stream",
     "text": [
      "Itne paise nahi hain tere paas\n"
     ]
    }
   ],
   "source": [
    "class MyException (Exception):\n",
    "    def __init__(self,message):\n",
    "        print(message)\n",
    "    \n",
    "    \n",
    "class Bank:\n",
    "    def __init__(self,balance):\n",
    "        self.balance = balance\n",
    "        \n",
    "    def withdraw(self,amount):\n",
    "        if amount < 0:\n",
    "            raise MyException('amount can not be negative')\n",
    "        if self.balance < amount:\n",
    "            raise MyException(\"Itne paise nahi hain tere paas\")\n",
    "        self.balance = self.balance - amount\n",
    "        \n",
    "        \n",
    "obj = Bank(10000)\n",
    "try:\n",
    "    obj.withdraw(15000)\n",
    "except MyException as e:\n",
    "    pass\n",
    "else:\n",
    "    print(obj.balance)"
   ]
  },
  {
   "cell_type": "code",
   "execution_count": 24,
   "id": "679bb5cb-e460-4d0f-86d6-960cd6a2dd72",
   "metadata": {},
   "outputs": [
    {
     "name": "stdout",
     "output_type": "stream",
     "text": [
      "Bhai teri to lag gayi\n",
      "logout\n",
      "database connection closed\n"
     ]
    }
   ],
   "source": [
    "class SecurityError(Exception):\n",
    "    \n",
    "    \n",
    "    def __init__(self,message):\n",
    "        print(message)\n",
    "        \n",
    "    def logout(self):\n",
    "        print('logout')\n",
    "        \n",
    "class Google:\n",
    "    def __init__(self,name,email,password,device):\n",
    "        self.name = name\n",
    "        self.email = email\n",
    "        self.password = password\n",
    "        self.device = device\n",
    "        \n",
    "    def login(self,email,password,device):\n",
    "        if device != self.device:\n",
    "            raise SecurityError ('Bhai teri to lag gayi')\n",
    "            \n",
    "        if email == self.email and password == self.password:\n",
    "            print('Welcome')\n",
    "        else:\n",
    "            print('login error')\n",
    "            \n",
    "            \n",
    "obj = Google('Gourab','gauravkumarsingh68@gmail.com','1234','windows')\n",
    "\n",
    "try:\n",
    "    obj.login('gauravkumarsingh68@gmail.com','1234','android')\n",
    "except SecurityError as e :\n",
    "    e.logout()\n",
    "else:\n",
    "    print(obj.name)\n",
    "finally:\n",
    "    print('database connection closed')"
   ]
  },
  {
   "cell_type": "code",
   "execution_count": null,
   "id": "9ff9ace1-37c9-4f6c-8ba4-9e5f37239e5f",
   "metadata": {},
   "outputs": [],
   "source": []
  }
 ],
 "metadata": {
  "kernelspec": {
   "display_name": "Python 3 (ipykernel)",
   "language": "python",
   "name": "python3"
  },
  "language_info": {
   "codemirror_mode": {
    "name": "ipython",
    "version": 3
   },
   "file_extension": ".py",
   "mimetype": "text/x-python",
   "name": "python",
   "nbconvert_exporter": "python",
   "pygments_lexer": "ipython3",
   "version": "3.11.7"
  }
 },
 "nbformat": 4,
 "nbformat_minor": 5
}
