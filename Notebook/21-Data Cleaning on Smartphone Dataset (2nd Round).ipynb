{
 "cells": [
  {
   "cell_type": "code",
   "execution_count": 1,
   "id": "f04c2c10-2961-47da-81b3-e1df9d0d3ee5",
   "metadata": {},
   "outputs": [],
   "source": [
    "import pandas as pd\n",
    "import numpy as np\n",
    "import seaborn as sns\n",
    "import matplotlib.pyplot as plt\n",
    "\n",
    "import warnings\n",
    "warnings.filterwarnings('ignore')"
   ]
  },
  {
   "cell_type": "code",
   "execution_count": 2,
   "id": "14d388dd-2251-4c38-877e-8dfce3cc6e29",
   "metadata": {},
   "outputs": [],
   "source": [
    "df = pd.read_csv('smartphone_cleaned_v2.csv')"
   ]
  },
  {
   "cell_type": "code",
   "execution_count": 3,
   "id": "3fc532a9-9360-42c0-b292-8a08e164bf50",
   "metadata": {},
   "outputs": [
    {
     "data": {
      "text/plain": [
       "(980, 24)"
      ]
     },
     "execution_count": 3,
     "metadata": {},
     "output_type": "execute_result"
    }
   ],
   "source": [
    "df.shape"
   ]
  },
  {
   "cell_type": "code",
   "execution_count": 4,
   "id": "a795a1c5-dd57-40ed-998f-8e60563c8679",
   "metadata": {},
   "outputs": [
    {
     "data": {
      "text/html": [
       "<div>\n",
       "<style scoped>\n",
       "    .dataframe tbody tr th:only-of-type {\n",
       "        vertical-align: middle;\n",
       "    }\n",
       "\n",
       "    .dataframe tbody tr th {\n",
       "        vertical-align: top;\n",
       "    }\n",
       "\n",
       "    .dataframe thead th {\n",
       "        text-align: right;\n",
       "    }\n",
       "</style>\n",
       "<table border=\"1\" class=\"dataframe\">\n",
       "  <thead>\n",
       "    <tr style=\"text-align: right;\">\n",
       "      <th></th>\n",
       "      <th>brand_name</th>\n",
       "      <th>model</th>\n",
       "      <th>price</th>\n",
       "      <th>rating</th>\n",
       "      <th>has_5g</th>\n",
       "      <th>has_nfc</th>\n",
       "      <th>has_ir_blaster</th>\n",
       "      <th>processor_name</th>\n",
       "      <th>processor_brand</th>\n",
       "      <th>num_cores</th>\n",
       "      <th>...</th>\n",
       "      <th>internal_memory</th>\n",
       "      <th>screen_size</th>\n",
       "      <th>refresh_rate</th>\n",
       "      <th>resolution</th>\n",
       "      <th>num_rear_cameras</th>\n",
       "      <th>num_front_cameras</th>\n",
       "      <th>os</th>\n",
       "      <th>primary_camera_rear</th>\n",
       "      <th>primary_camera_front</th>\n",
       "      <th>extended_memory</th>\n",
       "    </tr>\n",
       "  </thead>\n",
       "  <tbody>\n",
       "    <tr>\n",
       "      <th>0</th>\n",
       "      <td>oneplus</td>\n",
       "      <td>OnePlus 11 5G</td>\n",
       "      <td>54999</td>\n",
       "      <td>89.0</td>\n",
       "      <td>True</td>\n",
       "      <td>True</td>\n",
       "      <td>False</td>\n",
       "      <td>Snapdragon 8 Gen2</td>\n",
       "      <td>snapdragon</td>\n",
       "      <td>Octa Core</td>\n",
       "      <td>...</td>\n",
       "      <td>256.0</td>\n",
       "      <td>6.70</td>\n",
       "      <td>120</td>\n",
       "      <td>1440 x 3216</td>\n",
       "      <td>3</td>\n",
       "      <td>1</td>\n",
       "      <td>android</td>\n",
       "      <td>50.0</td>\n",
       "      <td>16</td>\n",
       "      <td>0</td>\n",
       "    </tr>\n",
       "    <tr>\n",
       "      <th>1</th>\n",
       "      <td>oneplus</td>\n",
       "      <td>OnePlus Nord CE 2 Lite 5G</td>\n",
       "      <td>19989</td>\n",
       "      <td>81.0</td>\n",
       "      <td>True</td>\n",
       "      <td>False</td>\n",
       "      <td>False</td>\n",
       "      <td>Snapdragon 695</td>\n",
       "      <td>snapdragon</td>\n",
       "      <td>Octa Core</td>\n",
       "      <td>...</td>\n",
       "      <td>128.0</td>\n",
       "      <td>6.59</td>\n",
       "      <td>120</td>\n",
       "      <td>1080 x 2412</td>\n",
       "      <td>3</td>\n",
       "      <td>1</td>\n",
       "      <td>android</td>\n",
       "      <td>64.0</td>\n",
       "      <td>16</td>\n",
       "      <td>1 TB</td>\n",
       "    </tr>\n",
       "    <tr>\n",
       "      <th>2</th>\n",
       "      <td>samsung</td>\n",
       "      <td>Samsung Galaxy A14 5G</td>\n",
       "      <td>16499</td>\n",
       "      <td>75.0</td>\n",
       "      <td>True</td>\n",
       "      <td>False</td>\n",
       "      <td>False</td>\n",
       "      <td>Exynos 1330</td>\n",
       "      <td>exynos</td>\n",
       "      <td>Octa Core</td>\n",
       "      <td>...</td>\n",
       "      <td>64.0</td>\n",
       "      <td>6.60</td>\n",
       "      <td>90</td>\n",
       "      <td>1080 x 2408</td>\n",
       "      <td>3</td>\n",
       "      <td>1</td>\n",
       "      <td>android</td>\n",
       "      <td>50.0</td>\n",
       "      <td>13</td>\n",
       "      <td>1 TB</td>\n",
       "    </tr>\n",
       "    <tr>\n",
       "      <th>3</th>\n",
       "      <td>motorola</td>\n",
       "      <td>Motorola Moto G62 5G</td>\n",
       "      <td>14999</td>\n",
       "      <td>81.0</td>\n",
       "      <td>True</td>\n",
       "      <td>False</td>\n",
       "      <td>False</td>\n",
       "      <td>Snapdragon  695</td>\n",
       "      <td>snapdragon</td>\n",
       "      <td>Octa Core</td>\n",
       "      <td>...</td>\n",
       "      <td>128.0</td>\n",
       "      <td>6.55</td>\n",
       "      <td>120</td>\n",
       "      <td>1080 x 2400</td>\n",
       "      <td>3</td>\n",
       "      <td>1</td>\n",
       "      <td>android</td>\n",
       "      <td>50.0</td>\n",
       "      <td>16</td>\n",
       "      <td>1 TB</td>\n",
       "    </tr>\n",
       "    <tr>\n",
       "      <th>4</th>\n",
       "      <td>realme</td>\n",
       "      <td>Realme 10 Pro Plus</td>\n",
       "      <td>24999</td>\n",
       "      <td>82.0</td>\n",
       "      <td>True</td>\n",
       "      <td>False</td>\n",
       "      <td>False</td>\n",
       "      <td>Dimensity 1080</td>\n",
       "      <td>dimensity</td>\n",
       "      <td>Octa Core</td>\n",
       "      <td>...</td>\n",
       "      <td>128.0</td>\n",
       "      <td>6.70</td>\n",
       "      <td>120</td>\n",
       "      <td>1080 x 2412</td>\n",
       "      <td>3</td>\n",
       "      <td>1</td>\n",
       "      <td>android</td>\n",
       "      <td>108.0</td>\n",
       "      <td>16</td>\n",
       "      <td>0</td>\n",
       "    </tr>\n",
       "  </tbody>\n",
       "</table>\n",
       "<p>5 rows × 24 columns</p>\n",
       "</div>"
      ],
      "text/plain": [
       "  brand_name                      model  price  rating  has_5g  has_nfc  \\\n",
       "0    oneplus              OnePlus 11 5G  54999    89.0    True     True   \n",
       "1    oneplus  OnePlus Nord CE 2 Lite 5G  19989    81.0    True    False   \n",
       "2    samsung      Samsung Galaxy A14 5G  16499    75.0    True    False   \n",
       "3   motorola       Motorola Moto G62 5G  14999    81.0    True    False   \n",
       "4     realme         Realme 10 Pro Plus  24999    82.0    True    False   \n",
       "\n",
       "   has_ir_blaster     processor_name processor_brand  num_cores  ...  \\\n",
       "0           False  Snapdragon 8 Gen2      snapdragon  Octa Core  ...   \n",
       "1           False     Snapdragon 695      snapdragon  Octa Core  ...   \n",
       "2           False        Exynos 1330          exynos  Octa Core  ...   \n",
       "3           False    Snapdragon  695      snapdragon  Octa Core  ...   \n",
       "4           False     Dimensity 1080       dimensity  Octa Core  ...   \n",
       "\n",
       "   internal_memory  screen_size  refresh_rate    resolution  num_rear_cameras  \\\n",
       "0            256.0         6.70           120  1440 x 3216                  3   \n",
       "1            128.0         6.59           120  1080 x 2412                  3   \n",
       "2             64.0         6.60            90  1080 x 2408                  3   \n",
       "3            128.0         6.55           120  1080 x 2400                  3   \n",
       "4            128.0         6.70           120  1080 x 2412                  3   \n",
       "\n",
       "   num_front_cameras       os primary_camera_rear  primary_camera_front  \\\n",
       "0                  1  android                50.0                    16   \n",
       "1                  1  android                64.0                    16   \n",
       "2                  1  android                50.0                    13   \n",
       "3                  1  android                50.0                    16   \n",
       "4                  1  android               108.0                    16   \n",
       "\n",
       "  extended_memory  \n",
       "0               0  \n",
       "1            1 TB  \n",
       "2            1 TB  \n",
       "3            1 TB  \n",
       "4               0  \n",
       "\n",
       "[5 rows x 24 columns]"
      ]
     },
     "execution_count": 4,
     "metadata": {},
     "output_type": "execute_result"
    }
   ],
   "source": [
    "df.head()"
   ]
  },
  {
   "cell_type": "code",
   "execution_count": 5,
   "id": "741c296e-a277-41e1-ad17-29d634bba9ec",
   "metadata": {},
   "outputs": [
    {
     "name": "stdout",
     "output_type": "stream",
     "text": [
      "<class 'pandas.core.frame.DataFrame'>\n",
      "RangeIndex: 980 entries, 0 to 979\n",
      "Data columns (total 24 columns):\n",
      " #   Column                Non-Null Count  Dtype  \n",
      "---  ------                --------------  -----  \n",
      " 0   brand_name            980 non-null    object \n",
      " 1   model                 980 non-null    object \n",
      " 2   price                 980 non-null    int64  \n",
      " 3   rating                879 non-null    float64\n",
      " 4   has_5g                980 non-null    bool   \n",
      " 5   has_nfc               980 non-null    bool   \n",
      " 6   has_ir_blaster        980 non-null    bool   \n",
      " 7   processor_name        960 non-null    object \n",
      " 8   processor_brand       960 non-null    object \n",
      " 9   num_cores             974 non-null    object \n",
      " 10  processor_speed       938 non-null    float64\n",
      " 11  battery_capacity      969 non-null    float64\n",
      " 12  fast_charging         980 non-null    int64  \n",
      " 13  ram_capacity          980 non-null    float64\n",
      " 14  internal_memory       978 non-null    float64\n",
      " 15  screen_size           980 non-null    float64\n",
      " 16  refresh_rate          980 non-null    int64  \n",
      " 17  resolution            980 non-null    object \n",
      " 18  num_rear_cameras      980 non-null    int64  \n",
      " 19  num_front_cameras     980 non-null    object \n",
      " 20  os                    980 non-null    object \n",
      " 21  primary_camera_rear   980 non-null    float64\n",
      " 22  primary_camera_front  976 non-null    object \n",
      " 23  extended_memory       980 non-null    object \n",
      "dtypes: bool(3), float64(7), int64(4), object(10)\n",
      "memory usage: 163.8+ KB\n"
     ]
    }
   ],
   "source": [
    "df.info()"
   ]
  },
  {
   "cell_type": "code",
   "execution_count": 6,
   "id": "75df66de-ed94-4bf5-bf6d-d6eef90c00bb",
   "metadata": {},
   "outputs": [
    {
     "data": {
      "text/plain": [
       "brand_name                0\n",
       "model                     0\n",
       "price                     0\n",
       "rating                  101\n",
       "has_5g                    0\n",
       "has_nfc                   0\n",
       "has_ir_blaster            0\n",
       "processor_name           20\n",
       "processor_brand          20\n",
       "num_cores                 6\n",
       "processor_speed          42\n",
       "battery_capacity         11\n",
       "fast_charging             0\n",
       "ram_capacity              0\n",
       "internal_memory           2\n",
       "screen_size               0\n",
       "refresh_rate              0\n",
       "resolution                0\n",
       "num_rear_cameras          0\n",
       "num_front_cameras         0\n",
       "os                        0\n",
       "primary_camera_rear       0\n",
       "primary_camera_front      4\n",
       "extended_memory           0\n",
       "dtype: int64"
      ]
     },
     "execution_count": 6,
     "metadata": {},
     "output_type": "execute_result"
    }
   ],
   "source": [
    "df.isnull().sum()"
   ]
  },
  {
   "cell_type": "code",
   "execution_count": 7,
   "id": "886679fe-823a-4543-9bd5-43d9946551a3",
   "metadata": {},
   "outputs": [
    {
     "data": {
      "text/plain": [
       "brand_name\n",
       "xiaomi       134\n",
       "samsung      132\n",
       "vivo         111\n",
       "realme        97\n",
       "oppo          88\n",
       "motorola      52\n",
       "apple         46\n",
       "oneplus       42\n",
       "poco          41\n",
       "tecno         33\n",
       "iqoo          32\n",
       "infinix       29\n",
       "huawei        16\n",
       "google        14\n",
       "nokia         13\n",
       "honor         13\n",
       "itel          10\n",
       "sony           9\n",
       "asus           7\n",
       "nubia          6\n",
       "nothing        5\n",
       "lava           4\n",
       "jio            4\n",
       "gionee         3\n",
       "micromax       3\n",
       "oukitel        3\n",
       "lg             3\n",
       "redmi          3\n",
       "letv           3\n",
       "ikall          3\n",
       "royole         2\n",
       "doogee         2\n",
       "zte            2\n",
       "lenovo         2\n",
       "lyf            2\n",
       "sharp          1\n",
       "tcl            1\n",
       "cat            1\n",
       "leitz          1\n",
       "duoqin         1\n",
       "leeco          1\n",
       "blu            1\n",
       "vertu          1\n",
       "tesla          1\n",
       "cola           1\n",
       "blackview      1\n",
       "Name: count, dtype: int64"
      ]
     },
     "execution_count": 7,
     "metadata": {},
     "output_type": "execute_result"
    }
   ],
   "source": [
    "# brand name\n",
    "df['brand_name'].value_counts()"
   ]
  },
  {
   "cell_type": "code",
   "execution_count": 8,
   "id": "ec6298f7-5060-4864-902e-dfc9acbff662",
   "metadata": {},
   "outputs": [
    {
     "data": {
      "text/plain": [
       "<Axes: xlabel='brand_name'>"
      ]
     },
     "execution_count": 8,
     "metadata": {},
     "output_type": "execute_result"
    },
    {
     "data": {
      "image/png": "[encoded data removed]",
      "text/plain": [
       "<Figure size 640x480 with 1 Axes>"
      ]
     },
     "metadata": {},
     "output_type": "display_data"
    }
   ],
   "source": [
    "# top 10 phone brands\n",
    "df['brand_name'].value_counts().head(10).plot(kind='bar')"
   ]
  },
  {
   "cell_type": "code",
   "execution_count": 9,
   "id": "0428e416-d8dd-4e25-aaba-8f1fa399c610",
   "metadata": {},
   "outputs": [
    {
     "data": {
      "text/plain": [
       "count       980.000000\n",
       "mean      32520.504082\n",
       "std       39531.812669\n",
       "min        3499.000000\n",
       "25%       12999.000000\n",
       "50%       19994.500000\n",
       "75%       35491.500000\n",
       "max      650000.000000\n",
       "Name: price, dtype: float64"
      ]
     },
     "execution_count": 9,
     "metadata": {},
     "output_type": "execute_result"
    }
   ],
   "source": [
    "# price col\n",
    "df['price'].describe()"
   ]
  },
  {
   "cell_type": "code",
   "execution_count": 10,
   "id": "480270cb-892c-4545-8b5d-3703d75f6b6b",
   "metadata": {},
   "outputs": [
    {
     "data": {
      "text/plain": [
       "<Axes: xlabel='price', ylabel='Count'>"
      ]
     },
     "execution_count": 10,
     "metadata": {},
     "output_type": "execute_result"
    },
    {
     "data": {
      "image/png": "[encoded data removed]",
      "text/plain": [
       "<Figure size 640x480 with 1 Axes>"
      ]
     },
     "metadata": {},
     "output_type": "display_data"
    }
   ],
   "source": [
    "sns.histplot(df['price'],kde=True)"
   ]
  },
  {
   "cell_type": "code",
   "execution_count": 11,
   "id": "02b2f906-6f67-4c51-8d1f-07a712ac20fc",
   "metadata": {},
   "outputs": [
    {
     "data": {
      "text/plain": [
       "6.591790999665567"
      ]
     },
     "execution_count": 11,
     "metadata": {},
     "output_type": "execute_result"
    }
   ],
   "source": [
    "df['price'].skew()"
   ]
  },
  {
   "cell_type": "code",
   "execution_count": 12,
   "id": "5965a14b-fdb5-4484-bf6e-795d0c469c23",
   "metadata": {},
   "outputs": [
    {
     "data": {
      "text/plain": [
       "<Axes: >"
      ]
     },
     "execution_count": 12,
     "metadata": {},
     "output_type": "execute_result"
    },
    {
     "data": {
      "image/png": "[encoded data removed]",
      "text/plain": [
       "<Figure size 640x480 with 1 Axes>"
      ]
     },
     "metadata": {},
     "output_type": "display_data"
    }
   ],
   "source": [
    "sns.boxplot(df[df['price']<200000]['price'])"
   ]
  },
  {
   "cell_type": "code",
   "execution_count": 13,
   "id": "87444f14-e547-48d9-8c83-3dad75d4cc16",
   "metadata": {},
   "outputs": [
    {
     "data": {
      "text/html": [
       "<div>\n",
       "<style scoped>\n",
       "    .dataframe tbody tr th:only-of-type {\n",
       "        vertical-align: middle;\n",
       "    }\n",
       "\n",
       "    .dataframe tbody tr th {\n",
       "        vertical-align: top;\n",
       "    }\n",
       "\n",
       "    .dataframe thead th {\n",
       "        text-align: right;\n",
       "    }\n",
       "</style>\n",
       "<table border=\"1\" class=\"dataframe\">\n",
       "  <thead>\n",
       "    <tr style=\"text-align: right;\">\n",
       "      <th></th>\n",
       "      <th>brand_name</th>\n",
       "      <th>model</th>\n",
       "      <th>price</th>\n",
       "      <th>rating</th>\n",
       "      <th>has_5g</th>\n",
       "      <th>has_nfc</th>\n",
       "      <th>has_ir_blaster</th>\n",
       "      <th>processor_name</th>\n",
       "      <th>processor_brand</th>\n",
       "      <th>num_cores</th>\n",
       "      <th>...</th>\n",
       "      <th>internal_memory</th>\n",
       "      <th>screen_size</th>\n",
       "      <th>refresh_rate</th>\n",
       "      <th>resolution</th>\n",
       "      <th>num_rear_cameras</th>\n",
       "      <th>num_front_cameras</th>\n",
       "      <th>os</th>\n",
       "      <th>primary_camera_rear</th>\n",
       "      <th>primary_camera_front</th>\n",
       "      <th>extended_memory</th>\n",
       "    </tr>\n",
       "  </thead>\n",
       "  <tbody>\n",
       "    <tr>\n",
       "      <th>427</th>\n",
       "      <td>vertu</td>\n",
       "      <td>Vertu Signature Touch</td>\n",
       "      <td>650000</td>\n",
       "      <td>62.0</td>\n",
       "      <td>False</td>\n",
       "      <td>True</td>\n",
       "      <td>False</td>\n",
       "      <td>Snapdragon 801</td>\n",
       "      <td>snapdragon</td>\n",
       "      <td>Octa Core</td>\n",
       "      <td>...</td>\n",
       "      <td>64.0</td>\n",
       "      <td>4.70</td>\n",
       "      <td>60</td>\n",
       "      <td>1080 x 1920</td>\n",
       "      <td>1</td>\n",
       "      <td>1</td>\n",
       "      <td>android</td>\n",
       "      <td>13.0</td>\n",
       "      <td>2.1</td>\n",
       "      <td>0</td>\n",
       "    </tr>\n",
       "    <tr>\n",
       "      <th>478</th>\n",
       "      <td>huawei</td>\n",
       "      <td>Huawei Mate 50 RS Porsche Design</td>\n",
       "      <td>239999</td>\n",
       "      <td>81.0</td>\n",
       "      <td>False</td>\n",
       "      <td>True</td>\n",
       "      <td>True</td>\n",
       "      <td>Snapdragon 8+ Gen1</td>\n",
       "      <td>snapdragon</td>\n",
       "      <td>Octa Core</td>\n",
       "      <td>...</td>\n",
       "      <td>512.0</td>\n",
       "      <td>6.74</td>\n",
       "      <td>120</td>\n",
       "      <td>1212 x 2616</td>\n",
       "      <td>3</td>\n",
       "      <td>1</td>\n",
       "      <td>Hongmeng OS v3.0</td>\n",
       "      <td>50.0</td>\n",
       "      <td>13</td>\n",
       "      <td>256 GB</td>\n",
       "    </tr>\n",
       "    <tr>\n",
       "      <th>887</th>\n",
       "      <td>xiaomi</td>\n",
       "      <td>Xiaomi Redmi K20 Pro Signature Edition</td>\n",
       "      <td>480000</td>\n",
       "      <td>88.0</td>\n",
       "      <td>False</td>\n",
       "      <td>True</td>\n",
       "      <td>False</td>\n",
       "      <td>Snapdragon  855</td>\n",
       "      <td>snapdragon</td>\n",
       "      <td>Octa Core</td>\n",
       "      <td>...</td>\n",
       "      <td>256.0</td>\n",
       "      <td>6.39</td>\n",
       "      <td>60</td>\n",
       "      <td>1080 x 2340</td>\n",
       "      <td>3</td>\n",
       "      <td>1</td>\n",
       "      <td>android</td>\n",
       "      <td>48.0</td>\n",
       "      <td>20</td>\n",
       "      <td>0</td>\n",
       "    </tr>\n",
       "    <tr>\n",
       "      <th>951</th>\n",
       "      <td>huawei</td>\n",
       "      <td>Huawei Mate 30 RS Porsche Design</td>\n",
       "      <td>214990</td>\n",
       "      <td>NaN</td>\n",
       "      <td>True</td>\n",
       "      <td>True</td>\n",
       "      <td>True</td>\n",
       "      <td>Kirin  990</td>\n",
       "      <td>kirin</td>\n",
       "      <td>Octa Core</td>\n",
       "      <td>...</td>\n",
       "      <td>512.0</td>\n",
       "      <td>6.53</td>\n",
       "      <td>60</td>\n",
       "      <td>1176 x 2400</td>\n",
       "      <td>4</td>\n",
       "      <td>2</td>\n",
       "      <td>android</td>\n",
       "      <td>40.0</td>\n",
       "      <td>32</td>\n",
       "      <td>256 GB</td>\n",
       "    </tr>\n",
       "  </tbody>\n",
       "</table>\n",
       "<p>4 rows × 24 columns</p>\n",
       "</div>"
      ],
      "text/plain": [
       "    brand_name                                   model   price  rating  \\\n",
       "427      vertu                   Vertu Signature Touch  650000    62.0   \n",
       "478     huawei        Huawei Mate 50 RS Porsche Design  239999    81.0   \n",
       "887     xiaomi  Xiaomi Redmi K20 Pro Signature Edition  480000    88.0   \n",
       "951     huawei        Huawei Mate 30 RS Porsche Design  214990     NaN   \n",
       "\n",
       "     has_5g  has_nfc  has_ir_blaster      processor_name processor_brand  \\\n",
       "427   False     True           False      Snapdragon 801      snapdragon   \n",
       "478   False     True            True  Snapdragon 8+ Gen1      snapdragon   \n",
       "887   False     True           False     Snapdragon  855      snapdragon   \n",
       "951    True     True            True          Kirin  990           kirin   \n",
       "\n",
       "     num_cores  ...  internal_memory  screen_size  refresh_rate    resolution  \\\n",
       "427  Octa Core  ...             64.0         4.70            60  1080 x 1920    \n",
       "478  Octa Core  ...            512.0         6.74           120  1212 x 2616    \n",
       "887  Octa Core  ...            256.0         6.39            60  1080 x 2340    \n",
       "951  Octa Core  ...            512.0         6.53            60  1176 x 2400    \n",
       "\n",
       "     num_rear_cameras  num_front_cameras                os  \\\n",
       "427                 1                  1           android   \n",
       "478                 3                  1  Hongmeng OS v3.0   \n",
       "887                 3                  1           android   \n",
       "951                 4                  2           android   \n",
       "\n",
       "    primary_camera_rear  primary_camera_front extended_memory  \n",
       "427                13.0                   2.1               0  \n",
       "478                50.0                    13          256 GB  \n",
       "887                48.0                    20               0  \n",
       "951                40.0                    32          256 GB  \n",
       "\n",
       "[4 rows x 24 columns]"
      ]
     },
     "execution_count": 13,
     "metadata": {},
     "output_type": "execute_result"
    }
   ],
   "source": [
    "df[df['price']>200000]"
   ]
  },
  {
   "cell_type": "code",
   "execution_count": 14,
   "id": "70cef5a4-26fd-467f-90e3-a6f9427ae67a",
   "metadata": {},
   "outputs": [
    {
     "data": {
      "text/plain": [
       "0"
      ]
     },
     "execution_count": 14,
     "metadata": {},
     "output_type": "execute_result"
    }
   ],
   "source": [
    "df['price'].isnull().sum()"
   ]
  },
  {
   "cell_type": "code",
   "execution_count": 15,
   "id": "31573ff1-510b-4f5c-8656-32f991ad97f4",
   "metadata": {},
   "outputs": [
    {
     "data": {
      "text/plain": [
       "count    879.000000\n",
       "mean      78.258248\n",
       "std        7.402854\n",
       "min       60.000000\n",
       "25%       74.000000\n",
       "50%       80.000000\n",
       "75%       84.000000\n",
       "max       89.000000\n",
       "Name: rating, dtype: float64"
      ]
     },
     "execution_count": 15,
     "metadata": {},
     "output_type": "execute_result"
    }
   ],
   "source": [
    "# rating col\n",
    "\n",
    "df['rating'].describe()"
   ]
  },
  {
   "cell_type": "code",
   "execution_count": 16,
   "id": "4d8e5c4a-3557-4cdd-9751-66e0213d8ef3",
   "metadata": {},
   "outputs": [
    {
     "data": {
      "text/plain": [
       "<Axes: xlabel='rating', ylabel='Count'>"
      ]
     },
     "execution_count": 16,
     "metadata": {},
     "output_type": "execute_result"
    },
    {
     "data": {
      "image/png": "[encoded data removed]",
      "text/plain": [
       "<Figure size 640x480 with 1 Axes>"
      ]
     },
     "metadata": {},
     "output_type": "display_data"
    }
   ],
   "source": [
    "sns.histplot(df['rating'],kde=True)"
   ]
  },
  {
   "cell_type": "code",
   "execution_count": 17,
   "id": "ad08e786-e65b-4f55-9c3f-4e64b6bf705c",
   "metadata": {},
   "outputs": [
    {
     "data": {
      "text/plain": [
       "-0.6989993034105535"
      ]
     },
     "execution_count": 17,
     "metadata": {},
     "output_type": "execute_result"
    }
   ],
   "source": [
    "df['rating'].skew()"
   ]
  },
  {
   "cell_type": "code",
   "execution_count": 18,
   "id": "d7b747f5-f7c7-4380-902e-5473156e3974",
   "metadata": {},
   "outputs": [
    {
     "data": {
      "text/plain": [
       "<Axes: >"
      ]
     },
     "execution_count": 18,
     "metadata": {},
     "output_type": "execute_result"
    },
    {
     "data": {
      "image/png": "[encoded data removed]",
      "text/plain": [
       "<Figure size 640x480 with 1 Axes>"
      ]
     },
     "metadata": {},
     "output_type": "display_data"
    }
   ],
   "source": [
    "sns.boxplot(df['rating'])"
   ]
  },
  {
   "cell_type": "code",
   "execution_count": 19,
   "id": "35356354-fc28-44da-9dbe-63a4e2fcbef7",
   "metadata": {},
   "outputs": [
    {
     "data": {
      "text/plain": [
       "101"
      ]
     },
     "execution_count": 19,
     "metadata": {},
     "output_type": "execute_result"
    }
   ],
   "source": [
    "df['rating'].isnull().sum()"
   ]
  },
  {
   "cell_type": "code",
   "execution_count": 20,
   "id": "a6138b5c-f937-47e1-8e5a-a721f6e07db4",
   "metadata": {},
   "outputs": [
    {
     "data": {
      "text/plain": [
       "<Axes: ylabel='count'>"
      ]
     },
     "execution_count": 20,
     "metadata": {},
     "output_type": "execute_result"
    },
    {
     "data": {
      "image/png": "[encoded data removed]",
      "text/plain": [
       "<Figure size 640x480 with 1 Axes>"
      ]
     },
     "metadata": {},
     "output_type": "display_data"
    }
   ],
   "source": [
    "sns.countplot(df['has_5g'])"
   ]
  },
  {
   "cell_type": "code",
   "execution_count": 21,
   "id": "7f7ed717-02ad-4fae-b7cf-af2e9c16d71b",
   "metadata": {},
   "outputs": [
    {
     "data": {
      "text/plain": [
       "has_5g\n",
       "True     549\n",
       "False    431\n",
       "Name: count, dtype: int64"
      ]
     },
     "execution_count": 21,
     "metadata": {},
     "output_type": "execute_result"
    }
   ],
   "source": [
    "df['has_5g'].value_counts()"
   ]
  },
  {
   "cell_type": "code",
   "execution_count": 22,
   "id": "0dc7ae04-07e7-446e-923d-3e90edb7dbe3",
   "metadata": {},
   "outputs": [
    {
     "data": {
      "text/plain": [
       "<Axes: ylabel='count'>"
      ]
     },
     "execution_count": 22,
     "metadata": {},
     "output_type": "execute_result"
    },
    {
     "data": {
      "image/png": "[encoded data removed]",
      "text/plain": [
       "<Figure size 640x480 with 1 Axes>"
      ]
     },
     "metadata": {},
     "output_type": "display_data"
    }
   ],
   "source": [
    "sns.countplot(df['has_nfc'])"
   ]
  },
  {
   "cell_type": "code",
   "execution_count": 23,
   "id": "dc0beb73-0a98-4d14-8c06-8ea5949ba162",
   "metadata": {},
   "outputs": [
    {
     "data": {
      "text/plain": [
       "has_nfc\n",
       "False    587\n",
       "True     393\n",
       "Name: count, dtype: int64"
      ]
     },
     "execution_count": 23,
     "metadata": {},
     "output_type": "execute_result"
    }
   ],
   "source": [
    "df['has_nfc'].value_counts()"
   ]
  },
  {
   "cell_type": "code",
   "execution_count": 24,
   "id": "4038694b-70db-4a03-98d2-3aefb1f230de",
   "metadata": {},
   "outputs": [
    {
     "data": {
      "text/plain": [
       "<Axes: ylabel='count'>"
      ]
     },
     "execution_count": 24,
     "metadata": {},
     "output_type": "execute_result"
    },
    {
     "data": {
      "image/png": "[encoded data removed]",
      "text/plain": [
       "<Figure size 640x480 with 1 Axes>"
      ]
     },
     "metadata": {},
     "output_type": "display_data"
    }
   ],
   "source": [
    "sns.countplot(df['has_ir_blaster'])"
   ]
  },
  {
   "cell_type": "code",
   "execution_count": 25,
   "id": "fbbca128-a8ac-47a7-b468-3ffb33583693",
   "metadata": {},
   "outputs": [],
   "source": [
    "df['processor_brand'] = df['processor_brand'].str.replace('sanpdragon','snapdragon')\n",
    "df['processor_brand'] = df['processor_brand'].str.replace('apple','bionic')\n",
    "df['processor_brand'] = df['processor_brand'].str.replace('samsung','exynos')"
   ]
  },
  {
   "cell_type": "code",
   "execution_count": 26,
   "id": "a2afc174-b8ca-4115-babb-8e4e2b7c3b18",
   "metadata": {},
   "outputs": [],
   "source": [
    "temp_df = df[df['processor_brand'] == 'qualcomm']"
   ]
  },
  {
   "cell_type": "code",
   "execution_count": 27,
   "id": "7cdc4428-b4a4-4310-9335-8ba7ac1d1de5",
   "metadata": {},
   "outputs": [],
   "source": [
    "df.loc[temp_df.index, 'processor_brand'] = 'snapdragon'"
   ]
  },
  {
   "cell_type": "code",
   "execution_count": 28,
   "id": "d69796c2-f840-4428-9bba-064a76924109",
   "metadata": {},
   "outputs": [],
   "source": [
    "temp_df = df[df['processor_brand'] == 'a13']"
   ]
  },
  {
   "cell_type": "code",
   "execution_count": 29,
   "id": "a3d6dc44-3a53-453f-bb2c-cd7beaedceb1",
   "metadata": {},
   "outputs": [],
   "source": [
    "df.loc[temp_df.index, 'processor_brand'] = 'bionic'"
   ]
  },
  {
   "cell_type": "code",
   "execution_count": 30,
   "id": "ddb50857-b6f8-4e1a-a3a9-b2ab7c528c0b",
   "metadata": {},
   "outputs": [
    {
     "data": {
      "text/plain": [
       "processor_brand\n",
       "snapdragon    413\n",
       "helio         201\n",
       "dimensity     177\n",
       "exynos         50\n",
       "bionic         45\n",
       "unisoc         26\n",
       "tiger          24\n",
       "google          9\n",
       "kirin           7\n",
       "spreadtrum      4\n",
       "sc9863a         2\n",
       "fusion          1\n",
       "mediatek        1\n",
       "Name: count, dtype: int64"
      ]
     },
     "execution_count": 30,
     "metadata": {},
     "output_type": "execute_result"
    }
   ],
   "source": [
    "df['processor_brand'].value_counts()"
   ]
  },
  {
   "cell_type": "code",
   "execution_count": 31,
   "id": "5a2f73ef-d8f7-4ebc-86f6-31edfb6c041b",
   "metadata": {},
   "outputs": [
    {
     "data": {
      "text/html": [
       "<div>\n",
       "<style scoped>\n",
       "    .dataframe tbody tr th:only-of-type {\n",
       "        vertical-align: middle;\n",
       "    }\n",
       "\n",
       "    .dataframe tbody tr th {\n",
       "        vertical-align: top;\n",
       "    }\n",
       "\n",
       "    .dataframe thead th {\n",
       "        text-align: right;\n",
       "    }\n",
       "</style>\n",
       "<table border=\"1\" class=\"dataframe\">\n",
       "  <thead>\n",
       "    <tr style=\"text-align: right;\">\n",
       "      <th></th>\n",
       "      <th>brand_name</th>\n",
       "      <th>model</th>\n",
       "      <th>price</th>\n",
       "      <th>rating</th>\n",
       "      <th>has_5g</th>\n",
       "      <th>has_nfc</th>\n",
       "      <th>has_ir_blaster</th>\n",
       "      <th>processor_name</th>\n",
       "      <th>processor_brand</th>\n",
       "      <th>num_cores</th>\n",
       "      <th>...</th>\n",
       "      <th>internal_memory</th>\n",
       "      <th>screen_size</th>\n",
       "      <th>refresh_rate</th>\n",
       "      <th>resolution</th>\n",
       "      <th>num_rear_cameras</th>\n",
       "      <th>num_front_cameras</th>\n",
       "      <th>os</th>\n",
       "      <th>primary_camera_rear</th>\n",
       "      <th>primary_camera_front</th>\n",
       "      <th>extended_memory</th>\n",
       "    </tr>\n",
       "  </thead>\n",
       "  <tbody>\n",
       "    <tr>\n",
       "      <th>118</th>\n",
       "      <td>tesla</td>\n",
       "      <td>Tesla Pi Phone</td>\n",
       "      <td>69999</td>\n",
       "      <td>83.0</td>\n",
       "      <td>True</td>\n",
       "      <td>True</td>\n",
       "      <td>False</td>\n",
       "      <td>NaN</td>\n",
       "      <td>NaN</td>\n",
       "      <td>Octa Core</td>\n",
       "      <td>...</td>\n",
       "      <td>512.0</td>\n",
       "      <td>6.73</td>\n",
       "      <td>165</td>\n",
       "      <td>1080 x 2448</td>\n",
       "      <td>3</td>\n",
       "      <td>1</td>\n",
       "      <td>android</td>\n",
       "      <td>50.0</td>\n",
       "      <td>32</td>\n",
       "      <td>0</td>\n",
       "    </tr>\n",
       "    <tr>\n",
       "      <th>143</th>\n",
       "      <td>jio</td>\n",
       "      <td>Jio Phone 3</td>\n",
       "      <td>4499</td>\n",
       "      <td>NaN</td>\n",
       "      <td>False</td>\n",
       "      <td>False</td>\n",
       "      <td>False</td>\n",
       "      <td>NaN</td>\n",
       "      <td>NaN</td>\n",
       "      <td>Quad Core</td>\n",
       "      <td>...</td>\n",
       "      <td>64.0</td>\n",
       "      <td>5.00</td>\n",
       "      <td>60</td>\n",
       "      <td>720 x 1280</td>\n",
       "      <td>1</td>\n",
       "      <td>1</td>\n",
       "      <td>android</td>\n",
       "      <td>5.0</td>\n",
       "      <td>2</td>\n",
       "      <td>128 GB</td>\n",
       "    </tr>\n",
       "    <tr>\n",
       "      <th>187</th>\n",
       "      <td>ikall</td>\n",
       "      <td>iKall Z19 Pro</td>\n",
       "      <td>8099</td>\n",
       "      <td>60.0</td>\n",
       "      <td>False</td>\n",
       "      <td>False</td>\n",
       "      <td>False</td>\n",
       "      <td>NaN</td>\n",
       "      <td>NaN</td>\n",
       "      <td>Quad Core</td>\n",
       "      <td>...</td>\n",
       "      <td>64.0</td>\n",
       "      <td>6.50</td>\n",
       "      <td>60</td>\n",
       "      <td>720 x 1600</td>\n",
       "      <td>1</td>\n",
       "      <td>1</td>\n",
       "      <td>android</td>\n",
       "      <td>13.0</td>\n",
       "      <td>8</td>\n",
       "      <td>128 GB</td>\n",
       "    </tr>\n",
       "    <tr>\n",
       "      <th>200</th>\n",
       "      <td>samsung</td>\n",
       "      <td>Samsung Galaxy A13</td>\n",
       "      <td>14450</td>\n",
       "      <td>75.0</td>\n",
       "      <td>False</td>\n",
       "      <td>False</td>\n",
       "      <td>False</td>\n",
       "      <td>NaN</td>\n",
       "      <td>NaN</td>\n",
       "      <td>Octa Core</td>\n",
       "      <td>...</td>\n",
       "      <td>64.0</td>\n",
       "      <td>6.60</td>\n",
       "      <td>60</td>\n",
       "      <td>1080 x 2408</td>\n",
       "      <td>4</td>\n",
       "      <td>1</td>\n",
       "      <td>android</td>\n",
       "      <td>50.0</td>\n",
       "      <td>8</td>\n",
       "      <td>1 TB</td>\n",
       "    </tr>\n",
       "    <tr>\n",
       "      <th>307</th>\n",
       "      <td>samsung</td>\n",
       "      <td>Samsung Galaxy A13 (4GB RAM + 128GB)</td>\n",
       "      <td>14999</td>\n",
       "      <td>75.0</td>\n",
       "      <td>False</td>\n",
       "      <td>False</td>\n",
       "      <td>False</td>\n",
       "      <td>NaN</td>\n",
       "      <td>NaN</td>\n",
       "      <td>Octa Core</td>\n",
       "      <td>...</td>\n",
       "      <td>128.0</td>\n",
       "      <td>6.60</td>\n",
       "      <td>60</td>\n",
       "      <td>1080 x 2408</td>\n",
       "      <td>4</td>\n",
       "      <td>1</td>\n",
       "      <td>android</td>\n",
       "      <td>50.0</td>\n",
       "      <td>8</td>\n",
       "      <td>1 TB</td>\n",
       "    </tr>\n",
       "    <tr>\n",
       "      <th>313</th>\n",
       "      <td>itel</td>\n",
       "      <td>itel S16 Pro</td>\n",
       "      <td>6990</td>\n",
       "      <td>NaN</td>\n",
       "      <td>False</td>\n",
       "      <td>False</td>\n",
       "      <td>False</td>\n",
       "      <td>NaN</td>\n",
       "      <td>NaN</td>\n",
       "      <td>Quad Core</td>\n",
       "      <td>...</td>\n",
       "      <td>32.0</td>\n",
       "      <td>6.60</td>\n",
       "      <td>60</td>\n",
       "      <td>1600 x 720</td>\n",
       "      <td>3</td>\n",
       "      <td>1</td>\n",
       "      <td>android</td>\n",
       "      <td>8.0</td>\n",
       "      <td>8</td>\n",
       "      <td>32 GB</td>\n",
       "    </tr>\n",
       "    <tr>\n",
       "      <th>490</th>\n",
       "      <td>samsung</td>\n",
       "      <td>Samsung Galaxy A15</td>\n",
       "      <td>15990</td>\n",
       "      <td>63.0</td>\n",
       "      <td>False</td>\n",
       "      <td>False</td>\n",
       "      <td>False</td>\n",
       "      <td>NaN</td>\n",
       "      <td>NaN</td>\n",
       "      <td>Octa Core</td>\n",
       "      <td>...</td>\n",
       "      <td>64.0</td>\n",
       "      <td>6.50</td>\n",
       "      <td>60</td>\n",
       "      <td>720 x 1600</td>\n",
       "      <td>3</td>\n",
       "      <td>1</td>\n",
       "      <td>android</td>\n",
       "      <td>48.0</td>\n",
       "      <td>8</td>\n",
       "      <td>1 TB</td>\n",
       "    </tr>\n",
       "    <tr>\n",
       "      <th>523</th>\n",
       "      <td>samsung</td>\n",
       "      <td>Samsung Galaxy F14</td>\n",
       "      <td>14990</td>\n",
       "      <td>67.0</td>\n",
       "      <td>False</td>\n",
       "      <td>True</td>\n",
       "      <td>False</td>\n",
       "      <td>NaN</td>\n",
       "      <td>NaN</td>\n",
       "      <td>Octa Core</td>\n",
       "      <td>...</td>\n",
       "      <td>64.0</td>\n",
       "      <td>6.62</td>\n",
       "      <td>60</td>\n",
       "      <td>2408 x 1080</td>\n",
       "      <td>3</td>\n",
       "      <td>1</td>\n",
       "      <td>android</td>\n",
       "      <td>50.0</td>\n",
       "      <td>16</td>\n",
       "      <td>1 TB</td>\n",
       "    </tr>\n",
       "    <tr>\n",
       "      <th>575</th>\n",
       "      <td>samsung</td>\n",
       "      <td>Samsung Galaxy A13 (6GB RAM + 128GB)</td>\n",
       "      <td>16499</td>\n",
       "      <td>78.0</td>\n",
       "      <td>False</td>\n",
       "      <td>False</td>\n",
       "      <td>False</td>\n",
       "      <td>NaN</td>\n",
       "      <td>NaN</td>\n",
       "      <td>Octa Core</td>\n",
       "      <td>...</td>\n",
       "      <td>128.0</td>\n",
       "      <td>6.60</td>\n",
       "      <td>60</td>\n",
       "      <td>1080 x 2408</td>\n",
       "      <td>4</td>\n",
       "      <td>1</td>\n",
       "      <td>android</td>\n",
       "      <td>50.0</td>\n",
       "      <td>8</td>\n",
       "      <td>1 TB</td>\n",
       "    </tr>\n",
       "    <tr>\n",
       "      <th>733</th>\n",
       "      <td>ikall</td>\n",
       "      <td>iKall Z19</td>\n",
       "      <td>7999</td>\n",
       "      <td>61.0</td>\n",
       "      <td>False</td>\n",
       "      <td>False</td>\n",
       "      <td>False</td>\n",
       "      <td>NaN</td>\n",
       "      <td>NaN</td>\n",
       "      <td>Quad Core</td>\n",
       "      <td>...</td>\n",
       "      <td>32.0</td>\n",
       "      <td>6.50</td>\n",
       "      <td>60</td>\n",
       "      <td>720 x 1600</td>\n",
       "      <td>1</td>\n",
       "      <td>1</td>\n",
       "      <td>android</td>\n",
       "      <td>20.0</td>\n",
       "      <td>13</td>\n",
       "      <td>128 GB</td>\n",
       "    </tr>\n",
       "    <tr>\n",
       "      <th>753</th>\n",
       "      <td>tecno</td>\n",
       "      <td>Tecno Spark Go 2022</td>\n",
       "      <td>6249</td>\n",
       "      <td>61.0</td>\n",
       "      <td>False</td>\n",
       "      <td>False</td>\n",
       "      <td>False</td>\n",
       "      <td>NaN</td>\n",
       "      <td>NaN</td>\n",
       "      <td>Octa Core</td>\n",
       "      <td>...</td>\n",
       "      <td>32.0</td>\n",
       "      <td>6.51</td>\n",
       "      <td>60</td>\n",
       "      <td>720 x 1600</td>\n",
       "      <td>2</td>\n",
       "      <td>1</td>\n",
       "      <td>android</td>\n",
       "      <td>13.0</td>\n",
       "      <td>8</td>\n",
       "      <td>256 GB</td>\n",
       "    </tr>\n",
       "    <tr>\n",
       "      <th>769</th>\n",
       "      <td>itel</td>\n",
       "      <td>itel A56</td>\n",
       "      <td>5490</td>\n",
       "      <td>NaN</td>\n",
       "      <td>False</td>\n",
       "      <td>False</td>\n",
       "      <td>False</td>\n",
       "      <td>NaN</td>\n",
       "      <td>NaN</td>\n",
       "      <td>Quad Core</td>\n",
       "      <td>...</td>\n",
       "      <td>16.0</td>\n",
       "      <td>6.00</td>\n",
       "      <td>60</td>\n",
       "      <td>720 x 1600</td>\n",
       "      <td>2</td>\n",
       "      <td>1</td>\n",
       "      <td>android</td>\n",
       "      <td>8.0</td>\n",
       "      <td>5</td>\n",
       "      <td>32 GB</td>\n",
       "    </tr>\n",
       "    <tr>\n",
       "      <th>799</th>\n",
       "      <td>samsung</td>\n",
       "      <td>Samsung Galaxy S23 FE 5G</td>\n",
       "      <td>54999</td>\n",
       "      <td>77.0</td>\n",
       "      <td>True</td>\n",
       "      <td>True</td>\n",
       "      <td>False</td>\n",
       "      <td>NaN</td>\n",
       "      <td>NaN</td>\n",
       "      <td>Octa Core</td>\n",
       "      <td>...</td>\n",
       "      <td>128.0</td>\n",
       "      <td>6.50</td>\n",
       "      <td>60</td>\n",
       "      <td>1080 x 2400</td>\n",
       "      <td>4</td>\n",
       "      <td>1</td>\n",
       "      <td>android</td>\n",
       "      <td>64.0</td>\n",
       "      <td>32</td>\n",
       "      <td>0</td>\n",
       "    </tr>\n",
       "    <tr>\n",
       "      <th>800</th>\n",
       "      <td>samsung</td>\n",
       "      <td>Samsung Galaxy M51s 5G</td>\n",
       "      <td>24990</td>\n",
       "      <td>72.0</td>\n",
       "      <td>True</td>\n",
       "      <td>False</td>\n",
       "      <td>False</td>\n",
       "      <td>NaN</td>\n",
       "      <td>NaN</td>\n",
       "      <td>Octa Core</td>\n",
       "      <td>...</td>\n",
       "      <td>128.0</td>\n",
       "      <td>6.70</td>\n",
       "      <td>60</td>\n",
       "      <td>1080 x 2400</td>\n",
       "      <td>3</td>\n",
       "      <td>1</td>\n",
       "      <td>android</td>\n",
       "      <td>64.0</td>\n",
       "      <td>32</td>\n",
       "      <td>1 TB</td>\n",
       "    </tr>\n",
       "    <tr>\n",
       "      <th>844</th>\n",
       "      <td>huawei</td>\n",
       "      <td>Huawei Nova Y61</td>\n",
       "      <td>21990</td>\n",
       "      <td>63.0</td>\n",
       "      <td>False</td>\n",
       "      <td>False</td>\n",
       "      <td>False</td>\n",
       "      <td>NaN</td>\n",
       "      <td>NaN</td>\n",
       "      <td>Octa Core</td>\n",
       "      <td>...</td>\n",
       "      <td>64.0</td>\n",
       "      <td>6.52</td>\n",
       "      <td>60</td>\n",
       "      <td>720 x 1600</td>\n",
       "      <td>3</td>\n",
       "      <td>1</td>\n",
       "      <td>EMUI v12</td>\n",
       "      <td>50.0</td>\n",
       "      <td>5</td>\n",
       "      <td>Memory Card (Hybrid)</td>\n",
       "    </tr>\n",
       "    <tr>\n",
       "      <th>910</th>\n",
       "      <td>samsung</td>\n",
       "      <td>Samsung Galaxy M35</td>\n",
       "      <td>22999</td>\n",
       "      <td>74.0</td>\n",
       "      <td>False</td>\n",
       "      <td>True</td>\n",
       "      <td>False</td>\n",
       "      <td>NaN</td>\n",
       "      <td>NaN</td>\n",
       "      <td>Octa Core</td>\n",
       "      <td>...</td>\n",
       "      <td>128.0</td>\n",
       "      <td>6.50</td>\n",
       "      <td>60</td>\n",
       "      <td>1080 x 2400</td>\n",
       "      <td>3</td>\n",
       "      <td>1</td>\n",
       "      <td>android</td>\n",
       "      <td>64.0</td>\n",
       "      <td>32</td>\n",
       "      <td>1 TB</td>\n",
       "    </tr>\n",
       "    <tr>\n",
       "      <th>911</th>\n",
       "      <td>samsung</td>\n",
       "      <td>Samsung Galaxy A05</td>\n",
       "      <td>12990</td>\n",
       "      <td>63.0</td>\n",
       "      <td>False</td>\n",
       "      <td>False</td>\n",
       "      <td>False</td>\n",
       "      <td>NaN</td>\n",
       "      <td>NaN</td>\n",
       "      <td>Octa Core</td>\n",
       "      <td>...</td>\n",
       "      <td>64.0</td>\n",
       "      <td>6.50</td>\n",
       "      <td>60</td>\n",
       "      <td>720 x 1560</td>\n",
       "      <td>2</td>\n",
       "      <td>1</td>\n",
       "      <td>android</td>\n",
       "      <td>48.0</td>\n",
       "      <td>5</td>\n",
       "      <td>1 TB</td>\n",
       "    </tr>\n",
       "    <tr>\n",
       "      <th>952</th>\n",
       "      <td>samsung</td>\n",
       "      <td>Samsung Galaxy A11</td>\n",
       "      <td>9990</td>\n",
       "      <td>63.0</td>\n",
       "      <td>False</td>\n",
       "      <td>False</td>\n",
       "      <td>False</td>\n",
       "      <td>NaN</td>\n",
       "      <td>NaN</td>\n",
       "      <td>Octa Core</td>\n",
       "      <td>...</td>\n",
       "      <td>32.0</td>\n",
       "      <td>6.40</td>\n",
       "      <td>60</td>\n",
       "      <td>720 x 1560</td>\n",
       "      <td>3</td>\n",
       "      <td>1</td>\n",
       "      <td>android</td>\n",
       "      <td>13.0</td>\n",
       "      <td>8</td>\n",
       "      <td>512 GB</td>\n",
       "    </tr>\n",
       "    <tr>\n",
       "      <th>965</th>\n",
       "      <td>ikall</td>\n",
       "      <td>iKall Z18</td>\n",
       "      <td>6799</td>\n",
       "      <td>61.0</td>\n",
       "      <td>False</td>\n",
       "      <td>False</td>\n",
       "      <td>False</td>\n",
       "      <td>NaN</td>\n",
       "      <td>NaN</td>\n",
       "      <td>Quad Core</td>\n",
       "      <td>...</td>\n",
       "      <td>64.0</td>\n",
       "      <td>6.82</td>\n",
       "      <td>60</td>\n",
       "      <td>720 x 1560</td>\n",
       "      <td>1</td>\n",
       "      <td>1</td>\n",
       "      <td>android</td>\n",
       "      <td>20.0</td>\n",
       "      <td>13</td>\n",
       "      <td>64 GB</td>\n",
       "    </tr>\n",
       "    <tr>\n",
       "      <th>979</th>\n",
       "      <td>samsung</td>\n",
       "      <td>Samsung Galaxy M52s 5G</td>\n",
       "      <td>24990</td>\n",
       "      <td>74.0</td>\n",
       "      <td>True</td>\n",
       "      <td>False</td>\n",
       "      <td>False</td>\n",
       "      <td>NaN</td>\n",
       "      <td>NaN</td>\n",
       "      <td>Octa Core</td>\n",
       "      <td>...</td>\n",
       "      <td>128.0</td>\n",
       "      <td>6.50</td>\n",
       "      <td>60</td>\n",
       "      <td>1080 x 2400</td>\n",
       "      <td>3</td>\n",
       "      <td>1</td>\n",
       "      <td>android</td>\n",
       "      <td>64.0</td>\n",
       "      <td>32</td>\n",
       "      <td>1 TB</td>\n",
       "    </tr>\n",
       "  </tbody>\n",
       "</table>\n",
       "<p>20 rows × 24 columns</p>\n",
       "</div>"
      ],
      "text/plain": [
       "    brand_name                                 model  price  rating  has_5g  \\\n",
       "118      tesla                        Tesla Pi Phone  69999    83.0    True   \n",
       "143        jio                           Jio Phone 3   4499     NaN   False   \n",
       "187      ikall                         iKall Z19 Pro   8099    60.0   False   \n",
       "200    samsung                    Samsung Galaxy A13  14450    75.0   False   \n",
       "307    samsung  Samsung Galaxy A13 (4GB RAM + 128GB)  14999    75.0   False   \n",
       "313       itel                          itel S16 Pro   6990     NaN   False   \n",
       "490    samsung                    Samsung Galaxy A15  15990    63.0   False   \n",
       "523    samsung                    Samsung Galaxy F14  14990    67.0   False   \n",
       "575    samsung  Samsung Galaxy A13 (6GB RAM + 128GB)  16499    78.0   False   \n",
       "733      ikall                             iKall Z19   7999    61.0   False   \n",
       "753      tecno                   Tecno Spark Go 2022   6249    61.0   False   \n",
       "769       itel                              itel A56   5490     NaN   False   \n",
       "799    samsung              Samsung Galaxy S23 FE 5G  54999    77.0    True   \n",
       "800    samsung                Samsung Galaxy M51s 5G  24990    72.0    True   \n",
       "844     huawei                       Huawei Nova Y61  21990    63.0   False   \n",
       "910    samsung                    Samsung Galaxy M35  22999    74.0   False   \n",
       "911    samsung                    Samsung Galaxy A05  12990    63.0   False   \n",
       "952    samsung                    Samsung Galaxy A11   9990    63.0   False   \n",
       "965      ikall                             iKall Z18   6799    61.0   False   \n",
       "979    samsung                Samsung Galaxy M52s 5G  24990    74.0    True   \n",
       "\n",
       "     has_nfc  has_ir_blaster processor_name processor_brand  num_cores  ...  \\\n",
       "118     True           False            NaN             NaN  Octa Core  ...   \n",
       "143    False           False            NaN             NaN  Quad Core  ...   \n",
       "187    False           False            NaN             NaN  Quad Core  ...   \n",
       "200    False           False            NaN             NaN  Octa Core  ...   \n",
       "307    False           False            NaN             NaN  Octa Core  ...   \n",
       "313    False           False            NaN             NaN  Quad Core  ...   \n",
       "490    False           False            NaN             NaN  Octa Core  ...   \n",
       "523     True           False            NaN             NaN  Octa Core  ...   \n",
       "575    False           False            NaN             NaN  Octa Core  ...   \n",
       "733    False           False            NaN             NaN  Quad Core  ...   \n",
       "753    False           False            NaN             NaN  Octa Core  ...   \n",
       "769    False           False            NaN             NaN  Quad Core  ...   \n",
       "799     True           False            NaN             NaN  Octa Core  ...   \n",
       "800    False           False            NaN             NaN  Octa Core  ...   \n",
       "844    False           False            NaN             NaN  Octa Core  ...   \n",
       "910     True           False            NaN             NaN  Octa Core  ...   \n",
       "911    False           False            NaN             NaN  Octa Core  ...   \n",
       "952    False           False            NaN             NaN  Octa Core  ...   \n",
       "965    False           False            NaN             NaN  Quad Core  ...   \n",
       "979    False           False            NaN             NaN  Octa Core  ...   \n",
       "\n",
       "     internal_memory  screen_size  refresh_rate    resolution  \\\n",
       "118            512.0         6.73           165  1080 x 2448    \n",
       "143             64.0         5.00            60   720 x 1280    \n",
       "187             64.0         6.50            60   720 x 1600    \n",
       "200             64.0         6.60            60  1080 x 2408    \n",
       "307            128.0         6.60            60  1080 x 2408    \n",
       "313             32.0         6.60            60   1600 x 720    \n",
       "490             64.0         6.50            60   720 x 1600    \n",
       "523             64.0         6.62            60  2408 x 1080    \n",
       "575            128.0         6.60            60  1080 x 2408    \n",
       "733             32.0         6.50            60   720 x 1600    \n",
       "753             32.0         6.51            60   720 x 1600    \n",
       "769             16.0         6.00            60   720 x 1600    \n",
       "799            128.0         6.50            60  1080 x 2400    \n",
       "800            128.0         6.70            60  1080 x 2400    \n",
       "844             64.0         6.52            60   720 x 1600    \n",
       "910            128.0         6.50            60  1080 x 2400    \n",
       "911             64.0         6.50            60   720 x 1560    \n",
       "952             32.0         6.40            60   720 x 1560    \n",
       "965             64.0         6.82            60   720 x 1560    \n",
       "979            128.0         6.50            60  1080 x 2400    \n",
       "\n",
       "     num_rear_cameras  num_front_cameras        os primary_camera_rear  \\\n",
       "118                 3                  1   android                50.0   \n",
       "143                 1                  1   android                 5.0   \n",
       "187                 1                  1   android                13.0   \n",
       "200                 4                  1   android                50.0   \n",
       "307                 4                  1   android                50.0   \n",
       "313                 3                  1   android                 8.0   \n",
       "490                 3                  1   android                48.0   \n",
       "523                 3                  1   android                50.0   \n",
       "575                 4                  1   android                50.0   \n",
       "733                 1                  1   android                20.0   \n",
       "753                 2                  1   android                13.0   \n",
       "769                 2                  1   android                 8.0   \n",
       "799                 4                  1   android                64.0   \n",
       "800                 3                  1   android                64.0   \n",
       "844                 3                  1  EMUI v12                50.0   \n",
       "910                 3                  1   android                64.0   \n",
       "911                 2                  1   android                48.0   \n",
       "952                 3                  1   android                13.0   \n",
       "965                 1                  1   android                20.0   \n",
       "979                 3                  1   android                64.0   \n",
       "\n",
       "     primary_camera_front       extended_memory  \n",
       "118                    32                     0  \n",
       "143                     2                128 GB  \n",
       "187                     8                128 GB  \n",
       "200                     8                  1 TB  \n",
       "307                     8                  1 TB  \n",
       "313                     8                 32 GB  \n",
       "490                     8                  1 TB  \n",
       "523                    16                  1 TB  \n",
       "575                     8                  1 TB  \n",
       "733                    13                128 GB  \n",
       "753                     8                256 GB  \n",
       "769                     5                 32 GB  \n",
       "799                    32                     0  \n",
       "800                    32                  1 TB  \n",
       "844                     5  Memory Card (Hybrid)  \n",
       "910                    32                  1 TB  \n",
       "911                     5                  1 TB  \n",
       "952                     8                512 GB  \n",
       "965                    13                 64 GB  \n",
       "979                    32                  1 TB  \n",
       "\n",
       "[20 rows x 24 columns]"
      ]
     },
     "execution_count": 31,
     "metadata": {},
     "output_type": "execute_result"
    }
   ],
   "source": [
    "df[df['processor_brand'].isnull()]"
   ]
  },
  {
   "cell_type": "code",
   "execution_count": 32,
   "id": "d377ca64-e3b0-40bf-bf94-8dc73314a186",
   "metadata": {},
   "outputs": [
    {
     "data": {
      "text/plain": [
       "num_cores\n",
       "Octa Core    899\n",
       "Hexa Core     39\n",
       "Quad Core     36\n",
       "Name: count, dtype: int64"
      ]
     },
     "execution_count": 32,
     "metadata": {},
     "output_type": "execute_result"
    }
   ],
   "source": [
    "df['num_cores'].value_counts()"
   ]
  },
  {
   "cell_type": "code",
   "execution_count": 33,
   "id": "bfd48c91-418a-45dc-a93c-0b035b602a96",
   "metadata": {},
   "outputs": [
    {
     "data": {
      "text/plain": [
       "count    938.000000\n",
       "mean       2.427217\n",
       "std        0.464090\n",
       "min        1.200000\n",
       "25%        2.050000\n",
       "50%        2.300000\n",
       "75%        2.840000\n",
       "max        3.220000\n",
       "Name: processor_speed, dtype: float64"
      ]
     },
     "execution_count": 33,
     "metadata": {},
     "output_type": "execute_result"
    }
   ],
   "source": [
    "df['processor_speed'].describe()"
   ]
  },
  {
   "cell_type": "code",
   "execution_count": 34,
   "id": "96e6395c-f1a2-4136-a833-1b83328b00b2",
   "metadata": {},
   "outputs": [
    {
     "data": {
      "text/plain": [
       "<seaborn.axisgrid.FacetGrid at 0x2564cf501d0>"
      ]
     },
     "execution_count": 34,
     "metadata": {},
     "output_type": "execute_result"
    },
    {
     "data": {
      "image/png": "[encoded data removed]",
      "text/plain": [
       "<Figure size 500x500 with 1 Axes>"
      ]
     },
     "metadata": {},
     "output_type": "display_data"
    }
   ],
   "source": [
    "sns.displot(kind='kde',data=df,x='processor_speed')"
   ]
  },
  {
   "cell_type": "code",
   "execution_count": 35,
   "id": "b36fb4c1-f361-45da-ad34-6024d7c1d93f",
   "metadata": {},
   "outputs": [
    {
     "data": {
      "text/plain": [
       "0.18833557463624606"
      ]
     },
     "execution_count": 35,
     "metadata": {},
     "output_type": "execute_result"
    }
   ],
   "source": [
    "df['processor_speed'].skew()"
   ]
  },
  {
   "cell_type": "code",
   "execution_count": 36,
   "id": "5e682a0c-5472-4721-b07c-03d41efbe54f",
   "metadata": {},
   "outputs": [
    {
     "data": {
      "text/plain": [
       "0.18833557463624606"
      ]
     },
     "execution_count": 36,
     "metadata": {},
     "output_type": "execute_result"
    }
   ],
   "source": [
    "df['processor_speed'].skew()"
   ]
  },
  {
   "cell_type": "code",
   "execution_count": 37,
   "id": "e8e1384b-79bd-484e-b3a8-49dc84bb499b",
   "metadata": {},
   "outputs": [
    {
     "data": {
      "text/plain": [
       "count      969.000000\n",
       "mean      4817.748194\n",
       "std       1009.540054\n",
       "min       1821.000000\n",
       "25%       4500.000000\n",
       "50%       5000.000000\n",
       "75%       5000.000000\n",
       "max      22000.000000\n",
       "Name: battery_capacity, dtype: float64"
      ]
     },
     "execution_count": 37,
     "metadata": {},
     "output_type": "execute_result"
    }
   ],
   "source": [
    "df['battery_capacity'].describe()"
   ]
  },
  {
   "cell_type": "code",
   "execution_count": 38,
   "id": "93230c6e-686b-424d-850c-05688485dbd1",
   "metadata": {},
   "outputs": [
    {
     "data": {
      "text/plain": [
       "<seaborn.axisgrid.FacetGrid at 0x2564ce9d5d0>"
      ]
     },
     "execution_count": 38,
     "metadata": {},
     "output_type": "execute_result"
    },
    {
     "data": {
      "image/png": "[encoded data removed]",
      "text/plain": [
       "<Figure size 500x500 with 1 Axes>"
      ]
     },
     "metadata": {},
     "output_type": "display_data"
    }
   ],
   "source": [
    "sns.displot(kind='kde',data=df,x='battery_capacity')"
   ]
  },
  {
   "cell_type": "code",
   "execution_count": 39,
   "id": "715e8d88-cc1a-4e9f-b9e2-65ca78ef4937",
   "metadata": {},
   "outputs": [
    {
     "data": {
      "text/html": [
       "<div>\n",
       "<style scoped>\n",
       "    .dataframe tbody tr th:only-of-type {\n",
       "        vertical-align: middle;\n",
       "    }\n",
       "\n",
       "    .dataframe tbody tr th {\n",
       "        vertical-align: top;\n",
       "    }\n",
       "\n",
       "    .dataframe thead th {\n",
       "        text-align: right;\n",
       "    }\n",
       "</style>\n",
       "<table border=\"1\" class=\"dataframe\">\n",
       "  <thead>\n",
       "    <tr style=\"text-align: right;\">\n",
       "      <th></th>\n",
       "      <th>brand_name</th>\n",
       "      <th>model</th>\n",
       "      <th>price</th>\n",
       "      <th>rating</th>\n",
       "      <th>has_5g</th>\n",
       "      <th>has_nfc</th>\n",
       "      <th>has_ir_blaster</th>\n",
       "      <th>processor_name</th>\n",
       "      <th>processor_brand</th>\n",
       "      <th>num_cores</th>\n",
       "      <th>...</th>\n",
       "      <th>internal_memory</th>\n",
       "      <th>screen_size</th>\n",
       "      <th>refresh_rate</th>\n",
       "      <th>resolution</th>\n",
       "      <th>num_rear_cameras</th>\n",
       "      <th>num_front_cameras</th>\n",
       "      <th>os</th>\n",
       "      <th>primary_camera_rear</th>\n",
       "      <th>primary_camera_front</th>\n",
       "      <th>extended_memory</th>\n",
       "    </tr>\n",
       "  </thead>\n",
       "  <tbody>\n",
       "    <tr>\n",
       "      <th>391</th>\n",
       "      <td>oukitel</td>\n",
       "      <td>Oukitel WP19</td>\n",
       "      <td>29990</td>\n",
       "      <td>84.0</td>\n",
       "      <td>False</td>\n",
       "      <td>True</td>\n",
       "      <td>False</td>\n",
       "      <td>Helio G95</td>\n",
       "      <td>helio</td>\n",
       "      <td>Octa Core</td>\n",
       "      <td>...</td>\n",
       "      <td>256.0</td>\n",
       "      <td>6.78</td>\n",
       "      <td>60</td>\n",
       "      <td>1080 x 2400</td>\n",
       "      <td>3</td>\n",
       "      <td>1</td>\n",
       "      <td>android</td>\n",
       "      <td>64.0</td>\n",
       "      <td>16</td>\n",
       "      <td>Not Specified</td>\n",
       "    </tr>\n",
       "    <tr>\n",
       "      <th>599</th>\n",
       "      <td>oukitel</td>\n",
       "      <td>Oukitel WP21</td>\n",
       "      <td>22990</td>\n",
       "      <td>82.0</td>\n",
       "      <td>False</td>\n",
       "      <td>False</td>\n",
       "      <td>False</td>\n",
       "      <td>Helio G99</td>\n",
       "      <td>helio</td>\n",
       "      <td>Octa Core</td>\n",
       "      <td>...</td>\n",
       "      <td>256.0</td>\n",
       "      <td>6.78</td>\n",
       "      <td>120</td>\n",
       "      <td>1080 x 2400</td>\n",
       "      <td>3</td>\n",
       "      <td>1</td>\n",
       "      <td>Memory Card (Hybrid)</td>\n",
       "      <td>64.0</td>\n",
       "      <td>Main</td>\n",
       "      <td>0</td>\n",
       "    </tr>\n",
       "    <tr>\n",
       "      <th>843</th>\n",
       "      <td>doogee</td>\n",
       "      <td>Doogee V Max</td>\n",
       "      <td>45999</td>\n",
       "      <td>88.0</td>\n",
       "      <td>True</td>\n",
       "      <td>False</td>\n",
       "      <td>False</td>\n",
       "      <td>Dimensity 1080</td>\n",
       "      <td>dimensity</td>\n",
       "      <td>Octa Core</td>\n",
       "      <td>...</td>\n",
       "      <td>256.0</td>\n",
       "      <td>6.58</td>\n",
       "      <td>120</td>\n",
       "      <td>1080 x 2408</td>\n",
       "      <td>3</td>\n",
       "      <td>1</td>\n",
       "      <td>android</td>\n",
       "      <td>108.0</td>\n",
       "      <td>32</td>\n",
       "      <td>2 TB</td>\n",
       "    </tr>\n",
       "    <tr>\n",
       "      <th>966</th>\n",
       "      <td>oukitel</td>\n",
       "      <td>Oukitel WP9</td>\n",
       "      <td>25899</td>\n",
       "      <td>72.0</td>\n",
       "      <td>False</td>\n",
       "      <td>True</td>\n",
       "      <td>False</td>\n",
       "      <td>Helio P60</td>\n",
       "      <td>helio</td>\n",
       "      <td>Octa Core</td>\n",
       "      <td>...</td>\n",
       "      <td>128.0</td>\n",
       "      <td>5.86</td>\n",
       "      <td>60</td>\n",
       "      <td>720 x 1520</td>\n",
       "      <td>3</td>\n",
       "      <td>1</td>\n",
       "      <td>android</td>\n",
       "      <td>16.0</td>\n",
       "      <td>8</td>\n",
       "      <td>Not Specified</td>\n",
       "    </tr>\n",
       "  </tbody>\n",
       "</table>\n",
       "<p>4 rows × 24 columns</p>\n",
       "</div>"
      ],
      "text/plain": [
       "    brand_name         model  price  rating  has_5g  has_nfc  has_ir_blaster  \\\n",
       "391    oukitel  Oukitel WP19  29990    84.0   False     True           False   \n",
       "599    oukitel  Oukitel WP21  22990    82.0   False    False           False   \n",
       "843     doogee  Doogee V Max  45999    88.0    True    False           False   \n",
       "966    oukitel   Oukitel WP9  25899    72.0   False     True           False   \n",
       "\n",
       "     processor_name processor_brand  num_cores  ...  internal_memory  \\\n",
       "391       Helio G95           helio  Octa Core  ...            256.0   \n",
       "599       Helio G99           helio  Octa Core  ...            256.0   \n",
       "843  Dimensity 1080       dimensity  Octa Core  ...            256.0   \n",
       "966       Helio P60           helio  Octa Core  ...            128.0   \n",
       "\n",
       "     screen_size  refresh_rate    resolution  num_rear_cameras  \\\n",
       "391         6.78            60  1080 x 2400                  3   \n",
       "599         6.78           120  1080 x 2400                  3   \n",
       "843         6.58           120  1080 x 2408                  3   \n",
       "966         5.86            60   720 x 1520                  3   \n",
       "\n",
       "     num_front_cameras                    os primary_camera_rear  \\\n",
       "391                  1               android                64.0   \n",
       "599                  1  Memory Card (Hybrid)                64.0   \n",
       "843                  1               android               108.0   \n",
       "966                  1               android                16.0   \n",
       "\n",
       "     primary_camera_front extended_memory  \n",
       "391                    16   Not Specified  \n",
       "599                  Main               0  \n",
       "843                    32            2 TB  \n",
       "966                     8   Not Specified  \n",
       "\n",
       "[4 rows x 24 columns]"
      ]
     },
     "execution_count": 39,
     "metadata": {},
     "output_type": "execute_result"
    }
   ],
   "source": [
    "df[df['battery_capacity'] > 7000]"
   ]
  },
  {
   "cell_type": "code",
   "execution_count": 40,
   "id": "7ba963a7-3d15-45d7-b4d0-78370bc1487f",
   "metadata": {},
   "outputs": [
    {
     "data": {
      "text/plain": [
       "count    980.000000\n",
       "mean      36.048980\n",
       "std       35.948034\n",
       "min       -1.000000\n",
       "25%       15.000000\n",
       "50%       30.000000\n",
       "75%       65.000000\n",
       "max      240.000000\n",
       "Name: fast_charging, dtype: float64"
      ]
     },
     "execution_count": 40,
     "metadata": {},
     "output_type": "execute_result"
    }
   ],
   "source": [
    "df['fast_charging'].describe()"
   ]
  },
  {
   "cell_type": "code",
   "execution_count": 41,
   "id": "d4f2fed9-b41f-4679-a46b-218882b48476",
   "metadata": {},
   "outputs": [],
   "source": [
    "def fast(row):\n",
    "\n",
    "  if row['fast_charging'] == -1:\n",
    "    return 0\n",
    "  else:\n",
    "    return 1"
   ]
  },
  {
   "cell_type": "code",
   "execution_count": 42,
   "id": "684ed478-011d-4141-b157-f71d4cfc0fe0",
   "metadata": {},
   "outputs": [
    {
     "data": {
      "text/plain": [
       "Index(['brand_name', 'model', 'price', 'rating', 'has_5g', 'has_nfc',\n",
       "       'has_ir_blaster', 'processor_name', 'processor_brand', 'num_cores',\n",
       "       'processor_speed', 'battery_capacity', 'fast_charging', 'ram_capacity',\n",
       "       'internal_memory', 'screen_size', 'refresh_rate', 'resolution',\n",
       "       'num_rear_cameras', 'num_front_cameras', 'os', 'primary_camera_rear',\n",
       "       'primary_camera_front', 'extended_memory'],\n",
       "      dtype='object')"
      ]
     },
     "execution_count": 42,
     "metadata": {},
     "output_type": "execute_result"
    }
   ],
   "source": [
    "df.columns"
   ]
  },
  {
   "cell_type": "code",
   "execution_count": 43,
   "id": "17ede33c-c1cd-4171-835c-029957505489",
   "metadata": {},
   "outputs": [],
   "source": [
    "x = df.apply(fast,axis=1)\n",
    "df.insert(12,'fast_charging_available',x)"
   ]
  },
  {
   "cell_type": "code",
   "execution_count": 44,
   "id": "2a41728d-1e17-4377-a6f5-ff7127c474f8",
   "metadata": {},
   "outputs": [],
   "source": [
    "df['fast_charging'] = df['fast_charging'].apply(lambda x:np.nan if x == 0 or x == -1 else x)"
   ]
  },
  {
   "cell_type": "code",
   "execution_count": 45,
   "id": "9221d901-0cbc-41f3-ae57-b5b5fe875876",
   "metadata": {},
   "outputs": [
    {
     "data": {
      "text/plain": [
       "ram_capacity\n",
       "8.0     339\n",
       "6.0     234\n",
       "4.0     215\n",
       "12.0     86\n",
       "3.0      54\n",
       "2.0      32\n",
       "16.0      9\n",
       "1.0       7\n",
       "18.0      2\n",
       "64.0      2\n",
       "Name: count, dtype: int64"
      ]
     },
     "execution_count": 45,
     "metadata": {},
     "output_type": "execute_result"
    }
   ],
   "source": [
    "df['ram_capacity'].value_counts()"
   ]
  },
  {
   "cell_type": "code",
   "execution_count": 46,
   "id": "3ad42545-1462-4532-8f4f-65b07ff5b632",
   "metadata": {},
   "outputs": [],
   "source": [
    "temp_df = df[df['internal_memory'].isnull()]"
   ]
  },
  {
   "cell_type": "code",
   "execution_count": 47,
   "id": "6a71d30a-7e2b-4616-a2ef-551c7a642c45",
   "metadata": {},
   "outputs": [],
   "source": [
    "df.loc[temp_df.index,['ram_capacity','internal_memory']] = [[4,64],[4,64]]"
   ]
  },
  {
   "cell_type": "code",
   "execution_count": 48,
   "id": "dd1dd03d-ed00-49d4-9898-401829a54992",
   "metadata": {},
   "outputs": [
    {
     "data": {
      "text/plain": [
       "internal_memory\n",
       "128.0     523\n",
       "64.0      193\n",
       "256.0     157\n",
       "32.0       67\n",
       "512.0      22\n",
       "16.0       12\n",
       "1024.0      5\n",
       "8.0         1\n",
       "Name: count, dtype: int64"
      ]
     },
     "execution_count": 48,
     "metadata": {},
     "output_type": "execute_result"
    }
   ],
   "source": [
    "df['internal_memory'].value_counts()"
   ]
  },
  {
   "cell_type": "code",
   "execution_count": 49,
   "id": "f2741a07-9ac2-4d4c-81f0-2a814a7fc6a4",
   "metadata": {},
   "outputs": [
    {
     "data": {
      "text/plain": [
       "count    980.000000\n",
       "mean       6.536765\n",
       "std        0.349162\n",
       "min        3.540000\n",
       "25%        6.500000\n",
       "50%        6.580000\n",
       "75%        6.670000\n",
       "max        8.030000\n",
       "Name: screen_size, dtype: float64"
      ]
     },
     "execution_count": 49,
     "metadata": {},
     "output_type": "execute_result"
    }
   ],
   "source": [
    "df['screen_size'].describe()"
   ]
  },
  {
   "cell_type": "code",
   "execution_count": 50,
   "id": "607adb4c-f4ad-4d2e-a540-aef744148cc8",
   "metadata": {},
   "outputs": [
    {
     "data": {
      "text/plain": [
       "<seaborn.axisgrid.FacetGrid at 0x2564cc61490>"
      ]
     },
     "execution_count": 50,
     "metadata": {},
     "output_type": "execute_result"
    },
    {
     "data": {
      "image/png": "[encoded data removed]",
      "text/plain": [
       "<Figure size 500x500 with 1 Axes>"
      ]
     },
     "metadata": {},
     "output_type": "display_data"
    }
   ],
   "source": [
    "sns.displot(kind='kde',data=df,x='screen_size')"
   ]
  },
  {
   "cell_type": "code",
   "execution_count": 51,
   "id": "026ff85e-8701-4e1f-abf7-8a0cebbc29ca",
   "metadata": {},
   "outputs": [
    {
     "data": {
      "text/plain": [
       "-2.11619902968816"
      ]
     },
     "execution_count": 51,
     "metadata": {},
     "output_type": "execute_result"
    }
   ],
   "source": [
    "df['screen_size'].skew()"
   ]
  },
  {
   "cell_type": "code",
   "execution_count": 52,
   "id": "1929fa35-7e56-442e-b40a-128ebd07094b",
   "metadata": {},
   "outputs": [
    {
     "data": {
      "text/plain": [
       "<Axes: >"
      ]
     },
     "execution_count": 52,
     "metadata": {},
     "output_type": "execute_result"
    },
    {
     "data": {
      "image/png": "[encoded data removed]",
      "text/plain": [
       "<Figure size 640x480 with 1 Axes>"
      ]
     },
     "metadata": {},
     "output_type": "display_data"
    }
   ],
   "source": [
    "sns.boxplot(df['screen_size'])"
   ]
  },
  {
   "cell_type": "code",
   "execution_count": 53,
   "id": "a4af879e-265c-48fd-a68c-0e373ae8b390",
   "metadata": {},
   "outputs": [
    {
     "data": {
      "text/plain": [
       "extended_memory\n",
       "0                       362\n",
       "1 TB                    262\n",
       "512 GB                  116\n",
       "256 GB                  100\n",
       "Not Specified            88\n",
       "Memory Card (Hybrid)     30\n",
       "128 GB                    9\n",
       "2 TB                      6\n",
       "32 GB                     3\n",
       "64 GB                     3\n",
       "1000 GB                   1\n",
       "Name: count, dtype: int64"
      ]
     },
     "execution_count": 53,
     "metadata": {},
     "output_type": "execute_result"
    }
   ],
   "source": [
    "df['extended_memory'].value_counts()"
   ]
  },
  {
   "cell_type": "code",
   "execution_count": 54,
   "id": "e8e4a795-0464-4f32-b207-2391a71840a4",
   "metadata": {},
   "outputs": [],
   "source": [
    "df['extended_memory_available'] = df['extended_memory'].apply(lambda x:0 if x == '0' else 1)"
   ]
  },
  {
   "cell_type": "code",
   "execution_count": 55,
   "id": "c3155538-1810-4421-85df-136f5342fdc2",
   "metadata": {},
   "outputs": [],
   "source": [
    "def extended_extractor(row):\n",
    "\n",
    "  if row['extended_memory_available'] == 0:\n",
    "    return np.nan\n",
    "  else:\n",
    "    if row['extended_memory'] == '1 TB':\n",
    "      return 1024\n",
    "    elif row['extended_memory'] == '512 GB':\n",
    "      return 512\n",
    "    elif row['extended_memory'] == '256 GB':\n",
    "      return 256\n",
    "    elif row['extended_memory'] == 'Not Specified':\n",
    "      return np.nan\n",
    "    elif row['extended_memory'] == 'Memory Card (Hybrid)':\n",
    "      return np.nan\n",
    "    elif row['extended_memory'] == '128 GB':\n",
    "      return 128\n",
    "    elif row['extended_memory'] == '2 TB':\n",
    "      return 2048\n",
    "    elif row['extended_memory'] == '32 GB':\n",
    "      return 32\n",
    "    elif row['extended_memory'] == '64 GB':\n",
    "      return 64\n",
    "    elif row['extended_memory'] == '1000 GB':\n",
    "      return 1000\n",
    "\n",
    "\n"
   ]
  },
  {
   "cell_type": "code",
   "execution_count": 56,
   "id": "1972e45a-61b7-4dbb-80a7-9b5812bf2d59",
   "metadata": {},
   "outputs": [],
   "source": [
    "def extended_extractor(row):\n",
    "\n",
    "  if row['extended_memory_available'] == 0:\n",
    "    return np.nan\n",
    "  else:\n",
    "    if row['extended_memory'] == 'Not Specified':\n",
    "      return np.nan\n",
    "    elif row['extended_memory'] == 'Memory Card (Hybrid)':\n",
    "      return np.nan\n",
    "    else:\n",
    "      return row['extended_memory']"
   ]
  },
  {
   "cell_type": "code",
   "execution_count": 57,
   "id": "3e8eccee-e1d8-4fea-9331-069c353933cf",
   "metadata": {},
   "outputs": [],
   "source": [
    "x = df.apply(extended_extractor,axis=1).str.replace('\\u2009',' ').str.split(' ').str.get(0)"
   ]
  },
  {
   "cell_type": "code",
   "execution_count": 58,
   "id": "bafa2650-620c-4a4e-b2f9-c502632fcc13",
   "metadata": {},
   "outputs": [],
   "source": [
    "df['extended_upto'] = x"
   ]
  },
  {
   "cell_type": "code",
   "execution_count": 59,
   "id": "dbf3bc07-28dd-4b71-a3c2-7c536e688e94",
   "metadata": {},
   "outputs": [
    {
     "data": {
      "text/plain": [
       "extended_upto\n",
       "1       262\n",
       "512     116\n",
       "256     100\n",
       "128       9\n",
       "2         6\n",
       "32        3\n",
       "64        3\n",
       "1000      1\n",
       "Name: count, dtype: int64"
      ]
     },
     "execution_count": 59,
     "metadata": {},
     "output_type": "execute_result"
    }
   ],
   "source": [
    "df['extended_upto'].value_counts()"
   ]
  },
  {
   "cell_type": "code",
   "execution_count": 60,
   "id": "0871efa5-d2bc-4efe-9e5a-e13d3972fb1d",
   "metadata": {},
   "outputs": [],
   "source": [
    "def transform(text):\n",
    "\n",
    "  if text == '1':\n",
    "    return '1024'\n",
    "  elif text == '2':\n",
    "    return '2048'\n",
    "  elif text == '1000':\n",
    "    return '1024'\n",
    "  else:\n",
    "    return text"
   ]
  },
  {
   "cell_type": "code",
   "execution_count": 61,
   "id": "e2f58fee-6666-4dcc-b266-ada04203d6a9",
   "metadata": {},
   "outputs": [],
   "source": [
    "df['extended_upto'] = df['extended_upto'].apply(transform)"
   ]
  },
  {
   "cell_type": "code",
   "execution_count": 62,
   "id": "b53c008f-0be5-4c8c-b948-a1fbe6023876",
   "metadata": {},
   "outputs": [],
   "source": [
    "def os_transform(text):\n",
    "\n",
    "  if 'Memory' in text:\n",
    "    return np.nan\n",
    "  elif 'android' in text:\n",
    "    return text\n",
    "  elif 'ios' in text:\n",
    "    return text\n",
    "  else:\n",
    "    return 'other'"
   ]
  },
  {
   "cell_type": "code",
   "execution_count": 63,
   "id": "1400cc67-e013-4c92-a368-6e9e0db868e0",
   "metadata": {},
   "outputs": [],
   "source": [
    "df['os'] = df['os'].apply(os_transform)"
   ]
  },
  {
   "cell_type": "code",
   "execution_count": 64,
   "id": "1641efb1-f9ae-484c-87a2-b2f27653e1d2",
   "metadata": {},
   "outputs": [
    {
     "data": {
      "text/plain": [
       "extended_upto\n",
       "1024    263\n",
       "512     116\n",
       "256     100\n",
       "128       9\n",
       "2048      6\n",
       "32        3\n",
       "64        3\n",
       "Name: count, dtype: int64"
      ]
     },
     "execution_count": 64,
     "metadata": {},
     "output_type": "execute_result"
    }
   ],
   "source": [
    "df['extended_upto'].value_counts()"
   ]
  },
  {
   "cell_type": "code",
   "execution_count": 65,
   "id": "b5f70430-4046-4d46-b220-87543d76b8e5",
   "metadata": {},
   "outputs": [],
   "source": [
    "df.drop(columns=['processor_name','extended_memory'],inplace=True)"
   ]
  },
  {
   "cell_type": "code",
   "execution_count": 68,
   "id": "6dceb21d-26ff-4bd9-a071-7fb425e1e599",
   "metadata": {},
   "outputs": [
    {
     "data": {
      "text/plain": [
       "price                        0.283504\n",
       "rating                       1.000000\n",
       "has_5g                       0.596087\n",
       "has_nfc                      0.474754\n",
       "has_ir_blaster               0.156421\n",
       "processor_speed              0.628446\n",
       "battery_capacity            -0.015581\n",
       "fast_charging_available      0.542814\n",
       "fast_charging                0.527613\n",
       "ram_capacity                 0.757613\n",
       "internal_memory              0.481070\n",
       "screen_size                  0.298272\n",
       "refresh_rate                 0.610795\n",
       "num_rear_cameras             0.515531\n",
       "primary_camera_rear          0.562046\n",
       "extended_memory_available   -0.415265\n",
       "Name: rating, dtype: float64"
      ]
     },
     "execution_count": 68,
     "metadata": {},
     "output_type": "execute_result"
    }
   ],
   "source": [
    "df.corr(numeric_only= True)['rating']"
   ]
  },
  {
   "cell_type": "code",
   "execution_count": 69,
   "id": "ae8f9a2e-3f94-4232-bd2c-6c127aef8c1d",
   "metadata": {},
   "outputs": [
    {
     "data": {
      "text/plain": [
       "primary_camera_front\n",
       "16      307\n",
       "8       178\n",
       "32      155\n",
       "5       119\n",
       "12       50\n",
       "13       41\n",
       "20       37\n",
       "10       24\n",
       "50       12\n",
       "60       10\n",
       "44        8\n",
       "40        6\n",
       "2         5\n",
       "7         5\n",
       "24        3\n",
       "25        3\n",
       "10.8      3\n",
       "48        2\n",
       "11.1      2\n",
       "0.3       1\n",
       "2.1       1\n",
       "Main      1\n",
       "10.7      1\n",
       "10.1      1\n",
       "12.6      1\n",
       "Name: count, dtype: int64"
      ]
     },
     "execution_count": 69,
     "metadata": {},
     "output_type": "execute_result"
    }
   ],
   "source": [
    "df['primary_camera_front'].value_counts()"
   ]
  },
  {
   "cell_type": "code",
   "execution_count": 70,
   "id": "8ede2bfd-b96a-4b1a-b8c4-5d2c36836565",
   "metadata": {},
   "outputs": [],
   "source": [
    "df['primary_camera_front'] = df['primary_camera_front'].apply(lambda x: np.nan if x == 'Main' else x).astype(float)"
   ]
  },
  {
   "cell_type": "code",
   "execution_count": 71,
   "id": "df3ac4e7-4210-40d8-9221-201c09eac5c8",
   "metadata": {},
   "outputs": [
    {
     "data": {
      "text/plain": [
       "num_cores\n",
       "Octa Core    899\n",
       "Hexa Core     39\n",
       "Quad Core     36\n",
       "Name: count, dtype: int64"
      ]
     },
     "execution_count": 71,
     "metadata": {},
     "output_type": "execute_result"
    }
   ],
   "source": [
    "df['num_cores'].value_counts()"
   ]
  },
  {
   "cell_type": "code",
   "execution_count": 72,
   "id": "4e508dd2-ede2-4f73-b535-f8ab390acb09",
   "metadata": {},
   "outputs": [],
   "source": [
    "df['num_cores'] = df['num_cores'].str.replace('Octa Core','8')\n",
    "df['num_cores'] = df['num_cores'].str.replace('Hexa Core','6')\n",
    "df['num_cores'] = df['num_cores'].str.replace('Quad Core','4')"
   ]
  },
  {
   "cell_type": "code",
   "execution_count": 75,
   "id": "f57e13cb-3286-40fb-a499-72955f360a12",
   "metadata": {},
   "outputs": [],
   "source": [
    "df.to_csv('smartphone_cleaned_v4.csv',index=False)"
   ]
  },
  {
   "cell_type": "code",
   "execution_count": 76,
   "id": "74076c89-7459-40ae-a9df-cb0f4b6fda35",
   "metadata": {},
   "outputs": [],
   "source": [
    "new_df = pd.read_csv('smartphone_cleaned_v4.csv')"
   ]
  },
  {
   "cell_type": "code",
   "execution_count": 77,
   "id": "f9f00bc4-2f31-4a7d-8ac2-3b594cef6de7",
   "metadata": {},
   "outputs": [
    {
     "data": {
      "text/html": [
       "<div>\n",
       "<style scoped>\n",
       "    .dataframe tbody tr th:only-of-type {\n",
       "        vertical-align: middle;\n",
       "    }\n",
       "\n",
       "    .dataframe tbody tr th {\n",
       "        vertical-align: top;\n",
       "    }\n",
       "\n",
       "    .dataframe thead th {\n",
       "        text-align: right;\n",
       "    }\n",
       "</style>\n",
       "<table border=\"1\" class=\"dataframe\">\n",
       "  <thead>\n",
       "    <tr style=\"text-align: right;\">\n",
       "      <th></th>\n",
       "      <th>brand_name</th>\n",
       "      <th>model</th>\n",
       "      <th>processor_brand</th>\n",
       "    </tr>\n",
       "  </thead>\n",
       "  <tbody>\n",
       "    <tr>\n",
       "      <th>0</th>\n",
       "      <td>oneplus</td>\n",
       "      <td>OnePlus 11 5G</td>\n",
       "      <td>snapdragon</td>\n",
       "    </tr>\n",
       "    <tr>\n",
       "      <th>1</th>\n",
       "      <td>oneplus</td>\n",
       "      <td>OnePlus Nord CE 2 Lite 5G</td>\n",
       "      <td>snapdragon</td>\n",
       "    </tr>\n",
       "    <tr>\n",
       "      <th>2</th>\n",
       "      <td>samsung</td>\n",
       "      <td>Samsung Galaxy A14 5G</td>\n",
       "      <td>exynos</td>\n",
       "    </tr>\n",
       "    <tr>\n",
       "      <th>3</th>\n",
       "      <td>motorola</td>\n",
       "      <td>Motorola Moto G62 5G</td>\n",
       "      <td>snapdragon</td>\n",
       "    </tr>\n",
       "    <tr>\n",
       "      <th>4</th>\n",
       "      <td>realme</td>\n",
       "      <td>Realme 10 Pro Plus</td>\n",
       "      <td>dimensity</td>\n",
       "    </tr>\n",
       "    <tr>\n",
       "      <th>...</th>\n",
       "      <td>...</td>\n",
       "      <td>...</td>\n",
       "      <td>...</td>\n",
       "    </tr>\n",
       "    <tr>\n",
       "      <th>975</th>\n",
       "      <td>motorola</td>\n",
       "      <td>Motorola Moto Edge S30 Pro</td>\n",
       "      <td>snapdragon</td>\n",
       "    </tr>\n",
       "    <tr>\n",
       "      <th>976</th>\n",
       "      <td>honor</td>\n",
       "      <td>Honor X8 5G</td>\n",
       "      <td>snapdragon</td>\n",
       "    </tr>\n",
       "    <tr>\n",
       "      <th>977</th>\n",
       "      <td>poco</td>\n",
       "      <td>POCO X4 GT 5G (8GB RAM + 256GB)</td>\n",
       "      <td>dimensity</td>\n",
       "    </tr>\n",
       "    <tr>\n",
       "      <th>978</th>\n",
       "      <td>motorola</td>\n",
       "      <td>Motorola Moto G91 5G</td>\n",
       "      <td>snapdragon</td>\n",
       "    </tr>\n",
       "    <tr>\n",
       "      <th>979</th>\n",
       "      <td>samsung</td>\n",
       "      <td>Samsung Galaxy M52s 5G</td>\n",
       "      <td>NaN</td>\n",
       "    </tr>\n",
       "  </tbody>\n",
       "</table>\n",
       "<p>980 rows × 3 columns</p>\n",
       "</div>"
      ],
      "text/plain": [
       "    brand_name                            model processor_brand\n",
       "0      oneplus                    OnePlus 11 5G      snapdragon\n",
       "1      oneplus        OnePlus Nord CE 2 Lite 5G      snapdragon\n",
       "2      samsung            Samsung Galaxy A14 5G          exynos\n",
       "3     motorola             Motorola Moto G62 5G      snapdragon\n",
       "4       realme               Realme 10 Pro Plus       dimensity\n",
       "..         ...                              ...             ...\n",
       "975   motorola       Motorola Moto Edge S30 Pro      snapdragon\n",
       "976      honor                      Honor X8 5G      snapdragon\n",
       "977       poco  POCO X4 GT 5G (8GB RAM + 256GB)       dimensity\n",
       "978   motorola             Motorola Moto G91 5G      snapdragon\n",
       "979    samsung           Samsung Galaxy M52s 5G             NaN\n",
       "\n",
       "[980 rows x 3 columns]"
      ]
     },
     "execution_count": 77,
     "metadata": {},
     "output_type": "execute_result"
    }
   ],
   "source": [
    "new_df[['brand_name','model','processor_brand']]"
   ]
  },
  {
   "cell_type": "code",
   "execution_count": 82,
   "id": "1335ff01-3b15-4473-8541-f7055f7a4e48",
   "metadata": {},
   "outputs": [
    {
     "data": {
      "text/plain": [
       "brand_name                     0\n",
       "model                          0\n",
       "price                          0\n",
       "rating                       101\n",
       "has_5g                         0\n",
       "has_nfc                        0\n",
       "has_ir_blaster                 0\n",
       "processor_brand               20\n",
       "num_cores                      6\n",
       "processor_speed               42\n",
       "battery_capacity              11\n",
       "fast_charging_available        0\n",
       "fast_charging                211\n",
       "ram_capacity                   0\n",
       "internal_memory                0\n",
       "screen_size                    0\n",
       "refresh_rate                   0\n",
       "resolution                     0\n",
       "num_rear_cameras               0\n",
       "num_front_cameras              0\n",
       "os                            14\n",
       "primary_camera_rear            0\n",
       "primary_camera_front           5\n",
       "extended_memory_available      0\n",
       "extended_upto                480\n",
       "dtype: int64"
      ]
     },
     "execution_count": 82,
     "metadata": {},
     "output_type": "execute_result"
    }
   ],
   "source": [
    "new_df.isnull().sum()"
   ]
  },
  {
   "cell_type": "code",
   "execution_count": 83,
   "id": "12a7d016-b9fd-49bc-b866-145dfd462c87",
   "metadata": {},
   "outputs": [],
   "source": [
    "new_df.to_csv('smartphone_cleaned_v5.csv',index=False)"
   ]
  },
  {
   "cell_type": "code",
   "execution_count": 84,
   "id": "0875b1cd-230d-439a-abd1-19ced64d186b",
   "metadata": {},
   "outputs": [
    {
     "data": {
      "text/html": [
       "<div>\n",
       "<style scoped>\n",
       "    .dataframe tbody tr th:only-of-type {\n",
       "        vertical-align: middle;\n",
       "    }\n",
       "\n",
       "    .dataframe tbody tr th {\n",
       "        vertical-align: top;\n",
       "    }\n",
       "\n",
       "    .dataframe thead th {\n",
       "        text-align: right;\n",
       "    }\n",
       "</style>\n",
       "<table border=\"1\" class=\"dataframe\">\n",
       "  <thead>\n",
       "    <tr style=\"text-align: right;\">\n",
       "      <th></th>\n",
       "      <th>brand_name</th>\n",
       "      <th>model</th>\n",
       "      <th>processor_brand</th>\n",
       "      <th>resolution</th>\n",
       "      <th>num_front_cameras</th>\n",
       "      <th>os</th>\n",
       "    </tr>\n",
       "  </thead>\n",
       "  <tbody>\n",
       "    <tr>\n",
       "      <th>0</th>\n",
       "      <td>oneplus</td>\n",
       "      <td>OnePlus 11 5G</td>\n",
       "      <td>snapdragon</td>\n",
       "      <td>1440 x 3216</td>\n",
       "      <td>1</td>\n",
       "      <td>android</td>\n",
       "    </tr>\n",
       "    <tr>\n",
       "      <th>1</th>\n",
       "      <td>oneplus</td>\n",
       "      <td>OnePlus Nord CE 2 Lite 5G</td>\n",
       "      <td>snapdragon</td>\n",
       "      <td>1080 x 2412</td>\n",
       "      <td>1</td>\n",
       "      <td>android</td>\n",
       "    </tr>\n",
       "    <tr>\n",
       "      <th>2</th>\n",
       "      <td>samsung</td>\n",
       "      <td>Samsung Galaxy A14 5G</td>\n",
       "      <td>exynos</td>\n",
       "      <td>1080 x 2408</td>\n",
       "      <td>1</td>\n",
       "      <td>android</td>\n",
       "    </tr>\n",
       "    <tr>\n",
       "      <th>3</th>\n",
       "      <td>motorola</td>\n",
       "      <td>Motorola Moto G62 5G</td>\n",
       "      <td>snapdragon</td>\n",
       "      <td>1080 x 2400</td>\n",
       "      <td>1</td>\n",
       "      <td>android</td>\n",
       "    </tr>\n",
       "    <tr>\n",
       "      <th>4</th>\n",
       "      <td>realme</td>\n",
       "      <td>Realme 10 Pro Plus</td>\n",
       "      <td>dimensity</td>\n",
       "      <td>1080 x 2412</td>\n",
       "      <td>1</td>\n",
       "      <td>android</td>\n",
       "    </tr>\n",
       "    <tr>\n",
       "      <th>...</th>\n",
       "      <td>...</td>\n",
       "      <td>...</td>\n",
       "      <td>...</td>\n",
       "      <td>...</td>\n",
       "      <td>...</td>\n",
       "      <td>...</td>\n",
       "    </tr>\n",
       "    <tr>\n",
       "      <th>975</th>\n",
       "      <td>motorola</td>\n",
       "      <td>Motorola Moto Edge S30 Pro</td>\n",
       "      <td>snapdragon</td>\n",
       "      <td>1080 x 2460</td>\n",
       "      <td>1</td>\n",
       "      <td>android</td>\n",
       "    </tr>\n",
       "    <tr>\n",
       "      <th>976</th>\n",
       "      <td>honor</td>\n",
       "      <td>Honor X8 5G</td>\n",
       "      <td>snapdragon</td>\n",
       "      <td>720 x 1600</td>\n",
       "      <td>1</td>\n",
       "      <td>android</td>\n",
       "    </tr>\n",
       "    <tr>\n",
       "      <th>977</th>\n",
       "      <td>poco</td>\n",
       "      <td>POCO X4 GT 5G (8GB RAM + 256GB)</td>\n",
       "      <td>dimensity</td>\n",
       "      <td>1080 x 2460</td>\n",
       "      <td>1</td>\n",
       "      <td>android</td>\n",
       "    </tr>\n",
       "    <tr>\n",
       "      <th>978</th>\n",
       "      <td>motorola</td>\n",
       "      <td>Motorola Moto G91 5G</td>\n",
       "      <td>snapdragon</td>\n",
       "      <td>1080 x 2400</td>\n",
       "      <td>1</td>\n",
       "      <td>android</td>\n",
       "    </tr>\n",
       "    <tr>\n",
       "      <th>979</th>\n",
       "      <td>samsung</td>\n",
       "      <td>Samsung Galaxy M52s 5G</td>\n",
       "      <td>NaN</td>\n",
       "      <td>1080 x 2400</td>\n",
       "      <td>1</td>\n",
       "      <td>android</td>\n",
       "    </tr>\n",
       "  </tbody>\n",
       "</table>\n",
       "<p>980 rows × 6 columns</p>\n",
       "</div>"
      ],
      "text/plain": [
       "    brand_name                            model processor_brand    resolution  \\\n",
       "0      oneplus                    OnePlus 11 5G      snapdragon  1440 x 3216    \n",
       "1      oneplus        OnePlus Nord CE 2 Lite 5G      snapdragon  1080 x 2412    \n",
       "2      samsung            Samsung Galaxy A14 5G          exynos  1080 x 2408    \n",
       "3     motorola             Motorola Moto G62 5G      snapdragon  1080 x 2400    \n",
       "4       realme               Realme 10 Pro Plus       dimensity  1080 x 2412    \n",
       "..         ...                              ...             ...           ...   \n",
       "975   motorola       Motorola Moto Edge S30 Pro      snapdragon  1080 x 2460    \n",
       "976      honor                      Honor X8 5G      snapdragon   720 x 1600    \n",
       "977       poco  POCO X4 GT 5G (8GB RAM + 256GB)       dimensity  1080 x 2460    \n",
       "978   motorola             Motorola Moto G91 5G      snapdragon  1080 x 2400    \n",
       "979    samsung           Samsung Galaxy M52s 5G             NaN  1080 x 2400    \n",
       "\n",
       "    num_front_cameras       os  \n",
       "0                   1  android  \n",
       "1                   1  android  \n",
       "2                   1  android  \n",
       "3                   1  android  \n",
       "4                   1  android  \n",
       "..                ...      ...  \n",
       "975                 1  android  \n",
       "976                 1  android  \n",
       "977                 1  android  \n",
       "978                 1  android  \n",
       "979                 1  android  \n",
       "\n",
       "[980 rows x 6 columns]"
      ]
     },
     "execution_count": 84,
     "metadata": {},
     "output_type": "execute_result"
    }
   ],
   "source": [
    "new_df.select_dtypes(include=['object'])"
   ]
  },
  {
   "cell_type": "code",
   "execution_count": 92,
   "id": "414b3ace-9233-4cf7-b268-aad74937cf88",
   "metadata": {},
   "outputs": [],
   "source": [
    "# from sklearn.impute import KNNImputer\n",
    "\n",
    "# knn = KNNImputer(n_neighbors=3,weights='distance')\n",
    "\n",
    "# return_array = knn.fit_transform(x_df)"
   ]
  },
  {
   "cell_type": "code",
   "execution_count": 93,
   "id": "107066e9-3e08-44e3-9da9-ae3daeb58ec7",
   "metadata": {},
   "outputs": [],
   "source": [
    "# x = pd.DataFrame(return_array, columns=x_df.columns).corr()['price'].reset_index()"
   ]
  },
  {
   "cell_type": "code",
   "execution_count": 94,
   "id": "9b6e6a23-69e7-4ea9-8edd-ca95ebabef17",
   "metadata": {},
   "outputs": [],
   "source": [
    "# y = new_df.corr()['price'].reset_index()"
   ]
  },
  {
   "cell_type": "code",
   "execution_count": 95,
   "id": "fd3fca74-f203-4006-a621-325fe1993205",
   "metadata": {},
   "outputs": [],
   "source": [
    "# x.merge(y,on='index')"
   ]
  },
  {
   "cell_type": "code",
   "execution_count": 89,
   "id": "e1122b04-9f53-454f-8c31-21917e7f26b6",
   "metadata": {},
   "outputs": [
    {
     "data": {
      "text/html": [
       "<div>\n",
       "<style scoped>\n",
       "    .dataframe tbody tr th:only-of-type {\n",
       "        vertical-align: middle;\n",
       "    }\n",
       "\n",
       "    .dataframe tbody tr th {\n",
       "        vertical-align: top;\n",
       "    }\n",
       "\n",
       "    .dataframe thead th {\n",
       "        text-align: right;\n",
       "    }\n",
       "</style>\n",
       "<table border=\"1\" class=\"dataframe\">\n",
       "  <thead>\n",
       "    <tr style=\"text-align: right;\">\n",
       "      <th></th>\n",
       "      <th>model</th>\n",
       "      <th>price</th>\n",
       "      <th>rating</th>\n",
       "      <th>has_5g</th>\n",
       "      <th>has_nfc</th>\n",
       "      <th>has_ir_blaster</th>\n",
       "      <th>num_cores</th>\n",
       "      <th>processor_speed</th>\n",
       "      <th>battery_capacity</th>\n",
       "      <th>fast_charging_available</th>\n",
       "      <th>...</th>\n",
       "      <th>processor_brand_helio</th>\n",
       "      <th>processor_brand_kirin</th>\n",
       "      <th>processor_brand_mediatek</th>\n",
       "      <th>processor_brand_sc9863a</th>\n",
       "      <th>processor_brand_snapdragon</th>\n",
       "      <th>processor_brand_spreadtrum</th>\n",
       "      <th>processor_brand_tiger</th>\n",
       "      <th>processor_brand_unisoc</th>\n",
       "      <th>os_ios</th>\n",
       "      <th>os_other</th>\n",
       "    </tr>\n",
       "  </thead>\n",
       "  <tbody>\n",
       "    <tr>\n",
       "      <th>0</th>\n",
       "      <td>OnePlus 11 5G</td>\n",
       "      <td>54999</td>\n",
       "      <td>89.0</td>\n",
       "      <td>True</td>\n",
       "      <td>True</td>\n",
       "      <td>False</td>\n",
       "      <td>8.0</td>\n",
       "      <td>3.20</td>\n",
       "      <td>5000.0</td>\n",
       "      <td>1</td>\n",
       "      <td>...</td>\n",
       "      <td>False</td>\n",
       "      <td>False</td>\n",
       "      <td>False</td>\n",
       "      <td>False</td>\n",
       "      <td>True</td>\n",
       "      <td>False</td>\n",
       "      <td>False</td>\n",
       "      <td>False</td>\n",
       "      <td>False</td>\n",
       "      <td>False</td>\n",
       "    </tr>\n",
       "    <tr>\n",
       "      <th>1</th>\n",
       "      <td>OnePlus Nord CE 2 Lite 5G</td>\n",
       "      <td>19989</td>\n",
       "      <td>81.0</td>\n",
       "      <td>True</td>\n",
       "      <td>False</td>\n",
       "      <td>False</td>\n",
       "      <td>8.0</td>\n",
       "      <td>2.20</td>\n",
       "      <td>5000.0</td>\n",
       "      <td>1</td>\n",
       "      <td>...</td>\n",
       "      <td>False</td>\n",
       "      <td>False</td>\n",
       "      <td>False</td>\n",
       "      <td>False</td>\n",
       "      <td>True</td>\n",
       "      <td>False</td>\n",
       "      <td>False</td>\n",
       "      <td>False</td>\n",
       "      <td>False</td>\n",
       "      <td>False</td>\n",
       "    </tr>\n",
       "    <tr>\n",
       "      <th>2</th>\n",
       "      <td>Samsung Galaxy A14 5G</td>\n",
       "      <td>16499</td>\n",
       "      <td>75.0</td>\n",
       "      <td>True</td>\n",
       "      <td>False</td>\n",
       "      <td>False</td>\n",
       "      <td>8.0</td>\n",
       "      <td>2.40</td>\n",
       "      <td>5000.0</td>\n",
       "      <td>1</td>\n",
       "      <td>...</td>\n",
       "      <td>False</td>\n",
       "      <td>False</td>\n",
       "      <td>False</td>\n",
       "      <td>False</td>\n",
       "      <td>False</td>\n",
       "      <td>False</td>\n",
       "      <td>False</td>\n",
       "      <td>False</td>\n",
       "      <td>False</td>\n",
       "      <td>False</td>\n",
       "    </tr>\n",
       "    <tr>\n",
       "      <th>3</th>\n",
       "      <td>Motorola Moto G62 5G</td>\n",
       "      <td>14999</td>\n",
       "      <td>81.0</td>\n",
       "      <td>True</td>\n",
       "      <td>False</td>\n",
       "      <td>False</td>\n",
       "      <td>8.0</td>\n",
       "      <td>2.20</td>\n",
       "      <td>5000.0</td>\n",
       "      <td>1</td>\n",
       "      <td>...</td>\n",
       "      <td>False</td>\n",
       "      <td>False</td>\n",
       "      <td>False</td>\n",
       "      <td>False</td>\n",
       "      <td>True</td>\n",
       "      <td>False</td>\n",
       "      <td>False</td>\n",
       "      <td>False</td>\n",
       "      <td>False</td>\n",
       "      <td>False</td>\n",
       "    </tr>\n",
       "    <tr>\n",
       "      <th>4</th>\n",
       "      <td>Realme 10 Pro Plus</td>\n",
       "      <td>24999</td>\n",
       "      <td>82.0</td>\n",
       "      <td>True</td>\n",
       "      <td>False</td>\n",
       "      <td>False</td>\n",
       "      <td>8.0</td>\n",
       "      <td>2.60</td>\n",
       "      <td>5000.0</td>\n",
       "      <td>1</td>\n",
       "      <td>...</td>\n",
       "      <td>False</td>\n",
       "      <td>False</td>\n",
       "      <td>False</td>\n",
       "      <td>False</td>\n",
       "      <td>False</td>\n",
       "      <td>False</td>\n",
       "      <td>False</td>\n",
       "      <td>False</td>\n",
       "      <td>False</td>\n",
       "      <td>False</td>\n",
       "    </tr>\n",
       "    <tr>\n",
       "      <th>...</th>\n",
       "      <td>...</td>\n",
       "      <td>...</td>\n",
       "      <td>...</td>\n",
       "      <td>...</td>\n",
       "      <td>...</td>\n",
       "      <td>...</td>\n",
       "      <td>...</td>\n",
       "      <td>...</td>\n",
       "      <td>...</td>\n",
       "      <td>...</td>\n",
       "      <td>...</td>\n",
       "      <td>...</td>\n",
       "      <td>...</td>\n",
       "      <td>...</td>\n",
       "      <td>...</td>\n",
       "      <td>...</td>\n",
       "      <td>...</td>\n",
       "      <td>...</td>\n",
       "      <td>...</td>\n",
       "      <td>...</td>\n",
       "      <td>...</td>\n",
       "    </tr>\n",
       "    <tr>\n",
       "      <th>975</th>\n",
       "      <td>Motorola Moto Edge S30 Pro</td>\n",
       "      <td>34990</td>\n",
       "      <td>83.0</td>\n",
       "      <td>True</td>\n",
       "      <td>False</td>\n",
       "      <td>False</td>\n",
       "      <td>8.0</td>\n",
       "      <td>3.00</td>\n",
       "      <td>5000.0</td>\n",
       "      <td>1</td>\n",
       "      <td>...</td>\n",
       "      <td>False</td>\n",
       "      <td>False</td>\n",
       "      <td>False</td>\n",
       "      <td>False</td>\n",
       "      <td>True</td>\n",
       "      <td>False</td>\n",
       "      <td>False</td>\n",
       "      <td>False</td>\n",
       "      <td>False</td>\n",
       "      <td>False</td>\n",
       "    </tr>\n",
       "    <tr>\n",
       "      <th>976</th>\n",
       "      <td>Honor X8 5G</td>\n",
       "      <td>14990</td>\n",
       "      <td>75.0</td>\n",
       "      <td>True</td>\n",
       "      <td>False</td>\n",
       "      <td>False</td>\n",
       "      <td>8.0</td>\n",
       "      <td>2.20</td>\n",
       "      <td>5000.0</td>\n",
       "      <td>1</td>\n",
       "      <td>...</td>\n",
       "      <td>False</td>\n",
       "      <td>False</td>\n",
       "      <td>False</td>\n",
       "      <td>False</td>\n",
       "      <td>True</td>\n",
       "      <td>False</td>\n",
       "      <td>False</td>\n",
       "      <td>False</td>\n",
       "      <td>False</td>\n",
       "      <td>False</td>\n",
       "    </tr>\n",
       "    <tr>\n",
       "      <th>977</th>\n",
       "      <td>POCO X4 GT 5G (8GB RAM + 256GB)</td>\n",
       "      <td>28990</td>\n",
       "      <td>85.0</td>\n",
       "      <td>True</td>\n",
       "      <td>True</td>\n",
       "      <td>True</td>\n",
       "      <td>8.0</td>\n",
       "      <td>2.85</td>\n",
       "      <td>5080.0</td>\n",
       "      <td>1</td>\n",
       "      <td>...</td>\n",
       "      <td>False</td>\n",
       "      <td>False</td>\n",
       "      <td>False</td>\n",
       "      <td>False</td>\n",
       "      <td>False</td>\n",
       "      <td>False</td>\n",
       "      <td>False</td>\n",
       "      <td>False</td>\n",
       "      <td>False</td>\n",
       "      <td>False</td>\n",
       "    </tr>\n",
       "    <tr>\n",
       "      <th>978</th>\n",
       "      <td>Motorola Moto G91 5G</td>\n",
       "      <td>19990</td>\n",
       "      <td>80.0</td>\n",
       "      <td>True</td>\n",
       "      <td>True</td>\n",
       "      <td>False</td>\n",
       "      <td>8.0</td>\n",
       "      <td>2.20</td>\n",
       "      <td>5000.0</td>\n",
       "      <td>1</td>\n",
       "      <td>...</td>\n",
       "      <td>False</td>\n",
       "      <td>False</td>\n",
       "      <td>False</td>\n",
       "      <td>False</td>\n",
       "      <td>True</td>\n",
       "      <td>False</td>\n",
       "      <td>False</td>\n",
       "      <td>False</td>\n",
       "      <td>False</td>\n",
       "      <td>False</td>\n",
       "    </tr>\n",
       "    <tr>\n",
       "      <th>979</th>\n",
       "      <td>Samsung Galaxy M52s 5G</td>\n",
       "      <td>24990</td>\n",
       "      <td>74.0</td>\n",
       "      <td>True</td>\n",
       "      <td>False</td>\n",
       "      <td>False</td>\n",
       "      <td>8.0</td>\n",
       "      <td>NaN</td>\n",
       "      <td>5000.0</td>\n",
       "      <td>1</td>\n",
       "      <td>...</td>\n",
       "      <td>False</td>\n",
       "      <td>False</td>\n",
       "      <td>False</td>\n",
       "      <td>False</td>\n",
       "      <td>False</td>\n",
       "      <td>False</td>\n",
       "      <td>False</td>\n",
       "      <td>False</td>\n",
       "      <td>False</td>\n",
       "      <td>False</td>\n",
       "    </tr>\n",
       "  </tbody>\n",
       "</table>\n",
       "<p>980 rows × 81 columns</p>\n",
       "</div>"
      ],
      "text/plain": [
       "                               model  price  rating  has_5g  has_nfc  \\\n",
       "0                      OnePlus 11 5G  54999    89.0    True     True   \n",
       "1          OnePlus Nord CE 2 Lite 5G  19989    81.0    True    False   \n",
       "2              Samsung Galaxy A14 5G  16499    75.0    True    False   \n",
       "3               Motorola Moto G62 5G  14999    81.0    True    False   \n",
       "4                 Realme 10 Pro Plus  24999    82.0    True    False   \n",
       "..                               ...    ...     ...     ...      ...   \n",
       "975       Motorola Moto Edge S30 Pro  34990    83.0    True    False   \n",
       "976                      Honor X8 5G  14990    75.0    True    False   \n",
       "977  POCO X4 GT 5G (8GB RAM + 256GB)  28990    85.0    True     True   \n",
       "978             Motorola Moto G91 5G  19990    80.0    True     True   \n",
       "979           Samsung Galaxy M52s 5G  24990    74.0    True    False   \n",
       "\n",
       "     has_ir_blaster  num_cores  processor_speed  battery_capacity  \\\n",
       "0             False        8.0             3.20            5000.0   \n",
       "1             False        8.0             2.20            5000.0   \n",
       "2             False        8.0             2.40            5000.0   \n",
       "3             False        8.0             2.20            5000.0   \n",
       "4             False        8.0             2.60            5000.0   \n",
       "..              ...        ...              ...               ...   \n",
       "975           False        8.0             3.00            5000.0   \n",
       "976           False        8.0             2.20            5000.0   \n",
       "977            True        8.0             2.85            5080.0   \n",
       "978           False        8.0             2.20            5000.0   \n",
       "979           False        8.0              NaN            5000.0   \n",
       "\n",
       "     fast_charging_available  ...  processor_brand_helio  \\\n",
       "0                          1  ...                  False   \n",
       "1                          1  ...                  False   \n",
       "2                          1  ...                  False   \n",
       "3                          1  ...                  False   \n",
       "4                          1  ...                  False   \n",
       "..                       ...  ...                    ...   \n",
       "975                        1  ...                  False   \n",
       "976                        1  ...                  False   \n",
       "977                        1  ...                  False   \n",
       "978                        1  ...                  False   \n",
       "979                        1  ...                  False   \n",
       "\n",
       "     processor_brand_kirin  processor_brand_mediatek  processor_brand_sc9863a  \\\n",
       "0                    False                     False                    False   \n",
       "1                    False                     False                    False   \n",
       "2                    False                     False                    False   \n",
       "3                    False                     False                    False   \n",
       "4                    False                     False                    False   \n",
       "..                     ...                       ...                      ...   \n",
       "975                  False                     False                    False   \n",
       "976                  False                     False                    False   \n",
       "977                  False                     False                    False   \n",
       "978                  False                     False                    False   \n",
       "979                  False                     False                    False   \n",
       "\n",
       "     processor_brand_snapdragon processor_brand_spreadtrum  \\\n",
       "0                          True                      False   \n",
       "1                          True                      False   \n",
       "2                         False                      False   \n",
       "3                          True                      False   \n",
       "4                         False                      False   \n",
       "..                          ...                        ...   \n",
       "975                        True                      False   \n",
       "976                        True                      False   \n",
       "977                       False                      False   \n",
       "978                        True                      False   \n",
       "979                       False                      False   \n",
       "\n",
       "     processor_brand_tiger processor_brand_unisoc  os_ios  os_other  \n",
       "0                    False                  False   False     False  \n",
       "1                    False                  False   False     False  \n",
       "2                    False                  False   False     False  \n",
       "3                    False                  False   False     False  \n",
       "4                    False                  False   False     False  \n",
       "..                     ...                    ...     ...       ...  \n",
       "975                  False                  False   False     False  \n",
       "976                  False                  False   False     False  \n",
       "977                  False                  False   False     False  \n",
       "978                  False                  False   False     False  \n",
       "979                  False                  False   False     False  \n",
       "\n",
       "[980 rows x 81 columns]"
      ]
     },
     "execution_count": 89,
     "metadata": {},
     "output_type": "execute_result"
    }
   ],
   "source": [
    "pd.get_dummies(new_df,columns=['brand_name','processor_brand','os'],drop_first=True)"
   ]
  },
  {
   "cell_type": "code",
   "execution_count": 90,
   "id": "ceaf4646-b566-4297-bc6e-003933bdf6ed",
   "metadata": {},
   "outputs": [],
   "source": [
    "new_df['brand_name'] = new_df['brand_name'].astype('category')"
   ]
  },
  {
   "cell_type": "code",
   "execution_count": 91,
   "id": "afd649c2-06eb-41ff-86a2-972d77cbbe59",
   "metadata": {},
   "outputs": [
    {
     "data": {
      "text/html": [
       "<div>\n",
       "<style scoped>\n",
       "    .dataframe tbody tr th:only-of-type {\n",
       "        vertical-align: middle;\n",
       "    }\n",
       "\n",
       "    .dataframe tbody tr th {\n",
       "        vertical-align: top;\n",
       "    }\n",
       "\n",
       "    .dataframe thead th {\n",
       "        text-align: right;\n",
       "    }\n",
       "</style>\n",
       "<table border=\"1\" class=\"dataframe\">\n",
       "  <thead>\n",
       "    <tr style=\"text-align: right;\">\n",
       "      <th></th>\n",
       "      <th>brand_name</th>\n",
       "      <th>model</th>\n",
       "      <th>price</th>\n",
       "      <th>rating</th>\n",
       "      <th>has_5g</th>\n",
       "      <th>has_nfc</th>\n",
       "      <th>has_ir_blaster</th>\n",
       "      <th>processor_brand</th>\n",
       "      <th>num_cores</th>\n",
       "      <th>processor_speed</th>\n",
       "      <th>...</th>\n",
       "      <th>screen_size</th>\n",
       "      <th>refresh_rate</th>\n",
       "      <th>resolution</th>\n",
       "      <th>num_rear_cameras</th>\n",
       "      <th>num_front_cameras</th>\n",
       "      <th>os</th>\n",
       "      <th>primary_camera_rear</th>\n",
       "      <th>primary_camera_front</th>\n",
       "      <th>extended_memory_available</th>\n",
       "      <th>extended_upto</th>\n",
       "    </tr>\n",
       "  </thead>\n",
       "  <tbody>\n",
       "    <tr>\n",
       "      <th>0</th>\n",
       "      <td>oneplus</td>\n",
       "      <td>OnePlus 11 5G</td>\n",
       "      <td>54999</td>\n",
       "      <td>89.0</td>\n",
       "      <td>True</td>\n",
       "      <td>True</td>\n",
       "      <td>False</td>\n",
       "      <td>snapdragon</td>\n",
       "      <td>8.0</td>\n",
       "      <td>3.2</td>\n",
       "      <td>...</td>\n",
       "      <td>6.70</td>\n",
       "      <td>120</td>\n",
       "      <td>1440 x 3216</td>\n",
       "      <td>3</td>\n",
       "      <td>1</td>\n",
       "      <td>android</td>\n",
       "      <td>50.0</td>\n",
       "      <td>16.0</td>\n",
       "      <td>0</td>\n",
       "      <td>NaN</td>\n",
       "    </tr>\n",
       "    <tr>\n",
       "      <th>1</th>\n",
       "      <td>oneplus</td>\n",
       "      <td>OnePlus Nord CE 2 Lite 5G</td>\n",
       "      <td>19989</td>\n",
       "      <td>81.0</td>\n",
       "      <td>True</td>\n",
       "      <td>False</td>\n",
       "      <td>False</td>\n",
       "      <td>snapdragon</td>\n",
       "      <td>8.0</td>\n",
       "      <td>2.2</td>\n",
       "      <td>...</td>\n",
       "      <td>6.59</td>\n",
       "      <td>120</td>\n",
       "      <td>1080 x 2412</td>\n",
       "      <td>3</td>\n",
       "      <td>1</td>\n",
       "      <td>android</td>\n",
       "      <td>64.0</td>\n",
       "      <td>16.0</td>\n",
       "      <td>1</td>\n",
       "      <td>1024.0</td>\n",
       "    </tr>\n",
       "    <tr>\n",
       "      <th>2</th>\n",
       "      <td>samsung</td>\n",
       "      <td>Samsung Galaxy A14 5G</td>\n",
       "      <td>16499</td>\n",
       "      <td>75.0</td>\n",
       "      <td>True</td>\n",
       "      <td>False</td>\n",
       "      <td>False</td>\n",
       "      <td>exynos</td>\n",
       "      <td>8.0</td>\n",
       "      <td>2.4</td>\n",
       "      <td>...</td>\n",
       "      <td>6.60</td>\n",
       "      <td>90</td>\n",
       "      <td>1080 x 2408</td>\n",
       "      <td>3</td>\n",
       "      <td>1</td>\n",
       "      <td>android</td>\n",
       "      <td>50.0</td>\n",
       "      <td>13.0</td>\n",
       "      <td>1</td>\n",
       "      <td>1024.0</td>\n",
       "    </tr>\n",
       "    <tr>\n",
       "      <th>3</th>\n",
       "      <td>motorola</td>\n",
       "      <td>Motorola Moto G62 5G</td>\n",
       "      <td>14999</td>\n",
       "      <td>81.0</td>\n",
       "      <td>True</td>\n",
       "      <td>False</td>\n",
       "      <td>False</td>\n",
       "      <td>snapdragon</td>\n",
       "      <td>8.0</td>\n",
       "      <td>2.2</td>\n",
       "      <td>...</td>\n",
       "      <td>6.55</td>\n",
       "      <td>120</td>\n",
       "      <td>1080 x 2400</td>\n",
       "      <td>3</td>\n",
       "      <td>1</td>\n",
       "      <td>android</td>\n",
       "      <td>50.0</td>\n",
       "      <td>16.0</td>\n",
       "      <td>1</td>\n",
       "      <td>1024.0</td>\n",
       "    </tr>\n",
       "    <tr>\n",
       "      <th>4</th>\n",
       "      <td>realme</td>\n",
       "      <td>Realme 10 Pro Plus</td>\n",
       "      <td>24999</td>\n",
       "      <td>82.0</td>\n",
       "      <td>True</td>\n",
       "      <td>False</td>\n",
       "      <td>False</td>\n",
       "      <td>dimensity</td>\n",
       "      <td>8.0</td>\n",
       "      <td>2.6</td>\n",
       "      <td>...</td>\n",
       "      <td>6.70</td>\n",
       "      <td>120</td>\n",
       "      <td>1080 x 2412</td>\n",
       "      <td>3</td>\n",
       "      <td>1</td>\n",
       "      <td>android</td>\n",
       "      <td>108.0</td>\n",
       "      <td>16.0</td>\n",
       "      <td>0</td>\n",
       "      <td>NaN</td>\n",
       "    </tr>\n",
       "  </tbody>\n",
       "</table>\n",
       "<p>5 rows × 25 columns</p>\n",
       "</div>"
      ],
      "text/plain": [
       "  brand_name                      model  price  rating  has_5g  has_nfc  \\\n",
       "0    oneplus              OnePlus 11 5G  54999    89.0    True     True   \n",
       "1    oneplus  OnePlus Nord CE 2 Lite 5G  19989    81.0    True    False   \n",
       "2    samsung      Samsung Galaxy A14 5G  16499    75.0    True    False   \n",
       "3   motorola       Motorola Moto G62 5G  14999    81.0    True    False   \n",
       "4     realme         Realme 10 Pro Plus  24999    82.0    True    False   \n",
       "\n",
       "   has_ir_blaster processor_brand  num_cores  processor_speed  ...  \\\n",
       "0           False      snapdragon        8.0              3.2  ...   \n",
       "1           False      snapdragon        8.0              2.2  ...   \n",
       "2           False          exynos        8.0              2.4  ...   \n",
       "3           False      snapdragon        8.0              2.2  ...   \n",
       "4           False       dimensity        8.0              2.6  ...   \n",
       "\n",
       "   screen_size  refresh_rate    resolution  num_rear_cameras  \\\n",
       "0         6.70           120  1440 x 3216                  3   \n",
       "1         6.59           120  1080 x 2412                  3   \n",
       "2         6.60            90  1080 x 2408                  3   \n",
       "3         6.55           120  1080 x 2400                  3   \n",
       "4         6.70           120  1080 x 2412                  3   \n",
       "\n",
       "   num_front_cameras       os  primary_camera_rear primary_camera_front  \\\n",
       "0                  1  android                 50.0                 16.0   \n",
       "1                  1  android                 64.0                 16.0   \n",
       "2                  1  android                 50.0                 13.0   \n",
       "3                  1  android                 50.0                 16.0   \n",
       "4                  1  android                108.0                 16.0   \n",
       "\n",
       "   extended_memory_available extended_upto  \n",
       "0                          0           NaN  \n",
       "1                          1        1024.0  \n",
       "2                          1        1024.0  \n",
       "3                          1        1024.0  \n",
       "4                          0           NaN  \n",
       "\n",
       "[5 rows x 25 columns]"
      ]
     },
     "execution_count": 91,
     "metadata": {},
     "output_type": "execute_result"
    }
   ],
   "source": [
    "new_df.head()"
   ]
  },
  {
   "cell_type": "code",
   "execution_count": null,
   "id": "9d6e6d24-2531-4bf4-8884-7bcac13a3e4e",
   "metadata": {},
   "outputs": [],
   "source": []
  }
 ],
 "metadata": {
  "kernelspec": {
   "display_name": "Python 3 (ipykernel)",
   "language": "python",
   "name": "python3"
  },
  "language_info": {
   "codemirror_mode": {
    "name": "ipython",
    "version": 3
   },
   "file_extension": ".py",
   "mimetype": "text/x-python",
   "name": "python",
   "nbconvert_exporter": "python",
   "pygments_lexer": "ipython3",
   "version": "3.11.7"
  }
 },
 "nbformat": 4,
 "nbformat_minor": 5
}
