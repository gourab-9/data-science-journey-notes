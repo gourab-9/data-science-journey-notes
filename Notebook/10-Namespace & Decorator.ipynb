{
 "cells": [
  {
   "cell_type": "markdown",
   "id": "68d9fe78-23fc-4694-bd4d-4e954c499752",
   "metadata": {},
   "source": [
    "## Decorator\n",
    "\n",
    "A **decorator** is a function that allows you to modify or extend the behavior of another function without changing its code. It is often used to add functionality to existing functions.\n",
    "\n",
    "### How Decorators Work\n",
    "1. A decorator takes a function as an argument.\n",
    "2. It defines a nested function (often called `wrapper`) that modifies or extends the behavior of the original function.\n",
    "3. The decorator returns the nested function.\n",
    "\n",
    "### Syntax:\n",
    "```python\n",
    "def decorator(func):\n",
    "    def wrapper():\n",
    "        # Modify behavior\n",
    "        return func()\n",
    "    return wrapper\n"
   ]
  },
  {
   "cell_type": "code",
   "execution_count": 1,
   "id": "9feceaee-9c0d-45ff-b08d-555d56a03fe1",
   "metadata": {},
   "outputs": [
    {
     "name": "stdout",
     "output_type": "stream",
     "text": [
      "Before function call\n",
      "Hello!\n",
      "After function call\n"
     ]
    }
   ],
   "source": [
    "def my_decorator(func):\n",
    "    def wrapper():\n",
    "        print(\"Before function call\")\n",
    "        func()\n",
    "        print(\"After function call\")\n",
    "    return wrapper\n",
    "\n",
    "@my_decorator\n",
    "def say_hello():\n",
    "    print(\"Hello!\")\n",
    "\n",
    "say_hello()\n"
   ]
  },
  {
   "cell_type": "markdown",
   "id": "013dd3a4-73f1-4c15-bdef-3f6ff529e779",
   "metadata": {},
   "source": [
    "### Key Points:\n",
    "- Decorators are commonly used for logging, access control, memoization, etc.\n",
    "- You can apply multiple decorators to a function."
   ]
  },
  {
   "cell_type": "markdown",
   "id": "271f8cc8-8eb3-424a-9ab1-4999835e3528",
   "metadata": {},
   "source": [
    "---\n",
    "---"
   ]
  },
  {
   "cell_type": "markdown",
   "id": "36dea272-6752-4eb4-ad8f-fd13349258fd",
   "metadata": {},
   "source": [
    "## Namespaces\n",
    "\n",
    "A **namespace** is a container in Python that holds a collection of identifiers (variable names, function names, etc.) and ensures that they are unique within their scope.\n",
    "\n",
    "### Types of Namespaces:\n",
    "1. **Local Namespace**: \n",
    "   - Exists within a function or method.\n",
    "   - Contains variables and functions defined inside that function.\n",
    "\n",
    "2. **Global Namespace**: \n",
    "   - Defined at the module level.\n",
    "   - Contains variables and functions that are accessible throughout the module.\n",
    "\n",
    "3. **Built-in Namespace**: \n",
    "   - Contains Python's built-in functions, exceptions, and objects.\n",
    "   - Available globally across all Python programs."
   ]
  },
  {
   "cell_type": "markdown",
   "id": "951fd210-eafd-40c3-b907-edb80024b639",
   "metadata": {},
   "source": [
    "## Scope and LEGB Rule\n",
    "\n",
    "A **scope** is a region in a Python program where a particular namespace is directly accessible.\n",
    "\n",
    "### LEGB Rule\n",
    "\n",
    "The **LEGB rule** defines the order in which Python searches for a name:\n",
    "\n",
    "1. **L** (Local) — The innermost scope, containing local variables and functions defined within the current function.\n",
    "2. **E** (Enclosing) — The scope of any enclosing functions, where nested functions can access variables from their parent functions.\n",
    "3. **G** (Global) — The global scope, which includes variables and functions defined at the module level.\n",
    "4. **B** (Built-in) — The outermost scope, containing Python’s built-in functions and exceptions.\n",
    "\n",
    "### How Python Searches for a Name:\n",
    "- Python starts searching for a name in the **local** scope (inside the function).\n",
    "- If it doesn't find the name, it checks the **enclosing** scope (in the case of nested functions).\n",
    "- Then, it checks the **global** scope (at the module level).\n",
    "- Finally, if the name is not found in the first three scopes, Python searches in the **built-in** scope, which contains Python’s built-in objects like `print()` and `len()`.\n",
    "\n",
    "If Python doesn’t find the name in any of these scopes, it raises a `NameError`.\n"
   ]
  },
  {
   "cell_type": "code",
   "execution_count": 2,
   "id": "bbec3fad-6b11-452c-8bd3-713081e1aed6",
   "metadata": {},
   "outputs": [
    {
     "name": "stdout",
     "output_type": "stream",
     "text": [
      "3\n",
      "2\n"
     ]
    }
   ],
   "source": [
    "# local and global\n",
    "\n",
    "a = 2 # global\n",
    "\n",
    "def temp():     # Local Variable\n",
    "    b = 3\n",
    "    print(b)\n",
    "    \n",
    "temp()\n",
    "print(a)"
   ]
  },
  {
   "cell_type": "code",
   "execution_count": 3,
   "id": "9fb82c3c-0792-4a83-aef6-179d892e4478",
   "metadata": {},
   "outputs": [
    {
     "name": "stdout",
     "output_type": "stream",
     "text": [
      "3\n",
      "2\n"
     ]
    }
   ],
   "source": [
    "# local and global --> same name\n",
    "\n",
    "a = 2 # global\n",
    "\n",
    "def temp():     # Local Variable\n",
    "    a = 3\n",
    "    print(a)\n",
    "    \n",
    "temp()\n",
    "print(a)"
   ]
  },
  {
   "cell_type": "code",
   "execution_count": 4,
   "id": "3d109c50-731b-4ce6-8f5f-226e11d959f2",
   "metadata": {},
   "outputs": [
    {
     "name": "stdout",
     "output_type": "stream",
     "text": [
      "2\n",
      "2\n"
     ]
    }
   ],
   "source": [
    "# local and global --> local does not have but global have\n",
    "\n",
    "a = 2 # global\n",
    "\n",
    "def temp():     # Local Variable\n",
    "    print(a)\n",
    "    \n",
    "temp()\n",
    "print(a)"
   ]
  },
  {
   "cell_type": "code",
   "execution_count": 5,
   "id": "4c210ef2-a253-46c8-b28f-ffbc26c525de",
   "metadata": {},
   "outputs": [
    {
     "ename": "UnboundLocalError",
     "evalue": "cannot access local variable 'a' where it is not associated with a value",
     "output_type": "error",
     "traceback": [
      "\u001b[1;31m---------------------------------------------------------------------------\u001b[0m",
      "\u001b[1;31mUnboundLocalError\u001b[0m                         Traceback (most recent call last)",
      "Cell \u001b[1;32mIn[5], line 9\u001b[0m\n\u001b[0;32m      6\u001b[0m     a \u001b[38;5;241m+\u001b[39m\u001b[38;5;241m=\u001b[39m \u001b[38;5;241m1\u001b[39m\n\u001b[0;32m      7\u001b[0m     \u001b[38;5;28mprint\u001b[39m(a)\n\u001b[1;32m----> 9\u001b[0m temp()\n\u001b[0;32m     10\u001b[0m \u001b[38;5;28mprint\u001b[39m(a)\n",
      "Cell \u001b[1;32mIn[5], line 6\u001b[0m, in \u001b[0;36mtemp\u001b[1;34m()\u001b[0m\n\u001b[0;32m      5\u001b[0m \u001b[38;5;28;01mdef\u001b[39;00m \u001b[38;5;21mtemp\u001b[39m():     \u001b[38;5;66;03m# Local Variable\u001b[39;00m\n\u001b[1;32m----> 6\u001b[0m     a \u001b[38;5;241m+\u001b[39m\u001b[38;5;241m=\u001b[39m \u001b[38;5;241m1\u001b[39m\n\u001b[0;32m      7\u001b[0m     \u001b[38;5;28mprint\u001b[39m(a)\n",
      "\u001b[1;31mUnboundLocalError\u001b[0m: cannot access local variable 'a' where it is not associated with a value"
     ]
    }
   ],
   "source": [
    "# local and global --> editing global\n",
    "\n",
    "a = 2 # global\n",
    "\n",
    "def temp():     # Local Variable\n",
    "    a += 1\n",
    "    print(a)\n",
    "    \n",
    "temp()\n",
    "print(a)"
   ]
  },
  {
   "cell_type": "code",
   "execution_count": 6,
   "id": "bedb7ee6-444f-4fb2-88f3-d3617b5bde2c",
   "metadata": {},
   "outputs": [
    {
     "name": "stdout",
     "output_type": "stream",
     "text": [
      "3\n",
      "3\n"
     ]
    }
   ],
   "source": [
    "# local and global --> editing global\n",
    "\n",
    "a = 2 # global\n",
    "\n",
    "def temp():     # Local Variable\n",
    "    global a\n",
    "    a += 1\n",
    "    print(a)\n",
    "    \n",
    "temp()\n",
    "print(a)"
   ]
  },
  {
   "cell_type": "code",
   "execution_count": 7,
   "id": "b14562f9-d793-42b6-bf11-903ca41f60b5",
   "metadata": {},
   "outputs": [
    {
     "name": "stdout",
     "output_type": "stream",
     "text": [
      "1\n",
      "1\n"
     ]
    }
   ],
   "source": [
    "# local and global --> global created inside local\n",
    "\n",
    "\n",
    "def temp():     # Local Variable\n",
    "    global a\n",
    "    a = 1\n",
    "    print(a)\n",
    "    \n",
    "temp()\n",
    "print(a)"
   ]
  },
  {
   "cell_type": "code",
   "execution_count": 8,
   "id": "e229daaa-1440-4b37-bb43-75b9caedfec8",
   "metadata": {},
   "outputs": [
    {
     "name": "stdout",
     "output_type": "stream",
     "text": [
      "5\n",
      "5\n"
     ]
    }
   ],
   "source": [
    "# local and global --> function parameter is local\n",
    "\n",
    "def temp(z):\n",
    "    print(z)\n",
    "\n",
    "a = 5\n",
    "temp(5)\n",
    "print(a)"
   ]
  },
  {
   "cell_type": "code",
   "execution_count": 9,
   "id": "e6a9d5fd-4630-4a11-ab8d-d688ff6975f5",
   "metadata": {},
   "outputs": [
    {
     "name": "stdout",
     "output_type": "stream",
     "text": [
      "['ArithmeticError', 'AssertionError', 'AttributeError', 'BaseException', 'BaseExceptionGroup', 'BlockingIOError', 'BrokenPipeError', 'BufferError', 'BytesWarning', 'ChildProcessError', 'ConnectionAbortedError', 'ConnectionError', 'ConnectionRefusedError', 'ConnectionResetError', 'DeprecationWarning', 'EOFError', 'Ellipsis', 'EncodingWarning', 'EnvironmentError', 'Exception', 'ExceptionGroup', 'False', 'FileExistsError', 'FileNotFoundError', 'FloatingPointError', 'FutureWarning', 'GeneratorExit', 'IOError', 'ImportError', 'ImportWarning', 'IndentationError', 'IndexError', 'InterruptedError', 'IsADirectoryError', 'KeyError', 'KeyboardInterrupt', 'LookupError', 'MemoryError', 'ModuleNotFoundError', 'NameError', 'None', 'NotADirectoryError', 'NotImplemented', 'NotImplementedError', 'OSError', 'OverflowError', 'PendingDeprecationWarning', 'PermissionError', 'ProcessLookupError', 'RecursionError', 'ReferenceError', 'ResourceWarning', 'RuntimeError', 'RuntimeWarning', 'StopAsyncIteration', 'StopIteration', 'SyntaxError', 'SyntaxWarning', 'SystemError', 'SystemExit', 'TabError', 'TimeoutError', 'True', 'TypeError', 'UnboundLocalError', 'UnicodeDecodeError', 'UnicodeEncodeError', 'UnicodeError', 'UnicodeTranslateError', 'UnicodeWarning', 'UserWarning', 'ValueError', 'Warning', 'WindowsError', 'ZeroDivisionError', '__IPYTHON__', '__build_class__', '__debug__', '__doc__', '__import__', '__loader__', '__name__', '__package__', '__spec__', 'abs', 'aiter', 'all', 'anext', 'any', 'ascii', 'bin', 'bool', 'breakpoint', 'bytearray', 'bytes', 'callable', 'chr', 'classmethod', 'compile', 'complex', 'copyright', 'credits', 'delattr', 'dict', 'dir', 'display', 'divmod', 'enumerate', 'eval', 'exec', 'execfile', 'filter', 'float', 'format', 'frozenset', 'get_ipython', 'getattr', 'globals', 'hasattr', 'hash', 'help', 'hex', 'id', 'input', 'int', 'isinstance', 'issubclass', 'iter', 'len', 'license', 'list', 'locals', 'map', 'max', 'memoryview', 'min', 'next', 'object', 'oct', 'open', 'ord', 'pow', 'print', 'property', 'range', 'repr', 'reversed', 'round', 'runfile', 'set', 'setattr', 'slice', 'sorted', 'staticmethod', 'str', 'sum', 'super', 'tuple', 'type', 'vars', 'zip']\n"
     ]
    }
   ],
   "source": [
    "# BUILT-IN-SCOPE\n",
    "\n",
    "import builtins\n",
    "print(dir(builtins))"
   ]
  },
  {
   "cell_type": "code",
   "execution_count": 10,
   "id": "8404ff22-82ad-42e5-9ba5-df3288be92ab",
   "metadata": {},
   "outputs": [
    {
     "data": {
      "text/plain": [
       "3"
      ]
     },
     "execution_count": 10,
     "metadata": {},
     "output_type": "execute_result"
    }
   ],
   "source": [
    "L = [1,2,3]\n",
    "max(L)"
   ]
  },
  {
   "cell_type": "code",
   "execution_count": 11,
   "id": "43e2089f-c4fb-4d2f-9948-a0c22e18ccf1",
   "metadata": {},
   "outputs": [
    {
     "ename": "TypeError",
     "evalue": "max() takes 0 positional arguments but 1 was given",
     "output_type": "error",
     "traceback": [
      "\u001b[1;31m---------------------------------------------------------------------------\u001b[0m",
      "\u001b[1;31mTypeError\u001b[0m                                 Traceback (most recent call last)",
      "Cell \u001b[1;32mIn[11], line 8\u001b[0m\n\u001b[0;32m      5\u001b[0m \u001b[38;5;28;01mdef\u001b[39;00m \u001b[38;5;21mmax\u001b[39m():\n\u001b[0;32m      6\u001b[0m     \u001b[38;5;28mprint\u001b[39m(\u001b[38;5;124m'\u001b[39m\u001b[38;5;124mhello\u001b[39m\u001b[38;5;124m'\u001b[39m)\n\u001b[1;32m----> 8\u001b[0m \u001b[38;5;28mmax\u001b[39m(L)\n",
      "\u001b[1;31mTypeError\u001b[0m: max() takes 0 positional arguments but 1 was given"
     ]
    }
   ],
   "source": [
    "# Renaming built-ins\n",
    "\n",
    "L = [1,2,3,4,5]\n",
    "\n",
    "def max():\n",
    "    print('hello')\n",
    "    \n",
    "max(L)"
   ]
  },
  {
   "cell_type": "code",
   "execution_count": 12,
   "id": "4d7d01e5-c899-4fee-b109-05fc3e23cb6d",
   "metadata": {},
   "outputs": [
    {
     "name": "stdout",
     "output_type": "stream",
     "text": [
      "3\n",
      "outer function\n",
      "main programme\n"
     ]
    }
   ],
   "source": [
    "# Enclosing space\n",
    "\n",
    "\n",
    "def outer():\n",
    "    a = 3\n",
    "    \n",
    "    def inner():\n",
    "        print(a)\n",
    "        \n",
    "    inner()\n",
    "    print('outer function')\n",
    "    \n",
    "a = 1\n",
    "outer()\n",
    "print('main programme')"
   ]
  },
  {
   "cell_type": "code",
   "execution_count": 13,
   "id": "bc221b28-6dd2-47b0-934f-399bc6bafa07",
   "metadata": {},
   "outputs": [
    {
     "name": "stdout",
     "output_type": "stream",
     "text": [
      "inner 2\n",
      "outer 2\n",
      "main program\n"
     ]
    }
   ],
   "source": [
    "# NONLOCAL Keyword\n",
    "\n",
    "def outer():\n",
    "    a = 1\n",
    "    def inner():\n",
    "        nonlocal a\n",
    "        a += 1\n",
    "        print('inner',a)\n",
    "    inner()\n",
    "    print('outer',a)\n",
    "    \n",
    "outer()\n",
    "print('main program')"
   ]
  },
  {
   "cell_type": "markdown",
   "id": "d818246e-2bc3-4228-9af9-a0428e682b07",
   "metadata": {},
   "source": [
    "## Decorators\n",
    "\n",
    "A **decorator** in Python is a function that receives another function as input, adds some functionality (decoration) to it, and returns it. \n",
    "\n",
    "This is possible because Python functions are **1st class citizens**, meaning they can be passed around as arguments and returned from other functions.\n",
    "\n",
    "### Types of Decorators\n",
    "\n",
    "1. **Built-in Decorators**:\n",
    "   - These are provided by Python and can be applied directly to functions or methods.\n",
    "   - Examples:\n",
    "     - `@staticmethod`\n",
    "     - `@classmethod`\n",
    "     - `@abstractmethod`\n",
    "     - `@property`\n",
    "\n",
    "2. **User-defined Decorators**:\n",
    "   - These are custom decorators created by programmers to extend or modify the behavior of functions according to specific needs.\n",
    "\n",
    "### Example of a User-defined Decorator:"
   ]
  },
  {
   "cell_type": "code",
   "execution_count": 14,
   "id": "f0b3d953-ac94-4dde-9ae8-8e6b3ba6aefe",
   "metadata": {},
   "outputs": [
    {
     "name": "stdout",
     "output_type": "stream",
     "text": [
      "Before function call\n",
      "Hello!\n",
      "After function call\n"
     ]
    }
   ],
   "source": [
    "def my_decorator(func):\n",
    "    def wrapper():\n",
    "        print(\"Before function call\")\n",
    "        func()\n",
    "        print(\"After function call\")\n",
    "    return wrapper\n",
    "\n",
    "@my_decorator\n",
    "def greet():\n",
    "    print(\"Hello!\")\n",
    "\n",
    "greet()"
   ]
  },
  {
   "cell_type": "code",
   "execution_count": 15,
   "id": "e4e0e1d4-9425-415b-acdc-2d9527b3913e",
   "metadata": {},
   "outputs": [
    {
     "name": "stdout",
     "output_type": "stream",
     "text": [
      "hello\n"
     ]
    }
   ],
   "source": [
    "# Python are 1st class function\n",
    "\n",
    "def func():\n",
    "    print('hello')\n",
    "    \n",
    "a = func\n",
    "a()"
   ]
  },
  {
   "cell_type": "code",
   "execution_count": 16,
   "id": "f367c9d6-5327-439d-9f8a-c2e534e5c2da",
   "metadata": {},
   "outputs": [
    {
     "ename": "NameError",
     "evalue": "name 'func' is not defined",
     "output_type": "error",
     "traceback": [
      "\u001b[1;31m---------------------------------------------------------------------------\u001b[0m",
      "\u001b[1;31mNameError\u001b[0m                                 Traceback (most recent call last)",
      "Cell \u001b[1;32mIn[16], line 2\u001b[0m\n\u001b[0;32m      1\u001b[0m \u001b[38;5;28;01mdel\u001b[39;00m func\n\u001b[1;32m----> 2\u001b[0m func()\n",
      "\u001b[1;31mNameError\u001b[0m: name 'func' is not defined"
     ]
    }
   ],
   "source": [
    "del func\n",
    "func()"
   ]
  },
  {
   "cell_type": "code",
   "execution_count": 17,
   "id": "b39dee80-8326-4f2c-85c6-90d6e678c463",
   "metadata": {},
   "outputs": [
    {
     "data": {
      "text/plain": [
       "4"
      ]
     },
     "execution_count": 17,
     "metadata": {},
     "output_type": "execute_result"
    }
   ],
   "source": [
    "def modify2(func,num):\n",
    "    return func(num)\n",
    "\n",
    "def square(num):\n",
    "    return num**2\n",
    "\n",
    "modify2(square,2)"
   ]
  },
  {
   "cell_type": "code",
   "execution_count": 18,
   "id": "3594ad41-7b6a-4fde-a245-9fab2a8fb6dc",
   "metadata": {},
   "outputs": [
    {
     "name": "stdout",
     "output_type": "stream",
     "text": [
      "***********\n",
      "hello\n",
      "***********\n",
      "***********\n",
      "Hello Gourab\n",
      "***********\n"
     ]
    }
   ],
   "source": [
    "def my_decorator(func):\n",
    "    def wraper():\n",
    "        print('***********')\n",
    "        func()\n",
    "        print('***********')\n",
    "    return wraper\n",
    "\n",
    "def hello():\n",
    "    print('hello')\n",
    "    \n",
    "def display():\n",
    "    print('Hello Gourab')\n",
    "    \n",
    "a = my_decorator(hello)\n",
    "a()\n",
    "\n",
    "b = my_decorator(display)\n",
    "b()"
   ]
  },
  {
   "cell_type": "code",
   "execution_count": 19,
   "id": "378f2ec5-d09b-447b-840a-cc19f3180131",
   "metadata": {},
   "outputs": [
    {
     "name": "stdout",
     "output_type": "stream",
     "text": [
      "***********\n",
      "hello\n",
      "***********\n"
     ]
    }
   ],
   "source": [
    "# Simple example\n",
    "def my_decorator(func):\n",
    "    def wraper():\n",
    "        print('***********')\n",
    "        func()\n",
    "        print('***********')\n",
    "    return wraper\n",
    "\n",
    "\n",
    "@my_decorator\n",
    "def hello():\n",
    "    print('hello')\n",
    "    \n",
    "hello()"
   ]
  },
  {
   "cell_type": "code",
   "execution_count": 20,
   "id": "5c4cd399-3611-4b6f-8bc8-f7b60228444f",
   "metadata": {},
   "outputs": [
    {
     "name": "stdout",
     "output_type": "stream",
     "text": [
      "hello world\n",
      "time taken by hello 2.0008153915405273 secs\n",
      "displaying something\n",
      "time taken by display 4.000722885131836 secs\n",
      "4\n",
      "time taken by square 1.000993013381958 secs\n",
      "8\n",
      "time taken by power 0.0 secs\n"
     ]
    }
   ],
   "source": [
    "# Anything meaningful\n",
    "\n",
    "import time\n",
    "\n",
    "\n",
    "def timer(func):\n",
    "    def wrapper(*args):\n",
    "        start = time.time()\n",
    "        func(*args)\n",
    "        print('time taken by',func.__name__,time.time()-start,'secs')\n",
    "    return wrapper\n",
    "\n",
    "\n",
    "@timer\n",
    "def hello():\n",
    "    print('hello world')\n",
    "    time.sleep(2)\n",
    "    \n",
    "@timer    \n",
    "def display():\n",
    "    print('displaying something')\n",
    "    time.sleep(4)\n",
    "    \n",
    "@timer    \n",
    "def square(num):\n",
    "    time.sleep(1)\n",
    "    print (num**2)\n",
    "    \n",
    "@timer\n",
    "def power(a,b):\n",
    "    print(a**b)\n",
    "    \n",
    "hello()\n",
    "display()\n",
    "square(2)\n",
    "power(2,3)"
   ]
  },
  {
   "cell_type": "code",
   "execution_count": 21,
   "id": "15bb3eb0-9a8d-4bef-b24c-6b214525cea7",
   "metadata": {},
   "outputs": [
    {
     "name": "stdout",
     "output_type": "stream",
     "text": [
      "Hello Gourab\n"
     ]
    },
    {
     "ename": "TypeError",
     "evalue": "ye datatype nahi chalega",
     "output_type": "error",
     "traceback": [
      "\u001b[1;31m---------------------------------------------------------------------------\u001b[0m",
      "\u001b[1;31mTypeError\u001b[0m                                 Traceback (most recent call last)",
      "Cell \u001b[1;32mIn[21], line 26\u001b[0m\n\u001b[0;32m     22\u001b[0m \u001b[38;5;66;03m#square(2)\u001b[39;00m\n\u001b[0;32m     23\u001b[0m \u001b[38;5;66;03m#square('hehehe')\u001b[39;00m\n\u001b[0;32m     24\u001b[0m \u001b[38;5;66;03m#square(2.8)\u001b[39;00m\n\u001b[0;32m     25\u001b[0m greet(\u001b[38;5;124m'\u001b[39m\u001b[38;5;124mGourab\u001b[39m\u001b[38;5;124m'\u001b[39m)\n\u001b[1;32m---> 26\u001b[0m greet(\u001b[38;5;241m9\u001b[39m)\n",
      "Cell \u001b[1;32mIn[21], line 7\u001b[0m, in \u001b[0;36msanity_check.<locals>.outer_wrapper.<locals>.inner_wrapper\u001b[1;34m(*args)\u001b[0m\n\u001b[0;32m      5\u001b[0m     func(\u001b[38;5;241m*\u001b[39margs)\n\u001b[0;32m      6\u001b[0m \u001b[38;5;28;01melse\u001b[39;00m:\n\u001b[1;32m----> 7\u001b[0m     \u001b[38;5;28;01mraise\u001b[39;00m \u001b[38;5;167;01mTypeError\u001b[39;00m (\u001b[38;5;124m'\u001b[39m\u001b[38;5;124mye datatype nahi chalega\u001b[39m\u001b[38;5;124m'\u001b[39m)\n",
      "\u001b[1;31mTypeError\u001b[0m: ye datatype nahi chalega"
     ]
    }
   ],
   "source": [
    "def sanity_check(data_type):\n",
    "    def outer_wrapper(func):\n",
    "        def inner_wrapper(*args):\n",
    "            if type(*args) == data_type:\n",
    "                func(*args)\n",
    "            else:\n",
    "                raise TypeError ('ye datatype nahi chalega')\n",
    "        return inner_wrapper\n",
    "    return outer_wrapper\n",
    "\n",
    "\n",
    "@sanity_check (int)\n",
    "def square(num):\n",
    "    print(num**2)\n",
    "    \n",
    "\n",
    "@sanity_check(str)\n",
    "def greet(name):\n",
    "    print('Hello',name)\n",
    "    \n",
    "    \n",
    "#square(2)\n",
    "#square('hehehe')\n",
    "#square(2.8)\n",
    "greet('Gourab')\n",
    "greet(9)"
   ]
  },
  {
   "cell_type": "code",
   "execution_count": null,
   "id": "af8a7958-32dc-4ef1-9015-d4fb907fd3ad",
   "metadata": {},
   "outputs": [],
   "source": []
  }
 ],
 "metadata": {
  "kernelspec": {
   "display_name": "Python 3 (ipykernel)",
   "language": "python",
   "name": "python3"
  },
  "language_info": {
   "codemirror_mode": {
    "name": "ipython",
    "version": 3
   },
   "file_extension": ".py",
   "mimetype": "text/x-python",
   "name": "python",
   "nbconvert_exporter": "python",
   "pygments_lexer": "ipython3",
   "version": "3.11.7"
  }
 },
 "nbformat": 4,
 "nbformat_minor": 5
}
