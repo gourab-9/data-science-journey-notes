{
 "cells": [
  {
   "cell_type": "markdown",
   "id": "2f289f7f-b621-4947-a681-c7fa5e4e4d5f",
   "metadata": {},
   "source": [
    "# Pandas\n",
    "\n",
    "## What is Pandas?\n",
    "Pandas is an open-source Python library providing high-performance, easy-to-use data structures, and data analysis tools for handling structured data, such as:\n",
    "- Tabular data (e.g., spreadsheets and SQL tables).\n",
    "- Time series data.\n",
    "- Arbitrary matrix data with row and column labels.\n",
    "\n",
    "## Key Features of Pandas:\n",
    "- **Data Structures**: Provides `Series` (1D) and `DataFrame` (2D) for efficient data handling.\n",
    "- **Data Cleaning**: Handles missing data, duplicate entries, and inconsistent formatting.\n",
    "- **Data Manipulation**: Enables reshaping, slicing, indexing, merging, and grouping of data.\n",
    "- **File I/O**: Supports reading and writing data from multiple formats (CSV, Excel, JSON, SQL, etc.).\n",
    "- **Time Series Analysis**: Provides tools for working with time-indexed data.\n",
    "- **High Performance**: Optimized for performance with large datasets.\n",
    "\n",
    "Pandas is widely used in data analysis, machine learning, and data visualization.\n",
    "\n",
    "### Installation:\n",
    "```bash\n",
    "pip install pandas\n"
   ]
  },
  {
   "cell_type": "markdown",
   "id": "b6172abc-4c9d-45dd-bb27-ca7de9742f06",
   "metadata": {},
   "source": [
    "### Pandas Series\n",
    "\n",
    "A Pandas Series is like a column in a table. It is a 1-D array holding data of any type."
   ]
  },
  {
   "cell_type": "markdown",
   "id": "c3d306a5-bebb-4ec0-81ee-4cb8eb0c6fb5",
   "metadata": {},
   "source": [
    "<h1 style=\"text-align: center; color: #4CAF50; font-family: 'Arial', sans-serif; font-size: 2.5em; border: 5px solid #4CAF50; border-radius: 5px; padding: 20px; margin: 20px; display: inline-block;\">Pandas Series</h1>\r\n"
   ]
  },
  {
   "cell_type": "markdown",
   "id": "8015abfd-aa52-4d2f-8dee-fc956258ee59",
   "metadata": {},
   "source": [
    "# Importing Pandas"
   ]
  },
  {
   "cell_type": "code",
   "execution_count": 1,
   "id": "2124cff7-a505-4616-8732-41390b0318eb",
   "metadata": {},
   "outputs": [],
   "source": [
    "import numpy as np\n",
    "import pandas as pd"
   ]
  },
  {
   "cell_type": "markdown",
   "id": "bab28655-0c1f-4389-bcb0-df4a1b2913f8",
   "metadata": {},
   "source": [
    "#### Series from lists"
   ]
  },
  {
   "cell_type": "code",
   "execution_count": 2,
   "id": "aaf7167e-1d37-43e5-853b-c4df42b70eb3",
   "metadata": {},
   "outputs": [
    {
     "data": {
      "text/plain": [
       "0      India\n",
       "1         UK\n",
       "2        USA\n",
       "3      Japan\n",
       "4    Germany\n",
       "5     Canada\n",
       "dtype: object"
      ]
     },
     "execution_count": 2,
     "metadata": {},
     "output_type": "execute_result"
    }
   ],
   "source": [
    "# strings\n",
    "\n",
    "country = ['India','UK','USA','Japan','Germany','Canada']\n",
    "\n",
    "pd.Series(country)"
   ]
  },
  {
   "cell_type": "code",
   "execution_count": 3,
   "id": "faa4e2a6-cc6f-46a7-8745-9e101389fd3a",
   "metadata": {},
   "outputs": [
    {
     "data": {
      "text/plain": [
       "0     13\n",
       "1     24\n",
       "2     56\n",
       "3     78\n",
       "4    100\n",
       "dtype: int64"
      ]
     },
     "execution_count": 3,
     "metadata": {},
     "output_type": "execute_result"
    }
   ],
   "source": [
    "# integers \n",
    "\n",
    "runs = [13,24,56,78,100]\n",
    "\n",
    "pd.Series(runs)"
   ]
  },
  {
   "cell_type": "code",
   "execution_count": 4,
   "id": "73b78741-aa00-4822-933f-0813d4257e34",
   "metadata": {},
   "outputs": [
    {
     "data": {
      "text/plain": [
       "Maths      75\n",
       "English    57\n",
       "Science    69\n",
       "Hindi      78\n",
       "dtype: int64"
      ]
     },
     "execution_count": 4,
     "metadata": {},
     "output_type": "execute_result"
    }
   ],
   "source": [
    "# Custom index\n",
    "\n",
    "marks = [75,57,69,78]\n",
    "subjects = ['Maths','English','Science','Hindi']\n",
    "\n",
    "pd.Series(marks,index = subjects)"
   ]
  },
  {
   "cell_type": "code",
   "execution_count": 5,
   "id": "dc42a7e1-7c71-406a-978b-ed5c3957556b",
   "metadata": {},
   "outputs": [
    {
     "data": {
      "text/plain": [
       "Maths      75\n",
       "English    57\n",
       "Science    69\n",
       "Hindi      78\n",
       "Name: Gourab's marks, dtype: int64"
      ]
     },
     "execution_count": 5,
     "metadata": {},
     "output_type": "execute_result"
    }
   ],
   "source": [
    "# setting a name\n",
    "\n",
    "marks = pd.Series(marks,index = subjects,name= \"Gourab's marks\")\n",
    "marks"
   ]
  },
  {
   "cell_type": "markdown",
   "id": "f83d5745-4b48-4bb5-979d-25ef4cefaa8f",
   "metadata": {},
   "source": [
    "### Series from dict"
   ]
  },
  {
   "cell_type": "code",
   "execution_count": 6,
   "id": "39f3295b-a636-4196-8012-d98429ec43a5",
   "metadata": {},
   "outputs": [
    {
     "data": {
      "text/plain": [
       "Maths      75\n",
       "English    57\n",
       "Science    69\n",
       "Hindi      78\n",
       "Name: Gourab's marks, dtype: int64"
      ]
     },
     "execution_count": 6,
     "metadata": {},
     "output_type": "execute_result"
    }
   ],
   "source": [
    "marks = {\n",
    "    'Maths':75,\n",
    "    'English': 57,\n",
    "    'Science': 69,\n",
    "    'Hindi' : 78\n",
    "}\n",
    "\n",
    "marks_series = pd.Series(marks,name = \"Gourab's marks\")\n",
    "marks_series"
   ]
  },
  {
   "cell_type": "markdown",
   "id": "59495f28-8b75-4e22-96a7-87a66258554a",
   "metadata": {},
   "source": [
    "## Series Attributes"
   ]
  },
  {
   "cell_type": "code",
   "execution_count": 7,
   "id": "d5ed2d3b-ff24-4d4c-84f6-8f65a5f24298",
   "metadata": {},
   "outputs": [
    {
     "data": {
      "text/plain": [
       "4"
      ]
     },
     "execution_count": 7,
     "metadata": {},
     "output_type": "execute_result"
    }
   ],
   "source": [
    "# Size\n",
    "\n",
    "marks_series.size"
   ]
  },
  {
   "cell_type": "code",
   "execution_count": 8,
   "id": "3c55f9c5-548d-4fa7-9c82-b3d6f73c6b23",
   "metadata": {},
   "outputs": [
    {
     "data": {
      "text/plain": [
       "dtype('int64')"
      ]
     },
     "execution_count": 8,
     "metadata": {},
     "output_type": "execute_result"
    }
   ],
   "source": [
    "# dtype\n",
    "\n",
    "marks_series.dtype"
   ]
  },
  {
   "cell_type": "code",
   "execution_count": 9,
   "id": "d87990cf-f2a8-48e9-a1e8-37f5dbe22fc5",
   "metadata": {},
   "outputs": [
    {
     "data": {
      "text/plain": [
       "\"Gourab's marks\""
      ]
     },
     "execution_count": 9,
     "metadata": {},
     "output_type": "execute_result"
    }
   ],
   "source": [
    "# Name\n",
    "\n",
    "marks_series.name"
   ]
  },
  {
   "cell_type": "code",
   "execution_count": 10,
   "id": "00ce2fc7-26ad-4d04-a80b-302ea27925cd",
   "metadata": {},
   "outputs": [
    {
     "data": {
      "text/plain": [
       "True"
      ]
     },
     "execution_count": 10,
     "metadata": {},
     "output_type": "execute_result"
    }
   ],
   "source": [
    "# is_unique\n",
    "\n",
    "marks_series.is_unique"
   ]
  },
  {
   "cell_type": "code",
   "execution_count": 11,
   "id": "21192230-1a26-428c-9233-09d8d4219470",
   "metadata": {},
   "outputs": [
    {
     "data": {
      "text/plain": [
       "False"
      ]
     },
     "execution_count": 11,
     "metadata": {},
     "output_type": "execute_result"
    }
   ],
   "source": [
    "pd.Series([1,1,1,2,2,2,3,3,4,4,5,6,6,7,8]).is_unique"
   ]
  },
  {
   "cell_type": "code",
   "execution_count": 12,
   "id": "29c65859-aa62-44d7-95f9-f18a16839110",
   "metadata": {},
   "outputs": [
    {
     "data": {
      "text/plain": [
       "Index(['Maths', 'English', 'Science', 'Hindi'], dtype='object')"
      ]
     },
     "execution_count": 12,
     "metadata": {},
     "output_type": "execute_result"
    }
   ],
   "source": [
    "# index\n",
    "\n",
    "marks_series.index"
   ]
  },
  {
   "cell_type": "code",
   "execution_count": 13,
   "id": "193b0fb4-fd24-4d0a-9640-3e8c3042484f",
   "metadata": {},
   "outputs": [
    {
     "data": {
      "text/plain": [
       "array([75, 57, 69, 78], dtype=int64)"
      ]
     },
     "execution_count": 13,
     "metadata": {},
     "output_type": "execute_result"
    }
   ],
   "source": [
    "# Values\n",
    "\n",
    "marks_series.values"
   ]
  },
  {
   "cell_type": "markdown",
   "id": "2581098c-18a5-4489-85fa-edce901c052b",
   "metadata": {},
   "source": [
    "## Series using read_csv"
   ]
  },
  {
   "cell_type": "code",
   "execution_count": 14,
   "id": "334899ea-3814-418e-9dc5-d96161e58869",
   "metadata": {},
   "outputs": [],
   "source": [
    "import warnings\n",
    "warnings.filterwarnings('ignore')"
   ]
  },
  {
   "cell_type": "code",
   "execution_count": 15,
   "id": "13115365-2d16-4360-8b75-552a6148c067",
   "metadata": {},
   "outputs": [
    {
     "data": {
      "text/html": [
       "<div>\n",
       "<style scoped>\n",
       "    .dataframe tbody tr th:only-of-type {\n",
       "        vertical-align: middle;\n",
       "    }\n",
       "\n",
       "    .dataframe tbody tr th {\n",
       "        vertical-align: top;\n",
       "    }\n",
       "\n",
       "    .dataframe thead th {\n",
       "        text-align: right;\n",
       "    }\n",
       "</style>\n",
       "<table border=\"1\" class=\"dataframe\">\n",
       "  <thead>\n",
       "    <tr style=\"text-align: right;\">\n",
       "      <th></th>\n",
       "      <th>Subscribers gained</th>\n",
       "    </tr>\n",
       "  </thead>\n",
       "  <tbody>\n",
       "    <tr>\n",
       "      <th>0</th>\n",
       "      <td>48</td>\n",
       "    </tr>\n",
       "    <tr>\n",
       "      <th>1</th>\n",
       "      <td>57</td>\n",
       "    </tr>\n",
       "    <tr>\n",
       "      <th>2</th>\n",
       "      <td>40</td>\n",
       "    </tr>\n",
       "    <tr>\n",
       "      <th>3</th>\n",
       "      <td>43</td>\n",
       "    </tr>\n",
       "    <tr>\n",
       "      <th>4</th>\n",
       "      <td>44</td>\n",
       "    </tr>\n",
       "    <tr>\n",
       "      <th>...</th>\n",
       "      <td>...</td>\n",
       "    </tr>\n",
       "    <tr>\n",
       "      <th>360</th>\n",
       "      <td>231</td>\n",
       "    </tr>\n",
       "    <tr>\n",
       "      <th>361</th>\n",
       "      <td>226</td>\n",
       "    </tr>\n",
       "    <tr>\n",
       "      <th>362</th>\n",
       "      <td>155</td>\n",
       "    </tr>\n",
       "    <tr>\n",
       "      <th>363</th>\n",
       "      <td>144</td>\n",
       "    </tr>\n",
       "    <tr>\n",
       "      <th>364</th>\n",
       "      <td>172</td>\n",
       "    </tr>\n",
       "  </tbody>\n",
       "</table>\n",
       "<p>365 rows × 1 columns</p>\n",
       "</div>"
      ],
      "text/plain": [
       "     Subscribers gained\n",
       "0                    48\n",
       "1                    57\n",
       "2                    40\n",
       "3                    43\n",
       "4                    44\n",
       "..                  ...\n",
       "360                 231\n",
       "361                 226\n",
       "362                 155\n",
       "363                 144\n",
       "364                 172\n",
       "\n",
       "[365 rows x 1 columns]"
      ]
     },
     "execution_count": 15,
     "metadata": {},
     "output_type": "execute_result"
    }
   ],
   "source": [
    "# with one col\n",
    "subs = pd.read_csv(\"subs.csv\")\n",
    "subs"
   ]
  },
  {
   "cell_type": "code",
   "execution_count": 16,
   "id": "cf94bc11-922f-441b-b522-98728e08cec8",
   "metadata": {},
   "outputs": [],
   "source": [
    "# Convert the DataFrame to a Series\n",
    "subs_series = pd.Series(subs['Subscribers gained'], name='Subscribers gained')"
   ]
  },
  {
   "cell_type": "code",
   "execution_count": 17,
   "id": "5fb25cf6-50ee-492b-a69e-59b033c6d084",
   "metadata": {},
   "outputs": [
    {
     "data": {
      "text/plain": [
       "0       48\n",
       "1       57\n",
       "2       40\n",
       "3       43\n",
       "4       44\n",
       "      ... \n",
       "360    231\n",
       "361    226\n",
       "362    155\n",
       "363    144\n",
       "364    172\n",
       "Name: Subscribers gained, Length: 365, dtype: int64"
      ]
     },
     "execution_count": 17,
     "metadata": {},
     "output_type": "execute_result"
    }
   ],
   "source": [
    "subs_series"
   ]
  },
  {
   "cell_type": "code",
   "execution_count": 18,
   "id": "e428921d-e3a9-472d-aa3a-5552a7893198",
   "metadata": {},
   "outputs": [
    {
     "data": {
      "text/plain": [
       "match_no\n",
       "1       1\n",
       "2      23\n",
       "3      13\n",
       "4      12\n",
       "5       1\n",
       "       ..\n",
       "211     0\n",
       "212    20\n",
       "213    73\n",
       "214    25\n",
       "215     7\n",
       "Name: runs, Length: 215, dtype: int64"
      ]
     },
     "execution_count": 18,
     "metadata": {},
     "output_type": "execute_result"
    }
   ],
   "source": [
    "vk = pd.read_csv(\"kohli_ipl.csv\", index_col='match_no')  # Read the CSV file\n",
    "vk = vk.squeeze(\"columns\")  # Squeeze to convert to a Series if possible\n",
    "vk"
   ]
  },
  {
   "cell_type": "code",
   "execution_count": 19,
   "id": "eface657-881d-4c74-acf6-68bbdd4d8b4c",
   "metadata": {},
   "outputs": [
    {
     "data": {
      "text/html": [
       "<div>\n",
       "<style scoped>\n",
       "    .dataframe tbody tr th:only-of-type {\n",
       "        vertical-align: middle;\n",
       "    }\n",
       "\n",
       "    .dataframe tbody tr th {\n",
       "        vertical-align: top;\n",
       "    }\n",
       "\n",
       "    .dataframe thead th {\n",
       "        text-align: right;\n",
       "    }\n",
       "</style>\n",
       "<table border=\"1\" class=\"dataframe\">\n",
       "  <thead>\n",
       "    <tr style=\"text-align: right;\">\n",
       "      <th></th>\n",
       "      <th>lead</th>\n",
       "    </tr>\n",
       "    <tr>\n",
       "      <th>movie</th>\n",
       "      <th></th>\n",
       "    </tr>\n",
       "  </thead>\n",
       "  <tbody>\n",
       "    <tr>\n",
       "      <th>Uri: The Surgical Strike</th>\n",
       "      <td>Vicky Kaushal</td>\n",
       "    </tr>\n",
       "    <tr>\n",
       "      <th>Battalion 609</th>\n",
       "      <td>Vicky Ahuja</td>\n",
       "    </tr>\n",
       "    <tr>\n",
       "      <th>The Accidental Prime Minister (film)</th>\n",
       "      <td>Anupam Kher</td>\n",
       "    </tr>\n",
       "    <tr>\n",
       "      <th>Why Cheat India</th>\n",
       "      <td>Emraan Hashmi</td>\n",
       "    </tr>\n",
       "    <tr>\n",
       "      <th>Evening Shadows</th>\n",
       "      <td>Mona Ambegaonkar</td>\n",
       "    </tr>\n",
       "    <tr>\n",
       "      <th>...</th>\n",
       "      <td>...</td>\n",
       "    </tr>\n",
       "    <tr>\n",
       "      <th>Hum Tumhare Hain Sanam</th>\n",
       "      <td>Shah Rukh Khan</td>\n",
       "    </tr>\n",
       "    <tr>\n",
       "      <th>Aankhen (2002 film)</th>\n",
       "      <td>Amitabh Bachchan</td>\n",
       "    </tr>\n",
       "    <tr>\n",
       "      <th>Saathiya (film)</th>\n",
       "      <td>Vivek Oberoi</td>\n",
       "    </tr>\n",
       "    <tr>\n",
       "      <th>Company (film)</th>\n",
       "      <td>Ajay Devgn</td>\n",
       "    </tr>\n",
       "    <tr>\n",
       "      <th>Awara Paagal Deewana</th>\n",
       "      <td>Akshay Kumar</td>\n",
       "    </tr>\n",
       "  </tbody>\n",
       "</table>\n",
       "<p>1500 rows × 1 columns</p>\n",
       "</div>"
      ],
      "text/plain": [
       "                                                  lead\n",
       "movie                                                 \n",
       "Uri: The Surgical Strike                 Vicky Kaushal\n",
       "Battalion 609                              Vicky Ahuja\n",
       "The Accidental Prime Minister (film)       Anupam Kher\n",
       "Why Cheat India                          Emraan Hashmi\n",
       "Evening Shadows                       Mona Ambegaonkar\n",
       "...                                                ...\n",
       "Hum Tumhare Hain Sanam                  Shah Rukh Khan\n",
       "Aankhen (2002 film)                   Amitabh Bachchan\n",
       "Saathiya (film)                           Vivek Oberoi\n",
       "Company (film)                              Ajay Devgn\n",
       "Awara Paagal Deewana                      Akshay Kumar\n",
       "\n",
       "[1500 rows x 1 columns]"
      ]
     },
     "execution_count": 19,
     "metadata": {},
     "output_type": "execute_result"
    }
   ],
   "source": [
    "movies = pd.read_csv(\"bollywood.csv\",index_col = 'movie')\n",
    "movies       # Squeeze dataframe ko series me convert kar deta hai."
   ]
  },
  {
   "cell_type": "code",
   "execution_count": 20,
   "id": "b0469ead-f70e-49b2-9846-90a7571c6a57",
   "metadata": {},
   "outputs": [
    {
     "data": {
      "text/plain": [
       "movie\n",
       "Uri: The Surgical Strike                   Vicky Kaushal\n",
       "Battalion 609                                Vicky Ahuja\n",
       "The Accidental Prime Minister (film)         Anupam Kher\n",
       "Why Cheat India                            Emraan Hashmi\n",
       "Evening Shadows                         Mona Ambegaonkar\n",
       "                                              ...       \n",
       "Hum Tumhare Hain Sanam                    Shah Rukh Khan\n",
       "Aankhen (2002 film)                     Amitabh Bachchan\n",
       "Saathiya (film)                             Vivek Oberoi\n",
       "Company (film)                                Ajay Devgn\n",
       "Awara Paagal Deewana                        Akshay Kumar\n",
       "Name: Actor, Length: 1500, dtype: object"
      ]
     },
     "execution_count": 20,
     "metadata": {},
     "output_type": "execute_result"
    }
   ],
   "source": [
    "pd.Series(movies['lead'],name= 'Actor')"
   ]
  },
  {
   "cell_type": "code",
   "execution_count": 21,
   "id": "5e49fc8c-f288-4586-99bb-896cd3c847b3",
   "metadata": {},
   "outputs": [],
   "source": [
    "# Convert the DataFrame to a Series\n",
    "movies = pd.Series(movies['lead'], name='Actor')"
   ]
  },
  {
   "cell_type": "code",
   "execution_count": 22,
   "id": "e004fa8e-3ec8-4305-b007-30bedbf7bffa",
   "metadata": {},
   "outputs": [
    {
     "data": {
      "text/plain": [
       "movie\n",
       "Uri: The Surgical Strike                   Vicky Kaushal\n",
       "Battalion 609                                Vicky Ahuja\n",
       "The Accidental Prime Minister (film)         Anupam Kher\n",
       "Why Cheat India                            Emraan Hashmi\n",
       "Evening Shadows                         Mona Ambegaonkar\n",
       "                                              ...       \n",
       "Hum Tumhare Hain Sanam                    Shah Rukh Khan\n",
       "Aankhen (2002 film)                     Amitabh Bachchan\n",
       "Saathiya (film)                             Vivek Oberoi\n",
       "Company (film)                                Ajay Devgn\n",
       "Awara Paagal Deewana                        Akshay Kumar\n",
       "Name: Actor, Length: 1500, dtype: object"
      ]
     },
     "execution_count": 22,
     "metadata": {},
     "output_type": "execute_result"
    }
   ],
   "source": [
    "movies"
   ]
  },
  {
   "cell_type": "code",
   "execution_count": 23,
   "id": "e7c9c199-7270-43f3-98db-3b6362008f72",
   "metadata": {},
   "outputs": [
    {
     "data": {
      "text/html": [
       "<div>\n",
       "<style scoped>\n",
       "    .dataframe tbody tr th:only-of-type {\n",
       "        vertical-align: middle;\n",
       "    }\n",
       "\n",
       "    .dataframe tbody tr th {\n",
       "        vertical-align: top;\n",
       "    }\n",
       "\n",
       "    .dataframe thead th {\n",
       "        text-align: right;\n",
       "    }\n",
       "</style>\n",
       "<table border=\"1\" class=\"dataframe\">\n",
       "  <thead>\n",
       "    <tr style=\"text-align: right;\">\n",
       "      <th></th>\n",
       "      <th>Subscribers gained</th>\n",
       "    </tr>\n",
       "  </thead>\n",
       "  <tbody>\n",
       "    <tr>\n",
       "      <th>0</th>\n",
       "      <td>48</td>\n",
       "    </tr>\n",
       "    <tr>\n",
       "      <th>1</th>\n",
       "      <td>57</td>\n",
       "    </tr>\n",
       "    <tr>\n",
       "      <th>2</th>\n",
       "      <td>40</td>\n",
       "    </tr>\n",
       "    <tr>\n",
       "      <th>3</th>\n",
       "      <td>43</td>\n",
       "    </tr>\n",
       "    <tr>\n",
       "      <th>4</th>\n",
       "      <td>44</td>\n",
       "    </tr>\n",
       "  </tbody>\n",
       "</table>\n",
       "</div>"
      ],
      "text/plain": [
       "   Subscribers gained\n",
       "0                  48\n",
       "1                  57\n",
       "2                  40\n",
       "3                  43\n",
       "4                  44"
      ]
     },
     "execution_count": 23,
     "metadata": {},
     "output_type": "execute_result"
    }
   ],
   "source": [
    "# Head and Tail\n",
    "# head()-->> By default it will return top 5 rows\n",
    "\n",
    "subs.head()"
   ]
  },
  {
   "cell_type": "code",
   "execution_count": 24,
   "id": "496205b7-bb5a-4fb5-bb25-449b8dc66680",
   "metadata": {},
   "outputs": [
    {
     "data": {
      "text/plain": [
       "match_no\n",
       "1     1\n",
       "2    23\n",
       "3    13\n",
       "Name: runs, dtype: int64"
      ]
     },
     "execution_count": 24,
     "metadata": {},
     "output_type": "execute_result"
    }
   ],
   "source": [
    "vk.head(3)"
   ]
  },
  {
   "cell_type": "code",
   "execution_count": 25,
   "id": "1d3806ab-e993-48d4-a6a0-45af368d4091",
   "metadata": {},
   "outputs": [
    {
     "data": {
      "text/plain": [
       "match_no\n",
       "211     0\n",
       "212    20\n",
       "213    73\n",
       "214    25\n",
       "215     7\n",
       "Name: runs, dtype: int64"
      ]
     },
     "execution_count": 25,
     "metadata": {},
     "output_type": "execute_result"
    }
   ],
   "source": [
    "# tail() -->>  By default it will return bottom 5 rows\n",
    "vk.tail()"
   ]
  },
  {
   "cell_type": "code",
   "execution_count": 26,
   "id": "e37d042a-35db-4402-8131-8a71043bda5f",
   "metadata": {},
   "outputs": [
    {
     "data": {
      "text/html": [
       "<div>\n",
       "<style scoped>\n",
       "    .dataframe tbody tr th:only-of-type {\n",
       "        vertical-align: middle;\n",
       "    }\n",
       "\n",
       "    .dataframe tbody tr th {\n",
       "        vertical-align: top;\n",
       "    }\n",
       "\n",
       "    .dataframe thead th {\n",
       "        text-align: right;\n",
       "    }\n",
       "</style>\n",
       "<table border=\"1\" class=\"dataframe\">\n",
       "  <thead>\n",
       "    <tr style=\"text-align: right;\">\n",
       "      <th></th>\n",
       "      <th>Subscribers gained</th>\n",
       "    </tr>\n",
       "  </thead>\n",
       "  <tbody>\n",
       "    <tr>\n",
       "      <th>355</th>\n",
       "      <td>149</td>\n",
       "    </tr>\n",
       "    <tr>\n",
       "      <th>356</th>\n",
       "      <td>156</td>\n",
       "    </tr>\n",
       "    <tr>\n",
       "      <th>357</th>\n",
       "      <td>177</td>\n",
       "    </tr>\n",
       "    <tr>\n",
       "      <th>358</th>\n",
       "      <td>210</td>\n",
       "    </tr>\n",
       "    <tr>\n",
       "      <th>359</th>\n",
       "      <td>209</td>\n",
       "    </tr>\n",
       "    <tr>\n",
       "      <th>360</th>\n",
       "      <td>231</td>\n",
       "    </tr>\n",
       "    <tr>\n",
       "      <th>361</th>\n",
       "      <td>226</td>\n",
       "    </tr>\n",
       "    <tr>\n",
       "      <th>362</th>\n",
       "      <td>155</td>\n",
       "    </tr>\n",
       "    <tr>\n",
       "      <th>363</th>\n",
       "      <td>144</td>\n",
       "    </tr>\n",
       "    <tr>\n",
       "      <th>364</th>\n",
       "      <td>172</td>\n",
       "    </tr>\n",
       "  </tbody>\n",
       "</table>\n",
       "</div>"
      ],
      "text/plain": [
       "     Subscribers gained\n",
       "355                 149\n",
       "356                 156\n",
       "357                 177\n",
       "358                 210\n",
       "359                 209\n",
       "360                 231\n",
       "361                 226\n",
       "362                 155\n",
       "363                 144\n",
       "364                 172"
      ]
     },
     "execution_count": 26,
     "metadata": {},
     "output_type": "execute_result"
    }
   ],
   "source": [
    "subs.tail(10)"
   ]
  },
  {
   "cell_type": "code",
   "execution_count": 27,
   "id": "ed48a40f-77c1-4359-9fe7-a55a2a507061",
   "metadata": {},
   "outputs": [
    {
     "data": {
      "text/plain": [
       "movie\n",
       "Raat Gayi Baat Gayi?    Aamir Bashir\n",
       "Name: Actor, dtype: object"
      ]
     },
     "execution_count": 27,
     "metadata": {},
     "output_type": "execute_result"
    }
   ],
   "source": [
    "# sample: Return Randomly One row by default but you can use by a/c to your req.\n",
    "\n",
    "movies.sample()"
   ]
  },
  {
   "cell_type": "code",
   "execution_count": 28,
   "id": "d5e45caf-890d-4c45-8e5b-dadf3622d943",
   "metadata": {},
   "outputs": [
    {
     "data": {
      "text/plain": [
       "movie\n",
       "Main Prem Ki Diwani Hoon    Hrithik Roshan\n",
       "Sallu Ki Shaadi                Zeenat Aman\n",
       "Malik Ek                          Akanksha\n",
       "Sanam Re                      Rishi Kapoor\n",
       "Crook (film)                 Emraan Hashmi\n",
       "Name: Actor, dtype: object"
      ]
     },
     "execution_count": 28,
     "metadata": {},
     "output_type": "execute_result"
    }
   ],
   "source": [
    "movies.sample(5)"
   ]
  },
  {
   "cell_type": "code",
   "execution_count": 29,
   "id": "412417ee-0f1c-4202-afc6-91df60a96635",
   "metadata": {},
   "outputs": [
    {
     "data": {
      "text/plain": [
       "Actor\n",
       "Akshay Kumar        48\n",
       "Amitabh Bachchan    45\n",
       "Ajay Devgn          38\n",
       "Salman Khan         31\n",
       "Sanjay Dutt         26\n",
       "                    ..\n",
       "Diganth              1\n",
       "Parveen Kaur         1\n",
       "Seema Azmi           1\n",
       "Akanksha Puri        1\n",
       "Edwin Fernandes      1\n",
       "Name: count, Length: 566, dtype: int64"
      ]
     },
     "execution_count": 29,
     "metadata": {},
     "output_type": "execute_result"
    }
   ],
   "source": [
    "# Value_counts() :- Item Frequency\n",
    "\n",
    "movies.value_counts()"
   ]
  },
  {
   "cell_type": "code",
   "execution_count": 30,
   "id": "2d6b3e01-7378-40f6-9e13-b51dae2abb5e",
   "metadata": {},
   "outputs": [
    {
     "data": {
      "text/plain": [
       "match_no\n",
       "87       0\n",
       "211      0\n",
       "207      0\n",
       "206      0\n",
       "91       0\n",
       "      ... \n",
       "164    100\n",
       "120    100\n",
       "123    108\n",
       "126    109\n",
       "128    113\n",
       "Name: runs, Length: 215, dtype: int64"
      ]
     },
     "execution_count": 30,
     "metadata": {},
     "output_type": "execute_result"
    }
   ],
   "source": [
    "# Sort values :- Sort in Ascending Orders by default\n",
    "\n",
    "vk.sort_values()"
   ]
  },
  {
   "cell_type": "code",
   "execution_count": 31,
   "id": "b69f7138-1cac-48aa-b563-ce0e1ee52696",
   "metadata": {},
   "outputs": [
    {
     "data": {
      "text/plain": [
       "match_no\n",
       "128    113\n",
       "126    109\n",
       "123    108\n",
       "164    100\n",
       "120    100\n",
       "      ... \n",
       "93       0\n",
       "211      0\n",
       "130      0\n",
       "8        0\n",
       "135      0\n",
       "Name: runs, Length: 215, dtype: int64"
      ]
     },
     "execution_count": 31,
     "metadata": {},
     "output_type": "execute_result"
    }
   ],
   "source": [
    "vk.sort_values(ascending = False)"
   ]
  },
  {
   "cell_type": "code",
   "execution_count": 32,
   "id": "12be4ce4-ccfa-467d-a339-eede2bb2f376",
   "metadata": {},
   "outputs": [
    {
     "data": {
      "text/plain": [
       "match_no\n",
       "128    113\n",
       "Name: runs, dtype: int64"
      ]
     },
     "execution_count": 32,
     "metadata": {},
     "output_type": "execute_result"
    }
   ],
   "source": [
    "vk.sort_values(ascending = False).head(1)"
   ]
  },
  {
   "cell_type": "code",
   "execution_count": 33,
   "id": "93ce1f63-f434-4cce-ad89-f5e4f22903a2",
   "metadata": {},
   "outputs": [
    {
     "data": {
      "text/plain": [
       "113"
      ]
     },
     "execution_count": 33,
     "metadata": {},
     "output_type": "execute_result"
    }
   ],
   "source": [
    "vk.sort_values(ascending = False).head(1).values[0]"
   ]
  },
  {
   "cell_type": "code",
   "execution_count": 35,
   "id": "298fc802-b9ae-46fa-bde2-bb4aedb5db2a",
   "metadata": {},
   "outputs": [],
   "source": [
    "# inplace = True -->> it will change the data permanently\n",
    "\n",
    "vk = vk.copy()\n",
    "vk.sort_values(inplace=True)"
   ]
  },
  {
   "cell_type": "code",
   "execution_count": 36,
   "id": "973826a1-9fb6-41a4-bf78-79cea6f50603",
   "metadata": {},
   "outputs": [
    {
     "data": {
      "text/plain": [
       "match_no\n",
       "87       0\n",
       "211      0\n",
       "207      0\n",
       "206      0\n",
       "91       0\n",
       "      ... \n",
       "164    100\n",
       "120    100\n",
       "123    108\n",
       "126    109\n",
       "128    113\n",
       "Name: runs, Length: 215, dtype: int64"
      ]
     },
     "execution_count": 36,
     "metadata": {},
     "output_type": "execute_result"
    }
   ],
   "source": [
    "vk"
   ]
  },
  {
   "cell_type": "code",
   "execution_count": 38,
   "id": "5512da4c-a41d-4d69-97da-9459d116a523",
   "metadata": {},
   "outputs": [
    {
     "data": {
      "text/plain": [
       "movie\n",
       "Zor Lagaa Ke...Haiya!            Meghan Jadhav\n",
       "Zokkomon                       Darsheel Safary\n",
       "Zindagi Tere Naam           Mithun Chakraborty\n",
       "Zindagi Na Milegi Dobara        Hrithik Roshan\n",
       "Zindagi 50-50                      Veena Malik\n",
       "                                   ...        \n",
       "2 States (2014 film)              Arjun Kapoor\n",
       "1971 (2007 film)                Manoj Bajpayee\n",
       "1920: The Evil Returns             Vicky Ahuja\n",
       "1920: London                     Sharman Joshi\n",
       "1920 (film)                   Rajniesh Duggall\n",
       "Name: Actor, Length: 1500, dtype: object"
      ]
     },
     "execution_count": 38,
     "metadata": {},
     "output_type": "execute_result"
    }
   ],
   "source": [
    "# sort_index -> inplace -> movies\n",
    "\n",
    "movies.sort_index(ascending = False ,inplace = True)\n",
    "movies"
   ]
  },
  {
   "cell_type": "markdown",
   "id": "60d13048-027f-4caa-b6dc-b3c6d870fd49",
   "metadata": {},
   "source": [
    "### Series Maths Method"
   ]
  },
  {
   "cell_type": "code",
   "execution_count": 39,
   "id": "9c47912e-81a8-4e5b-9a59-41cf6b982a27",
   "metadata": {},
   "outputs": [
    {
     "data": {
      "text/plain": [
       "215"
      ]
     },
     "execution_count": 39,
     "metadata": {},
     "output_type": "execute_result"
    }
   ],
   "source": [
    "# Count-->> Count missing values ko count nahi karta hai jabki size missing\n",
    "#                                                  value ko v count karta hai\n",
    "\n",
    "vk.count()"
   ]
  },
  {
   "cell_type": "code",
   "execution_count": 40,
   "id": "4c2bfd6e-dfda-4ec9-9333-543e847a0ac0",
   "metadata": {},
   "outputs": [
    {
     "data": {
      "text/plain": [
       "Subscribers gained    49510\n",
       "dtype: int64"
      ]
     },
     "execution_count": 40,
     "metadata": {},
     "output_type": "execute_result"
    }
   ],
   "source": [
    "# sum -> product\n",
    "\n",
    "subs.sum()"
   ]
  },
  {
   "cell_type": "code",
   "execution_count": 41,
   "id": "8c814d89-a3ee-4ee3-8316-4c629a2611b2",
   "metadata": {},
   "outputs": [
    {
     "name": "stdout",
     "output_type": "stream",
     "text": [
      "Subscribers gained    135.643836\n",
      "dtype: float64\n",
      "24.0\n",
      "0    Akshay Kumar\n",
      "Name: Actor, dtype: object\n",
      "Subscribers gained    62.675023\n",
      "dtype: float64\n",
      "688.0024777222342\n"
     ]
    }
   ],
   "source": [
    "# Mean / Median / Mode / Std / Var\n",
    "print(subs.mean())\n",
    "print(vk.median())\n",
    "print(movies.mode())\n",
    "print(subs.std())\n",
    "print(vk.var())"
   ]
  },
  {
   "cell_type": "code",
   "execution_count": 42,
   "id": "f0867202-841a-4966-97f5-ef07647cfe2a",
   "metadata": {},
   "outputs": [
    {
     "data": {
      "text/plain": [
       "Subscribers gained    396\n",
       "dtype: int64"
      ]
     },
     "execution_count": 42,
     "metadata": {},
     "output_type": "execute_result"
    }
   ],
   "source": [
    "# Min/Max\n",
    "\n",
    "subs.min()\n",
    "subs.max()"
   ]
  },
  {
   "cell_type": "code",
   "execution_count": 43,
   "id": "4aa2e8b1-610c-4ca0-905f-e317ed4ebaa3",
   "metadata": {},
   "outputs": [
    {
     "data": {
      "text/plain": [
       "count    215.000000\n",
       "mean      30.855814\n",
       "std       26.229801\n",
       "min        0.000000\n",
       "25%        9.000000\n",
       "50%       24.000000\n",
       "75%       48.000000\n",
       "max      113.000000\n",
       "Name: runs, dtype: float64"
      ]
     },
     "execution_count": 43,
     "metadata": {},
     "output_type": "execute_result"
    }
   ],
   "source": [
    "# Describe\n",
    "\n",
    "vk.describe()"
   ]
  },
  {
   "cell_type": "markdown",
   "id": "8fcf7a79-7565-4c18-9460-e41be2d284db",
   "metadata": {},
   "source": [
    "## Series Indexing"
   ]
  },
  {
   "cell_type": "code",
   "execution_count": 44,
   "id": "7c04b364-6963-4b69-8ea5-00e47c23956b",
   "metadata": {},
   "outputs": [
    {
     "data": {
      "text/plain": [
       "12"
      ]
     },
     "execution_count": 44,
     "metadata": {},
     "output_type": "execute_result"
    }
   ],
   "source": [
    "# Integer Indexing\n",
    "\n",
    "x = pd.Series([12,13,14,35,46,57,58,79,9])\n",
    "\n",
    "x[0]"
   ]
  },
  {
   "cell_type": "code",
   "execution_count": 46,
   "id": "52a6fbb3-163e-4d34-88dd-c4734533cf35",
   "metadata": {},
   "outputs": [],
   "source": [
    "# Negative indexing --> will not work here\n",
    "# Series positive indexing par kaam karta hai negative par kaam nahi karta hai.\n",
    "\n",
    "# x[-1]"
   ]
  },
  {
   "cell_type": "code",
   "execution_count": 47,
   "id": "a189ef42-9844-4e7b-9430-5dc4224b65ea",
   "metadata": {},
   "outputs": [
    {
     "data": {
      "text/plain": [
       "'Meghan Jadhav'"
      ]
     },
     "execution_count": 47,
     "metadata": {},
     "output_type": "execute_result"
    }
   ],
   "source": [
    "movies[0]"
   ]
  },
  {
   "cell_type": "code",
   "execution_count": 48,
   "id": "e49a9291-6283-4c87-b442-ad512181b8cc",
   "metadata": {},
   "outputs": [
    {
     "data": {
      "text/plain": [
       "'Meghan Jadhav'"
      ]
     },
     "execution_count": 48,
     "metadata": {},
     "output_type": "execute_result"
    }
   ],
   "source": [
    "movies['Zor Lagaa Ke...Haiya!']"
   ]
  },
  {
   "cell_type": "code",
   "execution_count": 49,
   "id": "6129ac3a-f3c3-45e3-94ad-cb64023e14eb",
   "metadata": {},
   "outputs": [
    {
     "data": {
      "text/plain": [
       "'Rajniesh Duggall'"
      ]
     },
     "execution_count": 49,
     "metadata": {},
     "output_type": "execute_result"
    }
   ],
   "source": [
    "#Weired observation: -ve indexing string par kaam kar raha hai but noton integer.\n",
    "\n",
    "movies[-1]"
   ]
  },
  {
   "cell_type": "code",
   "execution_count": 50,
   "id": "206f7697-62ae-4fde-ad17-fefa8eac5191",
   "metadata": {},
   "outputs": [
    {
     "data": {
      "text/plain": [
       "match_no\n",
       "93     0\n",
       "8      0\n",
       "130    0\n",
       "135    0\n",
       "106    1\n",
       "113    1\n",
       "77     1\n",
       "75     1\n",
       "1      1\n",
       "174    1\n",
       "5      1\n",
       "204    1\n",
       "16     2\n",
       "26     2\n",
       "Name: runs, dtype: int64"
      ]
     },
     "execution_count": 50,
     "metadata": {},
     "output_type": "execute_result"
    }
   ],
   "source": [
    "# Slicing  :- Return on specific range\n",
    "\n",
    "vk[5:19]"
   ]
  },
  {
   "cell_type": "code",
   "execution_count": 51,
   "id": "810e376f-d338-4954-86e1-602f1a4c4f34",
   "metadata": {},
   "outputs": [
    {
     "data": {
      "text/plain": [
       "match_no\n",
       "164    100\n",
       "120    100\n",
       "123    108\n",
       "126    109\n",
       "128    113\n",
       "Name: runs, dtype: int64"
      ]
     },
     "execution_count": 51,
     "metadata": {},
     "output_type": "execute_result"
    }
   ],
   "source": [
    "# Negative slicing\n",
    "\n",
    "vk[-5:]"
   ]
  },
  {
   "cell_type": "code",
   "execution_count": 52,
   "id": "bb3108da-d70c-43f2-a527-2a869f606432",
   "metadata": {},
   "outputs": [
    {
     "data": {
      "text/plain": [
       "movie\n",
       "2 States (2014 film)          Arjun Kapoor\n",
       "1971 (2007 film)            Manoj Bajpayee\n",
       "1920: The Evil Returns         Vicky Ahuja\n",
       "1920: London                 Sharman Joshi\n",
       "1920 (film)               Rajniesh Duggall\n",
       "Name: Actor, dtype: object"
      ]
     },
     "execution_count": 52,
     "metadata": {},
     "output_type": "execute_result"
    }
   ],
   "source": [
    "movies[-5:]"
   ]
  },
  {
   "cell_type": "code",
   "execution_count": 53,
   "id": "91428674-3ff7-443f-830a-70cb52bf6727",
   "metadata": {},
   "outputs": [
    {
     "data": {
      "text/plain": [
       "match_no\n",
       "1     1\n",
       "2    23\n",
       "4    12\n",
       "5     1\n",
       "7    34\n",
       "8     0\n",
       "9    21\n",
       "Name: runs, dtype: int64"
      ]
     },
     "execution_count": 53,
     "metadata": {},
     "output_type": "execute_result"
    }
   ],
   "source": [
    "# Fancy Indexing\n",
    "\n",
    "vk[[1,2,4,5,7,8,9]]"
   ]
  },
  {
   "cell_type": "code",
   "execution_count": 54,
   "id": "7414c302-52bb-494a-b9ec-6b2a0dee87b7",
   "metadata": {},
   "outputs": [
    {
     "data": {
      "text/plain": [
       "'Arjun Kapoor'"
      ]
     },
     "execution_count": 54,
     "metadata": {},
     "output_type": "execute_result"
    }
   ],
   "source": [
    "# Indexing with labels --> fancy indexing\n",
    "\n",
    "movies['2 States (2014 film)']"
   ]
  },
  {
   "cell_type": "markdown",
   "id": "b756a7d9-5396-4fb8-91ed-21f67d0ce2ef",
   "metadata": {},
   "source": [
    "## Editing Series"
   ]
  },
  {
   "cell_type": "code",
   "execution_count": 56,
   "id": "f3642f55-91bf-4eda-b99a-38a4ef33a138",
   "metadata": {},
   "outputs": [
    {
     "data": {
      "text/plain": [
       "Maths       75\n",
       "English    100\n",
       "Science     69\n",
       "Hindi       78\n",
       "Name: Gourab's marks, dtype: int64"
      ]
     },
     "execution_count": 56,
     "metadata": {},
     "output_type": "execute_result"
    }
   ],
   "source": [
    "# using indexing\n",
    "\n",
    "marks_series[1] = 100\n",
    "marks_series"
   ]
  },
  {
   "cell_type": "code",
   "execution_count": 57,
   "id": "11dd6952-4663-45f9-8ce8-cf24f2a41760",
   "metadata": {},
   "outputs": [],
   "source": [
    "# What if an index does not exist\n",
    "# Write karte time error nahi dega jabki read karte time error rise kar dega.\n",
    "marks_series['sst'] = 90"
   ]
  },
  {
   "cell_type": "code",
   "execution_count": 58,
   "id": "4fac3d48-15a2-47cd-8b50-50e27993dc3d",
   "metadata": {},
   "outputs": [
    {
     "data": {
      "text/plain": [
       "Maths       75\n",
       "English    100\n",
       "Science     69\n",
       "Hindi       78\n",
       "sst         90\n",
       "Name: Gourab's marks, dtype: int64"
      ]
     },
     "execution_count": 58,
     "metadata": {},
     "output_type": "execute_result"
    }
   ],
   "source": [
    "marks_series"
   ]
  },
  {
   "cell_type": "code",
   "execution_count": 59,
   "id": "e60927fa-3045-42a4-a931-665096853729",
   "metadata": {},
   "outputs": [],
   "source": [
    "#  marks_series['evs']   # gave error here"
   ]
  },
  {
   "cell_type": "code",
   "execution_count": 60,
   "id": "b0dba141-fc0f-459f-b358-6361647ecfd1",
   "metadata": {},
   "outputs": [],
   "source": [
    "# Slicing\n",
    "\n",
    "marks_series[2:4] = [80,90]"
   ]
  },
  {
   "cell_type": "code",
   "execution_count": 61,
   "id": "dfafa0c0-f57b-4648-a3d8-1ab26779844d",
   "metadata": {},
   "outputs": [
    {
     "data": {
      "text/plain": [
       "Maths       75\n",
       "English    100\n",
       "Science     80\n",
       "Hindi       90\n",
       "sst         90\n",
       "Name: Gourab's marks, dtype: int64"
      ]
     },
     "execution_count": 61,
     "metadata": {},
     "output_type": "execute_result"
    }
   ],
   "source": [
    "marks_series"
   ]
  },
  {
   "cell_type": "code",
   "execution_count": 62,
   "id": "bc48ae04-0217-4a39-8743-04ed59509f1c",
   "metadata": {},
   "outputs": [
    {
     "data": {
      "text/plain": [
       "Maths       10\n",
       "English    100\n",
       "Science     80\n",
       "Hindi       10\n",
       "sst         10\n",
       "Name: Gourab's marks, dtype: int64"
      ]
     },
     "execution_count": 62,
     "metadata": {},
     "output_type": "execute_result"
    }
   ],
   "source": [
    "# Fancy indexing\n",
    "\n",
    "marks_series[[0,3,4]] = [10,10,10]\n",
    "marks_series"
   ]
  },
  {
   "cell_type": "code",
   "execution_count": 63,
   "id": "838f311c-1490-4d87-b2a0-4d551ef0c9a6",
   "metadata": {},
   "outputs": [
    {
     "data": {
      "text/plain": [
       "movie\n",
       "Zor Lagaa Ke...Haiya!            Meghan Jadhav\n",
       "Zokkomon                       Darsheel Safary\n",
       "Zindagi Tere Naam           Mithun Chakraborty\n",
       "Zindagi Na Milegi Dobara            Alia Bhatt\n",
       "Zindagi 50-50                      Veena Malik\n",
       "                                   ...        \n",
       "2 States (2014 film)              Arjun Kapoor\n",
       "1971 (2007 film)                Manoj Bajpayee\n",
       "1920: The Evil Returns             Vicky Ahuja\n",
       "1920: London                     Sharman Joshi\n",
       "1920 (film)                   Rajniesh Duggall\n",
       "Name: Actor, Length: 1500, dtype: object"
      ]
     },
     "execution_count": 63,
     "metadata": {},
     "output_type": "execute_result"
    }
   ],
   "source": [
    "# Using index label\n",
    "\n",
    "movies['Zindagi Na Milegi Dobara'] = 'Alia Bhatt'\n",
    "movies"
   ]
  },
  {
   "cell_type": "markdown",
   "id": "cc56d2ed-d4ba-493e-aa46-97415a4b1d90",
   "metadata": {},
   "source": [
    "## Series with python functionalities"
   ]
  },
  {
   "cell_type": "code",
   "execution_count": 64,
   "id": "734f066c-1a24-46e7-8012-4407c0cb7c58",
   "metadata": {},
   "outputs": [
    {
     "name": "stdout",
     "output_type": "stream",
     "text": [
      "365\n",
      "<class 'pandas.core.frame.DataFrame'>\n",
      "['T', '_AXIS_LEN', '_AXIS_ORDERS', '_AXIS_TO_AXIS_NUMBER', '_HANDLED_TYPES', '__abs__', '__add__', '__and__', '__annotations__', '__array__', '__array_priority__', '__array_ufunc__', '__arrow_c_stream__', '__bool__', '__class__', '__contains__', '__copy__', '__dataframe__', '__dataframe_consortium_standard__', '__deepcopy__', '__delattr__', '__delitem__', '__dict__', '__dir__', '__divmod__', '__doc__', '__eq__', '__finalize__', '__floordiv__', '__format__', '__ge__', '__getattr__', '__getattribute__', '__getitem__', '__getstate__', '__gt__', '__hash__', '__iadd__', '__iand__', '__ifloordiv__', '__imod__', '__imul__', '__init__', '__init_subclass__', '__invert__', '__ior__', '__ipow__', '__isub__', '__iter__', '__itruediv__', '__ixor__', '__le__', '__len__', '__lt__', '__matmul__', '__mod__', '__module__', '__mul__', '__ne__', '__neg__', '__new__', '__nonzero__', '__or__', '__pandas_priority__', '__pos__', '__pow__', '__radd__', '__rand__', '__rdivmod__', '__reduce__', '__reduce_ex__', '__repr__', '__rfloordiv__', '__rmatmul__', '__rmod__', '__rmul__', '__ror__', '__round__', '__rpow__', '__rsub__', '__rtruediv__', '__rxor__', '__setattr__', '__setitem__', '__setstate__', '__sizeof__', '__str__', '__sub__', '__subclasshook__', '__truediv__', '__weakref__', '__xor__', '_accessors', '_accum_func', '_agg_examples_doc', '_agg_see_also_doc', '_align_for_op', '_align_frame', '_align_series', '_append', '_arith_method', '_arith_method_with_reindex', '_as_manager', '_attrs', '_box_col_values', '_can_fast_transpose', '_check_inplace_and_allows_duplicate_labels', '_check_is_chained_assignment_possible', '_check_label_or_level_ambiguity', '_check_setitem_copy', '_clear_item_cache', '_clip_with_one_bound', '_clip_with_scalar', '_cmp_method', '_combine_frame', '_consolidate', '_consolidate_inplace', '_construct_axes_dict', '_construct_result', '_constructor', '_constructor_from_mgr', '_constructor_sliced', '_constructor_sliced_from_mgr', '_create_data_for_split_and_tight_to_dict', '_data', '_deprecate_downcast', '_dir_additions', '_dir_deletions', '_dispatch_frame_op', '_drop_axis', '_drop_labels_or_levels', '_ensure_valid_index', '_find_valid_index', '_flags', '_flex_arith_method', '_flex_cmp_method', '_from_arrays', '_from_mgr', '_get_agg_axis', '_get_axis', '_get_axis_name', '_get_axis_number', '_get_axis_resolvers', '_get_block_manager_axis', '_get_bool_data', '_get_cleaned_column_resolvers', '_get_column_array', '_get_index_resolvers', '_get_item_cache', '_get_label_or_level_values', '_get_numeric_data', '_get_value', '_get_values_for_csv', '_getitem_bool_array', '_getitem_multilevel', '_getitem_nocopy', '_getitem_slice', '_gotitem', '_hidden_attrs', '_indexed_same', '_info_axis', '_info_axis_name', '_info_axis_number', '_info_repr', '_init_mgr', '_inplace_method', '_internal_names', '_internal_names_set', '_is_copy', '_is_homogeneous_type', '_is_label_or_level_reference', '_is_label_reference', '_is_level_reference', '_is_mixed_type', '_is_view', '_is_view_after_cow_rules', '_iset_item', '_iset_item_mgr', '_iset_not_inplace', '_item_cache', '_iter_column_arrays', '_ixs', '_logical_func', '_logical_method', '_maybe_align_series_as_frame', '_maybe_cache_changed', '_maybe_update_cacher', '_metadata', '_mgr', '_min_count_stat_function', '_needs_reindex_multi', '_pad_or_backfill', '_protect_consolidate', '_reduce', '_reduce_axis1', '_reindex_axes', '_reindex_multi', '_reindex_with_indexers', '_rename', '_replace_columnwise', '_repr_data_resource_', '_repr_fits_horizontal_', '_repr_fits_vertical_', '_repr_html_', '_repr_latex_', '_reset_cache', '_reset_cacher', '_sanitize_column', '_series', '_set_axis', '_set_axis_name', '_set_axis_nocheck', '_set_is_copy', '_set_item', '_set_item_frame_value', '_set_item_mgr', '_set_value', '_setitem_array', '_setitem_frame', '_setitem_slice', '_shift_with_freq', '_should_reindex_frame_op', '_slice', '_stat_function', '_stat_function_ddof', '_take_with_is_copy', '_to_dict_of_blocks', '_to_latex_via_styler', '_typ', '_update_inplace', '_validate_dtype', '_values', '_where', 'abs', 'add', 'add_prefix', 'add_suffix', 'agg', 'aggregate', 'align', 'all', 'any', 'apply', 'applymap', 'asfreq', 'asof', 'assign', 'astype', 'at', 'at_time', 'attrs', 'axes', 'backfill', 'between_time', 'bfill', 'bool', 'boxplot', 'clip', 'columns', 'combine', 'combine_first', 'compare', 'convert_dtypes', 'copy', 'corr', 'corrwith', 'count', 'cov', 'cummax', 'cummin', 'cumprod', 'cumsum', 'describe', 'diff', 'div', 'divide', 'dot', 'drop', 'drop_duplicates', 'droplevel', 'dropna', 'dtypes', 'duplicated', 'empty', 'eq', 'equals', 'eval', 'ewm', 'expanding', 'explode', 'ffill', 'fillna', 'filter', 'first', 'first_valid_index', 'flags', 'floordiv', 'from_dict', 'from_records', 'ge', 'get', 'groupby', 'gt', 'head', 'hist', 'iat', 'idxmax', 'idxmin', 'iloc', 'index', 'infer_objects', 'info', 'insert', 'interpolate', 'isetitem', 'isin', 'isna', 'isnull', 'items', 'iterrows', 'itertuples', 'join', 'keys', 'kurt', 'kurtosis', 'last', 'last_valid_index', 'le', 'loc', 'lt', 'map', 'mask', 'max', 'mean', 'median', 'melt', 'memory_usage', 'merge', 'min', 'mod', 'mode', 'mul', 'multiply', 'ndim', 'ne', 'nlargest', 'notna', 'notnull', 'nsmallest', 'nunique', 'pad', 'pct_change', 'pipe', 'pivot', 'pivot_table', 'plot', 'pop', 'pow', 'prod', 'product', 'quantile', 'query', 'radd', 'rank', 'rdiv', 'reindex', 'reindex_like', 'rename', 'rename_axis', 'reorder_levels', 'replace', 'resample', 'reset_index', 'rfloordiv', 'rmod', 'rmul', 'rolling', 'round', 'rpow', 'rsub', 'rtruediv', 'sample', 'select_dtypes', 'sem', 'set_axis', 'set_flags', 'set_index', 'shape', 'shift', 'size', 'skew', 'sort_index', 'sort_values', 'squeeze', 'stack', 'std', 'style', 'sub', 'subtract', 'sum', 'swapaxes', 'swaplevel', 'tail', 'take', 'to_clipboard', 'to_csv', 'to_dict', 'to_excel', 'to_feather', 'to_gbq', 'to_hdf', 'to_html', 'to_json', 'to_latex', 'to_markdown', 'to_numpy', 'to_orc', 'to_parquet', 'to_period', 'to_pickle', 'to_records', 'to_sql', 'to_stata', 'to_string', 'to_timestamp', 'to_xarray', 'to_xml', 'transform', 'transpose', 'truediv', 'truncate', 'tz_convert', 'tz_localize', 'unstack', 'update', 'value_counts', 'values', 'var', 'where', 'xs']\n",
      "****\n",
      "['Subscribers gained']\n",
      "****\n",
      "Subscribers gained\n",
      "****\n",
      "Subscribers gained\n"
     ]
    }
   ],
   "source": [
    "# len/type/dir/sorted/max/min\n",
    "\n",
    "\n",
    "print(len(subs))\n",
    "print(type(subs))\n",
    "print(dir(subs))  # Series k andar total attributes aur method ko return karega\n",
    "print('****')\n",
    "print(sorted(subs))\n",
    "print(\"****\")\n",
    "print(min(subs))\n",
    "print('****')\n",
    "print(max(subs))"
   ]
  },
  {
   "cell_type": "code",
   "execution_count": 65,
   "id": "2735ff70-bf23-4487-9bd6-5f564c2d687a",
   "metadata": {},
   "outputs": [
    {
     "data": {
      "text/plain": [
       "[10, 100, 80, 10, 10]"
      ]
     },
     "execution_count": 65,
     "metadata": {},
     "output_type": "execute_result"
    }
   ],
   "source": [
    "# Type Conversion\n",
    "\n",
    "list(marks_series)"
   ]
  },
  {
   "cell_type": "code",
   "execution_count": 66,
   "id": "72d1de70-21f7-4dd0-ba15-99e5d542b28e",
   "metadata": {},
   "outputs": [
    {
     "data": {
      "text/plain": [
       "{'Maths': 10, 'English': 100, 'Science': 80, 'Hindi': 10, 'sst': 10}"
      ]
     },
     "execution_count": 66,
     "metadata": {},
     "output_type": "execute_result"
    }
   ],
   "source": [
    "dict(marks_series)"
   ]
  },
  {
   "cell_type": "code",
   "execution_count": 67,
   "id": "4ce0c9d5-6cd3-4541-896e-6cb819d2ff94",
   "metadata": {},
   "outputs": [
    {
     "data": {
      "text/plain": [
       "True"
      ]
     },
     "execution_count": 67,
     "metadata": {},
     "output_type": "execute_result"
    }
   ],
   "source": [
    "# Membership Operator\n",
    "\n",
    "'1920: London' in movies"
   ]
  },
  {
   "cell_type": "code",
   "execution_count": 68,
   "id": "35a314a2-6520-4608-8426-5a7adff0958d",
   "metadata": {},
   "outputs": [
    {
     "data": {
      "text/plain": [
       "False"
      ]
     },
     "execution_count": 68,
     "metadata": {},
     "output_type": "execute_result"
    }
   ],
   "source": [
    "# Membership operator works in index values but not in values\n",
    "'Alia Bhatt' in movies "
   ]
  },
  {
   "cell_type": "code",
   "execution_count": 69,
   "id": "889d1793-9da9-4f22-948d-a6088c64f149",
   "metadata": {},
   "outputs": [],
   "source": [
    "# Agar aapko values me search karbana hai to aapko\n",
    "\n",
    "# 'Alia Bhatt' in movies.values"
   ]
  },
  {
   "cell_type": "code",
   "execution_count": 70,
   "id": "50522c6d-8327-4c67-af51-d43a5b6afaf6",
   "metadata": {},
   "outputs": [],
   "source": [
    "# Looping\n",
    "\n",
    "\n",
    "# for i in  movies:\n",
    "#    print(i)"
   ]
  },
  {
   "cell_type": "code",
   "execution_count": 71,
   "id": "59cd305a-9939-4489-866c-4a0cfbd086c2",
   "metadata": {},
   "outputs": [],
   "source": [
    "# for i in movies.index:\n",
    "#    print (i)"
   ]
  },
  {
   "cell_type": "code",
   "execution_count": 72,
   "id": "d735d090-d47c-4ca4-8ddb-810e727e5ba2",
   "metadata": {},
   "outputs": [
    {
     "data": {
      "text/plain": [
       "Maths      110\n",
       "English    200\n",
       "Science    180\n",
       "Hindi      110\n",
       "sst        110\n",
       "Name: Gourab's marks, dtype: int64"
      ]
     },
     "execution_count": 72,
     "metadata": {},
     "output_type": "execute_result"
    }
   ],
   "source": [
    "# Arithematic Operators (Broadcasting)\n",
    "\n",
    "100 - marks_series\n",
    "100 + marks_series"
   ]
  },
  {
   "cell_type": "code",
   "execution_count": 73,
   "id": "09fa3b3a-3cc7-4213-92d8-c2d2d57cdb77",
   "metadata": {},
   "outputs": [
    {
     "data": {
      "text/plain": [
       "match_no\n",
       "87     False\n",
       "211    False\n",
       "207    False\n",
       "206    False\n",
       "91     False\n",
       "       ...  \n",
       "164     True\n",
       "120     True\n",
       "123     True\n",
       "126     True\n",
       "128     True\n",
       "Name: runs, Length: 215, dtype: bool"
      ]
     },
     "execution_count": 73,
     "metadata": {},
     "output_type": "execute_result"
    }
   ],
   "source": [
    "# Relational Operators\n",
    "\n",
    "vk >= 50"
   ]
  },
  {
   "cell_type": "markdown",
   "id": "46ca8f72-e829-4e46-b7ac-629a66437328",
   "metadata": {},
   "source": [
    "## Boolean indexing on Series"
   ]
  },
  {
   "cell_type": "code",
   "execution_count": 74,
   "id": "40af9d6d-c0c3-4c72-9248-94740e93df93",
   "metadata": {},
   "outputs": [
    {
     "data": {
      "text/plain": [
       "50"
      ]
     },
     "execution_count": 74,
     "metadata": {},
     "output_type": "execute_result"
    }
   ],
   "source": [
    "# Find no. of 50's and 100's scored by kohli\n",
    "\n",
    "vk[vk >= 50].size"
   ]
  },
  {
   "cell_type": "code",
   "execution_count": 75,
   "id": "0d5690f4-679a-440b-864f-87de95238a2f",
   "metadata": {},
   "outputs": [
    {
     "data": {
      "text/plain": [
       "9"
      ]
     },
     "execution_count": 75,
     "metadata": {},
     "output_type": "execute_result"
    }
   ],
   "source": [
    "# find number of ducks\n",
    "\n",
    "vk[vk == 0].size"
   ]
  },
  {
   "cell_type": "code",
   "execution_count": 76,
   "id": "ccb4e517-ae41-4b46-a218-31496765e7af",
   "metadata": {},
   "outputs": [
    {
     "data": {
      "text/plain": [
       "365"
      ]
     },
     "execution_count": 76,
     "metadata": {},
     "output_type": "execute_result"
    }
   ],
   "source": [
    "# Count number of day when more than 200 subs a day\n",
    "\n",
    "subs[subs > 200].size"
   ]
  },
  {
   "cell_type": "code",
   "execution_count": 77,
   "id": "a2bb4334-98de-4fcd-84db-9c5dd3f49841",
   "metadata": {},
   "outputs": [
    {
     "data": {
      "text/plain": [
       "Actor\n",
       "Akshay Kumar        48\n",
       "Amitabh Bachchan    45\n",
       "Ajay Devgn          38\n",
       "Salman Khan         31\n",
       "Sanjay Dutt         26\n",
       "Shah Rukh Khan      22\n",
       "Emraan Hashmi       21\n",
       "Name: count, dtype: int64"
      ]
     },
     "execution_count": 77,
     "metadata": {},
     "output_type": "execute_result"
    }
   ],
   "source": [
    "# find actorswho have done more than 20 movies\n",
    "\n",
    "num_movies = movies.value_counts()\n",
    "num_movies[num_movies > 20]"
   ]
  },
  {
   "cell_type": "markdown",
   "id": "472b32a2-6fd8-46ff-9b1b-c2a70ffc6344",
   "metadata": {},
   "source": [
    "# Plotting Graphs on Series"
   ]
  },
  {
   "cell_type": "code",
   "execution_count": 78,
   "id": "3daf5320-a1b8-4750-84c3-cf1f8b7682e6",
   "metadata": {},
   "outputs": [
    {
     "data": {
      "text/plain": [
       "<Axes: >"
      ]
     },
     "execution_count": 78,
     "metadata": {},
     "output_type": "execute_result"
    },
    {
     "data": {
      "image/png": "[encoded data removed]",
      "text/plain": [
       "<Figure size 640x480 with 1 Axes>"
      ]
     },
     "metadata": {},
     "output_type": "display_data"
    }
   ],
   "source": [
    "subs.plot()"
   ]
  },
  {
   "cell_type": "code",
   "execution_count": 79,
   "id": "22e0ca4b-8798-4921-a188-07c7bb2fefa9",
   "metadata": {},
   "outputs": [
    {
     "data": {
      "text/plain": [
       "<Axes: xlabel='Actor'>"
      ]
     },
     "execution_count": 79,
     "metadata": {},
     "output_type": "execute_result"
    },
    {
     "data": {
      "image/png": "[encoded data removed]",
      "text/plain": [
       "<Figure size 640x480 with 1 Axes>"
      ]
     },
     "metadata": {},
     "output_type": "display_data"
    }
   ],
   "source": [
    "movies.value_counts().head(20).plot(kind = 'bar')"
   ]
  },
  {
   "cell_type": "code",
   "execution_count": 80,
   "id": "e0f638d5-b740-4d1e-89ec-d53551a14173",
   "metadata": {},
   "outputs": [
    {
     "data": {
      "text/plain": [
       "<Axes: ylabel='count'>"
      ]
     },
     "execution_count": 80,
     "metadata": {},
     "output_type": "execute_result"
    },
    {
     "data": {
      "image/png": "[encoded data removed]",
      "text/plain": [
       "<Figure size 640x480 with 1 Axes>"
      ]
     },
     "metadata": {},
     "output_type": "display_data"
    }
   ],
   "source": [
    "movies.value_counts().head(20).plot(kind = 'pie')"
   ]
  },
  {
   "cell_type": "markdown",
   "id": "eb29b8c5-e053-4890-8765-0bd2ed6ad3b8",
   "metadata": {},
   "source": [
    "# Some Important Series Methods"
   ]
  },
  {
   "cell_type": "code",
   "execution_count": 82,
   "id": "f5131086-018f-463b-95ae-37ee87852a66",
   "metadata": {},
   "outputs": [
    {
     "data": {
      "text/plain": [
       "11768"
      ]
     },
     "execution_count": 82,
     "metadata": {},
     "output_type": "execute_result"
    }
   ],
   "source": [
    "# astype\n",
    "\n",
    "import sys\n",
    "sys.getsizeof(vk)"
   ]
  },
  {
   "cell_type": "code",
   "execution_count": 83,
   "id": "433ac752-33cd-4155-a2b8-2ad1ec18d88a",
   "metadata": {},
   "outputs": [
    {
     "data": {
      "text/plain": [
       "10478"
      ]
     },
     "execution_count": 83,
     "metadata": {},
     "output_type": "execute_result"
    }
   ],
   "source": [
    "sys.getsizeof(vk.astype('int16'))"
   ]
  },
  {
   "cell_type": "code",
   "execution_count": 84,
   "id": "f8d0e47f-d86d-4f51-a699-fa150b11a8d8",
   "metadata": {},
   "outputs": [
    {
     "data": {
      "text/plain": [
       "43"
      ]
     },
     "execution_count": 84,
     "metadata": {},
     "output_type": "execute_result"
    }
   ],
   "source": [
    "# Between\n",
    "\n",
    "vk[vk.between(51,99)].size"
   ]
  },
  {
   "cell_type": "code",
   "execution_count": 85,
   "id": "8f3c6c87-e39d-42d0-b24f-ff51dc92d5ce",
   "metadata": {},
   "outputs": [
    {
     "data": {
      "text/html": [
       "<div>\n",
       "<style scoped>\n",
       "    .dataframe tbody tr th:only-of-type {\n",
       "        vertical-align: middle;\n",
       "    }\n",
       "\n",
       "    .dataframe tbody tr th {\n",
       "        vertical-align: top;\n",
       "    }\n",
       "\n",
       "    .dataframe thead th {\n",
       "        text-align: right;\n",
       "    }\n",
       "</style>\n",
       "<table border=\"1\" class=\"dataframe\">\n",
       "  <thead>\n",
       "    <tr style=\"text-align: right;\">\n",
       "      <th></th>\n",
       "      <th>Subscribers gained</th>\n",
       "    </tr>\n",
       "  </thead>\n",
       "  <tbody>\n",
       "    <tr>\n",
       "      <th>0</th>\n",
       "      <td>48</td>\n",
       "    </tr>\n",
       "    <tr>\n",
       "      <th>1</th>\n",
       "      <td>57</td>\n",
       "    </tr>\n",
       "    <tr>\n",
       "      <th>2</th>\n",
       "      <td>40</td>\n",
       "    </tr>\n",
       "    <tr>\n",
       "      <th>3</th>\n",
       "      <td>43</td>\n",
       "    </tr>\n",
       "    <tr>\n",
       "      <th>4</th>\n",
       "      <td>44</td>\n",
       "    </tr>\n",
       "    <tr>\n",
       "      <th>...</th>\n",
       "      <td>...</td>\n",
       "    </tr>\n",
       "    <tr>\n",
       "      <th>360</th>\n",
       "      <td>231</td>\n",
       "    </tr>\n",
       "    <tr>\n",
       "      <th>361</th>\n",
       "      <td>226</td>\n",
       "    </tr>\n",
       "    <tr>\n",
       "      <th>362</th>\n",
       "      <td>155</td>\n",
       "    </tr>\n",
       "    <tr>\n",
       "      <th>363</th>\n",
       "      <td>144</td>\n",
       "    </tr>\n",
       "    <tr>\n",
       "      <th>364</th>\n",
       "      <td>172</td>\n",
       "    </tr>\n",
       "  </tbody>\n",
       "</table>\n",
       "<p>365 rows × 1 columns</p>\n",
       "</div>"
      ],
      "text/plain": [
       "     Subscribers gained\n",
       "0                    48\n",
       "1                    57\n",
       "2                    40\n",
       "3                    43\n",
       "4                    44\n",
       "..                  ...\n",
       "360                 231\n",
       "361                 226\n",
       "362                 155\n",
       "363                 144\n",
       "364                 172\n",
       "\n",
       "[365 rows x 1 columns]"
      ]
     },
     "execution_count": 85,
     "metadata": {},
     "output_type": "execute_result"
    }
   ],
   "source": [
    "# clip\n",
    "\n",
    "subs"
   ]
  },
  {
   "cell_type": "code",
   "execution_count": 86,
   "id": "0c4fc420-4ec0-4edd-9a65-5618c69aa0dc",
   "metadata": {},
   "outputs": [
    {
     "data": {
      "text/html": [
       "<div>\n",
       "<style scoped>\n",
       "    .dataframe tbody tr th:only-of-type {\n",
       "        vertical-align: middle;\n",
       "    }\n",
       "\n",
       "    .dataframe tbody tr th {\n",
       "        vertical-align: top;\n",
       "    }\n",
       "\n",
       "    .dataframe thead th {\n",
       "        text-align: right;\n",
       "    }\n",
       "</style>\n",
       "<table border=\"1\" class=\"dataframe\">\n",
       "  <thead>\n",
       "    <tr style=\"text-align: right;\">\n",
       "      <th></th>\n",
       "      <th>Subscribers gained</th>\n",
       "    </tr>\n",
       "  </thead>\n",
       "  <tbody>\n",
       "    <tr>\n",
       "      <th>0</th>\n",
       "      <td>100</td>\n",
       "    </tr>\n",
       "    <tr>\n",
       "      <th>1</th>\n",
       "      <td>100</td>\n",
       "    </tr>\n",
       "    <tr>\n",
       "      <th>2</th>\n",
       "      <td>100</td>\n",
       "    </tr>\n",
       "    <tr>\n",
       "      <th>3</th>\n",
       "      <td>100</td>\n",
       "    </tr>\n",
       "    <tr>\n",
       "      <th>4</th>\n",
       "      <td>100</td>\n",
       "    </tr>\n",
       "    <tr>\n",
       "      <th>...</th>\n",
       "      <td>...</td>\n",
       "    </tr>\n",
       "    <tr>\n",
       "      <th>360</th>\n",
       "      <td>200</td>\n",
       "    </tr>\n",
       "    <tr>\n",
       "      <th>361</th>\n",
       "      <td>200</td>\n",
       "    </tr>\n",
       "    <tr>\n",
       "      <th>362</th>\n",
       "      <td>155</td>\n",
       "    </tr>\n",
       "    <tr>\n",
       "      <th>363</th>\n",
       "      <td>144</td>\n",
       "    </tr>\n",
       "    <tr>\n",
       "      <th>364</th>\n",
       "      <td>172</td>\n",
       "    </tr>\n",
       "  </tbody>\n",
       "</table>\n",
       "<p>365 rows × 1 columns</p>\n",
       "</div>"
      ],
      "text/plain": [
       "     Subscribers gained\n",
       "0                   100\n",
       "1                   100\n",
       "2                   100\n",
       "3                   100\n",
       "4                   100\n",
       "..                  ...\n",
       "360                 200\n",
       "361                 200\n",
       "362                 155\n",
       "363                 144\n",
       "364                 172\n",
       "\n",
       "[365 rows x 1 columns]"
      ]
     },
     "execution_count": 86,
     "metadata": {},
     "output_type": "execute_result"
    }
   ],
   "source": [
    "# 100 se kam wala ko 100 kar dega aur 200 se jyada wale ko 200 kar dega.\n",
    "subs.clip(100,200) "
   ]
  },
  {
   "cell_type": "code",
   "execution_count": 87,
   "id": "53d5e889-8163-4463-b9e0-f04b385b70f8",
   "metadata": {},
   "outputs": [
    {
     "data": {
      "text/plain": [
       "0     1\n",
       "1     1\n",
       "2     1\n",
       "3     2\n",
       "4     2\n",
       "5     2\n",
       "6     3\n",
       "7     3\n",
       "8     3\n",
       "9     4\n",
       "10    4\n",
       "11    4\n",
       "12    5\n",
       "13    6\n",
       "14    6\n",
       "15    7\n",
       "16    8\n",
       "17    9\n",
       "18    9\n",
       "19    9\n",
       "20    0\n",
       "dtype: int64"
      ]
     },
     "execution_count": 87,
     "metadata": {},
     "output_type": "execute_result"
    }
   ],
   "source": [
    "# drop_duplicates\n",
    "\n",
    "temp = pd.Series([1,1,1,2,2,2,3,3,3,4,4,4,5,6,6,7,8,9,9,9,0])\n",
    "temp"
   ]
  },
  {
   "cell_type": "code",
   "execution_count": 88,
   "id": "2a08d412-d1e6-458c-917b-702d78ae7899",
   "metadata": {},
   "outputs": [
    {
     "data": {
      "text/plain": [
       "2     1\n",
       "5     2\n",
       "8     3\n",
       "11    4\n",
       "12    5\n",
       "14    6\n",
       "15    7\n",
       "16    8\n",
       "19    9\n",
       "20    0\n",
       "dtype: int64"
      ]
     },
     "execution_count": 88,
     "metadata": {},
     "output_type": "execute_result"
    }
   ],
   "source": [
    "temp.drop_duplicates(keep = 'last')"
   ]
  },
  {
   "cell_type": "code",
   "execution_count": 89,
   "id": "3b16629e-c99f-488f-9b8d-077a9088a863",
   "metadata": {},
   "outputs": [
    {
     "data": {
      "text/plain": [
       "movie\n",
       "Zor Lagaa Ke...Haiya!            Meghan Jadhav\n",
       "Zokkomon                       Darsheel Safary\n",
       "Zindagi Tere Naam           Mithun Chakraborty\n",
       "Zindagi Na Milegi Dobara            Alia Bhatt\n",
       "Zindagi 50-50                      Veena Malik\n",
       "                                   ...        \n",
       "68 Pages                         Mouli Ganguly\n",
       "5 Weddings                       Nargis Fakhri\n",
       "404 (film)                          Sara Arjun\n",
       "3 Storeys                          Aisha Ahmed\n",
       "3 A.M. (2014 film)               Salil Acharya\n",
       "Name: Actor, Length: 566, dtype: object"
      ]
     },
     "execution_count": 89,
     "metadata": {},
     "output_type": "execute_result"
    }
   ],
   "source": [
    "movies.drop_duplicates()"
   ]
  },
  {
   "cell_type": "code",
   "execution_count": 90,
   "id": "f6fa7e8f-f5df-4631-8275-d05c1108f92e",
   "metadata": {},
   "outputs": [
    {
     "data": {
      "text/plain": [
       "0     False\n",
       "1      True\n",
       "2      True\n",
       "3     False\n",
       "4      True\n",
       "5      True\n",
       "6     False\n",
       "7      True\n",
       "8      True\n",
       "9     False\n",
       "10     True\n",
       "11     True\n",
       "12    False\n",
       "13    False\n",
       "14     True\n",
       "15    False\n",
       "16    False\n",
       "17    False\n",
       "18     True\n",
       "19     True\n",
       "20    False\n",
       "dtype: bool"
      ]
     },
     "execution_count": 90,
     "metadata": {},
     "output_type": "execute_result"
    }
   ],
   "source": [
    "temp.duplicated()"
   ]
  },
  {
   "cell_type": "code",
   "execution_count": 91,
   "id": "ffa6de10-b2fa-4315-b726-57dc5591271c",
   "metadata": {},
   "outputs": [
    {
     "data": {
      "text/plain": [
       "11"
      ]
     },
     "execution_count": 91,
     "metadata": {},
     "output_type": "execute_result"
    }
   ],
   "source": [
    "temp.duplicated().sum()"
   ]
  },
  {
   "cell_type": "code",
   "execution_count": 92,
   "id": "4a192121-4f3a-4ff6-b22c-418ad74be29b",
   "metadata": {},
   "outputs": [
    {
     "data": {
      "text/plain": [
       "0     1.0\n",
       "1     2.0\n",
       "2     3.0\n",
       "3     NaN\n",
       "4     5.0\n",
       "5     6.0\n",
       "6     NaN\n",
       "7     8.0\n",
       "8     NaN\n",
       "9    10.0\n",
       "dtype: float64"
      ]
     },
     "execution_count": 92,
     "metadata": {},
     "output_type": "execute_result"
    }
   ],
   "source": [
    "# is null\n",
    "\n",
    "temp1 = pd.Series([1,2,3,np.nan,5,6,np.nan,8,np.nan,10])\n",
    "temp1"
   ]
  },
  {
   "cell_type": "code",
   "execution_count": 93,
   "id": "b51c2180-feb9-4939-a702-109b9e15a530",
   "metadata": {},
   "outputs": [
    {
     "data": {
      "text/plain": [
       "10"
      ]
     },
     "execution_count": 93,
     "metadata": {},
     "output_type": "execute_result"
    }
   ],
   "source": [
    "temp1.size"
   ]
  },
  {
   "cell_type": "code",
   "execution_count": 94,
   "id": "7507a626-aed8-4616-9783-870fcc164588",
   "metadata": {},
   "outputs": [
    {
     "data": {
      "text/plain": [
       "7"
      ]
     },
     "execution_count": 94,
     "metadata": {},
     "output_type": "execute_result"
    }
   ],
   "source": [
    "temp1.count()"
   ]
  },
  {
   "cell_type": "code",
   "execution_count": 95,
   "id": "f8733db3-ef8b-4eb1-bae6-9e8c5705ed7c",
   "metadata": {},
   "outputs": [
    {
     "data": {
      "text/plain": [
       "3"
      ]
     },
     "execution_count": 95,
     "metadata": {},
     "output_type": "execute_result"
    }
   ],
   "source": [
    "# isnull\n",
    "\n",
    "temp1.isnull().sum()"
   ]
  },
  {
   "cell_type": "code",
   "execution_count": 96,
   "id": "7a4159cb-03e8-42b4-b5ab-27f6046eb3ee",
   "metadata": {},
   "outputs": [
    {
     "data": {
      "text/plain": [
       "0     1.0\n",
       "1     2.0\n",
       "2     3.0\n",
       "4     5.0\n",
       "5     6.0\n",
       "7     8.0\n",
       "9    10.0\n",
       "dtype: float64"
      ]
     },
     "execution_count": 96,
     "metadata": {},
     "output_type": "execute_result"
    }
   ],
   "source": [
    "# dropna\n",
    "\n",
    "temp1.dropna()"
   ]
  },
  {
   "cell_type": "code",
   "execution_count": 97,
   "id": "9c91a5c1-3726-4a5b-b098-4ef6c88a6527",
   "metadata": {},
   "outputs": [
    {
     "data": {
      "text/plain": [
       "0     1.0\n",
       "1     2.0\n",
       "2     3.0\n",
       "3     5.0\n",
       "4     5.0\n",
       "5     6.0\n",
       "6     5.0\n",
       "7     8.0\n",
       "8     5.0\n",
       "9    10.0\n",
       "dtype: float64"
      ]
     },
     "execution_count": 97,
     "metadata": {},
     "output_type": "execute_result"
    }
   ],
   "source": [
    "# fillna\n",
    "\n",
    "temp1.fillna(temp1.mean())"
   ]
  },
  {
   "cell_type": "code",
   "execution_count": 98,
   "id": "2f3bd353-bc9c-4d7d-841c-6d25385d5bfa",
   "metadata": {},
   "outputs": [
    {
     "data": {
      "text/plain": [
       "match_no\n",
       "86    49\n",
       "82    99\n",
       "Name: runs, dtype: int64"
      ]
     },
     "execution_count": 98,
     "metadata": {},
     "output_type": "execute_result"
    }
   ],
   "source": [
    "# isin\n",
    "\n",
    "vk[(vk == 49) | (vk == 99)]"
   ]
  },
  {
   "cell_type": "code",
   "execution_count": 99,
   "id": "7044c03f-2442-4ac0-8c35-3d36a298660d",
   "metadata": {},
   "outputs": [
    {
     "data": {
      "text/plain": [
       "match_no\n",
       "86    49\n",
       "82    99\n",
       "Name: runs, dtype: int64"
      ]
     },
     "execution_count": 99,
     "metadata": {},
     "output_type": "execute_result"
    }
   ],
   "source": [
    "vk[(vk.isin([49,99]))]"
   ]
  },
  {
   "cell_type": "code",
   "execution_count": 100,
   "id": "1610b224-d465-4e16-a773-0355e631b03e",
   "metadata": {},
   "outputs": [
    {
     "data": {
      "text/plain": [
       "movie\n",
       "Zor Lagaa Ke...Haiya!         MEGHAN\n",
       "Zokkomon                    DARSHEEL\n",
       "Zindagi Tere Naam             MITHUN\n",
       "Zindagi Na Milegi Dobara        ALIA\n",
       "Zindagi 50-50                  VEENA\n",
       "                              ...   \n",
       "2 States (2014 film)           ARJUN\n",
       "1971 (2007 film)               MANOJ\n",
       "1920: The Evil Returns         VICKY\n",
       "1920: London                 SHARMAN\n",
       "1920 (film)                 RAJNIESH\n",
       "Name: Actor, Length: 1500, dtype: object"
      ]
     },
     "execution_count": 100,
     "metadata": {},
     "output_type": "execute_result"
    }
   ],
   "source": [
    "# apply\n",
    "\n",
    "movies.apply(lambda x:x.split()[0].upper())"
   ]
  },
  {
   "cell_type": "code",
   "execution_count": 101,
   "id": "909182d6-c585-4d67-8f03-f3edcfadf259",
   "metadata": {},
   "outputs": [
    {
     "data": {
      "text/plain": [
       "Subscribers gained    136.0\n",
       "dtype: float64"
      ]
     },
     "execution_count": 101,
     "metadata": {},
     "output_type": "execute_result"
    }
   ],
   "source": [
    "# copy\n",
    "\n",
    "round(subs.mean())"
   ]
  },
  {
   "cell_type": "code",
   "execution_count": 103,
   "id": "c1699486-7960-4b68-ba3f-6c07c4cd9eb1",
   "metadata": {},
   "outputs": [],
   "source": [
    "new = vk.head()"
   ]
  },
  {
   "cell_type": "code",
   "execution_count": 104,
   "id": "859081e2-569a-4447-922e-a22f249f104b",
   "metadata": {},
   "outputs": [
    {
     "data": {
      "text/plain": [
       "match_no\n",
       "87     0\n",
       "211    0\n",
       "207    0\n",
       "206    0\n",
       "91     0\n",
       "Name: runs, dtype: int64"
      ]
     },
     "execution_count": 104,
     "metadata": {},
     "output_type": "execute_result"
    }
   ],
   "source": [
    "new"
   ]
  },
  {
   "cell_type": "code",
   "execution_count": 106,
   "id": "6bd61912-1a81-4a7a-b5b8-10c6db47e083",
   "metadata": {},
   "outputs": [
    {
     "data": {
      "text/plain": [
       "match_no\n",
       "87      0\n",
       "211     0\n",
       "207     0\n",
       "206     0\n",
       "91      0\n",
       "1      12\n",
       "Name: runs, dtype: int64"
      ]
     },
     "execution_count": 106,
     "metadata": {},
     "output_type": "execute_result"
    }
   ],
   "source": [
    "new[1] = 12\n",
    "new"
   ]
  },
  {
   "cell_type": "code",
   "execution_count": 107,
   "id": "d11f9e42-902f-4ec6-90bb-30da060b57ad",
   "metadata": {},
   "outputs": [
    {
     "data": {
      "text/plain": [
       "match_no\n",
       "87     0\n",
       "211    0\n",
       "207    0\n",
       "206    0\n",
       "91     0\n",
       "Name: runs, dtype: int64"
      ]
     },
     "execution_count": 107,
     "metadata": {},
     "output_type": "execute_result"
    }
   ],
   "source": [
    "new = vk.head().copy()\n",
    "new"
   ]
  },
  {
   "cell_type": "code",
   "execution_count": 108,
   "id": "7dcbec35-bb2e-49d1-830e-deab91d9417e",
   "metadata": {},
   "outputs": [],
   "source": [
    "new [1] = 13"
   ]
  },
  {
   "cell_type": "code",
   "execution_count": 109,
   "id": "546418ad-c019-4ec1-a6b3-704c9ef9d650",
   "metadata": {},
   "outputs": [
    {
     "data": {
      "text/plain": [
       "match_no\n",
       "87      0\n",
       "211     0\n",
       "207     0\n",
       "206     0\n",
       "91      0\n",
       "1      13\n",
       "Name: runs, dtype: int64"
      ]
     },
     "execution_count": 109,
     "metadata": {},
     "output_type": "execute_result"
    }
   ],
   "source": [
    "new"
   ]
  },
  {
   "cell_type": "markdown",
   "id": "4a64ef1d-f1a9-4c33-bb86-1a1ab31ba90e",
   "metadata": {},
   "source": [
    "# Task\n",
    "### `Q-1:` Write a program to create an empty series."
   ]
  },
  {
   "cell_type": "code",
   "execution_count": 110,
   "id": "aac3bee1-465c-4c44-a3c5-99b62c3e4090",
   "metadata": {},
   "outputs": [
    {
     "data": {
      "text/plain": [
       "Series([], dtype: object)"
      ]
     },
     "execution_count": 110,
     "metadata": {},
     "output_type": "execute_result"
    }
   ],
   "source": [
    "# code here\n",
    "pd.Series()"
   ]
  },
  {
   "cell_type": "markdown",
   "id": "4c56cb17-cce7-44e7-861d-19f30e811ff3",
   "metadata": {},
   "source": [
    "### `Q-2:` Write a Pandas program to add, subtract, multiple and divide two Pandas Series."
   ]
  },
  {
   "cell_type": "code",
   "execution_count": 111,
   "id": "d5b9b49f-eba9-41cf-9722-f3228c110ae2",
   "metadata": {},
   "outputs": [
    {
     "name": "stdout",
     "output_type": "stream",
     "text": [
      "0     3\n",
      "1     7\n",
      "2    11\n",
      "3    15\n",
      "4    20\n",
      "dtype: int64\n",
      "0    1\n",
      "1    1\n",
      "2    1\n",
      "3    1\n",
      "4    0\n",
      "dtype: int64\n",
      "0      2\n",
      "1     12\n",
      "2     30\n",
      "3     56\n",
      "4    100\n",
      "dtype: int64\n",
      "0    2.000000\n",
      "1    1.333333\n",
      "2    1.200000\n",
      "3    1.142857\n",
      "4    1.000000\n",
      "dtype: float64\n"
     ]
    }
   ],
   "source": [
    "# code here\n",
    "a = pd.Series([2, 4, 6, 8, 10])\n",
    "b = pd.Series([1, 3, 5, 7, 10])\n",
    "\n",
    "print(a+b)\n",
    "print(a-b)\n",
    "print(a*b)\n",
    "print(a/b)"
   ]
  },
  {
   "cell_type": "markdown",
   "id": "f5431172-ef36-461a-b6eb-8e08bd0ba7eb",
   "metadata": {},
   "source": [
    "### `Q-3` Write a Pandas program to compare the elements of the two Pandas Series.\n",
    "Sample Series: [2, 4, 6, 8, 10], [1, 3, 5, 7, 10]\n",
    "\n"
   ]
  },
  {
   "cell_type": "code",
   "execution_count": 112,
   "id": "7e23131c-6143-435e-939b-3eea6047ca1f",
   "metadata": {},
   "outputs": [
    {
     "name": "stdout",
     "output_type": "stream",
     "text": [
      "0    False\n",
      "1    False\n",
      "2    False\n",
      "3    False\n",
      "4     True\n",
      "dtype: bool\n",
      "0    False\n",
      "1    False\n",
      "2    False\n",
      "3    False\n",
      "4    False\n",
      "dtype: bool\n",
      "0     True\n",
      "1     True\n",
      "2     True\n",
      "3     True\n",
      "4    False\n",
      "dtype: bool\n"
     ]
    }
   ],
   "source": [
    "# code here\n",
    "a = pd.Series([2, 4, 6, 8, 10])\n",
    "b = pd.Series([1, 3, 5, 7, 10])\n",
    "\n",
    "print(a==b)\n",
    "print(a<b)\n",
    "print(a>b)"
   ]
  },
  {
   "cell_type": "markdown",
   "id": "bb419813-1481-4a1e-831c-91d072690fd2",
   "metadata": {},
   "source": [
    "### `Q-5.`Write a function to change the data type of given a column or a Series. Function takes series and data type as input, returns the converted series.\n",
    "```python\n",
    "\n",
    "series = pd.Series([1,2,'Python', 2.0, True, 100])\n",
    "change to float type data\n",
    "```\n",
    "Note: Read about pd.to_numeric()"
   ]
  },
  {
   "cell_type": "code",
   "execution_count": 114,
   "id": "9245c32b-1bc7-423e-84c6-582689d4e7f1",
   "metadata": {},
   "outputs": [
    {
     "data": {
      "text/plain": [
       "0      1.0\n",
       "1      2.0\n",
       "2      NaN\n",
       "3      2.0\n",
       "4      1.0\n",
       "5    100.0\n",
       "dtype: float64"
      ]
     },
     "execution_count": 114,
     "metadata": {},
     "output_type": "execute_result"
    }
   ],
   "source": [
    "# code here\n",
    "# Changing the dtype to numeric (int, float)\n",
    "def change_dtype(series):\n",
    "    return pd.to_numeric(series, errors = 'coerce')\n",
    "\n",
    "series = pd.Series([1,2,'Python', 2.0, True, 100])\n",
    "change_dtype(series)"
   ]
  },
  {
   "cell_type": "code",
   "execution_count": 115,
   "id": "4cbfe65c-fd10-4dd5-ab9b-1e3d50db99b8",
   "metadata": {},
   "outputs": [],
   "source": [
    "data = pd.read_csv(\"batsman_runs_series.csv\")"
   ]
  },
  {
   "cell_type": "markdown",
   "id": "8818a6e0-1624-4865-929f-7a9a7ab1790c",
   "metadata": {},
   "source": [
    "### `Q-6` Find top 10 most run getter from the series."
   ]
  },
  {
   "cell_type": "code",
   "execution_count": 116,
   "id": "6345d3a2-007f-4f83-bb97-c2b1a8ed7633",
   "metadata": {},
   "outputs": [
    {
     "data": {
      "text/html": [
       "<div>\n",
       "<style scoped>\n",
       "    .dataframe tbody tr th:only-of-type {\n",
       "        vertical-align: middle;\n",
       "    }\n",
       "\n",
       "    .dataframe tbody tr th {\n",
       "        vertical-align: top;\n",
       "    }\n",
       "\n",
       "    .dataframe thead th {\n",
       "        text-align: right;\n",
       "    }\n",
       "</style>\n",
       "<table border=\"1\" class=\"dataframe\">\n",
       "  <thead>\n",
       "    <tr style=\"text-align: right;\">\n",
       "      <th></th>\n",
       "      <th>batter</th>\n",
       "      <th>batsman_run</th>\n",
       "    </tr>\n",
       "  </thead>\n",
       "  <tbody>\n",
       "    <tr>\n",
       "      <th>569</th>\n",
       "      <td>V Kohli</td>\n",
       "      <td>6634</td>\n",
       "    </tr>\n",
       "    <tr>\n",
       "      <th>462</th>\n",
       "      <td>S Dhawan</td>\n",
       "      <td>6244</td>\n",
       "    </tr>\n",
       "    <tr>\n",
       "      <th>130</th>\n",
       "      <td>DA Warner</td>\n",
       "      <td>5883</td>\n",
       "    </tr>\n",
       "    <tr>\n",
       "      <th>430</th>\n",
       "      <td>RG Sharma</td>\n",
       "      <td>5881</td>\n",
       "    </tr>\n",
       "    <tr>\n",
       "      <th>493</th>\n",
       "      <td>SK Raina</td>\n",
       "      <td>5536</td>\n",
       "    </tr>\n",
       "    <tr>\n",
       "      <th>27</th>\n",
       "      <td>AB de Villiers</td>\n",
       "      <td>5181</td>\n",
       "    </tr>\n",
       "    <tr>\n",
       "      <th>108</th>\n",
       "      <td>CH Gayle</td>\n",
       "      <td>4997</td>\n",
       "    </tr>\n",
       "    <tr>\n",
       "      <th>339</th>\n",
       "      <td>MS Dhoni</td>\n",
       "      <td>4978</td>\n",
       "    </tr>\n",
       "    <tr>\n",
       "      <th>452</th>\n",
       "      <td>RV Uthappa</td>\n",
       "      <td>4954</td>\n",
       "    </tr>\n",
       "    <tr>\n",
       "      <th>256</th>\n",
       "      <td>KD Karthik</td>\n",
       "      <td>4377</td>\n",
       "    </tr>\n",
       "  </tbody>\n",
       "</table>\n",
       "</div>"
      ],
      "text/plain": [
       "             batter  batsman_run\n",
       "569         V Kohli         6634\n",
       "462        S Dhawan         6244\n",
       "130       DA Warner         5883\n",
       "430       RG Sharma         5881\n",
       "493        SK Raina         5536\n",
       "27   AB de Villiers         5181\n",
       "108        CH Gayle         4997\n",
       "339        MS Dhoni         4978\n",
       "452      RV Uthappa         4954\n",
       "256      KD Karthik         4377"
      ]
     },
     "execution_count": 116,
     "metadata": {},
     "output_type": "execute_result"
    }
   ],
   "source": [
    "# code here\n",
    "data.sort_values(\"batsman_run\", ascending = False).head(10)"
   ]
  },
  {
   "cell_type": "markdown",
   "id": "7c9d8715-6322-4de7-a14d-66eb5ab09d61",
   "metadata": {},
   "source": [
    "### `Q-7` No of players having runs above 3000"
   ]
  },
  {
   "cell_type": "code",
   "execution_count": 117,
   "id": "b9c9ebeb-f7c3-4c10-99d8-c4bbc07214a5",
   "metadata": {},
   "outputs": [
    {
     "data": {
      "text/plain": [
       "20"
      ]
     },
     "execution_count": 117,
     "metadata": {},
     "output_type": "execute_result"
    }
   ],
   "source": [
    "# code here\n",
    "data[data[\"batsman_run\"]>3000].shape[0]"
   ]
  },
  {
   "cell_type": "markdown",
   "id": "300f9d68-c7d1-4310-8891-110358e0f912",
   "metadata": {},
   "source": [
    "### `Q-8` No of players having runs above mean value?"
   ]
  },
  {
   "cell_type": "code",
   "execution_count": 118,
   "id": "2c5c5751-7120-43e9-8dab-2661fa9d29b5",
   "metadata": {},
   "outputs": [
    {
     "data": {
      "text/plain": [
       "128"
      ]
     },
     "execution_count": 118,
     "metadata": {},
     "output_type": "execute_result"
    }
   ],
   "source": [
    "# code here\n",
    "data[data[\"batsman_run\"] > data[\"batsman_run\"].mean()].shape[0]"
   ]
  },
  {
   "cell_type": "markdown",
   "id": "24a8c623-711c-4d02-b756-148540fed12d",
   "metadata": {},
   "source": [
    "### `Q-9`\n",
    "    i. Read `items.csv` making `item_name` as index.\n",
    "    ii. Show no of nan values\n",
    "    ii. Item price is given in $, so convert it to rupees without currency symbol.\n",
    "    iii. Make data type of newly made series as float.\n",
    "    iv. Fill nan with mean of the series\n",
    "\n",
    "\n",
    "How csv file looks\n",
    "\n",
    "```\n",
    "item_name\titem_price\n",
    "Chips and Fresh Tomato Salsa\t$2.39\n",
    "Izze\t$3.39\n",
    "Nantucket Nectar\t$3.39\n",
    "Chips and Tomatillo-Green Chili Salsa\t$2.39\n",
    "Chicken Bowl\t$16.98\n",
    "\n",
    "```"
   ]
  },
  {
   "cell_type": "code",
   "execution_count": 119,
   "id": "348760a5-c3b2-4cae-a261-ff1e7435c8a1",
   "metadata": {},
   "outputs": [
    {
     "data": {
      "text/plain": [
       "item_name\n",
       "Chips and Fresh Tomato Salsa              $2.39 \n",
       "Izze                                      $3.39 \n",
       "Nantucket Nectar                          $3.39 \n",
       "Chips and Tomatillo-Green Chili Salsa     $2.39 \n",
       "Chicken Bowl                             $16.98 \n",
       "                                          ...   \n",
       "Steak Burrito                            $11.75 \n",
       "Steak Burrito                            $11.75 \n",
       "Chicken Salad Bowl                       $11.25 \n",
       "Chicken Salad Bowl                        $8.75 \n",
       "Chicken Salad Bowl                        $8.75 \n",
       "Name: item_price, Length: 4622, dtype: object"
      ]
     },
     "execution_count": 119,
     "metadata": {},
     "output_type": "execute_result"
    }
   ],
   "source": [
    "# code here\n",
    "#1 Read `items.csv` making `item_name` as index.\n",
    "items = pd.read_csv(\"items.csv\", \n",
    "                    index_col = ['item_name']).squeeze(\"columns\")\n",
    "items"
   ]
  },
  {
   "cell_type": "code",
   "execution_count": 120,
   "id": "d0f5da33-b712-47dc-8688-70bc1b9c6e0c",
   "metadata": {},
   "outputs": [
    {
     "data": {
      "text/plain": [
       "50"
      ]
     },
     "execution_count": 120,
     "metadata": {},
     "output_type": "execute_result"
    }
   ],
   "source": [
    "#2 Show no of nan values\n",
    "\n",
    "items.isna().sum()"
   ]
  },
  {
   "cell_type": "code",
   "execution_count": 121,
   "id": "4f9d0d33-f271-4248-9f40-38e3dd858b82",
   "metadata": {},
   "outputs": [
    {
     "data": {
      "text/plain": [
       "item_name\n",
       "Chips and Fresh Tomato Salsa              197.1511\n",
       "Izze                                      279.6411\n",
       "Nantucket Nectar                          279.6411\n",
       "Chips and Tomatillo-Green Chili Salsa     197.1511\n",
       "Chicken Bowl                             1400.6802\n",
       "                                           ...    \n",
       "Steak Burrito                             969.2575\n",
       "Steak Burrito                             969.2575\n",
       "Chicken Salad Bowl                        928.0125\n",
       "Chicken Salad Bowl                        721.7875\n",
       "Chicken Salad Bowl                        721.7875\n",
       "Name: item_price, Length: 4622, dtype: float64"
      ]
     },
     "execution_count": 121,
     "metadata": {},
     "output_type": "execute_result"
    }
   ],
   "source": [
    "#2ii\n",
    "def rupees(x):\n",
    "    try:\n",
    "        y = x[1:]\n",
    "    except:\n",
    "        # Sometimes Dollar sign is not there which throws an exception\n",
    "        y = x\n",
    "    return float(y)*82.49\n",
    "items.apply(rupees)"
   ]
  },
  {
   "cell_type": "code",
   "execution_count": 122,
   "id": "75dc638e-e248-4696-a372-8427213a4508",
   "metadata": {},
   "outputs": [],
   "source": [
    "#3 Item price is given in $, so convert it to rupees without currency symbol.\n",
    "\n",
    "items = items.apply(rupees)"
   ]
  },
  {
   "cell_type": "code",
   "execution_count": 123,
   "id": "952f3e46-744b-4799-a619-f8b41ae3292c",
   "metadata": {},
   "outputs": [
    {
     "data": {
      "text/plain": [
       "item_name\n",
       "Chips and Fresh Tomato Salsa              197.1511\n",
       "Izze                                      279.6411\n",
       "Nantucket Nectar                          279.6411\n",
       "Chips and Tomatillo-Green Chili Salsa     197.1511\n",
       "Chicken Bowl                             1400.6802\n",
       "                                           ...    \n",
       "Steak Burrito                             969.2575\n",
       "Steak Burrito                             969.2575\n",
       "Chicken Salad Bowl                        928.0125\n",
       "Chicken Salad Bowl                        721.7875\n",
       "Chicken Salad Bowl                        721.7875\n",
       "Name: item_price, Length: 4622, dtype: float64"
      ]
     },
     "execution_count": 123,
     "metadata": {},
     "output_type": "execute_result"
    }
   ],
   "source": [
    "#4 Fill nan with mean of the series\n",
    "\n",
    "items.fillna(items.mean())"
   ]
  },
  {
   "cell_type": "markdown",
   "id": "fa0d9b04-96bc-413e-9a6a-48df0ebcc475",
   "metadata": {},
   "source": [
    "### `Q-10`:\n",
    "    i. Find mean price\n",
    "    ii. Find 30th and 6th percentile value\n",
    "    iii. Plot Histogram on price with bin size 50\n",
    "    iv. No of items price lies between [1000 to 2000]\n",
    "\n"
   ]
  },
  {
   "cell_type": "code",
   "execution_count": 124,
   "id": "fceddc05-6116-4c44-92d4-48d09a1eddd5",
   "metadata": {},
   "outputs": [
    {
     "data": {
      "text/plain": [
       "615.6254681102363"
      ]
     },
     "execution_count": 124,
     "metadata": {},
     "output_type": "execute_result"
    }
   ],
   "source": [
    "# code here\n",
    "# 1 Find mean price\n",
    "\n",
    "items.mean()"
   ]
  },
  {
   "cell_type": "code",
   "execution_count": 125,
   "id": "794b9268-22f8-4463-b4d8-ff9d926373c4",
   "metadata": {},
   "outputs": [
    {
     "data": {
      "text/plain": [
       "103.1125"
      ]
     },
     "execution_count": 125,
     "metadata": {},
     "output_type": "execute_result"
    }
   ],
   "source": [
    "# 2 Find 30th and 6th percentile value\n",
    "\n",
    "items.quantile(q=0.3)\n",
    "items.quantile(q=0.06)"
   ]
  },
  {
   "cell_type": "code",
   "execution_count": 126,
   "id": "3df29287-f0fd-42d4-8a82-adace468f1d2",
   "metadata": {},
   "outputs": [
    {
     "data": {
      "text/plain": [
       "<Axes: ylabel='Frequency'>"
      ]
     },
     "execution_count": 126,
     "metadata": {},
     "output_type": "execute_result"
    },
    {
     "data": {
      "image/png": "[encoded data removed]",
      "text/plain": [
       "<Figure size 640x480 with 1 Axes>"
      ]
     },
     "metadata": {},
     "output_type": "display_data"
    }
   ],
   "source": [
    "# 3 Plot Histogram on price with bin size 50\n",
    "items.plot.hist(bins=50)"
   ]
  },
  {
   "cell_type": "code",
   "execution_count": 127,
   "id": "3860b1fd-e734-426a-8b71-8aacf0f7723f",
   "metadata": {},
   "outputs": [
    {
     "data": {
      "text/plain": [
       "item_name\n",
       "Chicken Bowl           1400.6802\n",
       "Chicken Salad Bowl     1856.0250\n",
       "Steak Burrito          1483.1702\n",
       "Chicken Burrito        1443.5750\n",
       "Chicken Bowl           1443.5750\n",
       "                         ...    \n",
       "Chicken Bowl           1856.0250\n",
       "Steak Bowl             1938.5150\n",
       "Chicken Bowl           1443.5750\n",
       "Chips and Guacamole    1468.3220\n",
       "Chicken Salad Bowl     1443.5750\n",
       "Name: item_price, Length: 116, dtype: float64"
      ]
     },
     "execution_count": 127,
     "metadata": {},
     "output_type": "execute_result"
    }
   ],
   "source": [
    "# 4. No of items price lies between [1000 to 2000]\n",
    "\n",
    "items[(items>1000) & (items<2000)]"
   ]
  },
  {
   "cell_type": "code",
   "execution_count": null,
   "id": "65b9352a-a8a7-4587-b5b4-92aac207a2ea",
   "metadata": {},
   "outputs": [],
   "source": []
  }
 ],
 "metadata": {
  "kernelspec": {
   "display_name": "Python 3 (ipykernel)",
   "language": "python",
   "name": "python3"
  },
  "language_info": {
   "codemirror_mode": {
    "name": "ipython",
    "version": 3
   },
   "file_extension": ".py",
   "mimetype": "text/x-python",
   "name": "python",
   "nbconvert_exporter": "python",
   "pygments_lexer": "ipython3",
   "version": "3.11.7"
  }
 },
 "nbformat": 4,
 "nbformat_minor": 5
}
