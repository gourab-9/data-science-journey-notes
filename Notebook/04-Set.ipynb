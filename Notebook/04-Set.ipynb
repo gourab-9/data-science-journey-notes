{
 "cells": [
  {
   "cell_type": "markdown",
   "id": "de904d34-6a8d-49b8-8916-dc08bb094c26",
   "metadata": {},
   "source": [
    "# Python Set Basics and Applications\n",
    "\n",
    "## Introduction\n",
    "In Python, a **set** is an unordered collection of unique elements. Sets are designed for fast membership testing and removing duplicate values, making them a powerful tool for handling collections where order does not matter.\n",
    "\n",
    "## Why Sets?\n",
    "- **Uniqueness**: Automatically removes duplicate elements, ensuring all items in the collection are unique.\n",
    "- **Efficiency**: Optimized for operations like membership testing (`in`) and mathematical operations (union, intersection, difference).\n",
    "- **Mathematical Operations**: Provides direct support for operations like union, intersection, and set difference, making it ideal for solving problems involving groups of data.\n",
    "- **Dynamic Updates**: Supports addition and removal of elements dynamically.\n",
    "\n",
    "This notebook showcases my practice and understanding of Python sets, including:\n",
    "1. Basics of set creation and operations.\n",
    "2. Common methods like union, intersection, and difference.\n",
    "3. Real-world use cases, such as eliminating duplicates and membership testing.\n",
    "\n",
    "Join me in exploring the versatility and practical uses of Python sets in this notebook!\n"
   ]
  },
  {
   "cell_type": "markdown",
   "id": "90a79f27-c21f-430e-ae05-8e59977909fc",
   "metadata": {},
   "source": [
    "Characterstics:\n",
    "- Unordered\n",
    "- Mutable\n",
    "- No Duplicates\n",
    "- Can't contain mutable data types"
   ]
  },
  {
   "cell_type": "code",
   "execution_count": 1,
   "id": "e08a01be-f5e1-41ea-b75a-f2ee3b43a229",
   "metadata": {},
   "outputs": [
    {
     "name": "stdout",
     "output_type": "stream",
     "text": [
      "<class 'dict'>\n"
     ]
    }
   ],
   "source": [
    "s= {}\n",
    "print(type(s))"
   ]
  },
  {
   "cell_type": "markdown",
   "id": "35bd87d2-3225-4529-9822-4b68ae10a75b",
   "metadata": {},
   "source": [
    "### Creating Sets"
   ]
  },
  {
   "cell_type": "code",
   "execution_count": 2,
   "id": "9b0fc027-5822-4a1c-927d-e8b661c2d151",
   "metadata": {},
   "outputs": [
    {
     "name": "stdout",
     "output_type": "stream",
     "text": [
      "<class 'set'>\n"
     ]
    }
   ],
   "source": [
    "# empty\n",
    "\n",
    "s1= set()\n",
    "print(type(s1))"
   ]
  },
  {
   "cell_type": "code",
   "execution_count": 3,
   "id": "f6647a3f-cbc2-4550-a59f-51197bbffca9",
   "metadata": {},
   "outputs": [
    {
     "name": "stdout",
     "output_type": "stream",
     "text": [
      "{1, 2, 3, 4, 5}\n"
     ]
    }
   ],
   "source": [
    "# 1D and 2D\n",
    "\n",
    "s2 = {1,2,3,4,5}\n",
    "print(s2)"
   ]
  },
  {
   "cell_type": "code",
   "execution_count": 4,
   "id": "fa5306c1-ff34-42d4-ae04-c2c760f78152",
   "metadata": {},
   "outputs": [
    {
     "ename": "TypeError",
     "evalue": "unhashable type: 'set'",
     "output_type": "error",
     "traceback": [
      "\u001b[1;31m---------------------------------------------------------------------------\u001b[0m",
      "\u001b[1;31mTypeError\u001b[0m                                 Traceback (most recent call last)",
      "Cell \u001b[1;32mIn[4], line 1\u001b[0m\n\u001b[1;32m----> 1\u001b[0m s3 \u001b[38;5;241m=\u001b[39m {\u001b[38;5;241m1\u001b[39m,\u001b[38;5;241m2\u001b[39m,\u001b[38;5;241m3\u001b[39m,\u001b[38;5;241m4\u001b[39m,\u001b[38;5;241m5\u001b[39m,{\u001b[38;5;241m6\u001b[39m,\u001b[38;5;241m7\u001b[39m,\u001b[38;5;241m8\u001b[39m}}\n",
      "\u001b[1;31mTypeError\u001b[0m: unhashable type: 'set'"
     ]
    }
   ],
   "source": [
    "s3 = {1,2,3,4,5,{6,7,8}}"
   ]
  },
  {
   "cell_type": "code",
   "execution_count": null,
   "id": "f6e9df20-80c8-4f68-aeae-6df022bd6516",
   "metadata": {},
   "outputs": [],
   "source": [
    "# homo and hetro\n",
    "\n",
    "s4 = {2,(3,'hello'),True}\n",
    "print(s4)"
   ]
  },
  {
   "cell_type": "code",
   "execution_count": 5,
   "id": "e5f0a943-74c1-4dd5-8554-127cdf8f57f8",
   "metadata": {},
   "outputs": [
    {
     "name": "stdout",
     "output_type": "stream",
     "text": [
      "{1, 2, 3, 4}\n",
      "<class 'set'>\n"
     ]
    }
   ],
   "source": [
    "s5 = set([1,2,3,4])\n",
    "print(s5)\n",
    "print(type(s5))"
   ]
  },
  {
   "cell_type": "code",
   "execution_count": 6,
   "id": "3703f1ee-badf-4051-ba8c-e9ea944ce7f3",
   "metadata": {},
   "outputs": [
    {
     "name": "stdout",
     "output_type": "stream",
     "text": [
      "{0, 1, 2, 3, 4, 5, 6, 7, 8, 9}\n"
     ]
    }
   ],
   "source": [
    "s6 = {1,2,2,3,3,3,4,4,4,5,5,6,7,7,8,8,9,9,9,0,0,0,}\n",
    "print(s6)"
   ]
  },
  {
   "cell_type": "code",
   "execution_count": 7,
   "id": "047be71b-6b54-48ad-9017-6c2d5815ba9b",
   "metadata": {},
   "outputs": [
    {
     "ename": "TypeError",
     "evalue": "unhashable type: 'list'",
     "output_type": "error",
     "traceback": [
      "\u001b[1;31m---------------------------------------------------------------------------\u001b[0m",
      "\u001b[1;31mTypeError\u001b[0m                                 Traceback (most recent call last)",
      "Cell \u001b[1;32mIn[7], line 1\u001b[0m\n\u001b[1;32m----> 1\u001b[0m s7 \u001b[38;5;241m=\u001b[39m {\u001b[38;5;241m1\u001b[39m,\u001b[38;5;241m2\u001b[39m,[\u001b[38;5;241m3\u001b[39m,\u001b[38;5;241m4\u001b[39m]}\n\u001b[0;32m      2\u001b[0m \u001b[38;5;28mprint\u001b[39m(s7)\n",
      "\u001b[1;31mTypeError\u001b[0m: unhashable type: 'list'"
     ]
    }
   ],
   "source": [
    "s7 = {1,2,[3,4]}\n",
    "print(s7)"
   ]
  },
  {
   "cell_type": "code",
   "execution_count": 8,
   "id": "35404e86-1dd6-4436-9e87-cd84f3c6c3cb",
   "metadata": {},
   "outputs": [
    {
     "name": "stdout",
     "output_type": "stream",
     "text": [
      "{1, 2, 3}\n"
     ]
    }
   ],
   "source": [
    "# using type conversion\n",
    "\n",
    "s4 = set([1,2,3])\n",
    "print(s4)"
   ]
  },
  {
   "cell_type": "code",
   "execution_count": 9,
   "id": "44b7db5d-c94f-463b-914a-983c140ebf2b",
   "metadata": {},
   "outputs": [
    {
     "name": "stdout",
     "output_type": "stream",
     "text": [
      "{1, 2, 3}\n"
     ]
    }
   ],
   "source": [
    "# duplicates not allowed\n",
    "\n",
    "s5 = {1,1,2,2,3,3}\n",
    "print(s5)"
   ]
  },
  {
   "cell_type": "code",
   "execution_count": 10,
   "id": "babd843f-d3b8-4bea-a57d-7d4213145599",
   "metadata": {},
   "outputs": [
    {
     "ename": "TypeError",
     "evalue": "unhashable type: 'list'",
     "output_type": "error",
     "traceback": [
      "\u001b[1;31m---------------------------------------------------------------------------\u001b[0m",
      "\u001b[1;31mTypeError\u001b[0m                                 Traceback (most recent call last)",
      "Cell \u001b[1;32mIn[10], line 3\u001b[0m\n\u001b[0;32m      1\u001b[0m \u001b[38;5;66;03m# set can't have mutable items\u001b[39;00m\n\u001b[1;32m----> 3\u001b[0m s6 \u001b[38;5;241m=\u001b[39m {\u001b[38;5;241m1\u001b[39m,\u001b[38;5;241m2\u001b[39m,[\u001b[38;5;241m3\u001b[39m,\u001b[38;5;241m4\u001b[39m]}\n\u001b[0;32m      4\u001b[0m \u001b[38;5;28mprint\u001b[39m(s6)\n",
      "\u001b[1;31mTypeError\u001b[0m: unhashable type: 'list'"
     ]
    }
   ],
   "source": [
    "# set can't have mutable items\n",
    "\n",
    "s6 = {1,2,[3,4]}\n",
    "print(s6)"
   ]
  },
  {
   "cell_type": "code",
   "execution_count": 11,
   "id": "d0efdee3-fc26-48a1-829a-85206a9228dc",
   "metadata": {},
   "outputs": [
    {
     "name": "stdout",
     "output_type": "stream",
     "text": [
      "True\n"
     ]
    }
   ],
   "source": [
    "s8 = {1,2,3,4,5,6,7}\n",
    "s9 = {3,4,6,1,7,2,5}\n",
    "print(s8==s9)"
   ]
  },
  {
   "cell_type": "markdown",
   "id": "2198b60c-a434-480b-8292-c6b3a26588a6",
   "metadata": {},
   "source": [
    "### Accessing Items"
   ]
  },
  {
   "cell_type": "code",
   "execution_count": 12,
   "id": "9c8037e6-e6c9-4cfc-b490-feeda5abe0be",
   "metadata": {},
   "outputs": [
    {
     "ename": "TypeError",
     "evalue": "'set' object is not subscriptable",
     "output_type": "error",
     "traceback": [
      "\u001b[1;31m---------------------------------------------------------------------------\u001b[0m",
      "\u001b[1;31mTypeError\u001b[0m                                 Traceback (most recent call last)",
      "Cell \u001b[1;32mIn[12], line 2\u001b[0m\n\u001b[0;32m      1\u001b[0m s1 \u001b[38;5;241m=\u001b[39m {\u001b[38;5;241m1\u001b[39m,\u001b[38;5;241m2\u001b[39m,\u001b[38;5;241m3\u001b[39m,\u001b[38;5;241m4\u001b[39m}\n\u001b[1;32m----> 2\u001b[0m s1[\u001b[38;5;241m0\u001b[39m:\u001b[38;5;241m3\u001b[39m]\n",
      "\u001b[1;31mTypeError\u001b[0m: 'set' object is not subscriptable"
     ]
    }
   ],
   "source": [
    "s1 = {1,2,3,4}\n",
    "s1[0:3]"
   ]
  },
  {
   "cell_type": "markdown",
   "id": "54e1458d-3f21-4e43-9c75-f0b579a176c1",
   "metadata": {},
   "source": [
    "### Editing Items"
   ]
  },
  {
   "cell_type": "code",
   "execution_count": 15,
   "id": "95ab5df2-8844-4740-ab02-2aebc94afb28",
   "metadata": {},
   "outputs": [
    {
     "ename": "TypeError",
     "evalue": "'set' object does not support item assignment",
     "output_type": "error",
     "traceback": [
      "\u001b[1;31m---------------------------------------------------------------------------\u001b[0m",
      "\u001b[1;31mTypeError\u001b[0m                                 Traceback (most recent call last)",
      "Cell \u001b[1;32mIn[15], line 2\u001b[0m\n\u001b[0;32m      1\u001b[0m s1 \u001b[38;5;241m=\u001b[39m {\u001b[38;5;241m1\u001b[39m,\u001b[38;5;241m2\u001b[39m,\u001b[38;5;241m3\u001b[39m,\u001b[38;5;241m4\u001b[39m}\n\u001b[1;32m----> 2\u001b[0m s1[\u001b[38;5;241m0\u001b[39m] \u001b[38;5;241m=\u001b[39m \u001b[38;5;241m100\u001b[39m\n",
      "\u001b[1;31mTypeError\u001b[0m: 'set' object does not support item assignment"
     ]
    }
   ],
   "source": [
    "s1 = {1,2,3,4}\n",
    "s1[0] = 100"
   ]
  },
  {
   "cell_type": "markdown",
   "id": "d450481d-1835-4119-a0e4-ffa08d984c5a",
   "metadata": {},
   "source": [
    "### Adding Items"
   ]
  },
  {
   "cell_type": "code",
   "execution_count": 17,
   "id": "7a2d8ebf-bd81-42ce-92e7-1962b9b02370",
   "metadata": {},
   "outputs": [
    {
     "name": "stdout",
     "output_type": "stream",
     "text": [
      "{1, 2, 3, 4, 5}\n"
     ]
    }
   ],
   "source": [
    "# add\n",
    "\n",
    "s9 = {1,2,3,4}\n",
    "s9.add(5)\n",
    "print(s9)"
   ]
  },
  {
   "cell_type": "code",
   "execution_count": 18,
   "id": "dcb00cf7-7c20-4a48-be7f-dc7a99fa7d28",
   "metadata": {},
   "outputs": [
    {
     "name": "stdout",
     "output_type": "stream",
     "text": [
      "{1, 2, 3, 4, 5, 6, 7, 8, 9}\n"
     ]
    }
   ],
   "source": [
    "# update\n",
    "\n",
    "s10 = {1, 2, 3, 4, 5}\n",
    "s10.update([6,7,8,9])\n",
    "print(s10)"
   ]
  },
  {
   "cell_type": "markdown",
   "id": "4facdb29-a7ed-43e3-8bde-f597339d0f86",
   "metadata": {},
   "source": [
    "### Deleting Items"
   ]
  },
  {
   "cell_type": "code",
   "execution_count": 19,
   "id": "cbc85beb-05a7-4784-b7aa-1438f22def0e",
   "metadata": {},
   "outputs": [
    {
     "name": "stdout",
     "output_type": "stream",
     "text": [
      "{1, 2, 3, 4, 5, 6, 7, 8, 9}\n"
     ]
    },
    {
     "ename": "NameError",
     "evalue": "name 's11' is not defined",
     "output_type": "error",
     "traceback": [
      "\u001b[1;31m---------------------------------------------------------------------------\u001b[0m",
      "\u001b[1;31mNameError\u001b[0m                                 Traceback (most recent call last)",
      "Cell \u001b[1;32mIn[19], line 6\u001b[0m\n\u001b[0;32m      4\u001b[0m \u001b[38;5;28mprint\u001b[39m(s11)\n\u001b[0;32m      5\u001b[0m \u001b[38;5;28;01mdel\u001b[39;00m(s11)\n\u001b[1;32m----> 6\u001b[0m \u001b[38;5;28mprint\u001b[39m(s11)\n",
      "\u001b[1;31mNameError\u001b[0m: name 's11' is not defined"
     ]
    }
   ],
   "source": [
    "# del\n",
    "\n",
    "s11 = {1, 2, 3, 4, 5, 6, 7, 8, 9}\n",
    "print(s11)\n",
    "del(s11)\n",
    "print(s11)"
   ]
  },
  {
   "cell_type": "code",
   "execution_count": 20,
   "id": "5abe5c83-9f37-4cbe-8312-ea661b966d07",
   "metadata": {},
   "outputs": [
    {
     "name": "stdout",
     "output_type": "stream",
     "text": [
      "{1, 2, 4, 5, 6, 7, 8, 9}\n"
     ]
    }
   ],
   "source": [
    "# discard\n",
    "\n",
    "s12 = {1, 2, 3, 4, 5, 6, 7, 8, 9}\n",
    "s12.discard(3)  # Discard will not through an error even number not exist but remove will.\n",
    "print(s12)"
   ]
  },
  {
   "cell_type": "code",
   "execution_count": 21,
   "id": "26839716-bb91-44a9-a530-58272cbc4c87",
   "metadata": {},
   "outputs": [
    {
     "name": "stdout",
     "output_type": "stream",
     "text": [
      "None\n"
     ]
    },
    {
     "ename": "KeyError",
     "evalue": "89",
     "output_type": "error",
     "traceback": [
      "\u001b[1;31m---------------------------------------------------------------------------\u001b[0m",
      "\u001b[1;31mKeyError\u001b[0m                                  Traceback (most recent call last)",
      "Cell \u001b[1;32mIn[21], line 6\u001b[0m\n\u001b[0;32m      3\u001b[0m \u001b[38;5;28mprint\u001b[39m(s13\u001b[38;5;241m.\u001b[39mdiscard(\u001b[38;5;241m89\u001b[39m))\n\u001b[0;32m      5\u001b[0m \u001b[38;5;66;03m# remove\u001b[39;00m\n\u001b[1;32m----> 6\u001b[0m \u001b[38;5;28mprint\u001b[39m(s13\u001b[38;5;241m.\u001b[39mremove(\u001b[38;5;241m89\u001b[39m))\n",
      "\u001b[1;31mKeyError\u001b[0m: 89"
     ]
    }
   ],
   "source": [
    "s13 = {1, 2, 4, 5, 6, 7, 8, 9}\n",
    "\n",
    "print(s13.discard(89))\n",
    "\n",
    "# remove\n",
    "print(s13.remove(89))"
   ]
  },
  {
   "cell_type": "code",
   "execution_count": 22,
   "id": "2f68306b-0868-4f34-8e08-751cfdab5fe6",
   "metadata": {},
   "outputs": [
    {
     "data": {
      "text/plain": [
       "1"
      ]
     },
     "execution_count": 22,
     "metadata": {},
     "output_type": "execute_result"
    }
   ],
   "source": [
    "# pop\n",
    "\n",
    "s13 = {1, 2, 4, 5, 6, 7, 8, 9}\n",
    "s13.pop()"
   ]
  },
  {
   "cell_type": "code",
   "execution_count": 23,
   "id": "50b40809-16ad-4be1-8d1d-78ba2213605c",
   "metadata": {},
   "outputs": [
    {
     "name": "stdout",
     "output_type": "stream",
     "text": [
      "set()\n"
     ]
    }
   ],
   "source": [
    "# clear\n",
    "\n",
    "s13.clear()\n",
    "print(s13)"
   ]
  },
  {
   "cell_type": "markdown",
   "id": "aa3c7494-b4c9-477f-898a-115a7a76be62",
   "metadata": {},
   "source": [
    "### Set Operation"
   ]
  },
  {
   "cell_type": "code",
   "execution_count": 25,
   "id": "7fd39df5-87ac-4c90-bdfb-f2864ae36e15",
   "metadata": {},
   "outputs": [
    {
     "data": {
      "text/plain": [
       "{1, 2, 3, 4, 5, 6, 7, 8, 9, 10}"
      ]
     },
     "execution_count": 25,
     "metadata": {},
     "output_type": "execute_result"
    }
   ],
   "source": [
    "# Union (|)\n",
    "\n",
    "s14 = {1,2,3,4,5,6}\n",
    "s15 = {5,6,7,8,9,10}\n",
    "\n",
    "s14|s15"
   ]
  },
  {
   "cell_type": "code",
   "execution_count": 26,
   "id": "83f22739-fd8b-46c5-ae63-f5a18ba3340f",
   "metadata": {},
   "outputs": [
    {
     "data": {
      "text/plain": [
       "{5, 6}"
      ]
     },
     "execution_count": 26,
     "metadata": {},
     "output_type": "execute_result"
    }
   ],
   "source": [
    "# Intersections (&)\n",
    "\n",
    "s16 = {1,2,3,4,5,6}\n",
    "s17 = {5,6,7,8,9,10}\n",
    "\n",
    "s16 & s17"
   ]
  },
  {
   "cell_type": "code",
   "execution_count": 27,
   "id": "2ccd2e51-98ca-4309-be23-0b7fe71e8a8f",
   "metadata": {},
   "outputs": [
    {
     "name": "stdout",
     "output_type": "stream",
     "text": [
      "{1, 2, 3, 4}\n",
      "{8, 9, 10, 7}\n"
     ]
    }
   ],
   "source": [
    "# Difference(-)\n",
    "s18 = {1,2,3,4,5,6}\n",
    "s19 = {5,6,7,8,9,10}\n",
    "print(s18-s19)\n",
    "print(s19-s18)"
   ]
  },
  {
   "cell_type": "code",
   "execution_count": 28,
   "id": "f9c12a9e-419f-4300-b484-29e323c9d90b",
   "metadata": {},
   "outputs": [
    {
     "data": {
      "text/plain": [
       "{1, 2, 3, 4, 7, 8, 9, 10}"
      ]
     },
     "execution_count": 28,
     "metadata": {},
     "output_type": "execute_result"
    }
   ],
   "source": [
    "# Symmetric diff (^)   # print all items except common\n",
    "s20 = {1,2,3,4,5,6}\n",
    "s21 = {5,6,7,8,9,10}\n",
    "s20^s21"
   ]
  },
  {
   "cell_type": "code",
   "execution_count": 29,
   "id": "8a4eff35-4e8b-450f-817e-295311c0869e",
   "metadata": {},
   "outputs": [
    {
     "data": {
      "text/plain": [
       "True"
      ]
     },
     "execution_count": 29,
     "metadata": {},
     "output_type": "execute_result"
    }
   ],
   "source": [
    "# Membership Test\n",
    "\n",
    "1 in s20"
   ]
  },
  {
   "cell_type": "code",
   "execution_count": 30,
   "id": "fd91890e-dca1-4163-8432-dfb03f8a76a2",
   "metadata": {},
   "outputs": [
    {
     "data": {
      "text/plain": [
       "True"
      ]
     },
     "execution_count": 30,
     "metadata": {},
     "output_type": "execute_result"
    }
   ],
   "source": [
    "3 not in s21"
   ]
  },
  {
   "cell_type": "code",
   "execution_count": 31,
   "id": "7c5fb266-6e79-47fb-a386-035940848fcb",
   "metadata": {},
   "outputs": [
    {
     "name": "stdout",
     "output_type": "stream",
     "text": [
      "5\n",
      "6\n",
      "7\n",
      "8\n",
      "9\n",
      "10\n"
     ]
    }
   ],
   "source": [
    "# Iteration\n",
    "\n",
    "for i in s21:\n",
    "    print(i)"
   ]
  },
  {
   "cell_type": "markdown",
   "id": "b67b026e-2d1f-4a32-9184-e970a6508c15",
   "metadata": {},
   "source": [
    "### Set Functions"
   ]
  },
  {
   "cell_type": "code",
   "execution_count": 33,
   "id": "fe3b7867-036f-4f1a-ba55-ce8086bd5414",
   "metadata": {},
   "outputs": [
    {
     "name": "stdout",
     "output_type": "stream",
     "text": [
      "9\n",
      "45\n",
      "1\n",
      "9\n",
      "[9, 8, 7, 6, 5, 4, 3, 2, 1]\n"
     ]
    }
   ],
   "source": [
    "# len/sum/min/max/sorted\n",
    "\n",
    "s22 = {3,4,5,1,2,7,6,9,8}\n",
    "print(len(s22))\n",
    "print(sum(s22))\n",
    "print(min(s22))\n",
    "print(max(s22))\n",
    "print(sorted(s22, reverse = True))"
   ]
  },
  {
   "cell_type": "code",
   "execution_count": 34,
   "id": "05668ffb-f05c-49bd-b370-7d9a9217beb4",
   "metadata": {},
   "outputs": [
    {
     "name": "stdout",
     "output_type": "stream",
     "text": [
      "{1, 2, 3, 4, 5, 6, 7, 8, 9}\n",
      "{1, 2, 3, 4, 5, 6, 7, 8, 9}\n",
      "{1, 2, 3, 4, 5, 6, 7, 8, 9}\n",
      "{4, 5, 6, 7, 8, 9}\n",
      "{1, 2, 3, 4, 5, 6, 7, 8, 9}\n",
      "{1, 2, 3, 4, 5, 6, 7, 8, 9}\n"
     ]
    }
   ],
   "source": [
    "# union/update\n",
    "\n",
    "s23 = {1,2,3,4,5,6}\n",
    "s24 = {4,5,6,7,8,9}\n",
    "\n",
    "# s23 | s24\n",
    "print(s23|s24)\n",
    "print(s23.union(s24))\n",
    "\n",
    "s23.update(s24)\n",
    "print(s23)\n",
    "print(s24)\n",
    "s24.update(s23)\n",
    "print(s23)\n",
    "print(s24)"
   ]
  },
  {
   "cell_type": "markdown",
   "id": "16fcc273-7182-4df8-ae8b-4318f55693c4",
   "metadata": {},
   "source": [
    "# intersection/intersection_update\n",
    "\n",
    "s25 = {1,2,3,4,5,6}\n",
    "s26 = {4,5,6,7,8,9}\n",
    "\n",
    "\n",
    "s25.intersection(s26)\n",
    "\n",
    "s25.intersection_update(s26)\n",
    "print(s25)\n",
    "print(s26)"
   ]
  },
  {
   "cell_type": "code",
   "execution_count": 35,
   "id": "ddd52694-62cc-40e9-98a1-93fc4b964848",
   "metadata": {},
   "outputs": [
    {
     "name": "stdout",
     "output_type": "stream",
     "text": [
      "{1, 2, 3}\n",
      "{4, 5, 6, 7, 8, 9}\n"
     ]
    }
   ],
   "source": [
    "# difference/difference_update\n",
    "\n",
    "\n",
    "s27 = {1,2,3,4,5,6}\n",
    "s28 = {4,5,6,7,8,9}\n",
    "\n",
    "\n",
    "s27.difference(s28)\n",
    "\n",
    "s27.difference_update(s28)\n",
    "print(s27)\n",
    "print(s28)"
   ]
  },
  {
   "cell_type": "code",
   "execution_count": 36,
   "id": "467a6eb1-d022-46ef-9f71-c568429d6878",
   "metadata": {},
   "outputs": [
    {
     "name": "stdout",
     "output_type": "stream",
     "text": [
      "{1, 2, 3, 7, 8, 9}\n",
      "{4, 5, 6, 7, 8, 9}\n"
     ]
    }
   ],
   "source": [
    "# symmetric_difference/symmetric_difference_update\n",
    "\n",
    "\n",
    "s29 = {1,2,3,4,5,6}\n",
    "s30 = {4,5,6,7,8,9}\n",
    "\n",
    "\n",
    "s29.symmetric_difference(s30)\n",
    "\n",
    "s29.symmetric_difference_update(s30)\n",
    "print(s29)\n",
    "print(s30)"
   ]
  },
  {
   "cell_type": "code",
   "execution_count": 37,
   "id": "a1c8e031-f5ac-4102-8a75-f3f0acd60664",
   "metadata": {},
   "outputs": [
    {
     "data": {
      "text/plain": [
       "False"
      ]
     },
     "execution_count": 37,
     "metadata": {},
     "output_type": "execute_result"
    }
   ],
   "source": [
    "# isdisjoint/issubset/issuperset\n",
    "\n",
    "s30 = {1,2,3,4}\n",
    "s31 = {3,4,5,6}\n",
    "\n",
    "# isdisjoint means in between two sets their should not be any common item.\n",
    "s30.isdisjoint(s31)"
   ]
  },
  {
   "cell_type": "code",
   "execution_count": 38,
   "id": "b74b581e-378e-4afe-8a39-035fe6220dd5",
   "metadata": {},
   "outputs": [
    {
     "name": "stdout",
     "output_type": "stream",
     "text": [
      "False\n",
      "True\n"
     ]
    }
   ],
   "source": [
    "s32 = {1,2,3,4,5,6}\n",
    "s33 = {4,5,6}\n",
    "\n",
    "print(s32.issubset(s33))\n",
    "print(s33.issubset(s32))"
   ]
  },
  {
   "cell_type": "code",
   "execution_count": 39,
   "id": "9f74719f-23ee-4c06-9a8e-8cf5d0ef795a",
   "metadata": {},
   "outputs": [
    {
     "name": "stdout",
     "output_type": "stream",
     "text": [
      "True\n",
      "False\n"
     ]
    }
   ],
   "source": [
    "s34 = {1,2,3,4,5,6}\n",
    "s35 = {4,5,6}\n",
    "\n",
    "\n",
    "print(s34.issuperset(s35))\n",
    "print(s35.issuperset(s34))"
   ]
  },
  {
   "cell_type": "code",
   "execution_count": 40,
   "id": "321276df-4385-4346-879a-0b599269b68c",
   "metadata": {},
   "outputs": [
    {
     "name": "stdout",
     "output_type": "stream",
     "text": [
      "{1, 2, 3, 4, 5, 6, 7, 8, 9}\n",
      "2368683866848\n",
      "{1, 2, 3, 4, 5, 6, 7, 8, 9}\n",
      "2368683865056\n"
     ]
    }
   ],
   "source": [
    "# copy\n",
    "\n",
    "s36 = {1,2,3,4,5,6,7,8,9}\n",
    "s37 = s36.copy()\n",
    "\n",
    "\n",
    "print(s36)\n",
    "print(id(s36))\n",
    "print(s37)\n",
    "print(id(s37))"
   ]
  },
  {
   "cell_type": "markdown",
   "id": "2acd8a0e-6f6f-457c-9394-850358affe91",
   "metadata": {},
   "source": [
    "### Frozenset\n",
    "Frozen set is just an immutable version of a Python set object"
   ]
  },
  {
   "cell_type": "code",
   "execution_count": 42,
   "id": "8e636948-d7d4-430c-bdb2-1879a3867abc",
   "metadata": {},
   "outputs": [
    {
     "data": {
      "text/plain": [
       "frozenset({1, 2, 3, 4})"
      ]
     },
     "execution_count": 42,
     "metadata": {},
     "output_type": "execute_result"
    }
   ],
   "source": [
    "# create frozenset\n",
    "\n",
    "fs1 = frozenset({1,2,3,4})\n",
    "fs1"
   ]
  },
  {
   "cell_type": "code",
   "execution_count": 43,
   "id": "c8886719-edcd-4d8b-b0e1-9a8c0f3b3087",
   "metadata": {},
   "outputs": [
    {
     "data": {
      "text/plain": [
       "frozenset({1, 2, 3, 4, 5, 6, 7, 8})"
      ]
     },
     "execution_count": 43,
     "metadata": {},
     "output_type": "execute_result"
    }
   ],
   "source": [
    "fs2 = frozenset({1,2,3,4})\n",
    "fs3 = frozenset({5,6,7,8})\n",
    "fs2|fs3"
   ]
  },
  {
   "cell_type": "markdown",
   "id": "f332cf98-279a-4741-a476-10cdf9cdfd50",
   "metadata": {},
   "source": [
    "### what works and what does not\n",
    "- works -> all read functions\n",
    "- does't work -> write operations"
   ]
  },
  {
   "cell_type": "code",
   "execution_count": 44,
   "id": "7376839b-8b6e-4276-972a-d9fb9538df72",
   "metadata": {},
   "outputs": [
    {
     "data": {
      "text/plain": [
       "frozenset({1, 2, 3, 4, frozenset({5, 6})})"
      ]
     },
     "execution_count": 44,
     "metadata": {},
     "output_type": "execute_result"
    }
   ],
   "source": [
    "# When to use\n",
    "# 2D sets\n",
    "\n",
    "fs4 = frozenset([1,2,3,4,frozenset([5,6])])\n",
    "fs4"
   ]
  },
  {
   "cell_type": "markdown",
   "id": "e3fd0b95-0868-4ee3-8089-fd1e100fad09",
   "metadata": {},
   "source": [
    "### Set Comprehension"
   ]
  },
  {
   "cell_type": "code",
   "execution_count": 45,
   "id": "d87d8c48-9ab8-4991-aecd-b0279775a0f9",
   "metadata": {},
   "outputs": [
    {
     "data": {
      "text/plain": [
       "{36, 49, 64, 81, 100}"
      ]
     },
     "execution_count": 45,
     "metadata": {},
     "output_type": "execute_result"
    }
   ],
   "source": [
    "# examples\n",
    "\n",
    "{i**2 for i in range(1,11) if i>5}"
   ]
  },
  {
   "cell_type": "markdown",
   "id": "094c4d0a-e17a-471b-94a8-1e42aa2b7559",
   "metadata": {},
   "source": [
    "### `Q1:` Write a program to find set of common elements in three lists using sets.\n",
    "```\n",
    "Input : ar1 = [1, 5, 10, 20, 40, 80]\n",
    "        ar2 = [6, 7, 20, 80, 100]\n",
    "        ar3 = [3, 4, 15, 20, 30, 70, 80, 120]\n",
    "\n",
    "Output : [80, 20]\n",
    "```"
   ]
  },
  {
   "cell_type": "code",
   "execution_count": 47,
   "id": "4b4f8a49-d2f8-4a8d-a0f5-ac61235ffb96",
   "metadata": {},
   "outputs": [
    {
     "name": "stdout",
     "output_type": "stream",
     "text": [
      "[80, 20]\n"
     ]
    }
   ],
   "source": [
    "# write your code here\n",
    "ar1 = [1, 5, 10, 20, 40, 80]\n",
    "ar2 = [6, 7, 20, 80, 100]\n",
    "ar3 = [3, 4, 15, 20, 30, 70, 80, 120]\n",
    "\n",
    "s1 = set(ar1)\n",
    "s2 = set(ar2)\n",
    "s3 = set(ar3)\n",
    "\n",
    "result = list((s1 & s2) & s3)\n",
    "print(result)"
   ]
  },
  {
   "cell_type": "markdown",
   "id": "63f48305-49bb-4682-9e3d-61278e241ade",
   "metadata": {},
   "source": [
    "### `Q2:` Write a program to count unique number of vowels using sets in a given string. Lowercase and upercase vowels will be taken as different.\n",
    "\n",
    "`Input:`\n",
    "```\n",
    "Str1 = \"hands-on data science mentorship progrAm with live classes at affordable fee only on CampusX\"\n",
    "```\n",
    "`Output:`\n",
    "```\n",
    "No of unique vowels-6\n",
    "```"
   ]
  },
  {
   "cell_type": "code",
   "execution_count": 48,
   "id": "858ebebf-d3de-4b41-a770-605582ba0566",
   "metadata": {},
   "outputs": [
    {
     "name": "stdout",
     "output_type": "stream",
     "text": [
      "No of unique vowels- 6\n"
     ]
    }
   ],
   "source": [
    "# write your code here\n",
    "vowels = set('aeiouAEIOU')\n",
    "\n",
    "s = set(\"hands-on data science mentorship progrAm with live classes at affordable fee only on CampusX\")\n",
    "\n",
    "print('No of unique vowels-',len(s & vowels))"
   ]
  },
  {
   "cell_type": "markdown",
   "id": "25a0a2be-35f4-4171-ae61-f102a06f4627",
   "metadata": {},
   "source": [
    "### `Q3:` Write a program to Check if a given string is binary string of or not.\n",
    "\n",
    "A string is said to be binary if it's consists of only two unique characters.\n",
    "\n",
    "Take string input from user.\n",
    "\n",
    "```\n",
    "Input: str = \"01010101010\"\n",
    "Output: Yes\n",
    "\n",
    "Input: str = \"1222211\"\n",
    "Output: Yes\n",
    "\n",
    "Input: str = \"NareshIT\"\n",
    "Output: No\n",
    "```"
   ]
  },
  {
   "cell_type": "code",
   "execution_count": 49,
   "id": "d5bfbd71-01ee-4375-9fa6-7a61317ceadc",
   "metadata": {},
   "outputs": [
    {
     "name": "stdout",
     "output_type": "stream",
     "text": [
      "not binary\n"
     ]
    }
   ],
   "source": [
    "# write your code here\n",
    "s = \"010101010103\"\n",
    "\n",
    "if len(set(s)) == 2:\n",
    "    print('binary')\n",
    "else:\n",
    "    print('not binary')"
   ]
  },
  {
   "cell_type": "markdown",
   "id": "c3aa3f5a-5f87-42ac-bc06-15cfa708e71c",
   "metadata": {},
   "source": [
    "### `Q4`: find union of n arrays.\n",
    "\n",
    "**Example 1:**\n",
    "\n",
    "Input:\n",
    "```bash\n",
    "[[1, 2, 2, 4, 3, 6],\n",
    " [5, 1, 3, 4],\n",
    " [9, 5, 7, 1],\n",
    " [2, 4, 1, 3]]\n",
    "```\n",
    "\n",
    "Output:\n",
    "\n",
    "```bash\n",
    "[1, 2, 3, 4, 5, 6, 7, 9]\n",
    "```"
   ]
  },
  {
   "cell_type": "code",
   "execution_count": 50,
   "id": "580e7d7e-e994-47bc-8b37-a4fe9383706e",
   "metadata": {},
   "outputs": [
    {
     "name": "stdout",
     "output_type": "stream",
     "text": [
      "{1, 2, 3, 4, 5, 6, 7, 9}\n"
     ]
    }
   ],
   "source": [
    "# write your code here\n",
    "L = [[1, 2, 2, 4, 3, 6],\n",
    " [5, 1, 3, 4],\n",
    " [9, 5, 7, 1],\n",
    " [2, 4, 1, 3]]\n",
    "\n",
    "s = set()\n",
    "\n",
    "for i in L:\n",
    "    s.update(i)\n",
    "\n",
    "print(s)"
   ]
  },
  {
   "cell_type": "markdown",
   "id": "18bc7cbc-623e-4a21-8508-0e8c384e2ea8",
   "metadata": {},
   "source": [
    "### `Q5`: Intersection of two lists. Intersection of two list means we need to take all those elements which are common to both of the initial lists and store them into another list. Only use using **list-comprehension**.\n",
    "\n",
    "**Example 1:**\n",
    "\n",
    "Input:\n",
    "```bash\n",
    "lst1 = {15, 9, 10, 56, 23, 78, 5, 4, 9}\n",
    "lst2 = {9, 4, 5, 36, 47, 26, 10, 45, 87}\n",
    "```\n",
    "\n",
    "Output:\n",
    "```bash\n",
    "[9, 10, 4, 5]\n",
    "```\n",
    "\n",
    "**Example 2:**\n",
    "\n",
    "Input:\n",
    "```bash\n",
    "lst1 = {4, 9, 1, 17, 11, 26, 28, 54, 69}\n",
    "lst2 = {9, 9, 74, 21, 45, 11, 63, 28, 26}\n",
    "```\n",
    "\n",
    "Output:\n",
    "```bash\n",
    "[9, 11, 26, 28]\n",
    "```"
   ]
  },
  {
   "cell_type": "code",
   "execution_count": 51,
   "id": "4f013da3-7d50-4c98-bb03-8a97b4dcbb97",
   "metadata": {},
   "outputs": [
    {
     "data": {
      "text/plain": [
       "[4, 5, 9, 10]"
      ]
     },
     "execution_count": 51,
     "metadata": {},
     "output_type": "execute_result"
    }
   ],
   "source": [
    "# write your code here\n",
    "lst1 = {15, 9, 10, 56, 23, 78, 5, 4, 9}\n",
    "lst2 = {9, 4, 5, 36, 47, 26, 10, 45, 87}\n",
    "\n",
    "[item for item in lst1 if item in lst2]"
   ]
  },
  {
   "cell_type": "code",
   "execution_count": null,
   "id": "1cda9f29-9478-430b-a9df-e8196795e4f0",
   "metadata": {},
   "outputs": [],
   "source": []
  }
 ],
 "metadata": {
  "kernelspec": {
   "display_name": "Python 3 (ipykernel)",
   "language": "python",
   "name": "python3"
  },
  "language_info": {
   "codemirror_mode": {
    "name": "ipython",
    "version": 3
   },
   "file_extension": ".py",
   "mimetype": "text/x-python",
   "name": "python",
   "nbconvert_exporter": "python",
   "pygments_lexer": "ipython3",
   "version": "3.11.7"
  }
 },
 "nbformat": 4,
 "nbformat_minor": 5
}
