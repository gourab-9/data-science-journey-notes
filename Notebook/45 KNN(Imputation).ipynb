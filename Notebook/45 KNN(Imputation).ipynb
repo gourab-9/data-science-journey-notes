{
 "cells": [
  {
   "cell_type": "markdown",
   "id": "702aad12-c6f5-4f71-909e-2d80ac8a861b",
   "metadata": {},
   "source": [
    "# Working of Knn Imputation"
   ]
  },
  {
   "cell_type": "code",
   "execution_count": 1,
   "id": "9c40b95e-47c2-47b7-95be-5cedf037dee7",
   "metadata": {},
   "outputs": [
    {
     "name": "stdout",
     "output_type": "stream",
     "text": [
      "Data Before performing imputation\n",
      "    Maths  Chemistry  Physics  Biology\n",
      "0   80.0       60.0      NaN     78.0\n",
      "1   90.0       65.0     57.0     83.0\n",
      "2    NaN       56.0     80.0     67.0\n",
      "3   95.0        NaN     78.0      NaN\n",
      "\n",
      "\n",
      "After performing imputation\n",
      " [[80.  60.  68.5 78. ]\n",
      " [90.  65.  57.  83. ]\n",
      " [87.5 56.  80.  67. ]\n",
      " [95.  58.  78.  72.5]]\n"
     ]
    }
   ],
   "source": [
    "# import necessary libraries\n",
    "import numpy as np\n",
    "import pandas as pd\n",
    "from sklearn.impute import KNNImputer\n",
    "\n",
    "dict = {'Maths': [80, 90, np.nan, 95],\n",
    "        'Chemistry': [60, 65, 56, np.nan],\n",
    "        'Physics': [np.nan, 57, 80, 78],\n",
    "        'Biology': [78, 83, 67, np.nan]}\n",
    "\n",
    "Before_imputation = pd.DataFrame(dict)\n",
    "\n",
    "print(\"Data Before performing imputation\\n\", Before_imputation)\n",
    "\n",
    "imputer = KNNImputer(n_neighbors=2) # Calculate mean of the 2 neighbour values for missing value.\n",
    "After_imputation = imputer.fit_transform(Before_imputation)\n",
    "\n",
    "print(\"\\n\\nAfter performing imputation\\n\", After_imputation)"
   ]
  },
  {
   "cell_type": "markdown",
   "id": "e239d72b-460a-4f52-ba76-1d63c0a3c875",
   "metadata": {},
   "source": [
    "------------------------------------------------------------------\n",
    "|Index| Maths | Chemistry | Physics | Biology | Similarity Score |\n",
    "|-----|-------|-----------|---------|---------|------------------|\n",
    "|0    |80     |60         |NaN      |78       |14.33              |\n",
    "|1    |90     |65         |57       |83       |29.42             |\n",
    "|2    |NaN    |56         |80       |67       |Target rows       |\n",
    "|3    |95     |NaN        |78       |NaN      |3.46              |\n",
    "------------------------------------------------------------------"
   ]
  },
  {
   "cell_type": "markdown",
   "id": "ffbb9754-fe1e-4230-aaa9-88969969acbd",
   "metadata": {},
   "source": [
    "<div style=\"font-size: 150%;\">\n",
    "\n",
    "Distance (X, y) = $\\sqrt{\\text{Weight} \\times \\left[(x_2 - x_1)^2 + (y_2 - y_1)^2\\right]}$\n",
    "\n",
    "Where, \n",
    "\n",
    "Weight = $\\frac{\\text{Total number of coordinates}}{\\text{Total number of present coordinates}}$\n",
    "\n",
    "</div>\n",
    "\n"
   ]
  },
  {
   "cell_type": "markdown",
   "id": "9c631b31-2351-4d25-995b-29133098a531",
   "metadata": {},
   "source": [
    "# *************************************************************"
   ]
  },
  {
   "cell_type": "markdown",
   "id": "09f8bc27-32cb-47d2-9d1e-68794e8ab4df",
   "metadata": {},
   "source": [
    "# *******Handle NaN For Maths*******"
   ]
  },
  {
   "cell_type": "code",
   "execution_count": 2,
   "id": "12b23566-f030-4e93-bb0f-a33ee14b2100",
   "metadata": {},
   "outputs": [],
   "source": [
    "# Target row is 2nd index, now i will find how 2nd row is nearer to every row bases on distance\n",
    "# Now find the distance from index 0\n",
    "# Distance between index 2 to index 0\n",
    "# i will not count for particular target column for weightaage cordinates"
   ]
  },
  {
   "cell_type": "markdown",
   "id": "842de680-51b3-4e46-9e5e-43271320e64f",
   "metadata": {},
   "source": [
    "------------------------------------------------------------------\n",
    "|Index| Maths | Chemistry | Physics | Biology | Similarity Score |\n",
    "|-----|-------|-----------|---------|---------|------------------|\n",
    "|2    |NaN    |56         |80       |67       |Target rows       |"
   ]
  },
  {
   "cell_type": "markdown",
   "id": "bb92e4bc-68fc-4f0b-acb6-11cbb3c8932e",
   "metadata": {},
   "source": [
    "----------------------------------------------------------\n",
    "|Index| Chemistry | Physics | Biology | Similarity Score |\n",
    "|-----|-----------|---------|---------|------------------|\n",
    "|0    |60         |NaN      |78       |14.33             |\n",
    "|1    |65         |57       |83       |29.42             |\n",
    "|3    |NaN        |78       |NaN      |3.46              |\n",
    "----------------------------------------------------------"
   ]
  },
  {
   "cell_type": "markdown",
   "id": "66c242fa-a526-4287-94dc-14df95c87257",
   "metadata": {},
   "source": [
    "\n",
    "Distance (X, y) = $\\sqrt{\\text{Weight} \\times \\left[(x_2 - x_1)^2 + (y_2 - y_1)^2\\right]}$\n"
   ]
  },
  {
   "cell_type": "markdown",
   "id": "9ad65639-41c3-437e-acfc-6b29288b9329",
   "metadata": {},
   "source": [
    "D = $\\sqrt{\\text{3/2} \\times \\left[(56-60)^2 + (67-78)^2\\right]}$ = $\\sqrt{\\text{3/2} (16+121)} $ = $\\sqrt{\\text{411/2}} $ = 14.33\n",
    "- similarity score value from target to index 0 --> (14.33)"
   ]
  },
  {
   "cell_type": "code",
   "execution_count": 3,
   "id": "d5afb6fb-3086-44de-8abd-b789f58564ad",
   "metadata": {},
   "outputs": [],
   "source": [
    "# Now find the distance from index 1\n",
    "# Distance between index 2 to index 1"
   ]
  },
  {
   "cell_type": "markdown",
   "id": "9398111f-6c97-4a90-8f05-702d2ab24d14",
   "metadata": {},
   "source": [
    "D = $\\sqrt{\\frac{3}{3} \\times \\left[(56 - 65)^2 + (80 - 57)^2 + (67 - 83)^2\\right]}$ = $\\sqrt{(-9)^2 + (23)^2 + (-16)^2}$ = $\\sqrt{\\text{81+529+256}} $ = $\\sqrt{\\text{866}} $ = 29.42\n",
    "- similarity score value from target to index 1 -->(29.42)"
   ]
  },
  {
   "cell_type": "code",
   "execution_count": 4,
   "id": "87937351-001d-44c9-a12d-b83f8601f179",
   "metadata": {},
   "outputs": [],
   "source": [
    "# Now find the distance from index 3\n",
    "# Distance between index 2 to index 3"
   ]
  },
  {
   "cell_type": "markdown",
   "id": "a1bdfaf2-60de-49d6-a000-4321f2c38aec",
   "metadata": {},
   "source": [
    "D = $\\sqrt{\\frac{3}{1} \\times (80 - 78)^2}$ = $\\sqrt{\\text{3} \\times 4} $ = $\\sqrt{\\text{12}} $ = 3.46\n",
    "- similarity score value from target to index 2 --> (3.46)"
   ]
  },
  {
   "cell_type": "markdown",
   "id": "88a29f60-2725-46ee-ac19-51c4761827b2",
   "metadata": {},
   "source": [
    "# Conclusion \n",
    "- now from the Target second index and index 0 get very closest value\n",
    "- Now for filling the value in first column i need to take first row and third rows value\n",
    "- (80 + 95)/2 = `87.5`"
   ]
  },
  {
   "cell_type": "markdown",
   "id": "febd8326-b13f-4ee3-bd20-667f715018b1",
   "metadata": {},
   "source": [
    "# *************************************************************"
   ]
  },
  {
   "cell_type": "markdown",
   "id": "8fdc8545-1f4f-44c6-bd0b-50b7488c656c",
   "metadata": {},
   "source": [
    "# *******Handle NaN For Chemistry*******"
   ]
  },
  {
   "cell_type": "markdown",
   "id": "ecc69138-60a8-4835-99ff-35efc3dfed90",
   "metadata": {},
   "source": [
    "------------------------------------------------------------------\n",
    "|Index| Maths | Chemistry | Physics | Biology | Similarity Score |\n",
    "|-----|-------|-----------|---------|---------|------------------|\n",
    "|0    |80     |60         |NaN      |78       |25.98             |\n",
    "|1    |90     |65         |57       |83       |26.43             |\n",
    "|2    |NaN    |56         |80       |67       |3.56              |\n",
    "|3    |95     |NaN        |78       |NaN      |Target rows(Chemistry)|\n",
    "------------------------------------------------------------------"
   ]
  },
  {
   "cell_type": "markdown",
   "id": "8c341f6b-80cf-408c-a3e2-a17ee7866b50",
   "metadata": {},
   "source": [
    "- <b>With index 0</b>"
   ]
  },
  {
   "cell_type": "markdown",
   "id": "a52d9aed-ad80-4495-a17b-cfe4397da025",
   "metadata": {},
   "source": [
    "D = $\\sqrt{\\frac{3}{1} \\times (95 - 80)^2}$ = $\\sqrt{\\text{3} \\times 225} $ = $\\sqrt{\\text{675}} $ = 25.98\n",
    "- similarity score value from target to index 0 --> (25.98)"
   ]
  },
  {
   "cell_type": "markdown",
   "id": "9f458f41-f66e-4735-9bf5-631128afb67f",
   "metadata": {},
   "source": [
    "- <b>With index 1</b>"
   ]
  },
  {
   "cell_type": "markdown",
   "id": "19a9189d-b708-44cd-b359-c39d480a4bdc",
   "metadata": {},
   "source": [
    "D = $\\sqrt{\\text{3/2} \\times \\left[(95-90)^2 + (78-57)^2\\right]}$ = $\\sqrt{\\text{3/2} (25+441)} $ = $\\sqrt{\\text{1398/2}} $ = 26.43\n",
    "- similarity score value from target to index 1 --> (26.43)"
   ]
  },
  {
   "cell_type": "markdown",
   "id": "62d51e4b-74fa-4eed-8b9f-2b9c706d11bc",
   "metadata": {},
   "source": [
    "- <b>With index 2</b>"
   ]
  },
  {
   "cell_type": "markdown",
   "id": "76a99f67-821f-4114-9625-809d160a96eb",
   "metadata": {},
   "source": [
    "D = $\\sqrt{\\frac{3}{1} \\times (78 - 80)^2}$ = $\\sqrt{\\text{3} \\times 4} $ = $\\sqrt{\\text{12}} $ = 3.46\n",
    "- similarity score value from target to index 2 --> (3.46)"
   ]
  },
  {
   "cell_type": "markdown",
   "id": "f6b2e231-3096-41f3-a4ce-4aa5eed5a826",
   "metadata": {},
   "source": [
    "# Conclusion \n",
    "- now from the `Target`,  index 2 and index 0 get very closest value\n",
    "- Now for filling the value in second column i need to take first row and third rows value\n",
    "- (60 + 56)/2 = `58`"
   ]
  },
  {
   "cell_type": "markdown",
   "id": "733c14bf-05f3-496d-ab25-e8041353fa55",
   "metadata": {},
   "source": [
    "# *************************************************************"
   ]
  },
  {
   "cell_type": "markdown",
   "id": "3a7a3943-9a6d-4d49-b645-61690a14d948",
   "metadata": {},
   "source": [
    "# *******Handle NaN For Biology*******"
   ]
  },
  {
   "cell_type": "markdown",
   "id": "2142dcbc-11db-4b4d-9ca3-ddeee515be9d",
   "metadata": {},
   "source": [
    "------------------------------------------------------------------\n",
    "|Index| Maths | Chemistry | Physics | Biology | Similarity Score |\n",
    "|-----|-------|-----------|---------|---------|------------------|\n",
    "|0    |80     |60         |NaN      |78       |25.98             |\n",
    "|1    |90     |65         |57       |83       |26.43             |\n",
    "|2    |NaN    |56         |80       |67       |3.56              |\n",
    "|3    |95     |NaN        |78       |NaN      |Target rows(Biology)|\n",
    "------------------------------------------------------------------"
   ]
  },
  {
   "cell_type": "markdown",
   "id": "05bb32b4-0d1e-4104-87dd-22854c1f3f5f",
   "metadata": {},
   "source": [
    "- <b>With index 0</b>"
   ]
  },
  {
   "cell_type": "markdown",
   "id": "946121d8-d22a-4508-9dee-510d5418e2da",
   "metadata": {},
   "source": [
    "D = $\\sqrt{\\frac{3}{1} \\times (95 - 80)^2}$ = $\\sqrt{\\text{3} \\times 225} $ = $\\sqrt{\\text{675}} $ = 25.98\n",
    "- similarity score value from target to index 0 --> (25.98)"
   ]
  },
  {
   "cell_type": "markdown",
   "id": "851f0ca6-4e7a-4ef9-809e-b1ba0abd44b2",
   "metadata": {},
   "source": [
    "- <b>With index 1</b>"
   ]
  },
  {
   "cell_type": "markdown",
   "id": "17747bd1-f1ea-4d46-a38a-90a2f35583e3",
   "metadata": {},
   "source": [
    "D = $\\sqrt{\\text{3/2} \\times \\left[(95-90)^2 + (78-57)^2\\right]}$ = $\\sqrt{\\text{3/2} (25+441)} $ = $\\sqrt{\\text{1398/2}} $ = 26.43\n",
    "- similarity score value from target to index 1 --> (26.43)"
   ]
  },
  {
   "cell_type": "markdown",
   "id": "ebee28ab-77c2-4043-9f7b-dc4ba93d96c9",
   "metadata": {},
   "source": [
    "- <b>With index 2</b>"
   ]
  },
  {
   "cell_type": "markdown",
   "id": "d7286a0c-d193-4f3b-9bc6-b586fe052d2e",
   "metadata": {},
   "source": [
    "D = $\\sqrt{\\frac{3}{1} \\times (78 - 80)^2}$ = $\\sqrt{\\text{3} \\times 4} $ = $\\sqrt{\\text{12}} $ = 3.46\n",
    "- similarity score value from target to index 2 --> (3.46)"
   ]
  },
  {
   "cell_type": "markdown",
   "id": "29e92beb-919a-450b-bec9-4cafdfdd2a0f",
   "metadata": {},
   "source": [
    "# Conclusion \n",
    "- now from the `Target`,  index 2 and index 0 get very closest value\n",
    "- Now for filling the value in second column i need to take first row and third rows value\n",
    "- (78 + 67)/2 = `72.5`\n"
   ]
  },
  {
   "cell_type": "markdown",
   "id": "f6cb50af-8f35-4b2a-8212-ba70489f783f",
   "metadata": {},
   "source": [
    "# *************************************************************"
   ]
  },
  {
   "cell_type": "markdown",
   "id": "826191a3-6c76-4b30-8764-07e113bcd46b",
   "metadata": {},
   "source": [
    "# *******Handle NaN For Physics*******"
   ]
  },
  {
   "cell_type": "markdown",
   "id": "a9e279c1-81ab-4cb2-9d2f-6a8be2021df0",
   "metadata": {},
   "source": [
    "------------------------------------------------------------------\n",
    "|Index| Maths | Chemistry | Physics | Biology | Similarity Score |\n",
    "|-----|-------|-----------|---------|---------|------------------|\n",
    "|0    |80     |60         |NaN      |78       |Target rows(Physics)|\n",
    "|1    |90     |65         |57       |83       |12.24             |\n",
    "|2    |NaN    |56         |80       |67       |14.33             |\n",
    "|3    |95     |NaN        |78       |NaN      |25.98             |\n",
    "------------------------------------------------------------------"
   ]
  },
  {
   "cell_type": "markdown",
   "id": "20c4f3dc-9e8c-44ae-826f-e91ac485d149",
   "metadata": {},
   "source": [
    "- with index 1"
   ]
  },
  {
   "cell_type": "markdown",
   "id": "cf53fdc0-963c-4a0a-bea8-86b282af14b3",
   "metadata": {},
   "source": [
    "D = $\\sqrt{\\frac{3}{3} \\times \\left[(80 - 90)^2 + (60 - 65)^2 + (78 - 83)^2\\right]}$ = $\\sqrt{(-10)^2 + (-5)^2 + (-5)^2}$ = $\\sqrt{\\text{100+25+25}} $ = $\\sqrt{\\text{150}} $ = 12.24\n",
    "- similarity score value from target to index 1 -->(12.24)"
   ]
  },
  {
   "cell_type": "markdown",
   "id": "c8dae1fc-75ae-45f9-878a-8f3481230b01",
   "metadata": {},
   "source": [
    "- with index 2"
   ]
  },
  {
   "cell_type": "markdown",
   "id": "0daf9fad-986f-4bf8-a079-b8ba36b26557",
   "metadata": {},
   "source": [
    "D = $\\sqrt{\\text{3/2} \\times \\left[(60-56)^2 + (78-67)^2\\right]}$ = $\\sqrt{\\text{3/2} (16+121)} $ = $\\sqrt{\\text{411/2}} $ = 14.33\n",
    "- similarity score value from target to index 2 --> (14.33)"
   ]
  },
  {
   "cell_type": "markdown",
   "id": "f29f6544-9871-4feb-afcd-359247ee4d7b",
   "metadata": {},
   "source": [
    "- with index 2"
   ]
  },
  {
   "cell_type": "markdown",
   "id": "b9f4de0a-9423-4d5b-98df-b37c9e533007",
   "metadata": {},
   "source": [
    "D = $\\sqrt{\\frac{3}{1} \\times (80 - 95)^2}$ = $\\sqrt{\\text{3} \\times 225} $ = $\\sqrt{\\text{675}} $ = 25.98\n",
    "- similarity score value from target to index 3 --> (25.98)"
   ]
  },
  {
   "cell_type": "markdown",
   "id": "4d18c2b2-7d63-4a89-a73c-71a993ee059c",
   "metadata": {},
   "source": [
    "# Conclusion \n",
    "- now from the `Target`,  index 1 and index 2 get very closest value\n",
    "- Now for filling the value in second column i need to take first row and third rows value\n",
    "- (57 + 80)/2 = `68.5`"
   ]
  },
  {
   "cell_type": "markdown",
   "id": "b5f87b98-1618-4926-9e72-bfece1b7677b",
   "metadata": {},
   "source": [
    "# *************************************************************"
   ]
  },
  {
   "cell_type": "code",
   "execution_count": null,
   "id": "b2480ed6-e89a-42c5-b1d6-fdc9c2007470",
   "metadata": {},
   "outputs": [],
   "source": []
  },
  {
   "cell_type": "code",
   "execution_count": null,
   "id": "f188bd01-a667-4283-ba17-35464e57d805",
   "metadata": {},
   "outputs": [],
   "source": []
  }
 ],
 "metadata": {
  "kernelspec": {
   "display_name": "Python 3 (ipykernel)",
   "language": "python",
   "name": "python3"
  },
  "language_info": {
   "codemirror_mode": {
    "name": "ipython",
    "version": 3
   },
   "file_extension": ".py",
   "mimetype": "text/x-python",
   "name": "python",
   "nbconvert_exporter": "python",
   "pygments_lexer": "ipython3",
   "version": "3.11.7"
  }
 },
 "nbformat": 4,
 "nbformat_minor": 5
}
